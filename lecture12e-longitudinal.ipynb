{
 "cells": [
  {
   "cell_type": "markdown",
   "metadata": {},
   "source": [
    "# Lecture 12 – Longitudinal plot"
   ]
  },
  {
   "cell_type": "markdown",
   "metadata": {},
   "source": [
    "Prepare the notebook with the preambles for the inclusion of pandas, numpy and matplotlib.pyplot.\n",
    "Import the data file (csv format) into Google Colab through the drive.mount command, import the pylorentz package."
   ]
  },
  {
   "cell_type": "code",
   "execution_count": null,
   "metadata": {},
   "outputs": [],
   "source": [
    "import matplotlib.pyplot as plt\n",
    "import numpy as np\n",
    "import pandas as pd"
   ]
  },
  {
   "cell_type": "code",
   "execution_count": null,
   "metadata": {},
   "outputs": [],
   "source": [
    "!pip install gdown\n",
    "import gdown\n",
    "\n",
    "# real experimental data\n",
    "# gammap_5GeV_PiPlusPiMinusProtWHel_gold2bG14.csv\n",
    "url = \"https://drive.google.com/uc?id=1VkG1gYY4qnfqNz3MEUkOKDwcAW4EF4uR\"\n",
    "\n",
    "# Montecarlo generated data\n",
    "# gen_gammap5GeV_PipPimP.csv\n",
    "# url = 'https://drive.google.com/uc?id=11J0xaQLRMxzgQLXEhXZb_u4mnxp8RVPO'\n",
    "# gen_gammap10GeV_PipPimP.csv\n",
    "# url = 'https://drive.google.com/uc?id=1U_1bE3k2vT-uZwnmAgU9OVCku7oZjsMA'\n",
    "\n",
    "output = \"gammapi_2pions_exclusivityCuts.dat\"\n",
    "gdown.download(url, output, quiet=False)\n",
    "data = pd.read_csv(output)"
   ]
  },
  {
   "cell_type": "code",
   "execution_count": null,
   "metadata": {},
   "outputs": [],
   "source": [
    "data.head()"
   ]
  },
  {
   "cell_type": "code",
   "execution_count": null,
   "metadata": {},
   "outputs": [],
   "source": [
    "! pip install pylorentz"
   ]
  },
  {
   "cell_type": "code",
   "execution_count": null,
   "metadata": {},
   "outputs": [],
   "source": [
    "import math\n",
    "\n",
    "from pylorentz import Momentum4"
   ]
  },
  {
   "cell_type": "markdown",
   "metadata": {},
   "source": [
    "Let's prepare the relevant arrays containing the 4-momenta kinematics of the three particle (plus the two in the intial state), both in the laboratory and in the center of mass reference systems:"
   ]
  },
  {
   "cell_type": "code",
   "execution_count": null,
   "metadata": {},
   "outputs": [],
   "source": [
    "data.columns = data.columns.str.strip()"
   ]
  },
  {
   "cell_type": "code",
   "execution_count": null,
   "metadata": {},
   "outputs": [],
   "source": [
    "# final state\n",
    "p1T = np.sqrt(data.p1x**2 + data.p1y**2)\n",
    "p1mod = np.sqrt(p1T**2 + data.p1z**2)\n",
    "eta1 = np.arcsinh(data.p1z / p1T)\n",
    "phi1 = np.arctan2(data.p1y, data.p1x)\n",
    "pionPlus = Momentum4.e_eta_phi_p(data.E1, eta1, phi1, p1mod)\n",
    "\n",
    "p2T = np.sqrt(data.p2x**2 + data.p2y**2)\n",
    "p2mod = np.sqrt(p2T**2 + data.p2z**2)\n",
    "eta2 = np.arcsinh(data.p2z / p2T)\n",
    "phi2 = np.arctan2(data.p2y, data.p2x)\n",
    "pionMinus = Momentum4.e_eta_phi_p(data.E2, eta2, phi2, p2mod)\n",
    "\n",
    "p3T = np.sqrt(data.p3x**2 + data.p3y**2)\n",
    "p3mod = np.sqrt(p3T**2 + data.p3z**2)\n",
    "eta3 = np.arcsinh(data.p3z / p3T)\n",
    "phi3 = np.arctan2(data.p3y, data.p3x)\n",
    "proton = Momentum4.e_eta_phi_p(data.E3, eta3, phi3, p3mod)\n",
    "\n",
    "# initial state\n",
    "# len is the number of events read by the csv file\n",
    "len = data.pgamma.size\n",
    "pgammaT = np.zeros(len)\n",
    "pgammamod = data.pgamma\n",
    "etagamma = 1.0e11 * np.ones(len)\n",
    "phigamma = np.zeros(len)\n",
    "massGamma = 0.0\n",
    "Egamma = np.sqrt(massGamma**2 + pgammamod**2)\n",
    "gamma = Momentum4.e_eta_phi_p(Egamma, etagamma, phigamma, pgammamod)\n",
    "\n",
    "# the target (proton) is at rest\n",
    "massProton = 0.93827\n",
    "ETgt = massProton * np.ones(len)\n",
    "etaTgt = np.zeros(len)\n",
    "phiTgt = np.zeros(len)\n",
    "pTgt = np.zeros(len)\n",
    "protonTarget = Momentum4.e_eta_phi_p(ETgt, etaTgt, phiTgt, pTgt)"
   ]
  },
  {
   "cell_type": "code",
   "execution_count": null,
   "metadata": {},
   "outputs": [],
   "source": [
    "# 4-momenta in the scenter of mass system\n",
    "centerOfMass = gamma + protonTarget\n",
    "\n",
    "pionPlusCM = pionPlus.boost_particle(-centerOfMass)\n",
    "pionMinusCM = pionMinus.boost_particle(-centerOfMass)\n",
    "protonCM = proton.boost_particle(-centerOfMass)\n",
    "\n",
    "gammaCM = gamma.boost_particle(-centerOfMass)\n",
    "protonTargetCM = protonTarget.boost_particle(-centerOfMass)"
   ]
  },
  {
   "cell_type": "markdown",
   "metadata": {},
   "source": [
    "A **longitudinal plot** (introduced for the first time by van Hove in 1969) offers a way to separate the contribution of different reaction production mechanisms. Inspecting a longitudinal plot may suggest particular selections in the longitudinal phase space which can help selecting specific reaction channels, enhancing for instance the contribution of meson versus baryon resonances.\n",
    "They are based on the assumption that at sufficiently high center-of-mass energies the phase space is reflected mainly by the longitudinal components of the particle momenta, while the transverse components can be neglected. Longitudinal plots are a convenient way to visualize the reaction kinematics of a reaction with three particles in the final state, in the form of 2D scattering plots (for $n$ particles in the final state, the reaction kinematics are visualized in a $(n-1)$ dimensional plane).\n",
    "For a reaction with a three particles final state one defines a set of polar coordinates $q$ and $\\omega$ such that, being $q_1,\\; q_2,\\; q_3$ the longitudinal momentum components of each of them:\n",
    "\n",
    "> $ q_1 = \\sqrt{\\frac{2}{3}} q\\sin\\omega$\n",
    "\n",
    "> $ q_2 = \\sqrt{\\frac{2}{3}} q\\sin (\\omega + \\frac{2}{3}\\pi) $\n",
    "\n",
    "> $ q_3 = \\sqrt{\\frac{2}{3}} q\\sin (\\omega + \\frac{4}{3}\\pi)$\n",
    "\n",
    "> $ q = \\sqrt{q_1^2 + q_2^2 + q_3^2}$\n",
    "\n",
    "In a longitudinal plot the $(X,Y)$ coordinates are defined as follows:\n",
    "\n",
    "> $ X = q\\cos\\omega $\n",
    "\n",
    "> $ Y = q\\sin\\omega $\n",
    "\n",
    "Let's build the cartesian coordinates arrays and make the scatter plot.\n",
    "\n",
    "\n"
   ]
  },
  {
   "cell_type": "code",
   "execution_count": null,
   "metadata": {},
   "outputs": [],
   "source": [
    "q1 = pionPlusCM.p_z\n",
    "q2 = pionMinusCM.p_z\n",
    "q3 = protonCM.p_z\n",
    "q = np.sqrt(q1 * q1 + q2 * q2 + q3 * q3)\n",
    "len = q.size"
   ]
  },
  {
   "cell_type": "code",
   "execution_count": null,
   "metadata": {},
   "outputs": [],
   "source": [
    "a = np.zeros(len)\n",
    "X = []\n",
    "Y = []\n",
    "fac = np.sqrt(3.0 / 2.0)\n",
    "for i in range(len):\n",
    "    a[i] = fac * q1[i] / q[i]\n",
    "    if q[i] != 0 and np.abs(a[i]) <= 1.0:\n",
    "        omega = np.arcsin(a[i])\n",
    "        sinOmega = a[i]\n",
    "        cosOmega = (2 * q2[i] + q1[i]) / np.sqrt(2) / q[i]\n",
    "        if cosOmega < 0:\n",
    "            if sinOmega >= 0:\n",
    "                omega = np.pi - omega\n",
    "            else:\n",
    "                omega -= np.pi\n",
    "\n",
    "        X.append(q[i] * cosOmega)\n",
    "        Y.append(q[i] * sinOmega)"
   ]
  },
  {
   "cell_type": "code",
   "execution_count": null,
   "metadata": {},
   "outputs": [],
   "source": [
    "q1 + q2 + q3"
   ]
  },
  {
   "cell_type": "code",
   "execution_count": null,
   "metadata": {},
   "outputs": [],
   "source": [
    "plt.hist2d(X, Y, bins=100, cmap=\"rainbow\")\n",
    "x1, y1 = [-10, 10], [0, 0]\n",
    "plt.plot(x1, y1, color=\"black\")\n",
    "sixty = np.pi / 3\n",
    "x2, y2 = [-10 * np.cos(sixty), 10 * np.cos(sixty)], [\n",
    "    10 * np.sin(sixty),\n",
    "    -10 * np.sin(sixty),\n",
    "]\n",
    "plt.plot(x2, y2, color=\"black\")\n",
    "x3, y3 = [10 * np.cos(sixty), -10 * np.cos(sixty)], [\n",
    "    10 * np.sin(sixty),\n",
    "    -10 * np.sin(sixty),\n",
    "]\n",
    "plt.plot(x3, y3, color=\"black\")"
   ]
  },
  {
   "cell_type": "markdown",
   "metadata": {},
   "source": [
    "Try with another input file (for instance the generated MonteCarlo events at 5 or 10 GeV incident momentum) and check the differences."
   ]
  }
 ],
 "metadata": {
  "colab": {
   "authorship_tag": "ABX9TyNW/17pOBQWBRGssIElv4/N",
   "mount_file_id": "1eQrRA84_NQIVcpoyU8LGnV2ALVDJh8FD"
  },
  "kernelspec": {
   "display_name": "Python 3 (ipykernel)",
   "language": "python",
   "name": "python3"
  },
  "language_info": {
   "codemirror_mode": {
    "name": "ipython",
    "version": 3
   },
   "file_extension": ".py",
   "mimetype": "text/x-python",
   "name": "python",
   "nbconvert_exporter": "python",
   "pygments_lexer": "ipython3",
   "version": "3.10.12"
  }
 },
 "nbformat": 4,
 "nbformat_minor": 4
}
