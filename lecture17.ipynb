{
 "cells": [
  {
   "cell_type": "markdown",
   "metadata": {},
   "source": [
    "# Lecture 17 – Collision theory"
   ]
  },
  {
   "cell_type": "code",
   "execution_count": null,
   "metadata": {
    "tags": [
     "remove-cell"
    ]
   },
   "outputs": [],
   "source": [
    "%pip install -q ampform plotly sympy"
   ]
  },
  {
   "cell_type": "code",
   "execution_count": null,
   "metadata": {
    "jupyter": {
     "source_hidden": true
    },
    "mystnb": {
     "code_prompt_show": "Import Python libraries"
    },
    "tags": [
     "hide-cell"
    ]
   },
   "outputs": [],
   "source": [
    "from __future__ import annotations\n",
    "\n",
    "from typing import Callable\n",
    "\n",
    "import numpy as np\n",
    "import plotly.graph_objects as go\n",
    "import sympy as sp\n",
    "from ampform.io import aslatex\n",
    "from ampform.sympy import UnevaluatedExpression, implement_doit_method\n",
    "from ampform.sympy.math import create_expression\n",
    "from IPython.display import Math\n",
    "from plotly.subplots import make_subplots"
   ]
  },
  {
   "cell_type": "markdown",
   "metadata": {},
   "source": [
    "_This notebook is an attempt to recreate the Mathematica notebook [provided by Miguel Albaladejo](https://indico.ific.uv.es/event/6803/contributions/21224)._"
   ]
  },
  {
   "cell_type": "markdown",
   "metadata": {},
   "source": [
    "## Riemann sheets"
   ]
  },
  {
   "cell_type": "markdown",
   "metadata": {},
   "source": [
    "### Square root example"
   ]
  },
  {
   "cell_type": "markdown",
   "metadata": {},
   "source": [
    "There are multiple solutions for $x$ to the equation $y^2 = x$ – the fact that we usually take $y = \\sqrt{x}$ to be the solution to this equation is just a matter of convention. It would be more complete to represent the solution as a set of points in the complex plane. In this case, we have the set $S = \\left\\{\\left(z, w\\right)\\in\\mathbb{C}^2 | w^2=z\\right\\}$. This is set forms a **Riemann surface** in $\\mathbb{C}^2$ space."
   ]
  },
  {
   "cell_type": "code",
   "execution_count": null,
   "metadata": {
    "jupyter": {
     "source_hidden": true
    },
    "mystnb": {
     "code_prompt_show": "Code for plotting Riemann sheets with plotly"
    },
    "tags": [
     "hide-cell",
     "scroll-input"
    ]
   },
   "outputs": [],
   "source": [
    "def plot_riemann_surfaces(funcs: list[Callable], func_unicode: str) -> None:\n",
    "    R, Θ = np.meshgrid(\n",
    "        np.linspace(0, 1, num=30),\n",
    "        np.linspace(-np.pi, +np.pi, num=60),\n",
    "    )\n",
    "    X = R * np.cos(Θ)\n",
    "    Y = R * np.sin(Θ)\n",
    "    Z = X + Y * 1j\n",
    "    T = [f(Z) for f in funcs]\n",
    "    vmax = max(max(T.real.max(), T.imag.max()) for T in T)\n",
    "\n",
    "    style = dict(cmin=-vmax, cmax=+vmax, colorscale=\"RdBu_r\")\n",
    "    S_im = [\n",
    "        go.Surface(x=X, y=Y, z=t.imag, surfacecolor=t.real, **style, name=f\"S{i}\")\n",
    "        for i, t in enumerate(T, 1)\n",
    "    ]\n",
    "    S_re = [\n",
    "        go.Surface(x=X, y=Y, z=t.real, surfacecolor=t.imag, **style, name=f\"S{i}\")\n",
    "        for i, t in enumerate(T, 1)\n",
    "    ]\n",
    "    fig = make_subplots(\n",
    "        cols=2,\n",
    "        specs=[[{\"type\": \"surface\"}, {\"type\": \"surface\"}]],\n",
    "        subplot_titles=(f\"Im {func_unicode}\", f\"Re {func_unicode}\"),\n",
    "    )\n",
    "    for i in range(len(funcs)):\n",
    "        fig.add_trace(S_im[i], col=1, row=1)\n",
    "        fig.add_trace(S_re[i], col=2, row=1)\n",
    "\n",
    "    tv = [-1, 0, +1]\n",
    "    tt = [f\"{i:+d}\" for i in tv]\n",
    "    for i in (1, 2):\n",
    "        fig.update_xaxes(tickvals=tv, ticktext=tt, title=\"Re(z)\", col=i, row=1)\n",
    "        fig.update_yaxes(tickvals=tv, ticktext=tt, title=\"Im(z)\", col=i, row=1)\n",
    "        fig.update_yaxes(tickvals=tv, ticktext=tt, title=\"\", col=i, row=1)\n",
    "    fig.update_layout(height=550, width=1_000)\n",
    "    fig.update_traces(colorbar=dict(title=\"Re/Im\"))\n",
    "    fig.show()"
   ]
  },
  {
   "cell_type": "code",
   "execution_count": null,
   "metadata": {
    "tags": [
     "full-width",
     "hide-input"
    ]
   },
   "outputs": [],
   "source": [
    "plot_riemann_surfaces(\n",
    "    funcs=[lambda z: -np.sqrt(z), lambda z: +np.sqrt(z)],\n",
    "    func_unicode=\"±√z\",\n",
    ")"
   ]
  },
  {
   "cell_type": "markdown",
   "metadata": {},
   "source": [
    "A subset of this Riemann sheet is defined by the following function, which has only a single sheet structure for its real part."
   ]
  },
  {
   "cell_type": "code",
   "execution_count": null,
   "metadata": {
    "jupyter": {
     "source_hidden": true
    },
    "mystnb": {
     "code_prompt_show": "Signed square root class definition"
    },
    "tags": [
     "hide-cell"
    ]
   },
   "outputs": [],
   "source": [
    "@implement_doit_method\n",
    "class SignedSqrt(UnevaluatedExpression):\n",
    "    is_commutative = True\n",
    "    is_real = False\n",
    "\n",
    "    def __new__(cls, z, sign, **hints) -> SignedSqrt:\n",
    "        return create_expression(cls, z, sign, **hints)\n",
    "\n",
    "    def evaluate(self) -> sp.Expr:\n",
    "        z, sign = self.args\n",
    "        return sp.sqrt(abs(z)) * sp.exp(sign * sp.I * sp.arg(z) / 2)\n",
    "\n",
    "    def _latex(self, printer, *args) -> str:\n",
    "        z = printer._print(self.args[0])\n",
    "        sign = _render_sign(self.args[1], printer)\n",
    "        return Rf\"\\sqrt[{sign}]{{{z}}}\"\n",
    "\n",
    "\n",
    "def _render_sign(sign, printer) -> str:\n",
    "    if sign == +1:\n",
    "        return \"+\"\n",
    "    if sign == -1:\n",
    "        return \"-\"\n",
    "    return printer._print(sign)"
   ]
  },
  {
   "cell_type": "code",
   "execution_count": null,
   "metadata": {
    "tags": []
   },
   "outputs": [],
   "source": [
    "z = sp.Symbol(\"z\")\n",
    "neg_sqrt = SignedSqrt(z, sign=-1)\n",
    "pos_sqrt = SignedSqrt(z, sign=+1)"
   ]
  },
  {
   "cell_type": "code",
   "execution_count": null,
   "metadata": {
    "jupyter": {
     "source_hidden": true
    },
    "tags": [
     "hide-input"
    ]
   },
   "outputs": [],
   "source": [
    "Math(aslatex({e: e.doit() for e in [neg_sqrt, pos_sqrt]}))"
   ]
  },
  {
   "cell_type": "code",
   "execution_count": null,
   "metadata": {
    "tags": [
     "full-width",
     "hide-input"
    ]
   },
   "outputs": [],
   "source": [
    "plot_riemann_surfaces(\n",
    "    funcs=[\n",
    "        sp.lambdify(z, neg_sqrt.doit()),\n",
    "        sp.lambdify(z, pos_sqrt.doit()),\n",
    "    ],\n",
    "    func_unicode=\"±√z\",\n",
    ")"
   ]
  },
  {
   "cell_type": "markdown",
   "metadata": {},
   "source": [
    "<details>\n",
    "<summary>Video explainers</summary>\n",
    "\n",
    "<iframe width=\"560\" height=\"315\" src=\"https://www.youtube-nocookie.com/embed/R9MX8QgKwtg?si=kK-_1Po4XHzRpzR9\" title=\"What are... Riemann surfaces? [VisualMath]\" frameborder=\"0\" allow=\"accelerometer; autoplay; clipboard-write; encrypted-media; gyroscope; picture-in-picture; web-share\" allowfullscreen></iframe>\n",
    "\n",
    "<iframe width=\"560\" height=\"315\" src=\"https://www.youtube.com/embed/sD0NjbwqlYw?si=XQMBxuwolPGlVbwq\" title=\"Visualizing the Riemann zeta function and analytic continuation [3Blue1Brown]\" frameborder=\"0\" allow=\"accelerometer; autoplay; clipboard-write; encrypted-media; gyroscope; picture-in-picture; web-share\" allowfullscreen></iframe>\n",
    "  \n",
    "</details>"
   ]
  }
 ],
 "metadata": {
  "kernelspec": {
   "display_name": "Python 3 (ipykernel)",
   "language": "python",
   "name": "python3"
  },
  "language_info": {
   "codemirror_mode": {
    "name": "ipython",
    "version": 3
   },
   "file_extension": ".py",
   "mimetype": "text/x-python",
   "name": "python",
   "nbconvert_exporter": "python",
   "pygments_lexer": "ipython3",
   "version": "3.10.12"
  }
 },
 "nbformat": 4,
 "nbformat_minor": 4
}
