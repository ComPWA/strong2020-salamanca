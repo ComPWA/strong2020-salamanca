{
 "cells": [
  {
   "cell_type": "markdown",
   "metadata": {},
   "source": [
    "# Lecture 17 – Collision theory"
   ]
  },
  {
   "cell_type": "code",
   "execution_count": null,
   "metadata": {
    "jupyter": {
     "source_hidden": true
    },
    "tags": [
     "remove-cell"
    ]
   },
   "outputs": [],
   "source": [
    "%pip install -q ampform ipympl ipywidgets matplotlib sympy\n",
    "try:\n",
    "    from google.colab import output\n",
    "\n",
    "    output.enable_custom_widget_manager()\n",
    "except:\n",
    "    pass"
   ]
  },
  {
   "cell_type": "code",
   "execution_count": null,
   "metadata": {
    "jupyter": {
     "source_hidden": true
    },
    "mystnb": {
     "code_prompt_show": "Import Python libraries"
    },
    "tags": [
     "hide-cell"
    ]
   },
   "outputs": [],
   "source": [
    "%matplotlib widget\n",
    "from __future__ import annotations\n",
    "\n",
    "import ipywidgets as w\n",
    "import matplotlib.pyplot as plt\n",
    "import numpy as np\n",
    "import sympy as sp\n",
    "from ampform.io import aslatex\n",
    "from ampform.sympy import UnevaluatedExpression, implement_doit_method\n",
    "from ampform.sympy.math import NumPyPrintable, create_expression\n",
    "from IPython.display import Math\n",
    "from matplotlib.backend_bases import Event\n",
    "from matplotlib.colors import Normalize\n",
    "from sympy.printing.numpy import NumPyPrinter\n",
    "from sympy.printing.printer import Printer\n",
    "from sympy.printing.pycode import PythonCodePrinter"
   ]
  },
  {
   "cell_type": "markdown",
   "metadata": {},
   "source": [
    "_This notebook is an attempt to recreate the Mathematica notebook [provided by Miguel Albaladejo](https://indico.ific.uv.es/event/6803/contributions/21224)._"
   ]
  },
  {
   "cell_type": "markdown",
   "metadata": {},
   "source": [
    "## Riemann sheets"
   ]
  },
  {
   "cell_type": "markdown",
   "metadata": {},
   "source": [
    "### Square root example"
   ]
  },
  {
   "cell_type": "markdown",
   "metadata": {},
   "source": [
    "There are multiple solutions for $x$ to the equation $y^2 = x$ – the fact that we usually take $y = \\sqrt{x}$ to be the solution to this equation is just a matter of convention. It would be more complete to represent the solution as a set of points in the complex plane. In this case, we have the set $S = \\left\\{\\left(z, w\\right)\\in\\mathbb{C}^2 | w^2=z\\right\\}$. This is set forms a **Riemann surface** in $\\mathbb{C}^2$ space."
   ]
  },
  {
   "cell_type": "code",
   "execution_count": null,
   "metadata": {
    "jupyter": {
     "source_hidden": true
    },
    "mystnb": {
     "code_prompt_show": "Code for plotting Riemann surfaces"
    },
    "tags": [
     "hide-input",
     "scroll-input"
    ]
   },
   "outputs": [],
   "source": [
    "def plot_sqrt_sheets(f1, f2) -> None:\n",
    "    r = np.linspace(0, 1, num=20)\n",
    "    theta_n = np.linspace(-np.pi, 0, num=30)\n",
    "    theta_p = np.linspace(0, +np.pi, num=30)\n",
    "    R, Θn = np.meshgrid(r, theta_n)\n",
    "    R, Θp = np.meshgrid(r, theta_p)\n",
    "    Xn = R * np.cos(Θn)\n",
    "    Xp = R * np.cos(Θp)\n",
    "    Yn = R * np.sin(Θn)\n",
    "    Yp = R * np.sin(Θp)\n",
    "    Zn = Xn + Yn * 1j\n",
    "    Zp = Xp + Yp * 1j\n",
    "\n",
    "    fig, axes = plt.subplots(figsize=(9, 4), ncols=2, subplot_kw={\"projection\": \"3d\"})\n",
    "    im_ax, re_ax = axes\n",
    "    fig.canvas.toolbar_visible = False\n",
    "    fig.canvas.header_visible = False\n",
    "    fig.canvas.footer_visible = False\n",
    "    for ax in axes:\n",
    "        ax.set_xlabel(\"Re $z$\")\n",
    "        ax.set_ylabel(\"Im $z$\")\n",
    "        ax.set_xticks([-1, 0, +1])\n",
    "        ax.set_yticks([-1, 0, +1])\n",
    "        ax.set_zticks([-1, 0, +1])\n",
    "    im_ax.set_title(R\"Im $\\sqrt[\\pm]{z}$\")\n",
    "    re_ax.set_title(R\"Re $\\sqrt[\\pm]{z}$\")\n",
    "\n",
    "    # We have to plot several surfaces to nicely render the cut\n",
    "    im_ax.plot_surface(Xn, Yn, f1(Zn).imag, facecolors=plt.cm.coolwarm(f1(Zn).real))\n",
    "    im_ax.plot_surface(Xn, Yn, f2(Zn).imag, facecolors=plt.cm.coolwarm(f2(Zn).real))\n",
    "    im_ax.plot_surface(Xp, Yp, f1(Zp).imag, facecolors=plt.cm.coolwarm(f1(Zp).real))\n",
    "    im_ax.plot_surface(Xp, Yp, f2(Zp).imag, facecolors=plt.cm.coolwarm(f2(Zp).real))\n",
    "    re_ax.plot_surface(Xn, Yn, f1(Zn).real, facecolors=plt.cm.coolwarm(f1(Zn).imag))\n",
    "    re_ax.plot_surface(Xn, Yn, f2(Zn).real, facecolors=plt.cm.coolwarm(f2(Zn).imag))\n",
    "    re_ax.plot_surface(Xp, Yp, f1(Zp).real, facecolors=plt.cm.coolwarm(f1(Zp).imag))\n",
    "    re_ax.plot_surface(Xp, Yp, f2(Zp).real, facecolors=plt.cm.coolwarm(f2(Zp).imag))\n",
    "\n",
    "    sm = plt.cm.ScalarMappable(cmap=plt.cm.coolwarm, norm=Normalize(-1, +1))\n",
    "    sm.set_array([])\n",
    "    cb = plt.colorbar(sm, ax=re_ax, pad=0.15, shrink=0.6)\n",
    "    cb.ax.set_yticks([-1, 0, +1])\n",
    "    cb.ax.set_xlabel(R\"Im $\\sqrt[\\pm]{z}$\")\n",
    "    cb = plt.colorbar(sm, ax=im_ax, pad=0.15, shrink=0.6)\n",
    "    cb.ax.set_yticks([-1, 0, +1])\n",
    "    cb.ax.set_xlabel(R\"Re $\\sqrt[\\pm]{z}$\")\n",
    "    plt.tight_layout()\n",
    "    fig.canvas.mpl_connect(\"motion_notify_event\", sync_axes(fig, im_ax, re_ax))\n",
    "    plt.show()\n",
    "\n",
    "\n",
    "def sync_axes(fig, ax1, ax2) -> None:\n",
    "    def on_move(event: Event) -> None:\n",
    "        if event.inaxes == ax1:\n",
    "            ax2.view_init(elev=ax1.elev, azim=ax1.azim)\n",
    "        elif event.inaxes == ax2:\n",
    "            ax1.view_init(elev=ax2.elev, azim=ax2.azim)\n",
    "        else:\n",
    "            return\n",
    "        fig.canvas.draw_idle()\n",
    "\n",
    "    return on_move"
   ]
  },
  {
   "cell_type": "code",
   "execution_count": null,
   "metadata": {
    "tags": [
     "hide-input"
    ]
   },
   "outputs": [],
   "source": [
    "plot_sqrt_sheets(\n",
    "    f1=lambda z: -np.sqrt(z),\n",
    "    f2=lambda z: +np.sqrt(z),\n",
    ")"
   ]
  },
  {
   "cell_type": "markdown",
   "metadata": {},
   "source": [
    "A subset of this Riemann sheet is defined by the following function, which has only a single sheet structure for its real part."
   ]
  },
  {
   "cell_type": "code",
   "execution_count": null,
   "metadata": {
    "jupyter": {
     "source_hidden": true
    },
    "mystnb": {
     "code_prompt_show": "Signed square root class definition"
    },
    "tags": [
     "hide-cell"
    ]
   },
   "outputs": [],
   "source": [
    "@implement_doit_method\n",
    "class SignedSqrt(UnevaluatedExpression):\n",
    "    is_commutative = True\n",
    "    is_real = False\n",
    "\n",
    "    def __new__(cls, z, sign, **hints) -> SignedSqrt:\n",
    "        return create_expression(cls, z, sign, **hints)\n",
    "\n",
    "    def evaluate(self) -> sp.Expr:\n",
    "        z, sign = self.args\n",
    "        return sp.sqrt(abs(z)) * sp.exp(sign * sp.I * sp.arg(z) / 2)\n",
    "\n",
    "    def _latex(self, printer: LatexPrinter, *args) -> str:\n",
    "        z = printer._print(self.args[0])\n",
    "        sign = _render_sign(self.args[1], printer)\n",
    "        return Rf\"\\sqrt[{sign}]{{{z}}}\"\n",
    "\n",
    "\n",
    "def _render_sign(sign, printer: Printer) -> str:\n",
    "    if sign == +1:\n",
    "        return \"+\"\n",
    "    if sign == -1:\n",
    "        return \"-\"\n",
    "    return printer._print(sign)"
   ]
  },
  {
   "cell_type": "code",
   "execution_count": null,
   "metadata": {
    "tags": []
   },
   "outputs": [],
   "source": [
    "z = sp.Symbol(\"z\")\n",
    "neg_sqrt = SignedSqrt(z, sign=-1)\n",
    "pos_sqrt = SignedSqrt(z, sign=+1)"
   ]
  },
  {
   "cell_type": "code",
   "execution_count": null,
   "metadata": {
    "jupyter": {
     "source_hidden": true
    },
    "tags": [
     "hide-input"
    ]
   },
   "outputs": [],
   "source": [
    "Math(aslatex({e: e.doit() for e in [neg_sqrt, pos_sqrt]}))"
   ]
  },
  {
   "cell_type": "code",
   "execution_count": null,
   "metadata": {
    "tags": [
     "hide-input"
    ]
   },
   "outputs": [],
   "source": [
    "plot_sqrt_sheets(\n",
    "    f1=sp.lambdify(z, neg_sqrt.doit()),\n",
    "    f2=sp.lambdify(z, pos_sqrt.doit()),\n",
    ")"
   ]
  },
  {
   "cell_type": "markdown",
   "metadata": {},
   "source": [
    "<details>\n",
    "<summary>Video explainers</summary>\n",
    "\n",
    "<iframe width=\"560\" height=\"315\" src=\"https://www.youtube-nocookie.com/embed/R9MX8QgKwtg?si=kK-_1Po4XHzRpzR9\" title=\"What are... Riemann surfaces? [VisualMath]\" frameborder=\"0\" allow=\"accelerometer; autoplay; clipboard-write; encrypted-media; gyroscope; picture-in-picture; web-share\" allowfullscreen></iframe>\n",
    "\n",
    "<iframe width=\"560\" height=\"315\" src=\"https://www.youtube.com/embed/sD0NjbwqlYw?si=XQMBxuwolPGlVbwq\" title=\"Visualizing the Riemann zeta function and analytic continuation [3Blue1Brown]\" frameborder=\"0\" allow=\"accelerometer; autoplay; clipboard-write; encrypted-media; gyroscope; picture-in-picture; web-share\" allowfullscreen></iframe>\n",
    "  \n",
    "</details>"
   ]
  }
 ],
 "metadata": {
  "kernelspec": {
   "display_name": "Python 3 (ipykernel)",
   "language": "python",
   "name": "python3"
  },
  "language_info": {
   "codemirror_mode": {
    "name": "ipython",
    "version": 3
   },
   "file_extension": ".py",
   "mimetype": "text/x-python",
   "name": "python",
   "nbconvert_exporter": "python",
   "pygments_lexer": "ipython3",
   "version": "3.10.12"
  }
 },
 "nbformat": 4,
 "nbformat_minor": 4
}
