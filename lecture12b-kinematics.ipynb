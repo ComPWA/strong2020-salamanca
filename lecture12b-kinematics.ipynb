{
 "cells": [
  {
   "cell_type": "markdown",
   "metadata": {},
   "source": [
    "# Lecture 12 – Relativistic kinematics\n",
    "\n",
    "**Some exercises on relativistic kinematics using the `pylorentz` package**"
   ]
  },
  {
   "cell_type": "markdown",
   "metadata": {},
   "source": [
    "Prepare the notebook with the preambles for the inclusion of pandas, numpy and matplotlib.pyplot:"
   ]
  },
  {
   "cell_type": "code",
   "execution_count": null,
   "metadata": {},
   "outputs": [],
   "source": [
    "import matplotlib.pyplot as plt\n",
    "import numpy as np\n",
    "import pandas as pd"
   ]
  },
  {
   "cell_type": "markdown",
   "metadata": {},
   "source": [
    "Import the data file (csv format) into your Google Colab. Instead of mounting the \"*/content/drive/MyDrive*\" folder, there is an alternative way to download the data file to your Colab folder and access it directly. To do this,  install the **gdown** module of python, in the following way:"
   ]
  },
  {
   "cell_type": "code",
   "execution_count": null,
   "metadata": {},
   "outputs": [],
   "source": [
    "!pip install gdown"
   ]
  },
  {
   "cell_type": "markdown",
   "metadata": {},
   "source": [
    "Then you import the full gdown package and you pick the file you need. The most difficult thing is to file the url address of the file, which can be done inquiring the properties of the file through the web gdrive interface."
   ]
  },
  {
   "cell_type": "code",
   "execution_count": null,
   "metadata": {},
   "outputs": [],
   "source": [
    "!pip install gdown\n",
    "import gdown\n",
    "\n",
    "# now you use the url pointing to the data file\n",
    "# the url is obtained from inquiring the file address in google drive\n",
    "\n",
    "# real experimental data\n",
    "# exp_nbarp-2pip1pim_93.csv\n",
    "url = \"https://drive.google.com/uc?id=17J4rrO-NHL8whkd7hjELhJbCoanoaqam\"\n",
    "\n",
    "\n",
    "# real data\n",
    "# path = '/content/drive/MyDrive/Colab - Exp Meth. Hadron Spec /Data Files/Spectroscopy/exp_nbarp-2pip1pim_93.csv'\n",
    "# montecarlo data\n",
    "# gen_nbarp-2pip1pim_93.csv\n",
    "# url = 'https://drive.google.com/uc?id=1SarwF44sWSGbpn4PmBH3GLKIJJmN2lbS'\n",
    "\n",
    "output = \"antineutron_3pi.dat\"\n",
    "gdown.download(url, output, quiet=False)\n",
    "data = pd.read_csv(output)"
   ]
  },
  {
   "cell_type": "markdown",
   "metadata": {},
   "source": [
    "The file contains the 4-momenta of the particles of the reaction $\\bar n p \\rightarrow \\pi^+_1\\pi^+_2\\pi^-_3$, the last column corresponds to the 3rd component of the antineutron momentum (up to 300 MeV/c), which travels along the $z$ axis"
   ]
  },
  {
   "cell_type": "markdown",
   "metadata": {},
   "source": [
    "The columns headers present some trailing blanks, that must be dropped to be able to use correctly the DataFormat structure (if not, they deliver an error message). To do so, the *str.strip()* function must be used beforehand to reformat the column shape.\n",
    "In the following commands in the cell, columns are shown, overall with the data.columns command, and per single variable (like *data.p2x*). If the format is correct, no error should appear."
   ]
  },
  {
   "cell_type": "code",
   "execution_count": null,
   "metadata": {},
   "outputs": [],
   "source": [
    "data.columns = data.columns.str.strip()\n",
    "data.head()"
   ]
  },
  {
   "cell_type": "markdown",
   "metadata": {},
   "source": [
    "Load the **pylorentz package** (if not available, install it with *pip install pylorentz*).\n",
    "\n",
    "The pylorentz package defines particle 4-momenta through the quantities\n",
    "\n",
    "*   $E,\\; \\eta,\\; \\phi,\\; p\\;$ or\n",
    "*   $E,\\; \\eta,\\; \\phi,\\; p_T\\;$\n",
    "*   $E,\\; m,\\; \\eta,\\; \\phi\\;$\n",
    "*   $m,\\; \\eta,\\; \\phi,\\; p_T\\;$\n",
    "*   $m,\\; \\eta,\\; \\phi,\\; p\\;$\n",
    "\n",
    "They are related to the cartesian coordinates of the particle 3-momentum through the following relationships:\n",
    "\n",
    "> $p = \\sqrt{p_x^2 + p_y^2 + p_z^2}$\n",
    "\n",
    "> $p_T = \\sqrt{p_x^2 + p_y^2}$\n",
    "\n",
    "> $p_x = p_T\\cos\\phi = p\\cos\\phi\\sin\\theta$\n",
    "\n",
    "> $p_y = p_T\\sin\\phi = p\\sin\\phi\\sin\\theta$\n",
    "\n",
    "> $p_z = p_T\\sinh\\eta = p\\cos\\theta $\n",
    "\n",
    "from which one can derive\n",
    "\n",
    "> $\\phi = \\tan^{-1}(p_y/p_x)$\n",
    "\n",
    "> $\\theta = \\cos^{-1}(p_z/p)$\n",
    "\n",
    "> $\\eta = -\\ln(\\tan(\\theta/2)$\n",
    "\n",
    "The pylorentz package provides functions for the evaluation of the magnitude of the 4-momentum vector, of the kinematic angles and their sum (which is convenient for particles systems).\n",
    "\n",
    "\n",
    "  \n",
    "\n",
    "\n"
   ]
  },
  {
   "cell_type": "code",
   "execution_count": null,
   "metadata": {},
   "outputs": [],
   "source": [
    "! pip install pylorentz"
   ]
  },
  {
   "cell_type": "code",
   "execution_count": null,
   "metadata": {},
   "outputs": [],
   "source": [
    "import math\n",
    "\n",
    "from pylorentz import Momentum4"
   ]
  },
  {
   "cell_type": "markdown",
   "metadata": {},
   "source": [
    "Let's import the arrays from the csv table into Momentum4 objects and repeat the calculation of invariant masses and other observables. We are working with *numpy arrays* whose length is equale to the number of entries of the table read from the csv file."
   ]
  },
  {
   "cell_type": "code",
   "execution_count": null,
   "metadata": {},
   "outputs": [],
   "source": [
    "# final state\n",
    "p1T = np.sqrt(data.p1x**2 + data.p1y**2)\n",
    "p1mod = np.sqrt(p1T**2 + data.p1z**2)\n",
    "eta1 = np.arcsinh(data.p1z / p1T)\n",
    "phi1 = np.arctan2(data.p1y, data.p1x)\n",
    "pion1 = Momentum4.e_eta_phi_p(data.E1, eta1, phi1, p1mod)\n",
    "\n",
    "p2T = np.sqrt(data.p2x**2 + data.p2y**2)\n",
    "p2mod = np.sqrt(p2T**2 + data.p2z**2)\n",
    "eta2 = np.arcsinh(data.p2z / p2T)\n",
    "phi2 = np.arctan2(data.p2y, data.p2x)\n",
    "pion2 = Momentum4.e_eta_phi_p(data.E2, eta2, phi2, p2mod)\n",
    "\n",
    "p3T = np.sqrt(data.p3x**2 + data.p3y**2)\n",
    "p3mod = np.sqrt(p3T**2 + data.p3z**2)\n",
    "eta3 = np.arcsinh(data.p3z / p3T)\n",
    "phi3 = np.arctan2(data.p3y, data.p3x)\n",
    "pion3 = Momentum4.e_eta_phi_p(data.E3, eta3, phi3, p3mod)\n",
    "\n",
    "# initial state\n",
    "# len is the number of events read by the csv file\n",
    "len = data.pnbar.size\n",
    "pnbT = np.zeros(len)\n",
    "pnbmod = data.pnbar\n",
    "etanb = 1.0e11 * np.ones(len)\n",
    "phinb = np.zeros(len)\n",
    "massNeutron = 0.93956\n",
    "Enb = np.sqrt(massNeutron**2 + pnbmod**2)\n",
    "antineutron = Momentum4.e_eta_phi_p(Enb, etanb, phinb, pnbmod)\n",
    "\n",
    "# the target (proton) is at rest\n",
    "massProton = 0.93827\n",
    "ETgt = massProton * np.ones(len)\n",
    "etaTgt = np.zeros(len)\n",
    "phiTgt = np.zeros(len)\n",
    "pTgt = np.zeros(len)\n",
    "protonTarget = Momentum4.e_eta_phi_p(ETgt, etaTgt, phiTgt, pTgt)"
   ]
  },
  {
   "cell_type": "code",
   "execution_count": null,
   "metadata": {},
   "outputs": [],
   "source": [
    "system12 = pion1 + pion2\n",
    "system23 = pion2 + pion3\n",
    "system13 = pion1 + pion3\n",
    "\n",
    "invariantMassSquared12 = system12.m2\n",
    "invariantMassSquared13 = system13.m2\n",
    "invariantMassSquared23 = system23.m2"
   ]
  },
  {
   "cell_type": "markdown",
   "metadata": {},
   "source": [
    "Let's plot the Dalitz Plots using the new Momentum4 objects. As in the first exercise let's plot the antineutron momentum to see how the distribution looks like."
   ]
  },
  {
   "cell_type": "code",
   "execution_count": null,
   "metadata": {},
   "outputs": [],
   "source": [
    "plt.hist(antineutron.p, bins=100, color=\"aquamarine\", alpha=0.7)\n",
    "plt.xlabel(\"Antineutron momentum [GeV/c]\")\n",
    "plt.ylabel(\"Entries/(4 MeV/c)\")\n",
    "plt.title(\"The histogram of the momentum of the incoming antineutron \\n\")"
   ]
  },
  {
   "cell_type": "markdown",
   "metadata": {},
   "source": [
    "And now let's plot the two Dalitz plots with the square invariant masses of the pion pairs:"
   ]
  },
  {
   "cell_type": "code",
   "execution_count": null,
   "metadata": {},
   "outputs": [],
   "source": [
    "fig, ax = plt.subplots(1, 2, tight_layout=True, figsize=(9, 4))\n",
    "h0 = ax[0].hist2d(invariantMassSquared13, invariantMassSquared12, bins=100, cmap=\"jet\")\n",
    "h0 = ax[0].hist2d(invariantMassSquared23, invariantMassSquared12, bins=100, cmap=\"jet\")\n",
    "fig.colorbar(h0[3], ax=ax[0])\n",
    "ax[0].set_xlabel(\"i.m.$^2(\\pi^+_{(1,2)}\\pi^-_{3}$) [GeV$^2$]\")\n",
    "ax[0].set_ylabel(\"i.m.$^2(\\pi^+\\pi^+$) [GeV$^2$]\")\n",
    "h1 = ax[1].hist2d(invariantMassSquared13, invariantMassSquared23, bins=100, cmap=\"jet\")\n",
    "h1 = ax[1].hist2d(invariantMassSquared23, invariantMassSquared13, bins=100, cmap=\"jet\")\n",
    "fig.colorbar(h1[3], ax=ax[1])\n",
    "ax[1].set_xlabel(\"i.m.$^2(\\pi^+_1\\pi^-$) [GeV$^2$]\")\n",
    "ax[1].set_ylabel(\"i.m.$^2(\\pi^+_2\\pi^-$) [GeV$^2$]\")"
   ]
  },
  {
   "cell_type": "markdown",
   "metadata": {},
   "source": [
    "Let's transform the 4-momenta of the particles, which are defined in the lab system, into the center-of-mass system exploiting the *boostparticle* function of pylorentz:"
   ]
  },
  {
   "cell_type": "code",
   "execution_count": null,
   "metadata": {},
   "outputs": [],
   "source": [
    "centerOfMass = antineutron + protonTarget\n",
    "\n",
    "# to boost particles in the center of mass reference system, use the - sign\n",
    "pion1CM = pion1.boost_particle(-centerOfMass)\n",
    "pion2CM = pion2.boost_particle(-centerOfMass)\n",
    "pion3CM = pion3.boost_particle(-centerOfMass)"
   ]
  },
  {
   "cell_type": "code",
   "execution_count": null,
   "metadata": {},
   "outputs": [],
   "source": [
    "antineutronCM = antineutron.boost_particle(-centerOfMass)"
   ]
  },
  {
   "cell_type": "code",
   "execution_count": null,
   "metadata": {},
   "outputs": [],
   "source": [
    "protonTargetCM = protonTarget.boost_particle(-centerOfMass)"
   ]
  },
  {
   "cell_type": "markdown",
   "metadata": {},
   "source": [
    "Let's check whether the Mandelstam variables are indeed invariant in the different reference systems. Let's assume a two-body reaction $a + b\\rightarrow c + d$ where in the final state two pions form a neutral dipion which recoils against the remaining $\\pi^+_2$: $\\bar n + p \\rightarrow D(\\pi^+_1\\pi^-_3) + \\pi^+_2$\n",
    "\n",
    "\n",
    "\n",
    "> **total energy** $s = (p_a+p_b)^2 = (p_c + p_d)^2$\n",
    "\n"
   ]
  },
  {
   "cell_type": "code",
   "execution_count": null,
   "metadata": {},
   "outputs": [],
   "source": [
    "s_lab = centerOfMass.m2\n",
    "print(s_lab)"
   ]
  },
  {
   "cell_type": "code",
   "execution_count": null,
   "metadata": {},
   "outputs": [],
   "source": [
    "initCM = antineutronCM + protonTargetCM\n",
    "s_cm = initCM.m2\n",
    "print(s_cm)\n",
    "\n",
    "s_lab - s_cm"
   ]
  },
  {
   "cell_type": "code",
   "execution_count": null,
   "metadata": {},
   "outputs": [],
   "source": [
    "plt.hist(s_lab, bins=100, color=\"MediumPurple\")\n",
    "plt.xlabel(\"s [(GeV/$c^2)^2$]\")\n",
    "plt.ylabel(\"Entries/(1.6 (MeV/$c^2)^2$)\")\n",
    "plt.title(\"Available energy for the reaction \\n\")"
   ]
  },
  {
   "cell_type": "markdown",
   "metadata": {},
   "source": [
    "\n",
    "\n",
    "\n",
    "> Momentum transfer $t = (p_a - p_c)^2 = (p_b - p_d)^2$\n",
    "\n",
    "\n",
    "\n"
   ]
  },
  {
   "cell_type": "code",
   "execution_count": null,
   "metadata": {},
   "outputs": [],
   "source": [
    "dipion = system13\n",
    "t_lab_1 = (antineutron - dipion).m2\n",
    "t_lab_2 = (protonTarget - pion2).m2\n",
    "dipionCM = system13.boost_particle(-centerOfMass)\n",
    "t_cm_1 = (antineutronCM - dipionCM).m2\n",
    "t_cm_2 = (protonTargetCM - pion2CM).m2"
   ]
  },
  {
   "cell_type": "code",
   "execution_count": null,
   "metadata": {},
   "outputs": [],
   "source": [
    "fig, ax = plt.subplots(2, 2, tight_layout=True, figsize=(9, 4))\n",
    "ax[0, 0].hist(t_lab_1, bins=100, color=\"Lime\")\n",
    "ax[0, 0].set_xlabel(\"t = $(p_{nbar} - p_D)^2$ lab RF [$(\\mathrm{GeV}/c^2)^2$]\")\n",
    "ax[0, 1].hist(t_lab_2, bins=100, color=\"LimeGreen\")\n",
    "ax[0, 1].set_xlabel(\"t = $(p_p - p_{\\pi^+_2})^2$ lab RF [$(\\mathrm{GeV}/c^2)^2$]\")\n",
    "ax[1, 0].hist(t_cm_1, bins=100, color=\"GreenYellow\")\n",
    "ax[1, 0].set_xlabel(\"t = $(p_{nbar} - p_D)^2$ CM RF [$(\\mathrm{GeV}/c^2)^2$]\")\n",
    "ax[1, 1].hist(t_cm_2, bins=100, color=\"LawnGreen\")\n",
    "ax[1, 1].set_xlabel(\"t = $(p_p - p_{\\pi^+_2})^2$ CM RF [$(\\mathrm{GeV}/c^2)^2$]\")"
   ]
  },
  {
   "cell_type": "markdown",
   "metadata": {},
   "source": [
    "> $u = (p_a - p_d)^2 = (p_b - p_c)^2$\n"
   ]
  },
  {
   "cell_type": "code",
   "execution_count": null,
   "metadata": {},
   "outputs": [],
   "source": [
    "u_lab_1 = (antineutron - pion2).m2\n",
    "u_lab_2 = (protonTarget - dipion).m2\n",
    "u_cm_1 = (antineutronCM - pion2CM).m2\n",
    "u_cm_2 = (protonTargetCM - dipionCM).m2"
   ]
  },
  {
   "cell_type": "code",
   "execution_count": null,
   "metadata": {},
   "outputs": [],
   "source": [
    "fig, ax = plt.subplots(2, 2, tight_layout=True, figsize=(9, 4))\n",
    "ax[0, 0].hist(u_lab_1, bins=100, color=\"HotPink\")\n",
    "ax[0, 0].set_xlabel(\"u = $(p_{nbar} - p_{\\pi^+_2})^2$ lab RF [$(\\mathrm{GeV}/c^2)^2$]\")\n",
    "ax[0, 1].hist(u_lab_2, bins=100, color=\"DeepPink\")\n",
    "ax[0, 1].set_xlabel(\"u = $(p_p - p_D)^2$ lab RF [$(\\mathrm{GeV}/c^2)^2$]\")\n",
    "ax[1, 0].hist(u_cm_1, bins=100, color=\"Fuchsia\")\n",
    "ax[1, 0].set_xlabel(\"u = $(p_{nbar} - p_{\\pi^+_2})^2$ CM RF [$(\\mathrm{GeV}/c^2)^2$]\")\n",
    "ax[1, 1].hist(u_cm_2, bins=100, color=\"DarkMagenta\")\n",
    "ax[1, 1].set_xlabel(\"u = $(p_p - p_D)^2$ CM RF [$(\\mathrm{GeV}/c^2)^2$]\")"
   ]
  },
  {
   "cell_type": "markdown",
   "metadata": {},
   "source": [
    "Test: $\\; s + t + u = m_1^2 + m_2^2 + m_3^2 + m_4^2$"
   ]
  },
  {
   "cell_type": "code",
   "execution_count": null,
   "metadata": {},
   "outputs": [],
   "source": [
    "sum = s_lab + t_lab_1 + u_lab_1"
   ]
  },
  {
   "cell_type": "code",
   "execution_count": null,
   "metadata": {},
   "outputs": [],
   "source": [
    "sumOfMasses = (massNeutron**2 + massProton**2 + dipionCM.m2 + pion2CM.m2) * np.ones(\n",
    "    len\n",
    ")"
   ]
  },
  {
   "cell_type": "code",
   "execution_count": null,
   "metadata": {},
   "outputs": [],
   "source": [
    "plt.hist(sum - sumOfMasses, bins=100, color=\"CornFlowerBlue\")"
   ]
  },
  {
   "cell_type": "markdown",
   "metadata": {},
   "source": [
    "Another interesting quantity to be observed is the **missing mass**. It can be evaluated comparing the total energies between the initial and the final state of a reaction, or, given a final state, evaluating the missing energy recoiling against a system of particles. In any case, the missing mass quantity is defined as the modulus of the 4-momentum corresponing to the difference of the 4-momenta of the involved particles."
   ]
  },
  {
   "cell_type": "code",
   "execution_count": null,
   "metadata": {},
   "outputs": [],
   "source": [
    "# missing mass between initial and final state\n",
    "initialState4Mom = centerOfMass\n",
    "finalState4Mom = pion1 + pion2 + pion3\n",
    "missing4Momentum = initialState4Mom - finalState4Mom\n",
    "# missing mass recoiling against the neutral dipion systems (there are two)\n",
    "dipion1 = pion1 + pion3\n",
    "dipion2 = pion2 + pion3\n",
    "recoilingMissingMass1 = finalState4Mom - dipion1\n",
    "recoilingMissingMass2 = finalState4Mom - dipion2"
   ]
  },
  {
   "cell_type": "markdown",
   "metadata": {},
   "source": [
    "Let's plot the missing mass of the reaction, the scatter plot of total momentum versus total energy of the measured particles in the final state (it should be close to zero), and the missing mass recoiling against the neutral dipion (it should be close to the mass of a pion, for a correctly selected exclusive reaction)."
   ]
  },
  {
   "cell_type": "code",
   "execution_count": null,
   "metadata": {},
   "outputs": [],
   "source": [
    "fig, ax = plt.subplots(1, 3, tight_layout=True, figsize=(11, 3.5))\n",
    "ax[0].hist(missing4Momentum.m2, bins=100, color=\"crimson\")\n",
    "ax[0].set_xlabel(\"m.m. [$(\\mathrm{GeV}/c^2)^2$]\")\n",
    "# ptot vs Etot plot\n",
    "h1 = ax[1].hist2d(finalState4Mom.e, finalState4Mom.p, bins=100, cmap=\"rainbow\")\n",
    "fig.colorbar(h1[3], ax=ax[1])\n",
    "ax[1].set_xlabel(\"$\\mathrm{E}_{tot}(2\\pi^+\\pi^-)$ [GeV]\")\n",
    "ax[1].set_ylabel(\"$\\mathrm{p}_{tot}(2\\pi^+\\pi^-)$ [GeV/c]\")\n",
    "# missing mass recoiling against the neutral dipion (2 entries/event)\n",
    "allMissingDipion = np.concatenate([recoilingMissingMass1.m2, recoilingMissingMass2.m2])\n",
    "missingHisto = ax[2].hist(allMissingDipion, bins=100, color=\"darkorange\")\n",
    "ax[2].set_xlabel(\"m.m. recoiling against $(\\pi^+\\pi^-)$ [$(\\mathrm{GeV}/c^2)^2$]\")\n",
    "ax[2].xaxis.get_label().set_fontsize(8)\n",
    "ax[2].tick_params(axis=\"both\", which=\"major\", labelsize=8)"
   ]
  },
  {
   "cell_type": "markdown",
   "metadata": {},
   "source": [
    "Let's fit the last plot with a gaussian function to check if the missing particle is really a charged pion (mass: 0.140 GeV/$c^2$)."
   ]
  },
  {
   "cell_type": "code",
   "execution_count": null,
   "metadata": {},
   "outputs": [],
   "source": [
    "import matplotlib.mlab as mlab\n",
    "from scipy.stats import norm\n",
    "\n",
    "# best fit of data\n",
    "(mu, sigma) = norm.fit(allMissingDipion)\n",
    "\n",
    "# the histogram of the data\n",
    "n, bins, patches = plt.hist(\n",
    "    allMissingDipion,\n",
    "    range=(0.01947835, 0.01947985),\n",
    "    density=True,\n",
    "    facecolor=\"darkorange\",\n",
    "    histtype=\"barstacked\",\n",
    ")\n",
    "\n",
    "# add a 'best fit' line\n",
    "y = norm.pdf(bins, mu, sigma)\n",
    "l = plt.plot(bins, y, \"r--\", linewidth=2)\n",
    "\n",
    "# plot\n",
    "plt.xlabel(\"missing mass recoiling against the neutral dipion\")\n",
    "plt.ylabel(\"counts\")\n",
    "plt.title(r\"$\\mu=%.3f,\\ \\sigma=%.3f$\" % (mu, sigma))\n",
    "plt.grid(True)\n",
    "plt.hist(allMissingDipion, 100, density=True, facecolor=\"orange\", histtype=\"barstacked\")\n",
    "\n",
    "print(\"The missing mass in GeV/c^2 is: \", np.sqrt(mu))"
   ]
  },
  {
   "cell_type": "code",
   "execution_count": null,
   "metadata": {},
   "outputs": [],
   "source": []
  }
 ],
 "metadata": {
  "colab": {
   "authorship_tag": "ABX9TyPj1/4AruYinHJ7CJD1J54Y",
   "mount_file_id": "1eQrRA84_NQIVcpoyU8LGnV2ALVDJh8FD"
  },
  "kernelspec": {
   "display_name": "Python 3 (ipykernel)",
   "language": "python",
   "name": "python3"
  },
  "language_info": {
   "codemirror_mode": {
    "name": "ipython",
    "version": 3
   },
   "file_extension": ".py",
   "mimetype": "text/x-python",
   "name": "python",
   "nbconvert_exporter": "python",
   "pygments_lexer": "ipython3",
   "version": "3.10.12"
  }
 },
 "nbformat": 4,
 "nbformat_minor": 4
}
