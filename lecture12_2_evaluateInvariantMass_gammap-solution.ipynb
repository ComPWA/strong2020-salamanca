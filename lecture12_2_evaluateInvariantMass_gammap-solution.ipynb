{
 "cells": [
  {
   "cell_type": "markdown",
   "metadata": {
    "tags": []
   },
   "source": [
    "# Lecture 12 – γ p [solution]"
   ]
  },
  {
   "cell_type": "markdown",
   "metadata": {},
   "source": [
    "**Invariant masses of particle pairs and Dalitz plots for another reaction with three particles in the final state $\\gamma p\\rightarrow \\pi^+\\pi^-p$.**"
   ]
  },
  {
   "cell_type": "markdown",
   "metadata": {},
   "source": [
    "Prepare the notebook with the preambles for the inclusion of pandas, numpy and matplotlib.pyplot:"
   ]
  },
  {
   "cell_type": "code",
   "execution_count": null,
   "metadata": {
    "tags": [
     "remove-cell"
    ]
   },
   "outputs": [],
   "source": [
    "%pip install -q matplotlib numpy pandas pylorentz scipy"
   ]
  },
  {
   "cell_type": "code",
   "execution_count": null,
   "metadata": {},
   "outputs": [],
   "source": [
    "import matplotlib.pyplot as plt\n",
    "import numpy as np\n",
    "import pandas as pd"
   ]
  },
  {
   "cell_type": "code",
   "execution_count": null,
   "metadata": {},
   "outputs": [],
   "source": [
    "!pip install gdown\n",
    "import gdown"
   ]
  },
  {
   "cell_type": "code",
   "execution_count": null,
   "metadata": {},
   "outputs": [],
   "source": [
    "# real experimental data\n",
    "# gammap_5GeV_PiPlusPiMinusProtWHel_inclusive_gold2bG14.csv\n",
    "url = \"https://drive.google.com/uc?id=1qiYjPbR5nx3_Sw7MXuUKhNAUpkXPoxYh\"\n",
    "\n",
    "output = \"gammapi_2pions_inclusive.dat\"\n",
    "gdown.download(url, output, quiet=False)\n",
    "data = pd.read_csv(output)"
   ]
  },
  {
   "cell_type": "markdown",
   "metadata": {},
   "source": [
    "Inspect the data file and format. The file contains the 4-momenta of the particles of the reaction $\\gamma p \\rightarrow \\pi^+\\pi^- p$, the last column corresponds to the 3rd component of the photon momentum (up to 2.5 GeV/c), which travels along the $z$ axis. Since the target was made of HD, to select the data interacting on protons only a cut on the missing momentum of the reaction was made."
   ]
  },
  {
   "cell_type": "code",
   "execution_count": null,
   "metadata": {
    "tags": [
     "full-width"
    ]
   },
   "outputs": [],
   "source": [
    "data.head()"
   ]
  },
  {
   "cell_type": "markdown",
   "metadata": {},
   "source": [
    "The columns headers present some trailing blanks, that must be dropped to be able to use correctly the DataFormat structure (if not, they deliver an error message). To do so, the *str.strip()* function must be used beforehand to reformat the column shape.\n",
    "In the following commands in the cell, columns are shown, overall with the data.columns command, and per single variable (like *data.p2x*). If the format is correct, no error should appear."
   ]
  },
  {
   "cell_type": "code",
   "execution_count": null,
   "metadata": {},
   "outputs": [],
   "source": [
    "data.columns = data.columns.str.strip()\n",
    "data.p2x"
   ]
  },
  {
   "cell_type": "markdown",
   "metadata": {},
   "source": [
    "Evaluate the invariant masses (squared and linear) for particle pairs, in a similar way as done in the first example."
   ]
  },
  {
   "cell_type": "code",
   "execution_count": null,
   "metadata": {},
   "outputs": [],
   "source": [
    "invariant_massSquared12 = (\n",
    "    (data.E1 + data.E2) ** 2\n",
    "    - (data.p1x + data.p2x) ** 2\n",
    "    - (data.p1y + data.p2y) ** 2\n",
    "    - (data.p1z + data.p2z) ** 2\n",
    ")\n",
    "invariant_mass12 = np.sqrt(invariant_massSquared12)\n",
    "invariant_massSquared13 = (\n",
    "    (data.E1 + data.E3) ** 2\n",
    "    - (data.p1x + data.p3x) ** 2\n",
    "    - (data.p1y + data.p3y) ** 2\n",
    "    - (data.p1z + data.p3z) ** 2\n",
    ")\n",
    "invariant_mass13 = np.sqrt(invariant_massSquared13)\n",
    "invariant_massSquared23 = (\n",
    "    (data.E3 + data.E2) ** 2\n",
    "    - (data.p3x + data.p2x) ** 2\n",
    "    - (data.p3y + data.p2y) ** 2\n",
    "    - (data.p3z + data.p2z) ** 2\n",
    ")\n",
    "invariant_mass23 = np.sqrt(invariant_massSquared23)"
   ]
  },
  {
   "cell_type": "markdown",
   "metadata": {},
   "source": [
    "Let's plot the evaluated invariant masses. First, though, let's plot the antineutron momentum to see how the distribution looks like."
   ]
  },
  {
   "cell_type": "code",
   "execution_count": null,
   "metadata": {
    "jupyter": {
     "source_hidden": true
    },
    "tags": [
     "hide-input"
    ]
   },
   "outputs": [],
   "source": [
    "plt.hist(data.pgamma, bins=80, color=\"turquoise\")\n",
    "plt.xlabel(\"Photon momentum [GeV/c]\")\n",
    "plt.ylabel(\"Entries/(21 MeV/c)\")\n",
    "plt.title(\"The histogram of the momentum of the incoming photon \\n\")\n",
    "plt.show()"
   ]
  },
  {
   "cell_type": "markdown",
   "metadata": {},
   "source": [
    "Let's plot now the invariant masses distributions for the three pion pairs:"
   ]
  },
  {
   "cell_type": "code",
   "execution_count": null,
   "metadata": {
    "jupyter": {
     "source_hidden": true
    },
    "tags": [
     "hide-input"
    ]
   },
   "outputs": [],
   "source": [
    "# plot the histogram pi+pi-\n",
    "plt.hist(invariant_mass12, bins=200, range=(0.2, 1.2))\n",
    "plt.xlabel(\"Invariant mass [GeV]\")\n",
    "plt.ylabel(\"Entries/(5 MeV)\")\n",
    "plt.title(\"The histogram of the invariant mass of $\\pi^+$ and $\\pi^-$ \\n\")\n",
    "plt.show()"
   ]
  },
  {
   "cell_type": "code",
   "execution_count": null,
   "metadata": {
    "jupyter": {
     "source_hidden": true
    },
    "tags": [
     "hide-input"
    ]
   },
   "outputs": [],
   "source": [
    "# plot the histogram pi+proton\n",
    "plt.hist(invariant_mass13, bins=200, color=\"tomato\", range=(1.0, 2.0))\n",
    "plt.xlabel(\"Invariant mass [GeV]\")\n",
    "plt.ylabel(\"Entries/(5 MeV)\")\n",
    "plt.title(\"The histogram of the invariant mass of $\\pi^+$ and proton  \\n\")\n",
    "plt.show()"
   ]
  },
  {
   "cell_type": "code",
   "execution_count": null,
   "metadata": {
    "jupyter": {
     "source_hidden": true
    },
    "tags": [
     "hide-input"
    ]
   },
   "outputs": [],
   "source": [
    "# plot the histogram pi-proton\n",
    "plt.hist(invariant_mass23, bins=200, color=\"darkmagenta\", range=(1.0, 2.0))\n",
    "plt.xlabel(\"Invariant mass [GeV]\")\n",
    "plt.ylabel(\"Entries/(5 MeV)\")\n",
    "plt.title(\"The histogram of the invariant mass of $\\pi^-$ and proton \\n\")\n",
    "plt.show()"
   ]
  },
  {
   "cell_type": "markdown",
   "metadata": {},
   "source": [
    "You can superimpose the two last plots to check the differences in the lineshapes of the two distributions."
   ]
  },
  {
   "cell_type": "code",
   "execution_count": null,
   "metadata": {
    "jupyter": {
     "source_hidden": true
    },
    "tags": [
     "hide-input"
    ]
   },
   "outputs": [],
   "source": [
    "plt.hist(invariant_mass13, bins=200, color=\"tomato\", range=(1.0, 2.0))\n",
    "plt.hist(invariant_mass23, bins=200, color=\"darkmagenta\", alpha=0.4, range=(1.0, 2.0))\n",
    "plt.xlabel(\"Invariant mass [GeV]\")\n",
    "plt.ylabel(\"Entries/(5 MeV)\")\n",
    "plt.show()"
   ]
  },
  {
   "cell_type": "markdown",
   "metadata": {},
   "source": [
    "2D distributions: Dalitz plots"
   ]
  },
  {
   "cell_type": "code",
   "execution_count": null,
   "metadata": {
    "jupyter": {
     "source_hidden": true
    },
    "tags": [
     "hide-input"
    ]
   },
   "outputs": [],
   "source": [
    "fig, ax = plt.subplots(1, 2, tight_layout=True, figsize=(7, 4))\n",
    "ax[0].hist2d(\n",
    "    invariant_massSquared13,\n",
    "    invariant_massSquared12,\n",
    "    bins=200,\n",
    "    range=[[1.0, 3], [0.0, 0.8]],\n",
    "    cmap=\"jet\",\n",
    ")\n",
    "ax[0].set_xlabel(\"i.m.$^2(\\pi^+p$) [GeV$^2$]\")\n",
    "ax[0].set_ylabel(\"i.m.$^2(\\pi^+\\pi^-$) [GeV$^2$]\")\n",
    "ax[1].hist2d(\n",
    "    invariant_massSquared13,\n",
    "    invariant_massSquared23,\n",
    "    bins=200,\n",
    "    range=[[1.0, 3], [1.0, 3.0]],\n",
    "    cmap=\"jet\",\n",
    ")\n",
    "ax[1].set_xlabel(\"i.m.$^2(\\pi^+p$) [GeV$^2$]\")\n",
    "ax[1].set_ylabel(\"i.m.$^2(\\pi^-p$) [GeV$^2$]\")\n",
    "plt.show()"
   ]
  },
  {
   "cell_type": "markdown",
   "metadata": {},
   "source": [
    "How do Dalitz plots look like with MonteCarlo generated data?\n",
    "Repeat the previous procedures with a new file, corresponding to generated data from the same reaction, and compare the shapes (statistics are different)"
   ]
  },
  {
   "cell_type": "code",
   "execution_count": null,
   "metadata": {},
   "outputs": [],
   "source": [
    "# mc generated  data\n",
    "# gen_gammap5GeV_PipPimP.csv\n",
    "url = \"https://drive.google.com/uc?id=11J0xaQLRMxzgQLXEhXZb_u4mnxp8RVPO\"\n",
    "\n",
    "outputmc = \"gammapi_2pions_inclusive_mcarlo.dat\"\n",
    "gdown.download(url, outputmc, quiet=False)\n",
    "mc = pd.read_csv(outputmc)"
   ]
  },
  {
   "cell_type": "code",
   "execution_count": null,
   "metadata": {
    "tags": []
   },
   "outputs": [],
   "source": [
    "mc.columns = mc.columns.str.strip()"
   ]
  },
  {
   "cell_type": "code",
   "execution_count": null,
   "metadata": {
    "tags": []
   },
   "outputs": [],
   "source": [
    "invariant_massSquared12mc = (\n",
    "    (mc.E1 + mc.E2) ** 2\n",
    "    - (mc.p1x + mc.p2x) ** 2\n",
    "    - (mc.p1y + mc.p2y) ** 2\n",
    "    - (mc.p1z + mc.p2z) ** 2\n",
    ")\n",
    "invariant_massSquared13mc = (\n",
    "    (mc.E1 + mc.E3) ** 2\n",
    "    - (mc.p1x + mc.p3x) ** 2\n",
    "    - (mc.p1y + mc.p3y) ** 2\n",
    "    - (mc.p1z + mc.p3z) ** 2\n",
    ")\n",
    "invariant_massSquared23mc = (\n",
    "    (mc.E3 + mc.E2) ** 2\n",
    "    - (mc.p3x + mc.p2x) ** 2\n",
    "    - (mc.p3y + mc.p2y) ** 2\n",
    "    - (mc.p3z + mc.p2z) ** 2\n",
    ")"
   ]
  },
  {
   "cell_type": "markdown",
   "metadata": {},
   "source": [
    "The phase space simulation was done extracting the photon momentum from the real data distribution."
   ]
  },
  {
   "cell_type": "code",
   "execution_count": null,
   "metadata": {
    "jupyter": {
     "source_hidden": true
    },
    "tags": [
     "hide-input"
    ]
   },
   "outputs": [],
   "source": [
    "plt.hist(data.pgamma, bins=80, color=\"darkturquoise\")\n",
    "plt.xlabel(\"Photon momentum [GeV/c]\")\n",
    "plt.ylabel(\"Entries/(21 MeV/c)\")\n",
    "plt.title(\"The histogram of the momentum of the incoming photon \\n\")\n",
    "plt.show()"
   ]
  },
  {
   "cell_type": "markdown",
   "metadata": {},
   "source": [
    "Let's see the invariant masses histogram shapes using phase space Monte Carlo events."
   ]
  },
  {
   "cell_type": "code",
   "execution_count": null,
   "metadata": {
    "jupyter": {
     "source_hidden": true
    },
    "tags": [
     "hide-input"
    ]
   },
   "outputs": [],
   "source": [
    "fig, ax = plt.subplots(1, 3, tight_layout=True, figsize=(10, 4))\n",
    "\n",
    "# plot the histogram pi+pi-\n",
    "ax[0].hist(np.sqrt(invariant_massSquared12mc), bins=100, range=(0.2, 1.4))\n",
    "ax[0].set_xlabel(\"($\\pi^+\\pi^-$) Invariant mass [GeV]\")\n",
    "ax[0].set_ylabel(\"Entries/(12 MeV)\")\n",
    "ax[0].set_title(\"($\\pi^+\\pi^-$) i.m. \\n\")\n",
    "# plot the histogram pi+p\n",
    "ax[1].hist(\n",
    "    np.sqrt(invariant_massSquared13mc), color=\"tomato\", bins=100, range=(1.0, 2.0)\n",
    ")\n",
    "ax[1].set_xlabel(\"($\\pi^+p$) Invariant mass [GeV]\")\n",
    "ax[1].set_ylabel(\"Entries/(10 MeV)\")\n",
    "ax[1].set_title(\"($\\pi^+p$) i.m. \\n\")\n",
    "# plot the histogram pi-pi-\n",
    "ax[2].hist(\n",
    "    np.sqrt(invariant_massSquared23mc), bins=100, color=\"darkmagenta\", range=(1.0, 2.0)\n",
    ")\n",
    "ax[2].set_xlabel(\"($\\pi^-p$) Invariant mass [GeV]\")\n",
    "ax[2].set_ylabel(\"Entries/(10 MeV)\")\n",
    "ax[2].set_title(\"($\\pi^-p$) i.m. \\n\")\n",
    "plt.show()"
   ]
  },
  {
   "cell_type": "markdown",
   "metadata": {},
   "source": [
    "And now the Dalitz plots:"
   ]
  },
  {
   "cell_type": "code",
   "execution_count": null,
   "metadata": {
    "jupyter": {
     "source_hidden": true
    },
    "tags": [
     "hide-input"
    ]
   },
   "outputs": [],
   "source": [
    "fig, ax = plt.subplots(1, 2, tight_layout=True, figsize=(7, 4))\n",
    "ax[0].hist2d(\n",
    "    invariant_massSquared13mc,\n",
    "    invariant_massSquared12mc,\n",
    "    bins=200,\n",
    "    range=[[1.0, 3], [0.0, 0.8]],\n",
    "    cmap=\"jet\",\n",
    ")\n",
    "ax[0].set_xlabel(\"i.m.$^2(\\pi^+p$) [GeV$^2$]\")\n",
    "ax[0].set_ylabel(\"i.m.$^2(\\pi^+\\pi^-$) [GeV$^2$]\")\n",
    "ax[1].hist2d(\n",
    "    invariant_massSquared13mc,\n",
    "    invariant_massSquared23mc,\n",
    "    bins=200,\n",
    "    range=[[1.0, 3], [1.0, 3.0]],\n",
    "    cmap=\"jet\",\n",
    ")\n",
    "ax[1].set_xlabel(\"i.m.$^2(\\pi^+p$) [GeV$^2$]\")\n",
    "ax[1].set_ylabel(\"i.m.$^2(\\pi^-p$) [GeV$^2$]\")\n",
    "plt.show()"
   ]
  },
  {
   "cell_type": "markdown",
   "metadata": {},
   "source": [
    "\n",
    "\n",
    "---\n",
    "\n",
    "\n",
    "\n",
    "Now, let's take a look to the missing mass distribution (final - initial\n",
    "state). Let's start from the real data using the pylorentz package to build 4-vectors (first, work out *relativisticKinematics.ipynb* notebook)."
   ]
  },
  {
   "cell_type": "code",
   "execution_count": null,
   "metadata": {},
   "outputs": [],
   "source": [
    "import math\n",
    "\n",
    "from pylorentz import Momentum4\n",
    "\n",
    "# final state\n",
    "p1T = np.sqrt(data.p1x**2 + data.p1y**2)\n",
    "p1mod = np.sqrt(p1T**2 + data.p1z**2)\n",
    "eta1 = np.arcsinh(data.p1z / p1T)\n",
    "phi1 = np.arctan2(data.p1y, data.p1x)\n",
    "pionPlus = Momentum4.e_eta_phi_p(data.E1, eta1, phi1, p1mod)\n",
    "\n",
    "p2T = np.sqrt(data.p2x**2 + data.p2y**2)\n",
    "p2mod = np.sqrt(p2T**2 + data.p2z**2)\n",
    "eta2 = np.arcsinh(data.p2z / p2T)\n",
    "phi2 = np.arctan2(data.p2y, data.p2x)\n",
    "pionMinus = Momentum4.e_eta_phi_p(data.E2, eta2, phi2, p2mod)\n",
    "\n",
    "p3T = np.sqrt(data.p3x**2 + data.p3y**2)\n",
    "p3mod = np.sqrt(p3T**2 + data.p3z**2)\n",
    "eta3 = np.arcsinh(data.p3z / p3T)\n",
    "phi3 = np.arctan2(data.p3y, data.p3x)\n",
    "proton = Momentum4.e_eta_phi_p(data.E3, eta3, phi3, p3mod)\n",
    "\n",
    "# initial state\n",
    "# len is the number of events read by the csv file\n",
    "len = len(data.pgamma)\n",
    "pgamT = np.zeros(len)\n",
    "pgammod = data.pgamma\n",
    "etagam = 1.0e11 * np.ones(len)\n",
    "phigam = np.zeros(len)\n",
    "massGamma = 0.0\n",
    "Egamma = np.sqrt(massGamma**2 + pgammod**2)\n",
    "photon = Momentum4.e_eta_phi_p(Egamma, etagam, phigam, pgammod)\n",
    "\n",
    "# the target (proton) is at rest\n",
    "massProton = 0.93827\n",
    "ETgt = massProton * np.ones(len)\n",
    "etaTgt = np.zeros(len)\n",
    "phiTgt = np.zeros(len)\n",
    "pTgt = np.zeros(len)\n",
    "protonTarget = Momentum4.e_eta_phi_p(ETgt, etaTgt, phiTgt, pTgt)"
   ]
  },
  {
   "cell_type": "code",
   "execution_count": null,
   "metadata": {
    "jupyter": {
     "source_hidden": true
    },
    "tags": [
     "hide-input"
    ]
   },
   "outputs": [],
   "source": [
    "init = photon + protonTarget\n",
    "final = pionPlus + pionMinus + proton\n",
    "missingMomentum = final - init\n",
    "\n",
    "plt.hist(missingMomentum.m2, bins=200, color=\"palegreen\", range=(-0.02, 0.01))\n",
    "plt.xlabel(\"Missing mass squared [$(\\mathrm{GeV}/c^2)^2$]\")\n",
    "plt.ylabel(\"Entries/($5x10^{-5}\\;(\\mathrm{GeV}/c^2)^2$)\")\n",
    "plt.title(\"Missing momentum \\n\")\n",
    "plt.show()"
   ]
  },
  {
   "cell_type": "markdown",
   "metadata": {},
   "source": [
    "The missing mass square is always negative: this means that the total energy of the initial state exceeds the measured energy of the final state, so there is (likely) a missing particle which carries away some energy. We know that the reaction occurred on a HD molecule as a target: this means that a recoiling neutron is present in all cases when the reaction occurred on a deuteron nucleus: $\\gamma p(n)\\rightarrow \\pi^+\\pi^- p (n)$. In this case, moreover, the hit proton is not at rest but it may have a momentum (called Fermi momentum) which, in the deuteron center-of-mass, is roughly distributed as a gaussian 50 MeV/c wide, with maximum at abouth 270 MeV/c. The missing mass momentum distribution shows the effect of the presence of a non-null Fermi momentum, and the possible contribution to the reaction kinematics of the spectator neutron.\n",
    "\n",
    "In the data selection procedure, the Fermi momentum was required not to exceed 100 MeV/c to preserve the condition that the neutron is a spectator in the reaction occurring on deuteron. Let's see the shape of the missing momentum distribution:  "
   ]
  },
  {
   "cell_type": "code",
   "execution_count": null,
   "metadata": {
    "jupyter": {
     "source_hidden": true
    },
    "tags": [
     "hide-input"
    ]
   },
   "outputs": [],
   "source": [
    "plt.hist(missingMomentum.p, bins=150, color=\"mediumspringgreen\", range=(0.0, 0.150))\n",
    "plt.xlabel(\"Missing momentum [GeV/c]\")\n",
    "plt.ylabel(\"Entries/(10 MeV/c)\")\n",
    "plt.title(\"Missing momentum \\n\")\n",
    "plt.show()"
   ]
  },
  {
   "cell_type": "markdown",
   "metadata": {},
   "source": [
    "Let's now consider the missing mass recoiling against the neutral dipion: in an exclusive reaction we expect it to peak at the proton mass. Is the PID selection of our sample acceptable?"
   ]
  },
  {
   "cell_type": "code",
   "execution_count": null,
   "metadata": {
    "jupyter": {
     "source_hidden": true
    },
    "tags": [
     "hide-input"
    ]
   },
   "outputs": [],
   "source": [
    "dipion = pionPlus + pionMinus\n",
    "missingMomentumDipion = init - dipion\n",
    "\n",
    "plt.hist(missingMomentumDipion.m2, bins=200, color=\"violet\", range=(0.0, 2))\n",
    "plt.xlabel(\"Missing mass squared [$(\\mathrm{GeV}/c^2)^2$]\")\n",
    "plt.ylabel(\"Entries/($0.01\\;(\\mathrm{GeV}/c^2)^2$)\")\n",
    "plt.title(\"Missing momentum recoiling against the dipion\\n\")\n",
    "plt.show()"
   ]
  },
  {
   "cell_type": "markdown",
   "metadata": {},
   "source": [
    "Let's visualize the scatter plot of the two missing masses squared:"
   ]
  },
  {
   "cell_type": "code",
   "execution_count": null,
   "metadata": {
    "jupyter": {
     "source_hidden": true
    },
    "tags": [
     "hide-input"
    ]
   },
   "outputs": [],
   "source": [
    "fig = plt.figure()\n",
    "plt.hist2d(\n",
    "    missingMomentumDipion.m2,\n",
    "    missingMomentum.m2,\n",
    "    bins=200,\n",
    "    range=[[0.80, 1.0], [-0.003, 0.001]],\n",
    "    cmap=\"rainbow\",\n",
    ")\n",
    "plt.xlabel(\"Dipion M.M. squared [$(\\mathrm{GeV}/c^2)^2$]\")\n",
    "plt.ylabel(\"Reaction M.M. squared [$(\\mathrm{GeV}/c^2)^2$)\")\n",
    "plt.show()"
   ]
  },
  {
   "cell_type": "markdown",
   "metadata": {
    "tags": []
   },
   "source": [
    "---\n",
    "\n",
    "## Let's do some fits\n",
    "Which is the maximum of the missing momentum, and where is the peak of the\n",
    "missing mass distribution?\n",
    "Let's attempt two fits with a single gaussian function.\n"
   ]
  },
  {
   "cell_type": "code",
   "execution_count": null,
   "metadata": {
    "jupyter": {
     "source_hidden": true
    },
    "tags": [
     "scroll-input",
     "hide-input"
    ]
   },
   "outputs": [],
   "source": [
    "from numpy import exp\n",
    "from scipy import stats\n",
    "from scipy.optimize import curve_fit\n",
    "\n",
    "# normalize the histogram to 1\n",
    "lowEdge = 0.015\n",
    "upEdge = 0.035\n",
    "hist, bin_edges = np.histogram(missingMomentum.p, 100, range=(lowEdge, upEdge))\n",
    "integralHist = sum(hist)\n",
    "hist = hist / integralHist\n",
    "\n",
    "n = hist.size\n",
    "x_hist = np.zeros((n), dtype=float)\n",
    "for ii in range(n):\n",
    "    x_hist[ii] = (bin_edges[ii + 1] + bin_edges[ii]) / 2\n",
    "\n",
    "y_hist = hist\n",
    "\n",
    "\n",
    "# Calculating the Gaussian PDF values given Gaussian parameters and random variable X\n",
    "def gaus(X, C, X_mean, sigma):\n",
    "    return C * exp(-((X - X_mean) ** 2) / (2 * sigma**2))\n",
    "\n",
    "\n",
    "mean = sum(x_hist * y_hist) / sum(y_hist)\n",
    "sigma = sum(y_hist * (x_hist - mean) ** 2) / sum(y_hist)\n",
    "\n",
    "# Gaussian least-square fitting process\n",
    "param_optimised, param_covariance_matrix = curve_fit(\n",
    "    gaus, x_hist, y_hist, p0=[max(y_hist), mean, sigma], maxfev=5000\n",
    ")\n",
    "\n",
    "# print fit Gaussian parameters\n",
    "print(\"Fit parameters: \")\n",
    "print(\"=====================================================\")\n",
    "print(\"C = \", param_optimised[0], \"+-\", np.sqrt(param_covariance_matrix[0, 0]))\n",
    "print(\"X_mean =\", param_optimised[1], \"+-\", np.sqrt(param_covariance_matrix[1, 1]))\n",
    "print(\"sigma = \", param_optimised[2], \"+-\", np.sqrt(param_covariance_matrix[2, 2]))\n",
    "print(\"\\n\")\n",
    "\n",
    "\n",
    "# STEP 4: PLOTTING THE GAUSSIAN CURVE -----------------------------------------\n",
    "fig = plt.figure()\n",
    "x_hist_2 = np.linspace(np.min(x_hist), np.max(x_hist), 100)\n",
    "# this plots the curve only\n",
    "plt.plot(x_hist_2, gaus(x_hist_2, *param_optimised), color=\"red\", label=\"Gaussian fit\")\n",
    "plt.legend()\n",
    "\n",
    "# plot the experimental point of the portion of spectrum to be fitted\n",
    "plt.scatter(x_hist, y_hist, color=\"mediumspringgreen\")\n",
    "\n",
    "# Normalise the histogram values\n",
    "weights = np.ones_like(y_hist) / y_hist.size\n",
    "# plt.hist(x_hist, weights=weights)\n",
    "# plt.hist(x_hist)\n",
    "# plt.hist(hist)\n",
    "\n",
    "\n",
    "# setting the label,title and grid of the plot\n",
    "plt.xlabel(\"Data: Random variable\")\n",
    "plt.ylabel(\"Probability\")\n",
    "plt.grid(\"on\")\n",
    "plt.show()"
   ]
  },
  {
   "cell_type": "code",
   "execution_count": null,
   "metadata": {
    "jupyter": {
     "source_hidden": true
    },
    "tags": [
     "hide-input"
    ]
   },
   "outputs": [],
   "source": [
    "# normalize the histogram to 1 and then to ratio of the maximum values\n",
    "histfull, bin_edgesf = np.histogram(missingMomentum.p, 100, range=(0.0, 0.10))\n",
    "n = histfull.size\n",
    "xf_hist = np.zeros((n), dtype=float)\n",
    "ilow = 0\n",
    "iup = 0\n",
    "# find the bin numbers corresponding to fitted histrogram edges\n",
    "for ii in range(n):\n",
    "    xf_hist[ii] = (bin_edgesf[ii + 1] + bin_edgesf[ii]) / 2\n",
    "    # find the closest bin to edges\n",
    "    if bin_edgesf[ii + 1] <= lowEdge:\n",
    "        ilow = ii\n",
    "    if bin_edgesf[ii + 1] <= upEdge:\n",
    "        iup = ii\n",
    "\n",
    "\n",
    "integralFull = sum(histfull)\n",
    "histfull = histfull / integralFull\n",
    "yf_hist = histfull\n",
    "histfull = histfull * np.max(y_hist) / np.max(yf_hist)\n",
    "yf_hist = histfull\n",
    "\n",
    "plt.scatter(xf_hist, yf_hist, color=\"mediumspringgreen\")\n",
    "\n",
    "x_hist_3 = np.linspace(np.min(x_hist), np.max(x_hist), 100)\n",
    "plt.plot(x_hist_3, gaus(x_hist_3, *param_optimised), color=\"red\")  # was 'r.:'\n",
    "plt.show()"
   ]
  },
  {
   "cell_type": "code",
   "execution_count": null,
   "metadata": {
    "jupyter": {
     "source_hidden": true
    },
    "tags": [
     "hide-input",
     "scroll-input"
    ]
   },
   "outputs": [],
   "source": [
    "# normalize the histogram to 1\n",
    "lowEdge = -0.001\n",
    "upEdge = 0.0\n",
    "hist, bin_edges = np.histogram(missingMomentum.m2, 100, range=(lowEdge, upEdge))\n",
    "integralHist = sum(hist)\n",
    "hist = hist / integralHist\n",
    "\n",
    "n = hist.size\n",
    "x_hist = np.zeros((n), dtype=float)\n",
    "for ii in range(n):\n",
    "    x_hist[ii] = (bin_edges[ii + 1] + bin_edges[ii]) / 2\n",
    "\n",
    "y_hist = hist\n",
    "mean = sum(x_hist * y_hist) / sum(y_hist)\n",
    "sigma = sum(y_hist * (x_hist - mean) ** 2) / sum(y_hist)\n",
    "# Gaussian least-square fitting process\n",
    "param_optimised, param_covariance_matrix = curve_fit(\n",
    "    gaus, x_hist, y_hist, p0=[max(y_hist), mean, sigma], maxfev=5000\n",
    ")\n",
    "\n",
    "# print fit Gaussian parameters\n",
    "print(\"Fit parameters: \")\n",
    "print(\"=====================================================\")\n",
    "print(\"C = \", param_optimised[0], \"+-\", np.sqrt(param_covariance_matrix[0, 0]))\n",
    "print(\"X_mean =\", param_optimised[1], \"+-\", np.sqrt(param_covariance_matrix[1, 1]))\n",
    "print(\"sigma = \", param_optimised[2], \"+-\", np.sqrt(param_covariance_matrix[2, 2]))\n",
    "print(\"\\n\")\n",
    "\n",
    "# save the values for later\n",
    "mean1Fit = param_optimised[1]\n",
    "sigma1Fit = param_optimised[2]\n",
    "\n",
    "# STEP 4: PLOTTING THE GAUSSIAN CURVE -----------------------------------------\n",
    "fig = plt.figure()\n",
    "x_hist_2 = np.linspace(np.min(x_hist), np.max(x_hist), 100)\n",
    "# this plots the curve only\n",
    "plt.plot(x_hist_2, gaus(x_hist_2, *param_optimised), color=\"red\", label=\"Gaussian fit\")\n",
    "plt.legend()\n",
    "\n",
    "# plot the experimental point of the portion of spectrum to be fitted\n",
    "plt.scatter(x_hist, y_hist, color=\"palegreen\")\n",
    "\n",
    "# setting the label,title and grid of the plot\n",
    "plt.xlabel(\"Data: Random variable\")\n",
    "plt.ylabel(\"Probability\")\n",
    "plt.grid(\"on\")\n",
    "plt.show()"
   ]
  },
  {
   "cell_type": "code",
   "execution_count": null,
   "metadata": {
    "jupyter": {
     "source_hidden": true
    },
    "tags": [
     "hide-input"
    ]
   },
   "outputs": [],
   "source": [
    "# normalize the histogram to 1 and then to ratio of the maximum values\n",
    "histfull, bin_edgesf = np.histogram(missingMomentum.m2, 100, range=(-0.005, 0.005))\n",
    "n = histfull.size\n",
    "xf_hist = np.zeros((n), dtype=float)\n",
    "\n",
    "# find the bin numbers\n",
    "for ii in range(n):\n",
    "    xf_hist[ii] = (bin_edgesf[ii + 1] + bin_edgesf[ii]) / 2\n",
    "\n",
    "integralFull = sum(histfull)\n",
    "histfull = histfull / integralFull\n",
    "yf_hist = histfull\n",
    "histfull = histfull * np.max(y_hist) / np.max(yf_hist)\n",
    "yf_hist = histfull\n",
    "\n",
    "plt.scatter(xf_hist, yf_hist, color=\"palegreen\")\n",
    "x_hist_3 = np.linspace(np.min(x_hist), np.max(x_hist), 100)\n",
    "plt.plot(x_hist_3, gaus(x_hist_3, *param_optimised), color=\"red\")\n",
    "plt.show()"
   ]
  },
  {
   "cell_type": "markdown",
   "metadata": {},
   "source": [
    "The fit of the missing mass peak is not really very good, one should add some sort of background on the left hand side of the peak, say a 3rd degree polynomial"
   ]
  },
  {
   "cell_type": "code",
   "execution_count": null,
   "metadata": {
    "jupyter": {
     "source_hidden": true
    },
    "tags": [
     "scroll-input",
     "hide-input"
    ]
   },
   "outputs": [],
   "source": [
    "# normalize the histogram to 1\n",
    "lowEdge = -0.0007\n",
    "upEdge = 0.0001\n",
    "hist, bin_edges = np.histogram(missingMomentum.m2, 100, range=(lowEdge, upEdge))\n",
    "integralHist = sum(hist)\n",
    "hist = hist / integralHist\n",
    "\n",
    "n = hist.size\n",
    "x_hist = np.zeros((n), dtype=float)\n",
    "for ii in range(n):\n",
    "    x_hist[ii] = (bin_edges[ii + 1] + bin_edges[ii]) / 2\n",
    "\n",
    "y_hist = hist\n",
    "mean = sum(x_hist * y_hist) / sum(y_hist)\n",
    "sigma = sum(y_hist * (x_hist - mean) ** 2) / sum(y_hist)\n",
    "# mean = mean1Fit\n",
    "# sigma = sigma1Fit\n",
    "P1 = 0.0\n",
    "P2 = 0.0\n",
    "P3 = 0.0\n",
    "P4 = 0.0\n",
    "\n",
    "\n",
    "# Calculating the Gaussian PDF values given Gaussian parameters and random variable X\n",
    "def gausAndBCK(X, C, X_mean, sigma, P1, P2, P3, P4):\n",
    "    return C * exp(-((X - X_mean) ** 2) / (2 * sigma**2)) + (\n",
    "        P1 + P2 * X + P3 * X * X + P4 * X * X * X\n",
    "    )\n",
    "\n",
    "\n",
    "def BCK(X, P1, P2, P3, P4):\n",
    "    return P1 + P2 * X + P3 * X * X + P4 * X * X * X\n",
    "\n",
    "\n",
    "# Gaussian+BCK least-square fitting process\n",
    "param_optimised, param_covariance_matrix = curve_fit(\n",
    "    gausAndBCK,\n",
    "    x_hist,\n",
    "    y_hist,\n",
    "    p0=[max(y_hist), mean, sigma, P1, P2, P3, P4],\n",
    "    maxfev=10000,\n",
    ")\n",
    "\n",
    "# print fit Gaussian parameters\n",
    "print(\"Fit parameters: \")\n",
    "print(\"=====================================================\")\n",
    "print(\"C = \", param_optimised[0], \"+-\", np.sqrt(param_covariance_matrix[0, 0]))\n",
    "print(\"X_mean =\", param_optimised[1], \"+-\", np.sqrt(param_covariance_matrix[1, 1]))\n",
    "print(\"sigma = \", param_optimised[2], \"+-\", np.sqrt(param_covariance_matrix[2, 2]))\n",
    "print(\"\\n\")\n",
    "print(\"missing mass at the peak \", np.sqrt(abs(param_optimised[1])), \" GeV/c2 \\n\")\n",
    "\n",
    "param_optimised_gauss = []\n",
    "param_optimised_bck = []\n",
    "param_optimised_gauss.append(param_optimised[0])\n",
    "param_optimised_gauss.append(param_optimised[1])\n",
    "param_optimised_gauss.append(param_optimised[2])\n",
    "param_optimised_bck.append(param_optimised[3])\n",
    "param_optimised_bck.append(param_optimised[4])\n",
    "param_optimised_bck.append(param_optimised[5])\n",
    "param_optimised_bck.append(param_optimised[6])\n",
    "\n",
    "fig, ax = plt.subplots(1, 2, tight_layout=True, figsize=(7, 4))\n",
    "x_hist_2 = np.linspace(np.min(x_hist), np.max(x_hist), 100)\n",
    "# this plots the curve only\n",
    "ax[0].plot(\n",
    "    x_hist_2, gausAndBCK(x_hist_2, *param_optimised), color=\"red\", label=\"Gaussian fit\"\n",
    ")\n",
    "ax[0].plot(x_hist_2, gaus(x_hist_2, *param_optimised_gauss), color=\"cyan\")\n",
    "ax[0].plot(x_hist_2, BCK(x_hist_2, *param_optimised_bck), color=\"magenta\")\n",
    "\n",
    "# plot the experimental point of the portion of spectrum to be fitted\n",
    "ax[0].scatter(x_hist, y_hist, color=\"palegreen\")\n",
    "\n",
    "# setting the label,title and grid of the plot\n",
    "\n",
    "ax[0].set_xlabel(\"Data: Random variable\")\n",
    "ax[0].set_ylabel(\"Probability\")\n",
    "\n",
    "# full plot\n",
    "histfull, bin_edgesf = np.histogram(missingMomentum.m2, 100, range=(-0.005, 0.005))\n",
    "n = histfull.size\n",
    "xf_hist = np.zeros((n), dtype=float)\n",
    "\n",
    "# find the bin numbers\n",
    "for ii in range(n):\n",
    "    xf_hist[ii] = (bin_edgesf[ii + 1] + bin_edgesf[ii]) / 2\n",
    "\n",
    "integralFull = sum(histfull)\n",
    "histfull = histfull / integralFull\n",
    "yf_hist = histfull\n",
    "histfull = histfull * np.max(y_hist) / np.max(yf_hist)\n",
    "yf_hist = histfull\n",
    "\n",
    "plt.scatter(xf_hist, yf_hist, color=\"palegreen\")\n",
    "x_hist_3 = np.linspace(np.min(x_hist), np.max(x_hist), 100)\n",
    "plt.plot(x_hist_3, gausAndBCK(x_hist_3, *param_optimised), color=\"red\")\n",
    "plt.show()"
   ]
  },
  {
   "cell_type": "markdown",
   "metadata": {},
   "source": [
    "It looks like the Gaussian contribution is refused by the fit."
   ]
  },
  {
   "cell_type": "markdown",
   "metadata": {},
   "source": [
    "Let's make a similar fit for the missing mass recoiling against the dipion:"
   ]
  },
  {
   "cell_type": "code",
   "execution_count": null,
   "metadata": {
    "jupyter": {
     "source_hidden": true
    },
    "tags": [
     "hide-input",
     "scroll-input"
    ]
   },
   "outputs": [],
   "source": [
    "# normalize the histogram to 1\n",
    "lowEdge = 0.8\n",
    "upEdge = 1.0\n",
    "hist, bin_edges = np.histogram(missingMomentumDipion.m2, 100, range=(lowEdge, upEdge))\n",
    "integralHist = sum(hist)\n",
    "hist = hist / integralHist\n",
    "\n",
    "n = hist.size\n",
    "x_hist = np.zeros((n), dtype=float)\n",
    "for ii in range(n):\n",
    "    x_hist[ii] = (bin_edges[ii + 1] + bin_edges[ii]) / 2\n",
    "\n",
    "y_hist = hist\n",
    "mean = sum(x_hist * y_hist) / sum(y_hist)\n",
    "sigma = sum(y_hist * (x_hist - mean) ** 2) / sum(y_hist)\n",
    "# mean = mean1Fit\n",
    "# sigma = sigma1Fit\n",
    "P1 = 0.0\n",
    "P2 = 0.0\n",
    "P3 = 0.0\n",
    "P4 = 0.0\n",
    "\n",
    "\n",
    "# Calculating the Gaussian PDF values given Gaussian parameters and random variable X\n",
    "def gausAndBCK(X, C, X_mean, sigma, P1, P2, P3, P4):\n",
    "    return C * exp(-((X - X_mean) ** 2) / (2 * sigma**2)) + (\n",
    "        P1 + P2 * X + P3 * X * X + P4 * X * X * X\n",
    "    )\n",
    "\n",
    "\n",
    "def BCK(X, P1, P2, P3, P4):\n",
    "    return P1 + P2 * X + P3 * X * X + P4 * X * X * X\n",
    "\n",
    "\n",
    "# Gaussian+BCK least-square fitting process\n",
    "param_optimised, param_covariance_matrix = curve_fit(\n",
    "    gausAndBCK,\n",
    "    x_hist,\n",
    "    y_hist,\n",
    "    p0=[max(y_hist), mean, sigma, P1, P2, P3, P4],\n",
    "    maxfev=10000,\n",
    ")\n",
    "\n",
    "# print fit Gaussian parameters\n",
    "print(\"Fit parameters: \")\n",
    "print(\"=====================================================\")\n",
    "print(\"C = \", param_optimised[0], \"+-\", np.sqrt(param_covariance_matrix[0, 0]))\n",
    "print(\"X_mean =\", param_optimised[1], \"+-\", np.sqrt(param_covariance_matrix[1, 1]))\n",
    "print(\"sigma = \", param_optimised[2], \"+-\", np.sqrt(param_covariance_matrix[2, 2]))\n",
    "print(\"\\n\")\n",
    "print(\"missing mass at the peak \", np.sqrt(abs(param_optimised[1])), \" GeV/c2 \\n\")\n",
    "\n",
    "param_optimised_gauss = []\n",
    "param_optimised_bck = []\n",
    "param_optimised_gauss.append(param_optimised[0])\n",
    "param_optimised_gauss.append(param_optimised[1])\n",
    "param_optimised_gauss.append(param_optimised[2])\n",
    "param_optimised_bck.append(param_optimised[3])\n",
    "param_optimised_bck.append(param_optimised[4])\n",
    "param_optimised_bck.append(param_optimised[5])\n",
    "param_optimised_bck.append(param_optimised[6])\n",
    "\n",
    "fig, ax = plt.subplots(1, 2, tight_layout=True, figsize=(7, 4))\n",
    "x_hist_2 = np.linspace(np.min(x_hist), np.max(x_hist), 100)\n",
    "# this plots the curve only\n",
    "ax[0].plot(\n",
    "    x_hist_2, gausAndBCK(x_hist_2, *param_optimised), color=\"red\", label=\"Gaussian fit\"\n",
    ")\n",
    "ax[0].plot(x_hist_2, gaus(x_hist_2, *param_optimised_gauss), color=\"cyan\")\n",
    "ax[0].plot(x_hist_2, BCK(x_hist_2, *param_optimised_bck), color=\"magenta\")\n",
    "\n",
    "# plot the experimental point of the portion of spectrum to be fitted\n",
    "ax[0].scatter(x_hist, y_hist, color=\"violet\")\n",
    "\n",
    "# setting the label,title and grid of the plot\n",
    "\n",
    "ax[0].set_xlabel(\"Missing mass recoiling against dipion\")\n",
    "ax[0].set_ylabel(\"Probability\")\n",
    "\n",
    "# full plot\n",
    "histfull, bin_edgesf = np.histogram(missingMomentumDipion.m2, 100, range=(0.5, 1.2))\n",
    "n = histfull.size\n",
    "xf_hist = np.zeros((n), dtype=float)\n",
    "\n",
    "# find the bin numbers\n",
    "for ii in range(n):\n",
    "    xf_hist[ii] = (bin_edgesf[ii + 1] + bin_edgesf[ii]) / 2\n",
    "\n",
    "integralFull = sum(histfull)\n",
    "histfull = histfull / integralFull\n",
    "yf_hist = histfull\n",
    "histfull = histfull * np.max(y_hist) / np.max(yf_hist)\n",
    "yf_hist = histfull\n",
    "\n",
    "plt.scatter(xf_hist, yf_hist, color=\"violet\")\n",
    "x_hist_3 = np.linspace(np.min(x_hist), np.max(x_hist), 100)\n",
    "plt.plot(x_hist_3, gausAndBCK(x_hist_3, *param_optimised), color=\"red\")\n",
    "plt.plot(x_hist_3, gaus(x_hist_3, *param_optimised_gauss), color=\"cyan\")\n",
    "plt.plot(x_hist_3, BCK(x_hist_3, *param_optimised_bck), color=\"magenta\")\n",
    "plt.show()"
   ]
  }
 ],
 "metadata": {
  "colab": {},
  "kernelspec": {
   "display_name": "Python 3 (ipykernel)",
   "language": "python",
   "name": "python3"
  },
  "language_info": {
   "codemirror_mode": {
    "name": "ipython",
    "version": 3
   },
   "file_extension": ".py",
   "mimetype": "text/x-python",
   "name": "python",
   "nbconvert_exporter": "python",
   "pygments_lexer": "ipython3",
   "version": "3.10.12"
  }
 },
 "nbformat": 4,
 "nbformat_minor": 0
}
