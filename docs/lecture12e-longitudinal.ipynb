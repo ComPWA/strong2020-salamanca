{
 "cells": [
  {
   "cell_type": "markdown",
   "metadata": {},
   "source": [
    "# Lecture 12 – Longitudinal plot"
   ]
  },
  {
   "cell_type": "markdown",
   "metadata": {},
   "source": [
    "Prepare the notebook with the preambles for the inclusion of pandas, numpy and matplotlib.pyplot.\n",
    "Import the data file (csv format) into Google Colab through the drive.mount command, import the pylorentz package."
   ]
  },
  {
   "cell_type": "code",
   "execution_count": null,
   "metadata": {
    "tags": [
     "remove-cell"
    ]
   },
   "outputs": [],
   "source": [
    "%pip install -q gdown matplotlib numpy pandas pylorentz"
   ]
  },
  {
   "cell_type": "code",
   "execution_count": null,
   "metadata": {
    "jupyter": {
     "source_hidden": true
    },
    "mystnb": {
     "code_prompt_show": "Import Python libraries"
    },
    "tags": [
     "hide-cell"
    ]
   },
   "outputs": [],
   "source": [
    "import matplotlib.pyplot as plt\n",
    "import numpy as np\n",
    "import pandas as pd\n",
    "from pylorentz import Momentum4"
   ]
  },
  {
   "cell_type": "code",
   "execution_count": null,
   "metadata": {
    "jupyter": {
     "source_hidden": true
    },
    "tags": []
   },
   "outputs": [],
   "source": [
    "import gdown\n",
    "\n",
    "output_path = gdown.cached_download(\n",
    "    url=\"https://drive.google.com/uc?id=1VkG1gYY4qnfqNz3MEUkOKDwcAW4EF4uR\",\n",
    "    path=\"data/gammapi_2pions_exclusivityCuts.dat\",\n",
    "    md5=\"6aa2ab1388aa7fc1ce0568e3e972e491\",\n",
    "    quiet=True,\n",
    ")\n",
    "data = pd.read_csv(output_path)\n",
    "data.columns = data.columns.str.strip()\n",
    "data"
   ]
  },
  {
   "cell_type": "markdown",
   "metadata": {},
   "source": [
    "Let's prepare the relevant arrays containing the 4-momenta kinematics of the three particle (plus the two in the intial state), both in the laboratory and in the center of mass reference systems:"
   ]
  },
  {
   "cell_type": "code",
   "execution_count": null,
   "metadata": {},
   "outputs": [],
   "source": [
    "# final state\n",
    "pip = Momentum4(data.E1, data.p1x, data.p1y, data.p1z)\n",
    "pim = Momentum4(data.E2, data.p2x, data.p2y, data.p2z)\n",
    "proton = Momentum4(data.E3, data.p3x, data.p3y, data.p3z)\n",
    "\n",
    "# initial state\n",
    "n_events = len(data)\n",
    "zeros = np.zeros(n_events)\n",
    "ones = np.ones(n_events)\n",
    "m_proton = 0.93827\n",
    "gamma = Momentum4(data.pgamma, zeros, zeros, data.pgamma)\n",
    "target = Momentum4(m_proton * ones, zeros, zeros, zeros)"
   ]
  },
  {
   "cell_type": "code",
   "execution_count": null,
   "metadata": {},
   "outputs": [],
   "source": [
    "# 4-momenta in the scenter of mass system\n",
    "cm = gamma + target\n",
    "pip_cm = pip.boost_particle(-cm)\n",
    "pim_cm = pim.boost_particle(-cm)\n",
    "proton_cm = proton.boost_particle(-cm)\n",
    "gamma_cm = gamma.boost_particle(-cm)\n",
    "target_cm = target.boost_particle(-cm)"
   ]
  },
  {
   "cell_type": "markdown",
   "metadata": {},
   "source": [
    "A **longitudinal plot** (introduced for the first time [by Van Hove in 1969](https://doi.org/10.1016/0550-3213(69)90133-3)) offers a way to separate the contribution of different reaction production mechanisms. Inspecting a longitudinal plot may suggest particular selections in the longitudinal phase space which can help selecting specific reaction channels, enhancing for instance the contribution of meson versus baryon resonances.\n",
    "They are based on the assumption that at sufficiently high center-of-mass energies the phase space is reflected mainly by the longitudinal components of the particle momenta, while the transverse components can be neglected. Longitudinal plots are a convenient way to visualize the reaction kinematics of a reaction with three particles in the final state, in the form of 2D scattering plots (for $n$ particles in the final state, the reaction kinematics are visualized in a $(n-1)$ dimensional plane).\n",
    "For a reaction with a three particles final state one defines a set of polar coordinates $q$ and $\\omega$ such that, being $q_1,\\; q_2,\\; q_3$ the longitudinal momentum components of each of them:\n",
    "\n",
    "$$\n",
    "\\begin{eqnarray}\n",
    "q_1 &=& \\sqrt{\\tfrac{2}{3}} q\\sin\\omega \\\\\n",
    "q_2 &=& \\sqrt{\\tfrac{2}{3}} q\\sin (\\omega + \\tfrac{2}{3}\\pi) \\\\\n",
    "q_3 &=& \\sqrt{\\tfrac{2}{3}} q\\sin (\\omega + \\tfrac{4}{3}\\pi) \\\\\n",
    "q &=& \\sqrt{q_1^2 + q_2^2 + q_3^2}\n",
    "\\end{eqnarray}\n",
    "$$\n",
    "\n",
    "In a longitudinal plot the $(X,Y)$ coordinates are defined as follows:\n",
    "\n",
    "$$\n",
    "\\begin{eqnarray}\n",
    "X &=& q\\cos\\omega \\\\\n",
    "Y &=& q\\sin\\omega\n",
    "\\end{eqnarray}\n",
    "$$\n",
    "\n",
    "Let's build the cartesian coordinates arrays and make the scatter plot."
   ]
  },
  {
   "cell_type": "code",
   "execution_count": null,
   "metadata": {},
   "outputs": [],
   "source": [
    "q1 = pip_cm.p_z\n",
    "q2 = pim_cm.p_z\n",
    "q3 = proton_cm.p_z\n",
    "q = np.sqrt(q1**2 + q2**2 + q3**2)"
   ]
  },
  {
   "cell_type": "code",
   "execution_count": null,
   "metadata": {},
   "outputs": [],
   "source": [
    "a = np.sqrt(3 / 2) * q1 / q\n",
    "filter_ = np.abs(a) <= 1\n",
    "sin_omega = a[filter_]\n",
    "cos_omega = (2 * q2 + q1) / np.sqrt(2) / q\n",
    "cos_omega = cos_omega[filter_]\n",
    "omega = np.arcsin(sin_omega)\n",
    "omega = np.select(\n",
    "    [(cos_omega < 0) & (sin_omega >= 0), True],\n",
    "    [np.pi - omega, omega - np.pi],\n",
    ")\n",
    "X = q[filter_] * cos_omega\n",
    "Y = q[filter_] * sin_omega"
   ]
  },
  {
   "cell_type": "code",
   "execution_count": null,
   "metadata": {
    "jupyter": {
     "source_hidden": true
    },
    "tags": [
     "hide-input"
    ]
   },
   "outputs": [],
   "source": [
    "plt.hist2d(X, Y, bins=100, cmap=\"rainbow\")\n",
    "plt.plot([-10, 10], [0, 0], color=\"black\")\n",
    "sixty = np.pi / 3\n",
    "plt.plot(\n",
    "    [-10 * np.cos(sixty), 10 * np.cos(sixty)],\n",
    "    [10 * np.sin(sixty), -10 * np.sin(sixty)],\n",
    "    color=\"black\",\n",
    ")\n",
    "plt.plot(\n",
    "    x3=[10 * np.cos(sixty), -10 * np.cos(sixty)],\n",
    "    y3=[10 * np.sin(sixty), -10 * np.sin(sixty)],\n",
    "    color=\"black\",\n",
    ")\n",
    "plt.show()"
   ]
  },
  {
   "cell_type": "markdown",
   "metadata": {
    "tags": []
   },
   "source": [
    "Try with another input file (see [here](https://drive.google.com/drive/folders/1-Knh70_vLuctCkcg9oIIIIBaX2EPYkea) on Google Drive, for instance the generated MonteCarlo events at 5 or 10 GeV incident momentum) and check the differences. The whole folder can be downloaded as follows:\n",
    "\n",
    "\n",
    "```python\n",
    "gdown.download_folder(id=\"1-Knh70_vLuctCkcg9oIIIIBaX2EPYkea\", output=\"data\", quiet=True)\n",
    "```\n",
    "\n",
    "Then set `data` to for instance\n",
    "\n",
    "```python\n",
    "data = pd.read_csv(\"data/FurtherFun/gammaP_5GeV_protKPlusKMinusEtamiss.csv\")\n",
    "```\n",
    "\n",
    "and rerun the notebook."
   ]
  }
 ],
 "metadata": {
  "kernelspec": {
   "display_name": "Python 3 (ipykernel)",
   "language": "python",
   "name": "python3"
  },
  "language_info": {
   "codemirror_mode": {
    "name": "ipython",
    "version": 3
   },
   "file_extension": ".py",
   "mimetype": "text/x-python",
   "name": "python",
   "nbconvert_exporter": "python",
   "pygments_lexer": "ipython3",
   "version": "3.10.12"
  }
 },
 "nbformat": 4,
 "nbformat_minor": 4
}
