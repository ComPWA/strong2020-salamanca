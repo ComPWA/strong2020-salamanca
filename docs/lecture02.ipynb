{
 "cells": [
  {
   "cell_type": "markdown",
   "metadata": {},
   "source": [
    "# Lecture 2 – Kinematics and Lorentz Transformations"
   ]
  },
  {
   "cell_type": "markdown",
   "metadata": {
    "editable": true,
    "slideshow": {
     "slide_type": ""
    },
    "tags": []
   },
   "source": [
    "This is a lecture note of some sections and exercises with some answering attempts which based on [Lecture 2](https://indico.ific.uv.es/event/6803/contributions/21220) by Vincent Mathieu "
   ]
  },
  {
   "cell_type": "markdown",
   "metadata": {
    "editable": true,
    "jp-MarkdownHeadingCollapsed": true,
    "slideshow": {
     "slide_type": ""
    },
    "tags": []
   },
   "source": [
    "## Experiments and Frames"
   ]
  },
  {
   "cell_type": "markdown",
   "metadata": {},
   "source": [
    "(Particles) Kinematics is understood as the application of special relativity to elementary particle reactions."
   ]
  },
  {
   "cell_type": "markdown",
   "metadata": {
    "editable": true,
    "slideshow": {
     "slide_type": ""
    },
    "tags": []
   },
   "source": [
    "The 2 standard frames that are commonly used are Center of Mass (CoM) frame and Laboratory (Lab) frame"
   ]
  },
  {
   "cell_type": "markdown",
   "metadata": {
    "editable": true,
    "slideshow": {
     "slide_type": ""
    },
    "tags": []
   },
   "source": [
    "For two particle a and b reation, i.e., \n",
    "$a+b \\rightarrow 1 + ... + n $, they satisfy:"
   ]
  },
  {
   "cell_type": "markdown",
   "metadata": {
    "editable": true,
    "slideshow": {
     "slide_type": ""
    },
    "tags": []
   },
   "source": [
    "### Lab frame"
   ]
  },
  {
   "cell_type": "markdown",
   "metadata": {},
   "source": [
    "#### $\\vec{p}_b = \\vec{0}$"
   ]
  },
  {
   "cell_type": "markdown",
   "metadata": {},
   "source": [
    "which is the frame that the target particle b is at rest, while the beam particle a is moving."
   ]
  },
  {
   "cell_type": "markdown",
   "metadata": {
    "editable": true,
    "slideshow": {
     "slide_type": ""
    },
    "tags": []
   },
   "source": [
    "### CoM frame"
   ]
  },
  {
   "cell_type": "markdown",
   "metadata": {},
   "source": [
    "#### $\\vec{p}_a+\\vec{p}_b = \\vec{0}$"
   ]
  },
  {
   "cell_type": "markdown",
   "metadata": {},
   "source": [
    "this is the frame that the total moementum is zero, i.e., the two reaction particles has same but opposite direction momentum."
   ]
  },
  {
   "cell_type": "markdown",
   "metadata": {
    "editable": true,
    "slideshow": {
     "slide_type": ""
    },
    "tags": []
   },
   "source": [
    "## Two particles Final States"
   ]
  },
  {
   "cell_type": "markdown",
   "metadata": {},
   "source": [
    "### $a+b \\rightarrow 1+2$"
   ]
  },
  {
   "cell_type": "markdown",
   "metadata": {
    "editable": true,
    "slideshow": {
     "slide_type": ""
    },
    "tags": []
   },
   "source": [
    "```{image} https://github.com/ComPWA/tensorwaves/assets/17490173/9d5e1cf4-43a9-4670-873a-0833ae024cba\n",
    ":width: 300px\n",
    "```"
   ]
  },
  {
   "cell_type": "markdown",
   "metadata": {
    "editable": true,
    "slideshow": {
     "slide_type": ""
    },
    "tags": []
   },
   "source": [
    "In the case of the scattering happens in the x-z plane for both frames, the two frames are related by a boost along the z axis.\n",
    "\n",
    "$ \\vec{z}$ is parallel to the beam $\\vec{p}_a $\n",
    "\n",
    "$ \\vec{y} $ is parallel to $ \\vec{p}_a \\times \\vec{p}_1$"
   ]
  },
  {
   "cell_type": "markdown",
   "metadata": {
    "editable": true,
    "slideshow": {
     "slide_type": ""
    },
    "tags": []
   },
   "source": [
    "## Lorentz transformations"
   ]
  },
  {
   "cell_type": "markdown",
   "metadata": {},
   "source": [
    "Boost and Rotation."
   ]
  },
  {
   "cell_type": "markdown",
   "metadata": {
    "editable": true,
    "slideshow": {
     "slide_type": ""
    },
    "tags": []
   },
   "source": [
    "### Boost (between Lab and CoM)"
   ]
  },
  {
   "cell_type": "markdown",
   "metadata": {},
   "source": [
    "Only the energy and the z component change"
   ]
  },
  {
   "cell_type": "markdown",
   "metadata": {},
   "source": [
    "$$\\begin{pmatrix}\n",
    " E^*\n",
    " \\\\\n",
    " p_z^*\n",
    "\\end{pmatrix} =\n",
    "\\begin{pmatrix}\n",
    "  \\gamma & \\gamma \\beta \\\\\n",
    "  \\gamma \\beta & \\gamma\n",
    "\\end{pmatrix}\n",
    "\\begin{pmatrix}\n",
    " E^L\\\\\n",
    " p^L_z\n",
    "\\end{pmatrix}\n",
    "$$"
   ]
  },
  {
   "cell_type": "markdown",
   "metadata": {},
   "source": [
    "Given the inverse relation"
   ]
  },
  {
   "cell_type": "markdown",
   "metadata": {},
   "source": [
    "$$\\begin{pmatrix}\n",
    " E^L\n",
    " \\\\\n",
    " p_z^L\n",
    "\\end{pmatrix} =\n",
    "\\begin{pmatrix}\n",
    "  \\gamma & -\\gamma \\beta \\\\\n",
    "  -\\gamma \\beta & \\gamma\n",
    "\\end{pmatrix}\n",
    "\\begin{pmatrix}\n",
    " E^*\\\\\n",
    " p^*_z\n",
    "\\end{pmatrix}\n",
    "$$\n",
    "\n"
   ]
  },
  {
   "cell_type": "markdown",
   "metadata": {},
   "source": [
    "With "
   ]
  },
  {
   "cell_type": "markdown",
   "metadata": {},
   "source": [
    "$$\n",
    "\\beta = \\frac{p^*_b}{m_b}\n",
    "$$"
   ]
  },
  {
   "cell_type": "markdown",
   "metadata": {},
   "source": [
    "and"
   ]
  },
  {
   "cell_type": "markdown",
   "metadata": {},
   "source": [
    "$$\n",
    "\\gamma \\beta = \\frac{E^*_b}{m_b}\n",
    "$$"
   ]
  },
  {
   "cell_type": "markdown",
   "metadata": {},
   "source": [
    "We check that it brings the target at rest in Exercise below"
   ]
  },
  {
   "cell_type": "markdown",
   "metadata": {
    "editable": true,
    "slideshow": {
     "slide_type": ""
    },
    "tags": []
   },
   "source": [
    ":::{exercise}\n",
    ":label: boost-exercise\n",
    "Check that it brings the target at rest\n",
    ":::"
   ]
  },
  {
   "cell_type": "markdown",
   "metadata": {
    "editable": true,
    "slideshow": {
     "slide_type": ""
    },
    "tags": []
   },
   "source": [
    ":::{solution} boost-exercise\n",
    ":class: dropdown\n",
    "\n",
    "By the boost from CoM frame to Lab frame, and apply if to the 4-vector of particle b (target)\n",
    "\n",
    "\n",
    "$$\\begin{pmatrix}\n",
    " E_b^*\n",
    " \\\\\n",
    " p_{b,z}^*\n",
    "\\end{pmatrix} =\n",
    "\\begin{pmatrix}\n",
    "  \\gamma & \\gamma \\beta \\\\\n",
    "  \\gamma \\beta & \\gamma\n",
    "\\end{pmatrix}\n",
    "\\begin{pmatrix}\n",
    " E_b^L\\\\\n",
    " p^L_{b,z}\n",
    "\\end{pmatrix}\n",
    "$$\n",
    "\n",
    "using the relations (3) and (4) and subsititute into (2):\n",
    "\n",
    "\n",
    "$$\\begin{pmatrix}\n",
    " E_b^L\n",
    " \\\\\n",
    " p_{b,z}^L\n",
    "\\end{pmatrix} =\n",
    "\\begin{pmatrix}\n",
    "  \\frac{E_b^*}{p_b^*} & -\\frac{E_b^*}{m_b} \\\\\n",
    "  -\\frac{E_b^*}{m_b} & \\frac{E_b^*}{p_b^*}\n",
    "\\end{pmatrix}\n",
    "\\begin{pmatrix}\n",
    " E_b^*\\\\\n",
    " p^*_{b,z}\n",
    "\\end{pmatrix}\n",
    "$$\n",
    "\n",
    "Since it's only changing in z-componenet and energy, one yields:\n",
    "\n",
    "\n",
    "$$\\begin{pmatrix}\n",
    " E_b^L\n",
    " \\\\\n",
    " p_{b,z}^L\n",
    "\\end{pmatrix} =\n",
    "% \\begin{pmatrix}\n",
    "%   \\frac{E_b^*}{p_b^*} & -\\frac{E_b^*}{m_b} \\\\\n",
    "%   -\\frac{E_b^*}{m_b} & \\frac{E_b^*}{p_b^*}\n",
    "% \\end{pmatrix}\n",
    "\\begin{pmatrix}\n",
    " \\frac{E_b^*}{p_{b,z}^*} \\cdot E_b^* - \\frac{E_b^*}{m_b}p_{b,z}^* \\\\\n",
    " -\\frac{E_b^*}{m_b} \\cdot E_b^* + \\frac{E_b^*}{p_{b,z}^*} \\cdot p_{b,z}^*\n",
    "\\end{pmatrix}\n",
    "$$\n",
    "\n",
    "When assuming $p_{b,z}^L=0$, then $E_{b}^L = m_b$, and thus\n",
    "\n",
    "$$p^L_{b,z} = 0$$\n",
    ":::"
   ]
  },
  {
   "cell_type": "markdown",
   "metadata": {},
   "source": [
    "<!-- By the boost from CoM frame to Lab frame, and apply if to the 4-vector of particle b (target) -->"
   ]
  },
  {
   "cell_type": "markdown",
   "metadata": {
    "editable": true,
    "slideshow": {
     "slide_type": ""
    },
    "tags": []
   },
   "source": [
    "### Rotation"
   ]
  },
  {
   "cell_type": "markdown",
   "metadata": {},
   "source": [
    "#### Active Rotation"
   ]
  },
  {
   "cell_type": "markdown",
   "metadata": {},
   "source": [
    "Under an active rotation, the momentum is changed and the axes are fixed"
   ]
  },
  {
   "cell_type": "markdown",
   "metadata": {},
   "source": [
    "Example: a momentum of unit length forming an angle θ with the z axis"
   ]
  },
  {
   "cell_type": "markdown",
   "metadata": {},
   "source": [
    "$$\n",
    "\\begin{pmatrix}\n",
    " p_x\n",
    " \\\\\n",
    " p_y\n",
    " \\\\\n",
    " p_z\n",
    "\\end{pmatrix} =\n",
    "\\begin{pmatrix}\n",
    " sin(\\theta)\n",
    " \\\\\n",
    " 0\n",
    " \\\\\n",
    " cos(\\theta)\n",
    "\\end{pmatrix}\n",
    "$$ (rotation_label)"
   ]
  },
  {
   "cell_type": "markdown",
   "metadata": {},
   "source": [
    "After a rotation of ω around y, it forms an angle θ + ω with the z axis"
   ]
  },
  {
   "cell_type": "markdown",
   "metadata": {
    "tags": []
   },
   "source": [
    "$$\n",
    "\\begin{pmatrix}\n",
    " p_x'\n",
    " \\\\\n",
    " p_y'\n",
    " \\\\\n",
    " p_z'\n",
    "\\end{pmatrix}\n",
    "=\n",
    "R_y(\\omega)\n",
    "\\begin{pmatrix}\n",
    " p_x\n",
    " \\\\\n",
    " p_y\n",
    " \\\\\n",
    " p_z\n",
    "\\end{pmatrix}\n",
    "=\n",
    "\\begin{pmatrix}\n",
    " sin(\\theta+\\omega)\n",
    " \\\\\n",
    " 0\n",
    " \\\\\n",
    " cos(\\theta+\\omega)\n",
    "\\end{pmatrix}\n",
    "$$"
   ]
  },
  {
   "cell_type": "markdown",
   "metadata": {},
   "source": [
    "Now we check the result of the rotation above"
   ]
  },
  {
   "cell_type": "markdown",
   "metadata": {
    "editable": true,
    "slideshow": {
     "slide_type": ""
    },
    "tags": []
   },
   "source": [
    ":::{exercise}\n",
    ":label: check-rotation\n",
    "Check the result of the rotation above\n",
    ":::"
   ]
  },
  {
   "cell_type": "markdown",
   "metadata": {
    "editable": true,
    "slideshow": {
     "slide_type": ""
    },
    "tags": []
   },
   "source": [
    ":::{solution} check-rotation\n",
    ":class: dropdown\n",
    "\n",
    "Recall the rotation matrix:\n",
    "\n",
    "$$\n",
    "R_z(\\omega)\n",
    "=\n",
    "\\begin{pmatrix}\n",
    "cos(\\omega) & -sin(\\omega) & 0\n",
    "\\\\\n",
    "sin(\\omega) & cos(\\omega) & 0\n",
    "\\\\\n",
    "0 & 0 & 1\n",
    "\\end{pmatrix}\n",
    "$$\n",
    "\n",
    "$$\n",
    "R_y(\\omega)\n",
    "=\n",
    "\\begin{pmatrix}\n",
    "cos(\\omega) & 0 & sin(\\omega) \n",
    "\\\\\n",
    "0 & 1 & 0\n",
    "\\\\\n",
    "-sin(\\omega) &0 & cos(\\omega) \n",
    "\\end{pmatrix}\n",
    "$$\n",
    "\n",
    "Any rotation can be decomposed into rotations around z and y axes above\n",
    "\n",
    "\n",
    "$$\n",
    "R_y(\\omega)\n",
    "=\n",
    "\\begin{pmatrix}\n",
    "1&0&0\n",
    "\\\\\n",
    "0 & cos(\\omega) & -sin(\\omega) \n",
    "\\\\\n",
    "0 & sin(\\omega) & cos(\\omega) \n",
    "\\end{pmatrix}\n",
    "$$\n",
    "\n",
    "The rotation matrix around x axes is also given for completeness.\n",
    "\n",
    "Thus equation {eq}`rotation_label` becomes:\n",
    "\n",
    "$$\n",
    "\\begin{pmatrix}\n",
    " p_x'\n",
    " \\\\\n",
    " p_y'\n",
    " \\\\\n",
    " p_z'\n",
    "\\end{pmatrix}\n",
    "=\n",
    "R_y(\\omega)\n",
    "\\begin{pmatrix}\n",
    " p_x\n",
    " \\\\\n",
    " p_y\n",
    " \\\\\n",
    " p_z\n",
    "\\end{pmatrix}\n",
    "=\n",
    "\\begin{pmatrix}\n",
    "cos(\\omega) & 0 & sin(\\omega) \n",
    "\\\\\n",
    "0 & 1 & 0\n",
    "\\\\\n",
    "-sin(\\omega) &0 & cos(\\omega) \n",
    "\\end{pmatrix}\n",
    "\\begin{pmatrix}\n",
    " p_x\n",
    " \\\\\n",
    " p_y\n",
    " \\\\\n",
    " p_z\n",
    "\\end{pmatrix}\n",
    "$$\n",
    "\n",
    "$$\n",
    "\\begin{pmatrix}\n",
    " p_x'\n",
    " \\\\\n",
    " p_y'\n",
    " \\\\\n",
    " p_z'\n",
    "\\end{pmatrix}\n",
    "=\n",
    "\\begin{pmatrix}\n",
    "p_x \\cdot cos(\\omega)+ p_z \\cdot sin(\\omega) \n",
    "\\\\\n",
    "p_y\n",
    "\\\\\n",
    "-p_x \\cdot sin(\\omega) + p_z \\cdot cos(\\omega) \n",
    "\\end{pmatrix}\n",
    "$$\n",
    "\n",
    "since \n",
    "$\\begin{pmatrix}\n",
    " p_x\n",
    " \\\\\n",
    " p_y\n",
    " \\\\\n",
    " p_z\n",
    "\\end{pmatrix}$ =\n",
    "$\\begin{pmatrix}\n",
    " sin(\\theta)\n",
    " \\\\\n",
    " 0\n",
    " \\\\\n",
    " cos(\\theta)\n",
    "\\end{pmatrix}\n",
    "$,\n",
    "and using the trigonometric identities,\n",
    "thus we have:\n",
    "\n",
    "$$\n",
    "\\begin{pmatrix}\n",
    " p_x'\n",
    " \\\\\n",
    " p_y'\n",
    " \\\\\n",
    " p_z'\n",
    "\\end{pmatrix} \n",
    "=\n",
    "\\begin{pmatrix}\n",
    "sin(\\theta) \\cdot cos(\\omega)+ cos(\\theta) \\cdot sin(\\omega) \n",
    "\\\\\n",
    "0\n",
    "\\\\\n",
    "-sin(\\theta) \\cdot sin(\\omega) + cos(\\theta) \\cdot cos(\\omega) \n",
    "\\end{pmatrix}\n",
    "=\n",
    "\\begin{pmatrix}\n",
    "sin(\\theta+\\omega)\n",
    "\\\\\n",
    "0\n",
    "\\\\\n",
    "cos(\\theta+\\omega) \n",
    "\\end{pmatrix}\n",
    "$$\n",
    ":::"
   ]
  },
  {
   "cell_type": "markdown",
   "metadata": {
    "editable": true,
    "slideshow": {
     "slide_type": ""
    },
    "tags": []
   },
   "source": [
    "### Example1: Angles and Boost"
   ]
  },
  {
   "cell_type": "markdown",
   "metadata": {
    "editable": true,
    "slideshow": {
     "slide_type": ""
    },
    "tags": []
   },
   "source": [
    "\n",
    "```{image} https://github.com/ComPWA/tensorwaves/assets/17490173/9d5e1cf4-43a9-4670-873a-0833ae024cba\n",
    ":width: 300px\n",
    "```\n"
   ]
  },
  {
   "cell_type": "markdown",
   "metadata": {
    "tags": []
   },
   "source": [
    "#### `Two-particles-1.dat`\n",
    "\n",
    "\n"
   ]
  },
  {
   "cell_type": "markdown",
   "metadata": {},
   "source": [
    "The data are in the lab frame, Compute and plot the $cosθ_L$ distribution.\n",
    "\n",
    "Boost to the CoM and Compute and plot the $cosθ^*$ distribution"
   ]
  },
  {
   "cell_type": "code",
   "execution_count": null,
   "metadata": {
    "editable": true,
    "jupyter": {
     "source_hidden": true
    },
    "slideshow": {
     "slide_type": ""
    },
    "tags": [
     "remove-cell"
    ]
   },
   "outputs": [],
   "source": [
    "%pip install -q gdown matplotlib numpy particle pylorentz"
   ]
  },
  {
   "cell_type": "code",
   "execution_count": null,
   "metadata": {
    "editable": true,
    "mystnb": {
     "code_prompt_show": "Import Python libraries"
    },
    "slideshow": {
     "slide_type": ""
    },
    "tags": [
     "hide-cell"
    ]
   },
   "outputs": [],
   "source": [
    "import warnings\n",
    "\n",
    "import gdown\n",
    "import numpy as np\n",
    "from IPython.display import display\n",
    "\n",
    "warnings.filterwarnings(\"ignore\")"
   ]
  },
  {
   "cell_type": "code",
   "execution_count": null,
   "metadata": {
    "tags": []
   },
   "outputs": [],
   "source": [
    "# https://indico.ific.uv.es/event/6803/contributions/21220/attachments/11209/15506/Two-particles-1.dat\n",
    "filename = gdown.cached_download(\n",
    "    url=\"https://indico.ific.uv.es/event/6803/contributions/21220/attachments/11209/15506/Two-particles-1.dat\",\n",
    "    # path=\"data/Two-particles-1.dat\",\n",
    "    # md5=\"a49ebfd97ae6a02023291df665ab924c\",\n",
    "    quiet=True,\n",
    "    verify=False,\n",
    ")\n",
    "data = np.loadtxt(filename)\n",
    "data.shape"
   ]
  },
  {
   "cell_type": "code",
   "execution_count": null,
   "metadata": {},
   "outputs": [],
   "source": [
    "# 4-vector for a+b->1+2\n",
    "pa = data[::3].T\n",
    "p1 = data[1::3].T\n",
    "p2 = data[2::3].T\n",
    "pa.shape"
   ]
  },
  {
   "cell_type": "code",
   "execution_count": null,
   "metadata": {},
   "outputs": [],
   "source": [
    "# 4-vector conservation\n",
    "pb = p1 + p2 - pa\n",
    "assert pb.std(axis=1).sum().round(5) == 0\n",
    "pb.mean(axis=1).round(3)"
   ]
  },
  {
   "cell_type": "code",
   "execution_count": null,
   "metadata": {},
   "outputs": [],
   "source": [
    "m1 = np.sqrt(p1[0] ** 2 - p1[1] ** 2 - p1[2] ** 2 - p1[3] ** 2)\n",
    "m1.mean(), m1.std()"
   ]
  },
  {
   "cell_type": "code",
   "execution_count": null,
   "metadata": {
    "editable": true,
    "slideshow": {
     "slide_type": ""
    },
    "tags": []
   },
   "outputs": [],
   "source": [
    "# p1.shape\n",
    "np.sqrt((p1[1:] ** 2).sum(axis=0))"
   ]
  },
  {
   "cell_type": "markdown",
   "metadata": {},
   "source": [
    "because this decay happend in x-z plane, thus we can find the $\\cos \\theta$ by:\n",
    "\n",
    "$$\n",
    "\\cos \\theta = \\frac{p_{1z}}{|\\vec{p_1}|}\n",
    "$$(cos_theta_label)"
   ]
  },
  {
   "cell_type": "code",
   "execution_count": null,
   "metadata": {
    "editable": true,
    "slideshow": {
     "slide_type": ""
    },
    "tags": []
   },
   "outputs": [],
   "source": [
    "def p3_length(four_momentum: np.ndarray) -> np.ndarray:\n",
    "    return np.sqrt(\n",
    "        four_momentum[1] ** 2 + four_momentum[2] ** 2 + four_momentum[3] ** 2\n",
    "    )\n",
    "\n",
    "\n",
    "p1_length = p3_length(p1)\n",
    "cos_theta = p1[3] / p1_length"
   ]
  },
  {
   "cell_type": "code",
   "execution_count": null,
   "metadata": {
    "editable": true,
    "jupyter": {
     "source_hidden": true
    },
    "slideshow": {
     "slide_type": ""
    },
    "tags": [
     "hide-input"
    ]
   },
   "outputs": [],
   "source": [
    "p1_length_vectorized = np.sqrt(np.sum(p1[1:] ** 2, axis=0))\n",
    "np.testing.assert_array_equal(p1_length, p1_length_vectorized)"
   ]
  },
  {
   "cell_type": "markdown",
   "metadata": {
    "editable": true,
    "slideshow": {
     "slide_type": ""
    },
    "tags": [
     "remove-cell"
    ]
   },
   "source": [
    "##### cos $\\theta$ in lab frame"
   ]
  },
  {
   "cell_type": "code",
   "execution_count": null,
   "metadata": {
    "editable": true,
    "jupyter": {
     "source_hidden": true
    },
    "slideshow": {
     "slide_type": ""
    },
    "tags": [
     "hide-input"
    ]
   },
   "outputs": [],
   "source": [
    "import matplotlib.pyplot as plt\n",
    "\n",
    "# cos(theta) in lab frame\n",
    "plt.title(r\"$\\cos \\theta$ distribution in lab frame\")\n",
    "plt.xlabel(r\"$\\cos \\theta$\")\n",
    "plt.hist(cos_theta, bins=40)\n",
    "plt.show()"
   ]
  },
  {
   "cell_type": "markdown",
   "metadata": {
    "editable": true,
    "slideshow": {
     "slide_type": ""
    },
    "tags": []
   },
   "source": [
    "##### cos $\\theta$ in CoM frame"
   ]
  },
  {
   "cell_type": "markdown",
   "metadata": {},
   "source": [
    "##### Performing boost from calculation via numpy"
   ]
  },
  {
   "cell_type": "markdown",
   "metadata": {},
   "source": [
    "The total initial 4-momentum in the lab frame is given by\n",
    "$$\n",
    "\\vec{P} = \\vec{p}_a + \\vec{p}_b\n",
    "$$"
   ]
  },
  {
   "cell_type": "code",
   "execution_count": null,
   "metadata": {
    "editable": true,
    "slideshow": {
     "slide_type": ""
    },
    "tags": []
   },
   "outputs": [],
   "source": [
    "# The total initial 4-momentum in lab frame\n",
    "p_CM_lab = pa + pb"
   ]
  },
  {
   "cell_type": "markdown",
   "metadata": {
    "editable": true,
    "slideshow": {
     "slide_type": ""
    },
    "tags": []
   },
   "source": [
    "Total Energy in CM frame is the magnitude of the total initial 4-momentum:\n",
    "\n",
    "$$\n",
    "E_{CM} = \\sqrt{\\vec{P} \\cdot \\vec{P}} = \\sqrt{(E_a+m_b)^2 - |\\vec{p_a}|^2} = \\sqrt{s}\n",
    "$$\n",
    "\n",
    "This is valid, as we know that $\\sqrt{s}$ is the total energy in CoM frame of the colliding particles, in this case: for two particle final state of reaction $a+b \\rightarrow 1+2$\n",
    "\n",
    "$$\n",
    "E_{CM} = \\sqrt{s} = \\sqrt{(E_a+E_b)^2 - |\\vec{p_a} + \\vec{p_b}|^2} = \\sqrt{(E_a+m_b)^2 - |\\vec{p_a}|^2}\n",
    "$$\n",
    "\n",
    "\n",
    "\n"
   ]
  },
  {
   "cell_type": "code",
   "execution_count": null,
   "metadata": {
    "editable": true,
    "slideshow": {
     "slide_type": ""
    },
    "tags": []
   },
   "outputs": [],
   "source": [
    "pa_length = p3_length(pa)\n",
    "E_CM = np.sqrt(p_CM_lab[0] ** 2 - pa_length**2)"
   ]
  },
  {
   "cell_type": "code",
   "execution_count": null,
   "metadata": {
    "editable": true,
    "slideshow": {
     "slide_type": ""
    },
    "tags": []
   },
   "outputs": [],
   "source": [
    "E_CM_lab = p_CM_lab[0]\n",
    "βx_CM, βy_CM, βz_CM = β_CM = pa[1:] / E_CM_lab\n",
    "β2 = βx_CM**2 + βy_CM**2 + βz_CM**2\n",
    "gamma = 1 / np.sqrt(1 - β2)"
   ]
  },
  {
   "cell_type": "markdown",
   "metadata": {},
   "source": [
    "Find the transformed energy $E_1$ in CoM frame by Lorentz boost for $p^{0}_1$ :\n",
    "$$\n",
    "E_{1,CM} = \\gamma(E_1 - \\vec{\\beta} \\cdot \\vec{p}_1)\n",
    "$$\n",
    "where \n",
    "$$\n",
    "\\gamma = \\frac{1}{\\sqrt{1-\\beta^2}}\n",
    "$$\n",
    "and $\\beta$ is the velocity here"
   ]
  },
  {
   "cell_type": "code",
   "execution_count": null,
   "metadata": {
    "editable": true,
    "slideshow": {
     "slide_type": ""
    },
    "tags": []
   },
   "outputs": [],
   "source": [
    "E1_CM = gamma * (p1[0] - βx_CM * p1[1] - βy_CM * p1[2] - βz_CM * p1[3])"
   ]
  },
  {
   "cell_type": "markdown",
   "metadata": {},
   "source": [
    "And now for the transformed momentum vector $\\vec{p}_1$ in CoM frame by Lorentz boost for $p_1^{i}$, where i = 1,2,3, with:\n",
    "$$\n",
    "\\vec{p}_{1,CM} = \\vec{p}_1 + (\\frac{\\gamma -1}{\\beta^2}(\\vec{\\beta} \\cdot \\vec{p}_1)- \\gamma E_1) \\vec{\\beta}\n",
    "$$"
   ]
  },
  {
   "cell_type": "code",
   "execution_count": null,
   "metadata": {
    "editable": true,
    "slideshow": {
     "slide_type": ""
    },
    "tags": []
   },
   "outputs": [],
   "source": [
    "p1_vec = p1[1:]\n",
    "f = β_CM * p1_vec\n",
    "f1 = (gamma - 1) / β2\n",
    "f2 = gamma * p1[0]\n",
    "p1_CM_vec = p1_vec + (f1 * f - f2) * β_CM"
   ]
  },
  {
   "cell_type": "code",
   "execution_count": null,
   "metadata": {
    "editable": true,
    "slideshow": {
     "slide_type": ""
    },
    "tags": []
   },
   "outputs": [],
   "source": [
    "p1_CM = np.concatenate((E1_CM[None], p1_CM_vec))\n",
    "p1_CM"
   ]
  },
  {
   "cell_type": "markdown",
   "metadata": {},
   "source": [
    "Similarily, the equation {eq}`cos_theta_label` is still hold, and thus we find the $\\cos \\theta_{CM}$:"
   ]
  },
  {
   "cell_type": "code",
   "execution_count": null,
   "metadata": {
    "editable": true,
    "slideshow": {
     "slide_type": ""
    },
    "tags": []
   },
   "outputs": [],
   "source": [
    "p1_CM_length = p3_length(p1_CM)\n",
    "cos_theta_CM = -p1_CM[3] / p1_CM_length"
   ]
  },
  {
   "cell_type": "code",
   "execution_count": null,
   "metadata": {
    "editable": true,
    "jupyter": {
     "source_hidden": true
    },
    "slideshow": {
     "slide_type": ""
    },
    "tags": [
     "hide-input"
    ]
   },
   "outputs": [],
   "source": [
    "plt.hist(cos_theta_CM, bins=40)\n",
    "plt.title(r\"$\\cos \\theta$ distribution in CoM frame\")\n",
    "plt.xlabel(r\"$\\cos \\theta$\")\n",
    "plt.show()"
   ]
  },
  {
   "cell_type": "markdown",
   "metadata": {},
   "source": [
    "Perfroming boost using pylorentz package below to test the boost again:"
   ]
  },
  {
   "cell_type": "code",
   "execution_count": null,
   "metadata": {
    "editable": true,
    "slideshow": {
     "slide_type": ""
    },
    "tags": [
     "hide-input"
    ]
   },
   "outputs": [],
   "source": [
    "from pylorentz import Momentum4\n",
    "\n",
    "p1_Lab = Momentum4(*p1)\n",
    "pa_Lab = Momentum4(*pa)\n",
    "pb_Lab = Momentum4(*pb)\n",
    "p2_Lab = Momentum4(*p2)\n",
    "\n",
    "cm = pa_Lab + pb_Lab\n",
    "p1_CM_pyL = p1_Lab.boost_particle(-cm)\n",
    "\n",
    "cos_theta_CM_pyL = p1_CM_pyL.p_z / p1_CM_pyL.p\n",
    "\n",
    "# check the cos theta CM in 2 different ways\n",
    "np.testing.assert_allclose(cos_theta_CM, cos_theta_CM_pyL, rtol=1e-5)\n",
    "print(\"test past with relative tolerance 1e-5\")"
   ]
  },
  {
   "cell_type": "code",
   "execution_count": null,
   "metadata": {
    "editable": true,
    "slideshow": {
     "slide_type": ""
    },
    "tags": [
     "hide-input",
     "hide-cell"
    ]
   },
   "outputs": [],
   "source": [
    "plt.hist(cos_theta_CM_pyL, bins=40)\n",
    "plt.title(r\"$\\cos \\theta$ distribution in CoM frame\")\n",
    "plt.xlabel(r\"$\\cos \\theta$\")\n",
    "plt.show()"
   ]
  },
  {
   "cell_type": "markdown",
   "metadata": {
    "editable": true,
    "jp-MarkdownHeadingCollapsed": true,
    "slideshow": {
     "slide_type": ""
    },
    "tags": []
   },
   "source": [
    "## Mandelstam variables\n"
   ]
  },
  {
   "cell_type": "markdown",
   "metadata": {
    "editable": true,
    "slideshow": {
     "slide_type": ""
    },
    "tags": []
   },
   "source": [
    "We have the mass-shell relation:"
   ]
  },
  {
   "cell_type": "markdown",
   "metadata": {
    "editable": true,
    "slideshow": {
     "slide_type": ""
    },
    "tags": []
   },
   "source": [
    "$$ p_i^2 = m^2_i $$"
   ]
  },
  {
   "cell_type": "markdown",
   "metadata": {
    "editable": true,
    "slideshow": {
     "slide_type": ""
    },
    "tags": []
   },
   "source": [
    "The Mandelstam variables s, t, and u are Lorentz invariants. Their definition are:"
   ]
  },
  {
   "cell_type": "markdown",
   "metadata": {
    "editable": true,
    "slideshow": {
     "slide_type": ""
    },
    "tags": []
   },
   "source": [
    "$$ s =(p_a + p_b)^2 = (p_1+p_2)^2 $$\n",
    "$$ t =(p_a - p_1)^2 = (p_b-p_2)^2 $$\n",
    "$$ u =(p_a - p_2)^2 = (p_b-p_1)^2 $$\n"
   ]
  },
  {
   "cell_type": "markdown",
   "metadata": {
    "editable": true,
    "slideshow": {
     "slide_type": ""
    },
    "tags": []
   },
   "source": [
    "\n",
    "```{image} https://github.com/ComPWA/strong2020-salamanca/assets/17490173/4daa6f59-615d-4950-b7ba-e8a93f04253c\n",
    ":width: 300px\n",
    "```"
   ]
  },
  {
   "cell_type": "markdown",
   "metadata": {
    "editable": true,
    "slideshow": {
     "slide_type": ""
    },
    "tags": []
   },
   "source": []
  },
  {
   "cell_type": "markdown",
   "metadata": {},
   "source": [
    "$$\n",
    "s+t+u = m_a^2+m_b^2+m_1^2+m^2_2\n",
    "$$ (label:mv)\n"
   ]
  },
  {
   "cell_type": "markdown",
   "metadata": {},
   "source": [
    "<!-- Check the relation in equation {eq}`label:` by using  -->"
   ]
  },
  {
   "cell_type": "markdown",
   "metadata": {},
   "source": [
    "<!--  $$p_a+p_b=p_1+p_2$$ -->"
   ]
  },
  {
   "cell_type": "markdown",
   "metadata": {
    "editable": true,
    "slideshow": {
     "slide_type": ""
    },
    "tags": []
   },
   "source": [
    ":::{exercise}\n",
    ":label: mv\n",
    "Check the relation in equation {eq}`label:mv` by using $p_a+p_b=p_1+p_2$\n",
    ":::"
   ]
  },
  {
   "cell_type": "markdown",
   "metadata": {
    "editable": true,
    "slideshow": {
     "slide_type": ""
    },
    "tags": []
   },
   "source": [
    ":::{solution} mv\n",
    ":class: dropdown\n",
    "\n",
    "$$ s+t+u = (p_a + p_b)^2 + (p_a - p_1)^2 + (p_a - p_2)^2$$\n",
    "\n",
    "$$ s+t+u = p_a^2 +p_b^2 + 2 p_a p_b + p_a^2 -2 p_a p_1 + p_1^2 + p_a^2 - 2p_a p_2 +p_2^2$$\n",
    "\n",
    "$$\n",
    "s+t+u = 3p_a^2 + p_b^2 +p_1^2 + p_2^2 + 2p_a p_b - 2p_a p_1 -2 p_a p_2\n",
    "$$ (label:proving)\n",
    "\n",
    "from equation {eq}`label:mv` we have:\n",
    "\n",
    "$$ p_b = p_1 + p_2 - p_a $$\n",
    "\n",
    "$$ \n",
    "p_a \\cdot p_b = p_a \\cdot p_1 + p_a \\cdot p_2 - p_a^2 \n",
    "$$ (label:use)\n",
    "\n",
    "By equation {eq}`label:proving` and substitute it into equation {eq}`label:use`:\n",
    "\n",
    "$$\n",
    "s+t+u = 3p_a^2 + p_b^2 +p_1^2 + p_2^2 + 2p_a \\cdot p_1 + 2p_a \\cdot p_2 - 2p_a^2 -2p_a p_1 -2 p_a p_2\n",
    "$$\n",
    "\n",
    "$$\n",
    "s+t+u = p_a^2 + p_b^2 +p_1^2 + p_2^2 \n",
    "$$\n",
    "\n",
    "by the mass shell relation, and thus:\n",
    "\n",
    "$$s+t+u = m_a^2 + m_b^2 + m_1^2 + m_2^2$$\n",
    ":::"
   ]
  },
  {
   "cell_type": "markdown",
   "metadata": {},
   "source": [
    "<!-- As following: -->"
   ]
  },
  {
   "cell_type": "markdown",
   "metadata": {
    "editable": true,
    "slideshow": {
     "slide_type": ""
    },
    "tags": []
   },
   "source": [
    "% $$ s+t+u = (p_a + p_b)^2 + (p_a - p_1)^2 + (p_a - p_2)^2$$"
   ]
  },
  {
   "cell_type": "markdown",
   "metadata": {},
   "source": [
    "% $$ s+t+u = p_a^2 +p_b^2 + 2 p_a p_b + p_a^2 -2 p_a p_1 + p_1^2 + p_a^2 - 2p_a p_2 +p_2^2$$"
   ]
  },
  {
   "cell_type": "markdown",
   "metadata": {
    "editable": true,
    "slideshow": {
     "slide_type": ""
    },
    "tags": []
   },
   "source": [
    "<!-- $$\n",
    "s+t+u = 3p_a^2 + p_b^2 +p_1^2 + p_2^2 + 2p_a p_b - 2p_a p_1 -2 p_a p_2\n",
    "$$ (label:proving) -->"
   ]
  },
  {
   "cell_type": "markdown",
   "metadata": {},
   "source": [
    "<!-- from equation {eq}`label:mv` we have: -->"
   ]
  },
  {
   "cell_type": "markdown",
   "metadata": {
    "editable": true,
    "slideshow": {
     "slide_type": ""
    },
    "tags": []
   },
   "source": [
    "% $$ p_b = p_1 + p_2 - p_a $$"
   ]
  },
  {
   "cell_type": "markdown",
   "metadata": {},
   "source": [
    "<!-- $$ \n",
    "p_a \\cdot p_b = p_a \\cdot p_1 + p_a \\cdot p_2 - p_a^2 \n",
    "$$ (label:use) -->"
   ]
  },
  {
   "cell_type": "markdown",
   "metadata": {
    "editable": true,
    "slideshow": {
     "slide_type": ""
    },
    "tags": []
   },
   "source": [
    "<!-- By equation {eq}`label:proving` and substitute it into equation {eq}`label:use`: -->"
   ]
  },
  {
   "cell_type": "markdown",
   "metadata": {
    "editable": true,
    "slideshow": {
     "slide_type": ""
    },
    "tags": []
   },
   "source": [
    "<!-- $$\n",
    "s+t+u = 3p_a^2 + p_b^2 +p_1^2 + p_2^2 + 2p_a \\cdot p_1 + 2p_a \\cdot p_2 - 2p_a^2 -2p_a p_1 -2 p_a p_2\n",
    "$$ -->"
   ]
  },
  {
   "cell_type": "markdown",
   "metadata": {},
   "source": [
    "<!-- $$\n",
    "s+t+u = p_a^2 + p_b^2 +p_1^2 + p_2^2 \n",
    "$$ -->"
   ]
  },
  {
   "cell_type": "markdown",
   "metadata": {},
   "source": [
    "<!-- by the mass shell relation, and thus: -->"
   ]
  },
  {
   "cell_type": "markdown",
   "metadata": {},
   "source": [
    "<!-- $$s+t+u = m_a^2 + m_b^2 + m_1^2 + m_2^2$$ -->"
   ]
  },
  {
   "cell_type": "markdown",
   "metadata": {
    "editable": true,
    "jp-MarkdownHeadingCollapsed": true,
    "slideshow": {
     "slide_type": ""
    },
    "tags": []
   },
   "source": [
    "### CoM Kinematics"
   ]
  },
  {
   "cell_type": "markdown",
   "metadata": {},
   "source": [
    "Every frame dependent quantities is expressed with Mandelstam variables\n"
   ]
  },
  {
   "cell_type": "markdown",
   "metadata": {},
   "source": [
    "\n",
    "```{image} https://user-images.githubusercontent.com/17490173/278340815-e5eb448f-e620-4b67-873a-e18cd146c55a.png\n",
    ":width: 500px\n",
    "```"
   ]
  },
  {
   "cell_type": "markdown",
   "metadata": {},
   "source": [
    "$p_a = (E_a^*,0,0,|\\vec{p_a}^*|)$\n",
    "\n",
    "$p_b = (E_b^*,0,0,-|\\vec{p_a}^*|)$\n",
    "\n",
    "$p_1 = (E_1^*, |\\vec{p_1}^*|sin \\theta^*,0, |\\vec{p_1}^*|cos \\theta^*)$\n",
    "\n",
    "$p_2 = (E_2^*, -|\\vec{p_1}^*| sin \\theta^*,0, -|\\vec{p_1}^*|cos \\theta^*)$"
   ]
  },
  {
   "cell_type": "markdown",
   "metadata": {},
   "source": [
    "Invariant: \n",
    "$$s = (p_a + p_b)^2 = (E_a^* + E_b^*)^2 = E_{CM}^2$$"
   ]
  },
  {
   "cell_type": "markdown",
   "metadata": {},
   "source": [
    "$$ t = (p_a - p_1)^2 = m_a^2 + m_1^2 - 2E_a^* E_1^* + 2 |\\vec{p_a}^*| |\\vec{p_1}^*| cos \\theta^*$$"
   ]
  },
  {
   "cell_type": "markdown",
   "metadata": {},
   "source": [
    "$p_1^2 = [ (p_a+p_b) - p_2 ]^2$"
   ]
  },
  {
   "cell_type": "markdown",
   "metadata": {},
   "source": [
    ":::{exercise}\n",
    ":label: E2*\n",
    "Check that $E_1^* = \\frac{s+m^2_1-m_2^2}{2 \\sqrt{s}}$ and $E_2^* = \\frac{s+m^2_2-m_1^2}{2 \\sqrt{s}}$\n",
    ":::"
   ]
  },
  {
   "cell_type": "markdown",
   "metadata": {},
   "source": [
    ":::{solution} E2*\n",
    ":class: dropdown\n",
    "\n",
    "$$ \n",
    "E_2^* = E_a^* + E_b^* - E_1^* = E^*_{CM} - E_1^* = \\sqrt{s} - E_1^* = \\sqrt{s} - \\sqrt{\\vec{p_1}^2 + m_1^2}\n",
    "$$\n",
    "\n",
    "$$\n",
    "E_2^{*2} = s + \\vec{p_1}^2 + m_1^2 - 2\\sqrt{s}\\sqrt{\\vec{p}^2+m_1^2}\n",
    "$$\n",
    "\n",
    "$$\n",
    "E_2^{*2} = \\vec{p_1}^2 + m_2^2\n",
    "$$\n",
    "\n",
    "from the 2 equations of $E_2^{*2}$ above, we have:\n",
    "$$\n",
    "s + \\vec{p_1}^2 + m_1^2 - 2\\sqrt{s}\\sqrt{\\vec{p}^2+m_1^2} = \\vec{p_1}^2 + m_2^2\n",
    "$$\n",
    "\n",
    "$$\n",
    "s + m_1^2 - 2\\sqrt{s}\\sqrt{\\vec{p}^2+m_1^2} =  m_2^2\n",
    "$$\n",
    "\n",
    "$$\n",
    "s + m_1^2 - m_2^2 =  2\\sqrt{s}E_1^* \n",
    "$$\n",
    "\n",
    "We have E_1^* :\n",
    "$$\n",
    "E_1^*  = \\frac{s + m_1^2 - m_2^2 }{2\\sqrt{s}}\n",
    "$$\n",
    "\n",
    "\n",
    "For E_2^* : \n",
    "$$\n",
    "E_2^* = \\sqrt{s} - E_1^* = \\sqrt{s} - \\frac{s + m_1^2 - m_2^2 }{2\\sqrt{s}} = \\frac{s + m_2^2 - m_1^2 }{2\\sqrt{s}}\n",
    "$$\n",
    "\n",
    "\n",
    ":::"
   ]
  },
  {
   "cell_type": "markdown",
   "metadata": {},
   "source": [
    ":::{exercise}\n",
    ":label: p1*\n",
    "Check that $|\\vec{p_1}^*| = \\sqrt{(E_1*)^2-m_1^2} = \\frac{\\lambda^{1/2}(s,m_1^2,m_2^2)}{2 \\sqrt{s}}$, where $\\lambda(a,b,c) = a^2+b^2+c^2 - 2(ab+bc+ca)$\n",
    ":::"
   ]
  },
  {
   "cell_type": "markdown",
   "metadata": {},
   "source": [
    ":::{solution} p1*\n",
    ":class: dropdown\n",
    "\n",
    ":::"
   ]
  },
  {
   "cell_type": "markdown",
   "metadata": {},
   "source": [
    "% $$t = m_a^2 +m_1^2 -2 E^*_a E^*_1 + 2|\\vec{p_a}^*| |\\vec{p_1}^*| cos \\theta^*$$"
   ]
  },
  {
   "cell_type": "markdown",
   "metadata": {},
   "source": [
    "$$ t_{min,max} = m_a^2 + m_1^2 - 2E_a^* E_1^* + 2 |\\vec{p_a}^*| |\\vec{p_1}^*| $$"
   ]
  },
  {
   "cell_type": "markdown",
   "metadata": {},
   "source": [
    "Equivalent expression for the scattering angle in the CoM"
   ]
  },
  {
   "cell_type": "markdown",
   "metadata": {},
   "source": [
    "$$\n",
    "cos \\theta^* = 1 + \\frac{t-t_{min}}{2|\\vec{v}_a^*||\\vec{p}_1^*|}\n",
    "=\n",
    "\\frac{s(t-u)+(m_a^2-m-b^2)(m_1^2-m_2^2)}{\\lambda^{1/2}(s,m_a^2,m_b^2)\\lambda^{1/2}(s,m_1^2,m_2^2)}\n",
    "$$"
   ]
  },
  {
   "cell_type": "markdown",
   "metadata": {},
   "source": [
    "Compute $cos \\theta^L$ as a function of s,t,u"
   ]
  },
  {
   "cell_type": "markdown",
   "metadata": {},
   "source": [
    "$$ cos \\theta^L $$"
   ]
  },
  {
   "cell_type": "markdown",
   "metadata": {
    "editable": true,
    "slideshow": {
     "slide_type": ""
    },
    "tags": [
     "hide-cell"
    ]
   },
   "source": [
    "## Three particles final states"
   ]
  },
  {
   "cell_type": "markdown",
   "metadata": {
    "editable": true,
    "slideshow": {
     "slide_type": ""
    },
    "tags": []
   },
   "source": [
    "### Relevant Variables"
   ]
  },
  {
   "cell_type": "markdown",
   "metadata": {
    "editable": true,
    "slideshow": {
     "slide_type": ""
    },
    "tags": []
   },
   "source": [
    "## Reference Frames "
   ]
  },
  {
   "cell_type": "markdown",
   "metadata": {
    "editable": true,
    "slideshow": {
     "slide_type": ""
    },
    "tags": []
   },
   "source": [
    "For scattering study in 3 body final states,\n",
    "the Gottfried-Jackson frame and the helicity frame are two different  particular center-of-mass reference frames used to analyze the angular distribution and polarization of particles in high-energy physics experiments, they are particularly useful\n",
    "in the study of scattering processes.\n",
    "\n",
    "Gottfried-Jackson and helicity frames\n",
    "are related by a rotation of angle ω around y"
   ]
  },
  {
   "cell_type": "markdown",
   "metadata": {
    "editable": true,
    "slideshow": {
     "slide_type": ""
    },
    "tags": []
   },
   "source": [
    "### Gottfried-Jackson Frame"
   ]
  },
  {
   "cell_type": "markdown",
   "metadata": {
    "editable": true,
    "slideshow": {
     "slide_type": ""
    },
    "tags": []
   },
   "source": [
    "```{image} https://github.com/ComPWA/strong2020-salamanca/assets/17490173/d28e6a93-033c-42ad-abec-0387de3a3eac\n",
    ":width: 300px\n",
    "```"
   ]
  },
  {
   "cell_type": "markdown",
   "metadata": {
    "editable": true,
    "slideshow": {
     "slide_type": ""
    },
    "tags": []
   },
   "source": [
    "It is particularly useful when the particles involved have non-zero spin, and their spin orientations are aligned with their motion, making the analysis of their angular distributions relative to their spin directions more straightforward"
   ]
  },
  {
   "cell_type": "markdown",
   "metadata": {
    "editable": true,
    "slideshow": {
     "slide_type": ""
    },
    "tags": []
   },
   "source": [
    "### Helicity Frame"
   ]
  },
  {
   "cell_type": "markdown",
   "metadata": {
    "editable": true,
    "slideshow": {
     "slide_type": ""
    },
    "tags": []
   },
   "source": [
    "```{image} https://github.com/ComPWA/strong2020-salamanca/assets/17490173/3fe1ca26-5346-444b-a770-435820cf3da7\n",
    ":width: 300px\n",
    "```\n"
   ]
  },
  {
   "cell_type": "markdown",
   "metadata": {
    "editable": true,
    "slideshow": {
     "slide_type": ""
    },
    "tags": []
   },
   "source": [
    "This frame is often used in the analysis of the decay products of a particle, where it's important to understand the spin orientation relative to the direction of motion."
   ]
  },
  {
   "cell_type": "markdown",
   "metadata": {
    "editable": true,
    "slideshow": {
     "slide_type": ""
    },
    "tags": [
     "remove-cell"
    ]
   },
   "source": [
    "## The Decay"
   ]
  },
  {
   "cell_type": "markdown",
   "metadata": {
    "editable": true,
    "slideshow": {
     "slide_type": ""
    },
    "tags": []
   },
   "source": [
    "### Decay into two particles"
   ]
  },
  {
   "cell_type": "markdown",
   "metadata": {
    "editable": true,
    "slideshow": {
     "slide_type": ""
    },
    "tags": []
   },
   "source": [
    "### Decay into three particles\n"
   ]
  },
  {
   "cell_type": "markdown",
   "metadata": {
    "editable": true,
    "slideshow": {
     "slide_type": ""
    },
    "tags": []
   },
   "source": [
    "$$\\theta^*_{12}+\\theta^*_{23}+\\theta^*_{31}=2 \\pi$$"
   ]
  },
  {
   "cell_type": "markdown",
   "metadata": {
    "editable": true,
    "slideshow": {
     "slide_type": ""
    },
    "tags": [
     "remove-cell"
    ]
   },
   "source": [
    ":::{exercise}\n",
    ":label: 2pi\n",
    "Check relation above using $s_{12}+s_{23}+s_{31}$\n",
    ":::"
   ]
  },
  {
   "cell_type": "markdown",
   "metadata": {},
   "source": [
    "## Dalitz Plot"
   ]
  },
  {
   "cell_type": "markdown",
   "metadata": {
    "tags": []
   },
   "source": [
    "### Exercise: `Three-particles-1.dat`"
   ]
  },
  {
   "cell_type": "markdown",
   "metadata": {},
   "source": [
    "[Lecture 2](https://indico.ific.uv.es/event/6803/contributions/21220) by Vincent Mathieu contains a few data files containing four-momenta data samples. \n",
    "Our goal in this notebook is to identify which reaction was used to generate these data samples."
   ]
  },
  {
   "cell_type": "markdown",
   "metadata": {},
   "source": [
    ":::{exercise}\n",
    ":label: three-particles-1\n",
    "File: Three-Particles-1.dat is \n",
    "The data are in the lab frame, \n",
    "with Format:\n",
    "\n",
    "Ea, pa,x, pa,y, pa,z\n",
    "\n",
    "E1, p1,x, p1,y, p1,z\n",
    "\n",
    "E2, p2,x, p2,y, p2,z \n",
    "\n",
    "E3, p3,x, p3,y, p3,z\n",
    "\n",
    ".    .    .    .\n",
    "\n",
    ".    .    .    .\n",
    "\n",
    ".    .    .    .\n",
    "\n",
    "\n",
    "Three questions to be found out.\n",
    "\n",
    "Which reaction is it?\n",
    "\n",
    "What resonances are included? \n",
    "\n",
    "What is the spin of the resonances?\n",
    ":::"
   ]
  },
  {
   "cell_type": "markdown",
   "metadata": {},
   "source": [
    ":::{solution-start} three-particles-1\n",
    ":class: dropdown\n",
    ":::"
   ]
  },
  {
   "cell_type": "code",
   "execution_count": null,
   "metadata": {
    "tags": []
   },
   "outputs": [],
   "source": [
    "filename = gdown.cached_download(\n",
    "    url=\"https://indico.ific.uv.es/event/6803/contributions/21220/attachments/11209/15504/Three-particles-1.dat\",\n",
    "    path=\"data/Three-particles-1.dat\",\n",
    "    md5=\"a49ebfd97ae6a02023291df665ab924c\",\n",
    "    quiet=True,\n",
    "    verify=False,\n",
    ")\n",
    "data = np.loadtxt(filename)\n",
    "data.shape"
   ]
  },
  {
   "cell_type": "code",
   "execution_count": null,
   "metadata": {},
   "outputs": [],
   "source": [
    "print(data)"
   ]
  },
  {
   "cell_type": "code",
   "execution_count": null,
   "metadata": {},
   "outputs": [],
   "source": [
    "n_final_state = 3\n",
    "pa, p1, p2, p3 = (data[i::4].T for i in range(n_final_state + 1))\n",
    "p0 = p1 + p2 + p3\n",
    "pb = p0 - pa"
   ]
  },
  {
   "cell_type": "code",
   "execution_count": null,
   "metadata": {
    "jupyter": {
     "source_hidden": true
    },
    "tags": []
   },
   "outputs": [],
   "source": [
    "def mass(p: np.ndarray) -> np.ndarray:\n",
    "    return np.sqrt(mass_squared(p))\n",
    "\n",
    "\n",
    "def mass_squared(p: np.ndarray) -> np.ndarray:\n",
    "    return p[0] ** 2 - np.sum(p[1:] ** 2, axis=0)\n",
    "\n",
    "\n",
    "m0 = mass(p0)\n",
    "print(f\"{m0.mean():.4g} +/- {m0.std():.4g}\")"
   ]
  },
  {
   "cell_type": "code",
   "execution_count": null,
   "metadata": {
    "jupyter": {
     "source_hidden": true
    },
    "tags": [
     "hide-input"
    ]
   },
   "outputs": [],
   "source": [
    "from IPython.display import Math\n",
    "\n",
    "display(Math(Rf\"m_a = {mass(pa).mean():.3g}\\text{{ GeV}}\"))\n",
    "display(Math(Rf\"m_b = {mass(pb).mean():.3g}\\text{{ GeV}}\"))\n",
    "for i, p in enumerate([p0, p1, p2, p3]):\n",
    "    display(Math(Rf\"m_{i} = {mass(p).mean():.3g}\\text{{ GeV}}\"))"
   ]
  },
  {
   "cell_type": "code",
   "execution_count": null,
   "metadata": {
    "jupyter": {
     "source_hidden": true
    },
    "mystnb": {
     "code_prompt_show": "Identify final state particles"
    },
    "tags": [
     "hide-input"
    ]
   },
   "outputs": [],
   "source": [
    "from particle import Particle\n",
    "\n",
    "\n",
    "def find_candidates(\n",
    "    mass: float, delta: float = 0.001, charge: float | None = None\n",
    ") -> list[Particle]:\n",
    "    def identify(p) -> bool:\n",
    "        if p.pdgid in {21}:\n",
    "            return\n",
    "        if charge is not None and p.charge != charge:\n",
    "            return False\n",
    "        if (mass - delta) < 1e-3 * p.mass < (mass + delta):\n",
    "            return True\n",
    "        return False\n",
    "\n",
    "    return Particle.findall(identify)\n",
    "\n",
    "\n",
    "ma = mass(pa).mean()\n",
    "mb = mass(pb).mean()\n",
    "m1 = mass(p1).mean()\n",
    "m2 = mass(p2).mean()\n",
    "m3 = mass(p3).mean()\n",
    "initial_state = (\n",
    "    find_candidates(ma.mean(), delta=1e-4)[0],\n",
    "    find_candidates(mb.mean())[0],\n",
    ")\n",
    "final_state = tuple(find_candidates(m.mean())[0] for m in [m1, m2, m3])\n",
    "display(\n",
    "    Math(R\"\\text{Incoming: }\" + \", \".join(f\"{p.latex_name}\" for p in initial_state)),\n",
    "    Math(R\"\\text{Outgoing: }\" + \", \".join(f\"{p.latex_name}\" for p in final_state)),\n",
    ")"
   ]
  },
  {
   "cell_type": "markdown",
   "metadata": {},
   "source": [
    "So this is a photon&nbsp;$\\gamma$ hitting a proton&nbsp;$p$ and producing a meson&nbsp;$\\eta$, pion&nbsp;$\\pi^0$, and proton&nbsp;$p$."
   ]
  },
  {
   "cell_type": "markdown",
   "metadata": {},
   "source": [
    ":::{solution-end} \n",
    ":::"
   ]
  },
  {
   "cell_type": "markdown",
   "metadata": {},
   "source": [
    "### Dalitz plot"
   ]
  },
  {
   "cell_type": "markdown",
   "metadata": {},
   "source": [
    "By plotting the three Mandelstam variables in a Dalitz plot, we can identify resonances appear in the reaction for which this data was generated."
   ]
  },
  {
   "cell_type": "code",
   "execution_count": null,
   "metadata": {},
   "outputs": [],
   "source": [
    "s12 = mass_squared(p1 + p2)\n",
    "s23 = mass_squared(p2 + p3)\n",
    "s31 = mass_squared(p3 + p1)\n",
    "\n",
    "m12 = mass(p1 + p2)\n",
    "m23 = mass(p2 + p3)\n",
    "m31 = mass(p3 + p1)"
   ]
  },
  {
   "cell_type": "code",
   "execution_count": null,
   "metadata": {
    "jupyter": {
     "source_hidden": true
    },
    "tags": [
     "hide-input"
    ]
   },
   "outputs": [],
   "source": [
    "import matplotlib.pyplot as plt\n",
    "\n",
    "fig, ax = plt.subplots()\n",
    "fig.suptitle(\"Dalitz plot – 2D histogram\")\n",
    "ax.hist2d(s12, s23, bins=100, cmin=1)\n",
    "ax.set_xlabel(R\"$s_{12}\\;\\left[\\mathrm{GeV}^2\\right]$\")\n",
    "ax.set_ylabel(R\"$s_{23}\\;\\left[\\mathrm{GeV}^2\\right]$\")\n",
    "fig.tight_layout()\n",
    "plt.show()"
   ]
  },
  {
   "cell_type": "code",
   "execution_count": null,
   "metadata": {},
   "outputs": [],
   "source": [
    "R12 = 1.74\n",
    "R23 = 1.53\n",
    "R31 = 2.45"
   ]
  },
  {
   "cell_type": "code",
   "execution_count": null,
   "metadata": {
    "jupyter": {
     "source_hidden": true
    },
    "tags": [
     "hide-input",
     "full-width"
    ]
   },
   "outputs": [],
   "source": [
    "fig, (ax1, ax2) = plt.subplots(figsize=(10, 4), ncols=2)\n",
    "fig.suptitle(\"Dalitz plot – scatter plot\")\n",
    "ax1.scatter(s12, s23, c=\"black\", s=1e-3)\n",
    "ax1.set_xlabel(R\"$s_{12}\\;\\left[\\mathrm{GeV}^2\\right]$\")\n",
    "ax1.set_ylabel(R\"$s_{23}\\;\\left[\\mathrm{GeV}^2\\right]$\")\n",
    "ax1.axvline(R12, c=\"C0\", ls=\"dashed\", label=\"$R_{12}$\")\n",
    "ax1.axhline(R23, c=\"C1\", ls=\"dashed\", label=\"$R_{23}$\")\n",
    "ax1.legend()\n",
    "ax2.scatter(s31, s12, c=\"black\", s=1e-3)\n",
    "ax2.set_xlabel(R\"$s_{31}\\;\\left[\\mathrm{GeV}^2\\right]$\")\n",
    "ax2.set_ylabel(R\"$s_{12}\\;\\left[\\mathrm{GeV}^2\\right]$\")\n",
    "ax2.axvline(R31, c=\"C2\", ls=\"dashed\", label=\"$R_{31}$\")\n",
    "ax2.axhline(R12, c=\"C0\", ls=\"dashed\", label=\"$R_{12}$\")\n",
    "ax2.legend()\n",
    "fig.tight_layout()\n",
    "plt.show()"
   ]
  },
  {
   "cell_type": "markdown",
   "metadata": {},
   "source": [
    "### Particle identification"
   ]
  },
  {
   "cell_type": "markdown",
   "metadata": {},
   "source": [
    "In the following, we make a few cuts on Mandelstam variables to select a region where the resonances lie isolated. We then use these cuts as a filter on the computed masses for each each and then compute the mean."
   ]
  },
  {
   "cell_type": "code",
   "execution_count": null,
   "metadata": {},
   "outputs": [],
   "source": [
    "m12_mean = m12[(s12 < 3) & (2.5 < s23) & (s23 < 10)].mean()\n",
    "m12_mean**2"
   ]
  },
  {
   "cell_type": "code",
   "execution_count": null,
   "metadata": {},
   "outputs": [],
   "source": [
    "m23_mean = m23[s23 < 2.5].mean()\n",
    "m23_mean**2"
   ]
  },
  {
   "cell_type": "code",
   "execution_count": null,
   "metadata": {},
   "outputs": [],
   "source": [
    "m31_mean = m31[(s12 > 3) & (s31 < 4)].mean()\n",
    "m31_mean**2"
   ]
  },
  {
   "cell_type": "markdown",
   "metadata": {},
   "source": [
    "The particle candidates for $R_{12} \\to \\eta\\pi^0$, $R_{23} \\to \\pi^0 p$, and $R_{31} \\to p\\eta$ are then:"
   ]
  },
  {
   "cell_type": "code",
   "execution_count": null,
   "metadata": {},
   "outputs": [],
   "source": [
    "find_candidates(mass=np.sqrt(R12), delta=0.01, charge=0)"
   ]
  },
  {
   "cell_type": "code",
   "execution_count": null,
   "metadata": {},
   "outputs": [],
   "source": [
    "find_candidates(mass=np.sqrt(R23), delta=0.01, charge=+1)"
   ]
  },
  {
   "cell_type": "code",
   "execution_count": null,
   "metadata": {},
   "outputs": [],
   "source": [
    "find_candidates(mass=np.sqrt(R31), delta=0.01, charge=+1)"
   ]
  },
  {
   "cell_type": "markdown",
   "metadata": {},
   "source": [
    "### Exercise: `Three-particles-2.dat`"
   ]
  },
  {
   "cell_type": "markdown",
   "metadata": {},
   "source": [
    ":::{exercise}\n",
    ":label: three-particles-2\n",
    "File: Three-Particles-2.dat is also\n",
    "The data are in the lab frame, \n",
    "with Format:\n",
    "\n",
    "Ea, pa,x, pa,y, pa,z\n",
    "\n",
    "E1, p1,x, p1,y, p1,z\n",
    "\n",
    "E2, p2,x, p2,y, p2,z \n",
    "\n",
    "E3, p3,x, p3,y, p3,z\n",
    "\n",
    ".    .    .    .\n",
    "\n",
    ".    .    .    .\n",
    "\n",
    ".    .    .    .\n",
    "\n",
    "\n",
    "Three questions to be found out.\n",
    "\n",
    "Which reaction is it?\n",
    "\n",
    "What resonances are included? \n",
    "\n",
    "What is the spin of the resonances?\n",
    ":::"
   ]
  },
  {
   "cell_type": "code",
   "execution_count": null,
   "metadata": {
    "mystnb": {
     "code_prompt_show": "Load data"
    },
    "tags": [
     "hide-cell"
    ]
   },
   "outputs": [],
   "source": [
    "filename2 = gdown.cached_download(\n",
    "    url=\"https://indico.ific.uv.es/event/6803/contributions/21220/attachments/11209/15511/Three-particles-2.dat\",\n",
    "    path=\"data/Three-particles-2.dat\",\n",
    "    md5=\"831aee9fd925c43e8630edc6783ab28d\",\n",
    "    quiet=True,\n",
    "    verify=False,\n",
    ")\n",
    "data2 = np.loadtxt(filename2)\n",
    "pa, p1, p2, p3 = (data2[i::4].T for i in range(n_final_state + 1))"
   ]
  },
  {
   "cell_type": "code",
   "execution_count": null,
   "metadata": {},
   "outputs": [],
   "source": [
    "p0 = p1 + p2 + p3\n",
    "m0 = mass(p0)\n",
    "print(f\"{m0.mean():.4g} +/- {m0.std():.4g}\")"
   ]
  },
  {
   "cell_type": "code",
   "execution_count": null,
   "metadata": {
    "jupyter": {
     "source_hidden": true
    },
    "tags": [
     "hide-input"
    ]
   },
   "outputs": [],
   "source": [
    "from IPython.display import Math\n",
    "\n",
    "for i, p in enumerate([p0, p1, p2, p3]):\n",
    "    display(Math(Rf\"m_{i} = {mass(p).mean():.3g}\\text{{ GeV}}\"))\n",
    "\n",
    "display(Math(Rf\"m_{{a}} = {mass(pa).mean():.3g}\\text{{ GeV}}\"))"
   ]
  },
  {
   "cell_type": "code",
   "execution_count": null,
   "metadata": {
    "jupyter": {
     "source_hidden": true
    },
    "mystnb": {
     "code_prompt_show": "Identify final state particles"
    },
    "tags": [
     "hide-input"
    ]
   },
   "outputs": [],
   "source": [
    "from particle import Particle\n",
    "\n",
    "\n",
    "def find_candidates(m: float, delta: float = 0.001) -> list[Particle]:\n",
    "    return Particle.findall(lambda p: (m - delta) < 1e-3 * p.mass < (m + delta))\n",
    "\n",
    "\n",
    "m1 = mass(p1).mean()\n",
    "m2 = mass(p2).mean()\n",
    "m3 = mass(p3).mean()\n",
    "particles = tuple(find_candidates(m.mean())[0] for m in [m1, m2, m3])\n",
    "\n",
    "src = R\"\\text{Final state: }\" + \", \".join(f\"{p.latex_name}\" for p in particles)\n",
    "Math(src)"
   ]
  },
  {
   "cell_type": "markdown",
   "metadata": {},
   "source": [
    "This is again a photon&nbsp;$\\gamma$ hitting a target that produces a meson&nbsp;$\\eta$, pion&nbsp;$\\pi^0$, and proton&nbsp;$p$."
   ]
  },
  {
   "cell_type": "code",
   "execution_count": null,
   "metadata": {},
   "outputs": [],
   "source": [
    "s12 = mass_squared(p1 + p2)\n",
    "s23 = mass_squared(p2 + p3)\n",
    "s31 = mass_squared(p3 + p1)\n",
    "\n",
    "m12 = mass(p1 + p2)\n",
    "m23 = mass(p2 + p3)\n",
    "m31 = mass(p3 + p1)"
   ]
  },
  {
   "cell_type": "code",
   "execution_count": null,
   "metadata": {
    "jupyter": {
     "source_hidden": true
    },
    "tags": [
     "hide-input"
    ]
   },
   "outputs": [],
   "source": [
    "import matplotlib.pyplot as plt\n",
    "\n",
    "fig, ax = plt.subplots()\n",
    "fig.suptitle(\"Dalitz plot – 2D histogram\")\n",
    "ax.hist2d(s12, s23, bins=100, cmin=1)\n",
    "ax.set_xlabel(R\"$s_{12}\\;\\left[\\mathrm{GeV}^2\\right]$\")\n",
    "ax.set_ylabel(R\"$s_{23}\\;\\left[\\mathrm{GeV}^2\\right]$\")\n",
    "fig.tight_layout()\n",
    "plt.show()"
   ]
  },
  {
   "cell_type": "code",
   "execution_count": null,
   "metadata": {
    "jupyter": {
     "source_hidden": true
    },
    "tags": [
     "hide-input",
     "full-width"
    ]
   },
   "outputs": [],
   "source": [
    "fig, (ax1, ax2) = plt.subplots(figsize=(10, 4), ncols=2)\n",
    "fig.suptitle(\"Dalitz plot – scatter plot\")\n",
    "ax1.scatter(s12, s23, c=\"black\", s=1e-3)\n",
    "ax1.set_xlabel(R\"$s_{12}\\;\\left[\\mathrm{GeV}^2\\right]$\")\n",
    "ax1.set_ylabel(R\"$s_{23}\\;\\left[\\mathrm{GeV}^2\\right]$\")\n",
    "ax1.axvline(R12, c=\"C0\", ls=\"dashed\", label=\"$R_{12}$\")\n",
    "ax1.axhline(R23, c=\"C1\", ls=\"dashed\", label=\"$R_{23}$\")\n",
    "ax1.legend()\n",
    "ax2.scatter(s31, s12, c=\"black\", s=1e-3)\n",
    "ax2.set_xlabel(R\"$s_{31}\\;\\left[\\mathrm{GeV}^2\\right]$\")\n",
    "ax2.set_ylabel(R\"$s_{12}\\;\\left[\\mathrm{GeV}^2\\right]$\")\n",
    "ax2.axvline(R31, c=\"C2\", ls=\"dashed\", label=\"$R_{31}$\")\n",
    "ax2.axhline(R12, c=\"C0\", ls=\"dashed\", label=\"$R_{12}$\")\n",
    "ax2.legend()\n",
    "fig.tight_layout()\n",
    "plt.show()"
   ]
  }
 ],
 "metadata": {
  "colab": {
   "toc_visible": true
  },
  "kernelspec": {
   "display_name": "Python 3 (ipykernel)",
   "language": "python",
   "name": "python3"
  },
  "language_info": {
   "codemirror_mode": {
    "name": "ipython",
    "version": 3
   },
   "file_extension": ".py",
   "mimetype": "text/x-python",
   "name": "python",
   "nbconvert_exporter": "python",
   "pygments_lexer": "ipython3",
   "version": "3.10.13"
  }
 },
 "nbformat": 4,
 "nbformat_minor": 4
}
