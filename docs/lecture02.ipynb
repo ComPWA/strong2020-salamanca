{
 "cells": [
  {
   "cell_type": "markdown",
   "metadata": {},
   "source": [
    "# Lecture 2 – Kinematics"
   ]
  },
  {
   "cell_type": "markdown",
   "metadata": {},
   "source": [
    "[Lecture 2](https://indico.ific.uv.es/event/6803/contributions/21220) by Vincent Mathieu contains a few data files containing four-momenta data samples. Our goal in this notebook is to identify which reaction was used to generate these data samples."
   ]
  },
  {
   "cell_type": "code",
   "execution_count": null,
   "metadata": {
    "jupyter": {
     "source_hidden": true
    },
    "tags": [
     "remove-cell"
    ]
   },
   "outputs": [],
   "source": [
    "%pip install -q gdown matplotlib numpy particle"
   ]
  },
  {
   "cell_type": "markdown",
   "metadata": {},
   "source": [
    "## Two particles Final States"
   ]
  },
  {
   "cell_type": "markdown",
   "metadata": {},
   "source": [
    "The standard frames: CoM frame and Lab frame"
   ]
  },
  {
   "cell_type": "markdown",
   "metadata": {},
   "source": [
    "The scattering happens in the x-z plane for both frames."
   ]
  },
  {
   "cell_type": "markdown",
   "metadata": {},
   "source": [
    "The two frames are related by a boost along the z axis"
   ]
  },
  {
   "cell_type": "markdown",
   "metadata": {},
   "source": [
    "## Lorentz transformations"
   ]
  },
  {
   "cell_type": "markdown",
   "metadata": {},
   "source": [
    "### Boost between Lab and CoM"
   ]
  },
  {
   "cell_type": "markdown",
   "metadata": {},
   "source": [
    "Only the energy and the z component change"
   ]
  },
  {
   "cell_type": "markdown",
   "metadata": {},
   "source": [
    "$$\\begin{pmatrix}\n",
    " E^*\n",
    " \\\\\n",
    " p_z^*\n",
    "\\end{pmatrix} =\n",
    "\\begin{pmatrix}\n",
    "  \\gamma & \\gamma \\beta \\\\\n",
    "  \\gamma \\beta & \\gamma\n",
    "\\end{pmatrix}\n",
    "\\begin{pmatrix}\n",
    " E^L\\\\\n",
    " p^L_z\n",
    "\\end{pmatrix}\n",
    "$$"
   ]
  },
  {
   "cell_type": "markdown",
   "metadata": {},
   "source": [
    "Given the inverse relation"
   ]
  },
  {
   "cell_type": "markdown",
   "metadata": {},
   "source": [
    "$$\\begin{pmatrix}\n",
    " E^L\n",
    " \\\\\n",
    " p_z^L\n",
    "\\end{pmatrix} =\n",
    "\\begin{pmatrix}\n",
    "  \\gamma & -\\gamma \\beta \\\\\n",
    "  -\\gamma \\beta & \\gamma\n",
    "\\end{pmatrix}\n",
    "\\begin{pmatrix}\n",
    " E^*\\\\\n",
    " p^*_z\n",
    "\\end{pmatrix}\n",
    "$$\n",
    "\n"
   ]
  },
  {
   "cell_type": "markdown",
   "metadata": {},
   "source": [
    "With "
   ]
  },
  {
   "cell_type": "markdown",
   "metadata": {},
   "source": [
    "$$\n",
    "\\beta = \\frac{p^*_b}{m_b}\n",
    "$$"
   ]
  },
  {
   "cell_type": "markdown",
   "metadata": {},
   "source": [
    "and"
   ]
  },
  {
   "cell_type": "markdown",
   "metadata": {},
   "source": [
    "$$\n",
    "\\gamma \\beta = \\frac{E^*_b}{m_b}\n",
    "$$"
   ]
  },
  {
   "cell_type": "markdown",
   "metadata": {},
   "source": [
    "We check that it brings the target at rest in Exercise below"
   ]
  },
  {
   "cell_type": "markdown",
   "metadata": {},
   "source": [
    ":::{exercise}\n",
    ":label: boost\n",
    "Check that it brings the target at rest\n",
    "\n",
    ":::"
   ]
  },
  {
   "cell_type": "markdown",
   "metadata": {},
   "source": [
    ":::{solution} boost\n",
    ":class: dropdown\n",
    "\n",
    "By the boost from CoM frame to Lab frame, and apply if to the 4-vector of particle b (target)\n",
    "\n",
    "\n",
    "$$\\begin{pmatrix}\n",
    " E_b^*\n",
    " \\\\\n",
    " p_{b,z}^*\n",
    "\\end{pmatrix} =\n",
    "\\begin{pmatrix}\n",
    "  \\gamma & \\gamma \\beta \\\\\n",
    "  \\gamma \\beta & \\gamma\n",
    "\\end{pmatrix}\n",
    "\\begin{pmatrix}\n",
    " E_b^L\\\\\n",
    " p^L_{b,z}\n",
    "\\end{pmatrix}\n",
    "$$\n",
    "\n",
    "using the relations (3) and (4) and subsititute into (2):\n",
    "\n",
    "\n",
    "$$\\begin{pmatrix}\n",
    " E_b^L\n",
    " \\\\\n",
    " p_{b,z}^L\n",
    "\\end{pmatrix} =\n",
    "\\begin{pmatrix}\n",
    "  \\frac{E_b^*}{p_b^*} & -\\frac{E_b^*}{m_b} \\\\\n",
    "  -\\frac{E_b^*}{m_b} & \\frac{E_b^*}{p_b^*}\n",
    "\\end{pmatrix}\n",
    "\\begin{pmatrix}\n",
    " E_b^*\\\\\n",
    " p^*_{b,z}\n",
    "\\end{pmatrix}\n",
    "$$\n",
    "\n",
    "Since it's only changing in z-componenet and energy, one yields:\n",
    "\n",
    "\n",
    "$$\\begin{pmatrix}\n",
    " E_b^L\n",
    " \\\\\n",
    " p_{b,z}^L\n",
    "\\end{pmatrix} =\n",
    "% \\begin{pmatrix}\n",
    "%   \\frac{E_b^*}{p_b^*} & -\\frac{E_b^*}{m_b} \\\\\n",
    "%   -\\frac{E_b^*}{m_b} & \\frac{E_b^*}{p_b^*}\n",
    "% \\end{pmatrix}\n",
    "\\begin{pmatrix}\n",
    " \\frac{E_b^*}{p_{b,z}^*} \\cdot E_b^* - \\frac{E_b^*}{m_b}p_{b,z}^* \\\\\n",
    " -\\frac{E_b^*}{m_b} \\cdot E_b^* + \\frac{E_b^*}{p_{b,z}^*} \\cdot p_{b,z}^*\n",
    "\\end{pmatrix}\n",
    "$$\n",
    "\n",
    "When assuming $p_{b,z}=0$, then \n",
    "\n",
    "$$p^L_{b,z} = 0$$\n",
    "\n",
    ":::"
   ]
  },
  {
   "cell_type": "markdown",
   "metadata": {},
   "source": [
    "<!-- By the boost from CoM frame to Lab frame, and apply if to the 4-vector of particle b (target) -->"
   ]
  },
  {
   "cell_type": "markdown",
   "metadata": {
    "tags": []
   },
   "source": [
    "<!-- % $$\\begin{pmatrix}\n",
    " E_b^*\n",
    " \\\\\n",
    " p_{b,z}^*\n",
    "\\end{pmatrix} =\n",
    "\\begin{pmatrix}\n",
    "  \\gamma & \\gamma \\beta \\\\\n",
    "  \\gamma \\beta & \\gamma\n",
    "\\end{pmatrix}\n",
    "\\begin{pmatrix}\n",
    " E_b^L\\\\\n",
    " p^L_{b,z}\n",
    "\\end{pmatrix}\n",
    "$$ -->"
   ]
  },
  {
   "cell_type": "markdown",
   "metadata": {},
   "source": [
    "<!-- using the relations (3) and (4) and subsititute into (2): -->"
   ]
  },
  {
   "cell_type": "markdown",
   "metadata": {},
   "source": [
    "<!-- $$\\begin{pmatrix}\n",
    " E_b^L\n",
    " \\\\\n",
    " p_{b,z}^L\n",
    "\\end{pmatrix} =\n",
    "\\begin{pmatrix}\n",
    "  \\frac{E_b^*}{p_b^*} & -\\frac{E_b^*}{m_b} \\\\\n",
    "  -\\frac{E_b^*}{m_b} & \\frac{E_b^*}{p_b^*}\n",
    "\\end{pmatrix}\n",
    "\\begin{pmatrix}\n",
    " E_b^*\\\\\n",
    " p^*_{b,z}\n",
    "\\end{pmatrix}\n",
    "$$ -->"
   ]
  },
  {
   "cell_type": "markdown",
   "metadata": {},
   "source": [
    "<!-- Since it's only changing in z-componenet and energy, one yields: -->"
   ]
  },
  {
   "cell_type": "markdown",
   "metadata": {},
   "source": [
    "<!-- $$\\begin{pmatrix}\n",
    " E_b^L\n",
    " \\\\\n",
    " p_{b,z}^L\n",
    "\\end{pmatrix} =\n",
    "% \\begin{pmatrix}\n",
    "%   \\frac{E_b^*}{p_b^*} & -\\frac{E_b^*}{m_b} \\\\\n",
    "%   -\\frac{E_b^*}{m_b} & \\frac{E_b^*}{p_b^*}\n",
    "% \\end{pmatrix}\n",
    "\\begin{pmatrix}\n",
    " \\frac{E_b^*}{p_{b,z}^*} \\cdot E_b^* - \\frac{E_b^*}{m_b}p_{b,z}^* \\\\\n",
    " -\\frac{E_b^*}{m_b} \\cdot E_b^* + \\frac{E_b^*}{p_{b,z}^*} \\cdot p_{b,z}^*\n",
    "\\end{pmatrix}\n",
    "$$ -->"
   ]
  },
  {
   "cell_type": "markdown",
   "metadata": {},
   "source": [
    "<!-- When assuming $p_{b,z}$=0, then  -->"
   ]
  },
  {
   "cell_type": "markdown",
   "metadata": {},
   "source": [
    "<!-- $$p^L_{b,z} = 0$$ -->"
   ]
  },
  {
   "cell_type": "markdown",
   "metadata": {},
   "source": []
  },
  {
   "cell_type": "markdown",
   "metadata": {},
   "source": [
    "## Active Rotation"
   ]
  },
  {
   "cell_type": "markdown",
   "metadata": {},
   "source": [
    "Under an active rotation, the momentum is changed and the axes are fixed"
   ]
  },
  {
   "cell_type": "markdown",
   "metadata": {},
   "source": [
    "Example: a momentum of unit length forming an angle θ with the z axis"
   ]
  },
  {
   "cell_type": "markdown",
   "metadata": {},
   "source": [
    "$$\n",
    "\\begin{pmatrix}\n",
    " p_x\n",
    " \\\\\n",
    " p_y\n",
    " \\\\\n",
    " p_z\n",
    "\\end{pmatrix} =\n",
    "\\begin{pmatrix}\n",
    " sin(\\theta)\n",
    " \\\\\n",
    " 0\n",
    " \\\\\n",
    " cos(\\theta)\n",
    "\\end{pmatrix}\n",
    "$$"
   ]
  },
  {
   "cell_type": "markdown",
   "metadata": {},
   "source": [
    "After a rotation of ω around y, it forms an angle θ + ω with the z axis"
   ]
  },
  {
   "cell_type": "markdown",
   "metadata": {
    "tags": []
   },
   "source": [
    "$$\n",
    "\\begin{pmatrix}\n",
    " p_x'\n",
    " \\\\\n",
    " p_y'\n",
    " \\\\\n",
    " p_z'\n",
    "\\end{pmatrix}\n",
    "=\n",
    "R_y(\\omega)\n",
    "\\begin{pmatrix}\n",
    " p_x\n",
    " \\\\\n",
    " p_y\n",
    " \\\\\n",
    " p_z\n",
    "\\end{pmatrix}\n",
    "=\n",
    "\\begin{pmatrix}\n",
    " sin(\\theta+\\omega)\n",
    " \\\\\n",
    " 0\n",
    " \\\\\n",
    " cos(\\theta+\\omega)\n",
    "\\end{pmatrix}\n",
    "$$"
   ]
  },
  {
   "cell_type": "markdown",
   "metadata": {},
   "source": [
    "Now we check the result of the rotation above"
   ]
  },
  {
   "cell_type": "markdown",
   "metadata": {},
   "source": [
    ":::{exercise}\n",
    ":label: rotation\n",
    "Check the result of the rotation above\n",
    "\n",
    ":::"
   ]
  },
  {
   "cell_type": "markdown",
   "metadata": {},
   "source": [
    ":::{solution} rotation\n",
    ":class: dropdown\n",
    "\n",
    "Recall the rotation matrix:\n",
    "\n",
    "$$\n",
    "R_z(\\omega)\n",
    "=\n",
    "\\begin{pmatrix}\n",
    "cos(\\omega) & -sin(\\omega) & 0\n",
    "\\\\\n",
    "sin(\\omega) & cos(\\omega) & 0\n",
    "\\\\\n",
    "0 & 0 & 1\n",
    "\\end{pmatrix}\n",
    "$$\n",
    "\n",
    "$$\n",
    "R_y(\\omega)\n",
    "=\n",
    "\\begin{pmatrix}\n",
    "cos(\\omega) & 0 & sin(\\omega) \n",
    "\\\\\n",
    "0 & 1 & 0\n",
    "\\\\\n",
    "-sin(\\omega) &0 & cos(\\omega) \n",
    "\\end{pmatrix}\n",
    "$$\n",
    "\n",
    "Any rotation can be decomposed into rotations around z and y axes above\n",
    "\n",
    "\n",
    "$$\n",
    "R_y(\\omega)\n",
    "=\n",
    "\\begin{pmatrix}\n",
    "1&0&0\n",
    "\\\\\n",
    "0 & cos(\\omega) & -sin(\\omega) \n",
    "\\\\\n",
    "0 & sin(\\omega) & cos(\\omega) \n",
    "\\end{pmatrix}\n",
    "$$\n",
    "\n",
    "The rotation matrix around x axes is also given for completeness.\n",
    "\n",
    "Thus equation (9) becomes:\n",
    "\n",
    "$$\n",
    "\\begin{pmatrix}\n",
    " p_x'\n",
    " \\\\\n",
    " p_y'\n",
    " \\\\\n",
    " p_z'\n",
    "\\end{pmatrix}\n",
    "=\n",
    "R_y(\\omega)\n",
    "\\begin{pmatrix}\n",
    " p_x\n",
    " \\\\\n",
    " p_y\n",
    " \\\\\n",
    " p_z\n",
    "\\end{pmatrix}\n",
    "=\n",
    "\\begin{pmatrix}\n",
    "cos(\\omega) & 0 & sin(\\omega) \n",
    "\\\\\n",
    "0 & 1 & 0\n",
    "\\\\\n",
    "-sin(\\omega) &0 & cos(\\omega) \n",
    "\\end{pmatrix}\n",
    "\\begin{pmatrix}\n",
    " p_x\n",
    " \\\\\n",
    " p_y\n",
    " \\\\\n",
    " p_z\n",
    "\\end{pmatrix}\n",
    "$$\n",
    "\n",
    "$$\n",
    "\\begin{pmatrix}\n",
    " p_x'\n",
    " \\\\\n",
    " p_y'\n",
    " \\\\\n",
    " p_z'\n",
    "\\end{pmatrix}\n",
    "=\n",
    "\\begin{pmatrix}\n",
    "p_x \\cdot cos(\\omega)+ p_z \\cdot sin(\\omega) \n",
    "\\\\\n",
    "p_y\n",
    "\\\\\n",
    "-p_x \\cdot sin(\\omega) + p_z \\cdot cos(\\omega) \n",
    "\\end{pmatrix}\n",
    "$$\n",
    "\n",
    "since \n",
    "$\\begin{pmatrix}\n",
    " p_x\n",
    " \\\\\n",
    " p_y\n",
    " \\\\\n",
    " p_z\n",
    "\\end{pmatrix}$ =\n",
    "$\\begin{pmatrix}\n",
    " sin(\\theta)\n",
    " \\\\\n",
    " 0\n",
    " \\\\\n",
    " cos(\\theta)\n",
    "\\end{pmatrix}\n",
    "$,\n",
    "and using the trigonometric identities,\n",
    "thus we have:\n",
    "\n",
    "$$\n",
    "\\begin{pmatrix}\n",
    " p_x'\n",
    " \\\\\n",
    " p_y'\n",
    " \\\\\n",
    " p_z'\n",
    "\\end{pmatrix}\n",
    "=\n",
    "\\begin{pmatrix}\n",
    "sin(\\theta) \\cdot cos(\\omega)+ cos(\\theta) \\cdot sin(\\omega) \n",
    "\\\\\n",
    "0\n",
    "\\\\\n",
    "-sin(\\theta) \\cdot sin(\\omega) + cos(\\theta) \\cdot cos(\\omega) \n",
    "\\end{pmatrix}\n",
    "=\n",
    "\\begin{pmatrix}\n",
    "sin(\\theta+\\omega)\n",
    "\\\\\n",
    "0\n",
    "\\\\\n",
    "cos(\\theta+\\omega) \n",
    "\\end{pmatrix}\n",
    "\n",
    "$$\n",
    "\n",
    "\n",
    "\n",
    ":::"
   ]
  },
  {
   "cell_type": "markdown",
   "metadata": {},
   "source": [
    "<!-- Recall the rotation matrix: -->"
   ]
  },
  {
   "cell_type": "markdown",
   "metadata": {},
   "source": [
    "<!-- $$\n",
    "R_z(\\omega)\n",
    "=\n",
    "\\begin{pmatrix}\n",
    "cos(\\omega) & -sin(\\omega) & 0\n",
    "\\\\\n",
    "sin(\\omega) & cos(\\omega) & 0\n",
    "\\\\\n",
    "0 & 0 & 1\n",
    "\\end{pmatrix}\n",
    "$$ -->"
   ]
  },
  {
   "cell_type": "markdown",
   "metadata": {},
   "source": [
    "<!-- $$\n",
    "R_y(\\omega)\n",
    "=\n",
    "\\begin{pmatrix}\n",
    "cos(\\omega) & 0 & sin(\\omega) \n",
    "\\\\\n",
    "0 & 1 & 0\n",
    "\\\\\n",
    "-sin(\\omega) &0 & cos(\\omega) \n",
    "\\end{pmatrix}\n",
    "$$ -->"
   ]
  },
  {
   "cell_type": "markdown",
   "metadata": {},
   "source": [
    "<!-- Any rotation can be decomposed into rotations around z and y axes above  -->"
   ]
  },
  {
   "cell_type": "markdown",
   "metadata": {},
   "source": [
    "<!-- $$\n",
    "R_y(\\omega)\n",
    "=\n",
    "\\begin{pmatrix}\n",
    "1&0&0\n",
    "\\\\\n",
    "0 & cos(\\omega) & -sin(\\omega) \n",
    "\\\\\n",
    "0 & sin(\\omega) & cos(\\omega) \n",
    "\\end{pmatrix}\n",
    "$$ -->"
   ]
  },
  {
   "cell_type": "markdown",
   "metadata": {},
   "source": [
    "<!-- The rotation matrix around x axes is also given for completeness. -->"
   ]
  },
  {
   "cell_type": "markdown",
   "metadata": {},
   "source": [
    "<!-- Thus equation (9) becomes: -->"
   ]
  },
  {
   "cell_type": "markdown",
   "metadata": {},
   "source": [
    "<!-- $$\n",
    "\\begin{pmatrix}\n",
    " p_x'\n",
    " \\\\\n",
    " p_y'\n",
    " \\\\\n",
    " p_z'\n",
    "\\end{pmatrix}\n",
    "=\n",
    "R_y(\\omega)\n",
    "\\begin{pmatrix}\n",
    " p_x\n",
    " \\\\\n",
    " p_y\n",
    " \\\\\n",
    " p_z\n",
    "\\end{pmatrix}\n",
    "=\n",
    "\\begin{pmatrix}\n",
    "cos(\\omega) & 0 & sin(\\omega) \n",
    "\\\\\n",
    "0 & 1 & 0\n",
    "\\\\\n",
    "-sin(\\omega) &0 & cos(\\omega) \n",
    "\\end{pmatrix}\n",
    "\\begin{pmatrix}\n",
    " p_x\n",
    " \\\\\n",
    " p_y\n",
    " \\\\\n",
    " p_z\n",
    "\\end{pmatrix}\n",
    "$$ -->"
   ]
  },
  {
   "cell_type": "markdown",
   "metadata": {},
   "source": [
    "<!-- $$\n",
    "\\begin{pmatrix}\n",
    " p_x'\n",
    " \\\\\n",
    " p_y'\n",
    " \\\\\n",
    " p_z'\n",
    "\\end{pmatrix}\n",
    "=\n",
    "\\begin{pmatrix}\n",
    "p_x \\cdot cos(\\omega)+ p_z \\cdot sin(\\omega) \n",
    "\\\\\n",
    "p_y\n",
    "\\\\\n",
    "-p_x \\cdot sin(\\omega) + p_z \\cdot cos(\\omega) \n",
    "\\end{pmatrix}\n",
    "$$ -->"
   ]
  },
  {
   "cell_type": "markdown",
   "metadata": {},
   "source": [
    "<!-- since \n",
    "$\\begin{pmatrix}\n",
    " p_x\n",
    " \\\\\n",
    " p_y\n",
    " \\\\\n",
    " p_z\n",
    "\\end{pmatrix}$ =\n",
    "$\\begin{pmatrix}\n",
    " sin(\\theta)\n",
    " \\\\\n",
    " 0\n",
    " \\\\\n",
    " cos(\\theta)\n",
    "\\end{pmatrix}\n",
    "$,\n",
    "and using the trigonometric identities,\n",
    "thus we have: -->"
   ]
  },
  {
   "cell_type": "markdown",
   "metadata": {},
   "source": [
    "<!-- $$\n",
    "\\begin{pmatrix}\n",
    " p_x'\n",
    " \\\\\n",
    " p_y'\n",
    " \\\\\n",
    " p_z'\n",
    "\\end{pmatrix}\n",
    "=\n",
    "\\begin{pmatrix}\n",
    "sin(\\theta) \\cdot cos(\\omega)+ cos(\\theta) \\cdot sin(\\omega) \n",
    "\\\\\n",
    "0\n",
    "\\\\\n",
    "-sin(\\theta) \\cdot sin(\\omega) + cos(\\theta) \\cdot cos(\\omega) \n",
    "\\end{pmatrix}\n",
    "=\n",
    "\\begin{pmatrix}\n",
    "sin(\\theta+\\omega)\n",
    "\\\\\n",
    "0\n",
    "\\\\\n",
    "cos(\\theta+\\omega) \n",
    "\\end{pmatrix}\n",
    "\n",
    "$$ -->\n",
    "\n"
   ]
  },
  {
   "cell_type": "markdown",
   "metadata": {
    "jp-MarkdownHeadingCollapsed": true,
    "tags": []
   },
   "source": [
    "## `Two-particles-1.dat`\n",
    "\n",
    "\n"
   ]
  },
  {
   "cell_type": "markdown",
   "metadata": {},
   "source": [
    "The data are in the lab frame, Compute and plot the cos θL distribution\n",
    "Boost to the CoM and Compute and plot\n",
    "the cos θ* distribution"
   ]
  },
  {
   "cell_type": "code",
   "execution_count": null,
   "metadata": {
    "jupyter": {
     "source_hidden": true
    },
    "mystnb": {
     "code_prompt_show": "Import Python libraries"
    },
    "tags": [
     "hide-cell"
    ]
   },
   "outputs": [],
   "source": [
    "import warnings\n",
    "\n",
    "import gdown\n",
    "import numpy as np\n",
    "from IPython.display import display\n",
    "\n",
    "warnings.filterwarnings(\"ignore\")"
   ]
  },
  {
   "cell_type": "code",
   "execution_count": null,
   "metadata": {
    "jupyter": {
     "source_hidden": true
    },
    "tags": []
   },
   "outputs": [],
   "source": [
    "# https://indico.ific.uv.es/event/6803/contributions/21220/attachments/11209/15506/Two-particles-1.dat\n",
    "filename = gdown.cached_download(\n",
    "    url=\"https://indico.ific.uv.es/event/6803/contributions/21220/attachments/11209/15506/Two-particles-1.dat\",\n",
    "    # path=\"data/Two-particles-1.dat\",\n",
    "    # md5=\"a49ebfd97ae6a02023291df665ab924c\",\n",
    "    quiet=True,\n",
    "    verify=False,\n",
    ")\n",
    "data = np.loadtxt(filename)\n",
    "data.shape"
   ]
  },
  {
   "cell_type": "code",
   "execution_count": null,
   "metadata": {
    "jupyter": {
     "outputs_hidden": true
    },
    "tags": []
   },
   "outputs": [],
   "source": [
    "print(data)"
   ]
  },
  {
   "cell_type": "code",
   "execution_count": null,
   "metadata": {},
   "outputs": [],
   "source": [
    "# p ="
   ]
  },
  {
   "cell_type": "code",
   "execution_count": null,
   "metadata": {
    "tags": []
   },
   "outputs": [],
   "source": [
    "# n_final_state = 2\n",
    "# pa, p1, p2 = (data[i::4].T for i in range(n_final_state + 1))\n",
    "# p0 = p1 + p2\n",
    "# pb = p0 - pa"
   ]
  },
  {
   "cell_type": "markdown",
   "metadata": {},
   "source": [
    "## Mandelstam variables\n"
   ]
  },
  {
   "cell_type": "markdown",
   "metadata": {},
   "source": [
    "$$ p_i^2 = m^2_i $$"
   ]
  },
  {
   "cell_type": "markdown",
   "metadata": {},
   "source": [
    "$$ s =(p_a + p_b)^2 = (p_1+p_2)^2 $$\n",
    "$$ t =(p_a - p_1)^2 = (p_b-p_2)^2 $$\n",
    "$$ u =(p_a - p_2)^2 = (p_b-p_1)^2 $$\n"
   ]
  },
  {
   "cell_type": "markdown",
   "metadata": {},
   "source": [
    "$$\n",
    "s+t+u = m_a^2+m_b^2+m_1^2+m^2_2\n",
    "$$ (label:mv)\n"
   ]
  },
  {
   "cell_type": "markdown",
   "metadata": {},
   "source": [
    "<!-- Check the relation in equation {eq}`label:` by using  -->"
   ]
  },
  {
   "cell_type": "markdown",
   "metadata": {},
   "source": [
    "<!--  $$p_a+p_b=p_1+p_2$$ -->"
   ]
  },
  {
   "cell_type": "markdown",
   "metadata": {},
   "source": [
    ":::{exercise}\n",
    ":label: mv\n",
    "Check the relation in equation {eq}`label:mv` by using $p_a+p_b=p_1+p_2$\n",
    ":::"
   ]
  },
  {
   "cell_type": "markdown",
   "metadata": {},
   "source": [
    ":::{solution} mv\n",
    ":class: dropdown\n",
    "\n",
    "$$ s+t+u = (p_a + p_b)^2 + (p_a - p_1)^2 + (p_a - p_2)^2$$\n",
    "\n",
    "$$ s+t+u = p_a^2 +p_b^2 + 2 p_a p_b + p_a^2 -2 p_a p_1 + p_1^2 + p_a^2 - 2p_a p_2 +p_2^2$$\n",
    "\n",
    "$$\n",
    "s+t+u = 3p_a^2 + p_b^2 +p_1^2 + p_2^2 + 2p_a p_b - 2p_a p_1 -2 p_a p_2\n",
    "$$ (label:proving)\n",
    "\n",
    "from equation {eq}`label:mv` we have:\n",
    "\n",
    "$$ p_b = p_1 + p_2 - p_a $$\n",
    "\n",
    "$$ \n",
    "p_a \\cdot p_b = p_a \\cdot p_1 + p_a \\cdot p_2 - p_a^2 \n",
    "$$ (label:use)\n",
    "\n",
    "By equation {eq}`label:proving` and substitute it into equation {eq}`label:use`:\n",
    "\n",
    "$$\n",
    "s+t+u = 3p_a^2 + p_b^2 +p_1^2 + p_2^2 + 2p_a \\cdot p_1 + 2p_a \\cdot p_2 - 2p_a^2 -2p_a p_1 -2 p_a p_2\n",
    "$$\n",
    "\n",
    "$$\n",
    "s+t+u = p_a^2 + p_b^2 +p_1^2 + p_2^2 \n",
    "$$\n",
    "\n",
    "by the mass shell relation, and thus:\n",
    "\n",
    "$$s+t+u = m_a^2 + m_b^2 + m_1^2 + m_2^2$$\n",
    ":::"
   ]
  },
  {
   "cell_type": "markdown",
   "metadata": {},
   "source": [
    "<!-- As following: -->"
   ]
  },
  {
   "cell_type": "markdown",
   "metadata": {},
   "source": [
    "% $$ s+t+u = (p_a + p_b)^2 + (p_a - p_1)^2 + (p_a - p_2)^2$$"
   ]
  },
  {
   "cell_type": "markdown",
   "metadata": {},
   "source": [
    "% $$ s+t+u = p_a^2 +p_b^2 + 2 p_a p_b + p_a^2 -2 p_a p_1 + p_1^2 + p_a^2 - 2p_a p_2 +p_2^2$$"
   ]
  },
  {
   "cell_type": "markdown",
   "metadata": {},
   "source": [
    "<!-- $$\n",
    "s+t+u = 3p_a^2 + p_b^2 +p_1^2 + p_2^2 + 2p_a p_b - 2p_a p_1 -2 p_a p_2\n",
    "$$ (label:proving) -->"
   ]
  },
  {
   "cell_type": "markdown",
   "metadata": {},
   "source": [
    "<!-- from equation {eq}`label:mv` we have: -->"
   ]
  },
  {
   "cell_type": "markdown",
   "metadata": {},
   "source": [
    "% $$ p_b = p_1 + p_2 - p_a $$"
   ]
  },
  {
   "cell_type": "markdown",
   "metadata": {},
   "source": [
    "<!-- $$ \n",
    "p_a \\cdot p_b = p_a \\cdot p_1 + p_a \\cdot p_2 - p_a^2 \n",
    "$$ (label:use) -->"
   ]
  },
  {
   "cell_type": "markdown",
   "metadata": {},
   "source": [
    "<!-- By equation {eq}`label:proving` and substitute it into equation {eq}`label:use`: -->"
   ]
  },
  {
   "cell_type": "markdown",
   "metadata": {},
   "source": [
    "<!-- $$\n",
    "s+t+u = 3p_a^2 + p_b^2 +p_1^2 + p_2^2 + 2p_a \\cdot p_1 + 2p_a \\cdot p_2 - 2p_a^2 -2p_a p_1 -2 p_a p_2\n",
    "$$ -->"
   ]
  },
  {
   "cell_type": "markdown",
   "metadata": {},
   "source": [
    "$$\n",
    "s+t+u = p_a^2 + p_b^2 +p_1^2 + p_2^2 \n",
    "$$"
   ]
  },
  {
   "cell_type": "markdown",
   "metadata": {},
   "source": [
    "by the mass shell relation, and thus:"
   ]
  },
  {
   "cell_type": "markdown",
   "metadata": {},
   "source": [
    "$$s+t+u = m_a^2 + m_b^2 + m_1^2 + m_2^2$$"
   ]
  },
  {
   "cell_type": "markdown",
   "metadata": {},
   "source": [
    "## CoM Kinematics"
   ]
  },
  {
   "cell_type": "markdown",
   "metadata": {},
   "source": [
    "Every frame dependent quantities is expressed with Mandelstam variables\n"
   ]
  },
  {
   "cell_type": "markdown",
   "metadata": {},
   "source": [
    "<!-- Check all relations! -->\n"
   ]
  },
  {
   "cell_type": "markdown",
   "metadata": {},
   "source": [
    "% $$t = m_a^2 +m_1^2 -2 E^*_a E^*_1 + 2|\\vec{p_a}^*| |\\vec{p_1}^*| cos \\theta^*$$"
   ]
  },
  {
   "cell_type": "markdown",
   "metadata": {},
   "source": [
    "Equivalent expression for the scattering angle in the CoM"
   ]
  },
  {
   "cell_type": "markdown",
   "metadata": {},
   "source": [
    "$$\n",
    "cos \\theta^* = 1 + \\frac{t-t_{min}}{2|\\vec{v}_a^*||\\vec{p}_1^*|}\n",
    "=\n",
    "\\frac{s(t-u)+(m_a^2-m-b^2)(m_1^2-m_2^2)}{\\lambda^{1/2}(s,m_a^2,m_b^2)\\lambda^{1/2}(s,m_1^2,m_2^2)}\n",
    "$$"
   ]
  },
  {
   "cell_type": "markdown",
   "metadata": {},
   "source": [
    "Compute $cos \\theta^L$ as a function of s,t,u"
   ]
  },
  {
   "cell_type": "markdown",
   "metadata": {},
   "source": [
    "$$ cos \\theta^L $$"
   ]
  },
  {
   "cell_type": "raw",
   "metadata": {},
   "source": []
  },
  {
   "cell_type": "markdown",
   "metadata": {},
   "source": [
    "## Decay into three particles\n"
   ]
  },
  {
   "cell_type": "markdown",
   "metadata": {},
   "source": [
    "$$\\theta^*_{12}+\\theta^*_{23}+\\theta^*_{31}=2 \\pi$$"
   ]
  },
  {
   "cell_type": "markdown",
   "metadata": {},
   "source": [
    "Check relation (33) using $s_{12}+s_{23}+s_{31}$"
   ]
  },
  {
   "cell_type": "code",
   "execution_count": null,
   "metadata": {},
   "outputs": [],
   "source": []
  },
  {
   "cell_type": "markdown",
   "metadata": {
    "jp-MarkdownHeadingCollapsed": true,
    "tags": []
   },
   "source": [
    "## `Three-particles-1.dat`"
   ]
  },
  {
   "cell_type": "code",
   "execution_count": null,
   "metadata": {
    "tags": []
   },
   "outputs": [],
   "source": [
    "filename = gdown.cached_download(\n",
    "    url=\"https://indico.ific.uv.es/event/6803/contributions/21220/attachments/11209/15504/Three-particles-1.dat\",\n",
    "    path=\"data/Three-particles-1.dat\",\n",
    "    md5=\"a49ebfd97ae6a02023291df665ab924c\",\n",
    "    quiet=True,\n",
    "    verify=False,\n",
    ")\n",
    "data = np.loadtxt(filename)\n",
    "data.shape"
   ]
  },
  {
   "cell_type": "code",
   "execution_count": null,
   "metadata": {},
   "outputs": [],
   "source": [
    "print(data)"
   ]
  },
  {
   "cell_type": "code",
   "execution_count": null,
   "metadata": {},
   "outputs": [],
   "source": [
    "n_final_state = 3\n",
    "pa, p1, p2, p3 = (data[i::4].T for i in range(n_final_state + 1))\n",
    "p0 = p1 + p2 + p3\n",
    "pb = p0 - pa"
   ]
  },
  {
   "cell_type": "code",
   "execution_count": null,
   "metadata": {
    "tags": []
   },
   "outputs": [],
   "source": [
    "def mass(p: np.ndarray) -> np.ndarray:\n",
    "    return np.sqrt(mass_squared(p))\n",
    "\n",
    "\n",
    "def mass_squared(p: np.ndarray) -> np.ndarray:\n",
    "    return p[0] ** 2 - np.sum(p[1:] ** 2, axis=0)\n",
    "\n",
    "\n",
    "m0 = mass(p0)\n",
    "print(f\"{m0.mean():.4g} +/- {m0.std():.4g}\")"
   ]
  },
  {
   "cell_type": "code",
   "execution_count": null,
   "metadata": {
    "jupyter": {
     "source_hidden": true
    },
    "tags": [
     "hide-input"
    ]
   },
   "outputs": [],
   "source": [
    "from IPython.display import Math\n",
    "\n",
    "display(Math(Rf\"m_a = {mass(pa).mean():.3g}\\text{{ GeV}}\"))\n",
    "display(Math(Rf\"m_b = {mass(pb).mean():.3g}\\text{{ GeV}}\"))\n",
    "for i, p in enumerate([p0, p1, p2, p3]):\n",
    "    display(Math(Rf\"m_{i} = {mass(p).mean():.3g}\\text{{ GeV}}\"))"
   ]
  },
  {
   "cell_type": "code",
   "execution_count": null,
   "metadata": {
    "jupyter": {
     "source_hidden": true
    },
    "mystnb": {
     "code_prompt_show": "Identify final state particles"
    },
    "tags": [
     "hide-input"
    ]
   },
   "outputs": [],
   "source": [
    "from particle import Particle\n",
    "\n",
    "\n",
    "def find_candidates(\n",
    "    mass: float, delta: float = 0.001, charge: float | None = None\n",
    ") -> list[Particle]:\n",
    "    def identify(p) -> bool:\n",
    "        if p.pdgid in {21}:\n",
    "            return\n",
    "        if charge is not None and p.charge != charge:\n",
    "            return False\n",
    "        if (mass - delta) < 1e-3 * p.mass < (mass + delta):\n",
    "            return True\n",
    "        return False\n",
    "\n",
    "    return Particle.findall(identify)\n",
    "\n",
    "\n",
    "ma = mass(pa).mean()\n",
    "mb = mass(pb).mean()\n",
    "m1 = mass(p1).mean()\n",
    "m2 = mass(p2).mean()\n",
    "m3 = mass(p3).mean()\n",
    "initial_state = (\n",
    "    find_candidates(ma.mean(), delta=1e-4)[0],\n",
    "    find_candidates(mb.mean())[0],\n",
    ")\n",
    "final_state = tuple(find_candidates(m.mean())[0] for m in [m1, m2, m3])\n",
    "display(\n",
    "    Math(R\"\\text{Incoming: }\" + \", \".join(f\"{p.latex_name}\" for p in initial_state)),\n",
    "    Math(R\"\\text{Outgoing: }\" + \", \".join(f\"{p.latex_name}\" for p in final_state)),\n",
    ")"
   ]
  },
  {
   "cell_type": "markdown",
   "metadata": {},
   "source": [
    "So this is a photon&nbsp;$\\gamma$ hitting a proton&nbsp;$p$ and producing a meson&nbsp;$\\eta$, pion&nbsp;$\\pi^0$, and proton&nbsp;$p$."
   ]
  },
  {
   "cell_type": "markdown",
   "metadata": {},
   "source": [
    "### Dalitz plot"
   ]
  },
  {
   "cell_type": "markdown",
   "metadata": {},
   "source": [
    "By plotting the three Mandelstam variables in a Dalitz plot, we can identify resonances appear in the reaction for which this data was generated."
   ]
  },
  {
   "cell_type": "code",
   "execution_count": null,
   "metadata": {},
   "outputs": [],
   "source": [
    "s12 = mass_squared(p1 + p2)\n",
    "s23 = mass_squared(p2 + p3)\n",
    "s31 = mass_squared(p3 + p1)\n",
    "\n",
    "m12 = mass(p1 + p2)\n",
    "m23 = mass(p2 + p3)\n",
    "m31 = mass(p3 + p1)"
   ]
  },
  {
   "cell_type": "code",
   "execution_count": null,
   "metadata": {
    "jupyter": {
     "source_hidden": true
    },
    "tags": [
     "hide-input"
    ]
   },
   "outputs": [],
   "source": [
    "import matplotlib.pyplot as plt\n",
    "\n",
    "fig, ax = plt.subplots()\n",
    "fig.suptitle(\"Dalitz plot – 2D histogram\")\n",
    "ax.hist2d(s12, s23, bins=100, cmin=1)\n",
    "ax.set_xlabel(R\"$s_{12}\\;\\left[\\mathrm{GeV}^2\\right]$\")\n",
    "ax.set_ylabel(R\"$s_{23}\\;\\left[\\mathrm{GeV}^2\\right]$\")\n",
    "fig.tight_layout()\n",
    "plt.show()"
   ]
  },
  {
   "cell_type": "code",
   "execution_count": null,
   "metadata": {},
   "outputs": [],
   "source": [
    "R12 = 1.74\n",
    "R23 = 1.53\n",
    "R31 = 2.45"
   ]
  },
  {
   "cell_type": "code",
   "execution_count": null,
   "metadata": {
    "jupyter": {
     "source_hidden": true
    },
    "tags": [
     "hide-input",
     "full-width"
    ]
   },
   "outputs": [],
   "source": [
    "fig, (ax1, ax2) = plt.subplots(figsize=(10, 4), ncols=2)\n",
    "fig.suptitle(\"Dalitz plot – scatter plot\")\n",
    "ax1.scatter(s12, s23, c=\"black\", s=1e-3)\n",
    "ax1.set_xlabel(R\"$s_{12}\\;\\left[\\mathrm{GeV}^2\\right]$\")\n",
    "ax1.set_ylabel(R\"$s_{23}\\;\\left[\\mathrm{GeV}^2\\right]$\")\n",
    "ax1.axvline(R12, c=\"C0\", ls=\"dashed\", label=\"$R_{12}$\")\n",
    "ax1.axhline(R23, c=\"C1\", ls=\"dashed\", label=\"$R_{23}$\")\n",
    "ax1.legend()\n",
    "ax2.scatter(s31, s12, c=\"black\", s=1e-3)\n",
    "ax2.set_xlabel(R\"$s_{31}\\;\\left[\\mathrm{GeV}^2\\right]$\")\n",
    "ax2.set_ylabel(R\"$s_{12}\\;\\left[\\mathrm{GeV}^2\\right]$\")\n",
    "ax2.axvline(R31, c=\"C2\", ls=\"dashed\", label=\"$R_{31}$\")\n",
    "ax2.axhline(R12, c=\"C0\", ls=\"dashed\", label=\"$R_{12}$\")\n",
    "ax2.legend()\n",
    "fig.tight_layout()\n",
    "plt.show()"
   ]
  },
  {
   "cell_type": "markdown",
   "metadata": {},
   "source": [
    "### Particle identification"
   ]
  },
  {
   "cell_type": "markdown",
   "metadata": {},
   "source": [
    "In the following, we make a few cuts on Mandelstam variables to select a region where the resonances lie isolated. We then use these cuts as a filter on the computed masses for each each and then compute the mean."
   ]
  },
  {
   "cell_type": "code",
   "execution_count": null,
   "metadata": {},
   "outputs": [],
   "source": [
    "m12_mean = m12[(s12 < 3) & (2.5 < s23) & (s23 < 10)].mean()\n",
    "m12_mean**2"
   ]
  },
  {
   "cell_type": "code",
   "execution_count": null,
   "metadata": {},
   "outputs": [],
   "source": [
    "m23_mean = m23[s23 < 2.5].mean()\n",
    "m23_mean**2"
   ]
  },
  {
   "cell_type": "code",
   "execution_count": null,
   "metadata": {},
   "outputs": [],
   "source": [
    "m31_mean = m31[(s12 > 3) & (s31 < 4)].mean()\n",
    "m31_mean**2"
   ]
  },
  {
   "cell_type": "markdown",
   "metadata": {},
   "source": [
    "The particle candidates for $R_{12} \\to \\eta\\pi^0$, $R_{23} \\to \\pi^0 p$, and $R_{31} \\to p\\eta$ are then:"
   ]
  },
  {
   "cell_type": "code",
   "execution_count": null,
   "metadata": {},
   "outputs": [],
   "source": [
    "find_candidates(mass=np.sqrt(R12), delta=0.01, charge=0)"
   ]
  },
  {
   "cell_type": "code",
   "execution_count": null,
   "metadata": {},
   "outputs": [],
   "source": [
    "find_candidates(mass=np.sqrt(R23), delta=0.01, charge=+1)"
   ]
  },
  {
   "cell_type": "code",
   "execution_count": null,
   "metadata": {},
   "outputs": [],
   "source": [
    "find_candidates(mass=np.sqrt(R31), delta=0.01, charge=+1)"
   ]
  },
  {
   "cell_type": "markdown",
   "metadata": {
    "jp-MarkdownHeadingCollapsed": true,
    "tags": []
   },
   "source": [
    "## `Three-particles-2.dat`"
   ]
  },
  {
   "cell_type": "code",
   "execution_count": null,
   "metadata": {
    "mystnb": {
     "code_prompt_show": "Load data"
    },
    "tags": [
     "hide-cell"
    ]
   },
   "outputs": [],
   "source": [
    "filename2 = gdown.cached_download(\n",
    "    url=\"https://indico.ific.uv.es/event/6803/contributions/21220/attachments/11209/15511/Three-particles-2.dat\",\n",
    "    path=\"data/Three-particles-2.dat\",\n",
    "    md5=\"831aee9fd925c43e8630edc6783ab28d\",\n",
    "    quiet=True,\n",
    "    verify=False,\n",
    ")\n",
    "data2 = np.loadtxt(filename2)\n",
    "pa, p1, p2, p3 = (data2[i::4].T for i in range(n_final_state + 1))"
   ]
  },
  {
   "cell_type": "code",
   "execution_count": null,
   "metadata": {},
   "outputs": [],
   "source": [
    "p0 = p1 + p2 + p3\n",
    "m0 = mass(p0)\n",
    "print(f\"{m0.mean():.4g} +/- {m0.std():.4g}\")"
   ]
  },
  {
   "cell_type": "code",
   "execution_count": null,
   "metadata": {
    "jupyter": {
     "source_hidden": true
    },
    "tags": [
     "hide-input"
    ]
   },
   "outputs": [],
   "source": [
    "from IPython.display import Math\n",
    "\n",
    "for i, p in enumerate([p0, p1, p2, p3]):\n",
    "    display(Math(Rf\"m_{i} = {mass(p).mean():.3g}\\text{{ GeV}}\"))\n",
    "\n",
    "display(Math(Rf\"m_{{a}} = {mass(pa).mean():.3g}\\text{{ GeV}}\"))"
   ]
  },
  {
   "cell_type": "code",
   "execution_count": null,
   "metadata": {
    "jupyter": {
     "source_hidden": true
    },
    "mystnb": {
     "code_prompt_show": "Identify final state particles"
    },
    "tags": [
     "hide-input"
    ]
   },
   "outputs": [],
   "source": [
    "from particle import Particle\n",
    "\n",
    "\n",
    "def find_candidates(m: float, delta: float = 0.001) -> list[Particle]:\n",
    "    return Particle.findall(lambda p: (m - delta) < 1e-3 * p.mass < (m + delta))\n",
    "\n",
    "\n",
    "m1 = mass(p1).mean()\n",
    "m2 = mass(p2).mean()\n",
    "m3 = mass(p3).mean()\n",
    "particles = tuple(find_candidates(m.mean())[0] for m in [m1, m2, m3])\n",
    "\n",
    "src = R\"\\text{Final state: }\" + \", \".join(f\"{p.latex_name}\" for p in particles)\n",
    "Math(src)"
   ]
  },
  {
   "cell_type": "markdown",
   "metadata": {},
   "source": [
    "This is again a photon&nbsp;$\\gamma$ hitting a target that produces a meson&nbsp;$\\eta$, pion&nbsp;$\\pi^0$, and proton&nbsp;$p$."
   ]
  },
  {
   "cell_type": "code",
   "execution_count": null,
   "metadata": {},
   "outputs": [],
   "source": [
    "s12 = mass_squared(p1 + p2)\n",
    "s23 = mass_squared(p2 + p3)\n",
    "s31 = mass_squared(p3 + p1)\n",
    "\n",
    "m12 = mass(p1 + p2)\n",
    "m23 = mass(p2 + p3)\n",
    "m31 = mass(p3 + p1)"
   ]
  },
  {
   "cell_type": "code",
   "execution_count": null,
   "metadata": {
    "jupyter": {
     "source_hidden": true
    },
    "tags": [
     "hide-input"
    ]
   },
   "outputs": [],
   "source": [
    "import matplotlib.pyplot as plt\n",
    "\n",
    "fig, ax = plt.subplots()\n",
    "fig.suptitle(\"Dalitz plot – 2D histogram\")\n",
    "ax.hist2d(s12, s23, bins=100, cmin=1)\n",
    "ax.set_xlabel(R\"$s_{12}\\;\\left[\\mathrm{GeV}^2\\right]$\")\n",
    "ax.set_ylabel(R\"$s_{23}\\;\\left[\\mathrm{GeV}^2\\right]$\")\n",
    "fig.tight_layout()\n",
    "plt.show()"
   ]
  },
  {
   "cell_type": "code",
   "execution_count": null,
   "metadata": {
    "jupyter": {
     "source_hidden": true
    },
    "tags": [
     "hide-input",
     "full-width"
    ]
   },
   "outputs": [],
   "source": [
    "fig, (ax1, ax2) = plt.subplots(figsize=(10, 4), ncols=2)\n",
    "fig.suptitle(\"Dalitz plot – scatter plot\")\n",
    "ax1.scatter(s12, s23, c=\"black\", s=1e-3)\n",
    "ax1.set_xlabel(R\"$s_{12}\\;\\left[\\mathrm{GeV}^2\\right]$\")\n",
    "ax1.set_ylabel(R\"$s_{23}\\;\\left[\\mathrm{GeV}^2\\right]$\")\n",
    "ax1.axvline(R12, c=\"C0\", ls=\"dashed\", label=\"$R_{12}$\")\n",
    "ax1.axhline(R23, c=\"C1\", ls=\"dashed\", label=\"$R_{23}$\")\n",
    "ax1.legend()\n",
    "ax2.scatter(s31, s12, c=\"black\", s=1e-3)\n",
    "ax2.set_xlabel(R\"$s_{31}\\;\\left[\\mathrm{GeV}^2\\right]$\")\n",
    "ax2.set_ylabel(R\"$s_{12}\\;\\left[\\mathrm{GeV}^2\\right]$\")\n",
    "ax2.axvline(R31, c=\"C2\", ls=\"dashed\", label=\"$R_{31}$\")\n",
    "ax2.axhline(R12, c=\"C0\", ls=\"dashed\", label=\"$R_{12}$\")\n",
    "ax2.legend()\n",
    "fig.tight_layout()\n",
    "plt.show()"
   ]
  }
 ],
 "metadata": {
  "colab": {
   "toc_visible": true
  },
  "kernelspec": {
   "display_name": "Python 3 (ipykernel)",
   "language": "python",
   "name": "python3"
  },
  "language_info": {
   "codemirror_mode": {
    "name": "ipython",
    "version": 3
   },
   "file_extension": ".py",
   "mimetype": "text/x-python",
   "name": "python",
   "nbconvert_exporter": "python",
   "pygments_lexer": "ipython3",
   "version": "3.10.13"
  }
 },
 "nbformat": 4,
 "nbformat_minor": 4
}
