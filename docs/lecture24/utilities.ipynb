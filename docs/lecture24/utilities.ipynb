{
 "cells": [
  {
   "cell_type": "code",
   "execution_count": null,
   "metadata": {},
   "outputs": [],
   "source": [
    "def about():\n",
    "    print(\n",
    "        \"Functions to help with Strong2020 Summer School tasks. \\n To use these functions you should prefix s2020. to the function call\"\n",
    "    )"
   ]
  },
  {
   "cell_type": "code",
   "execution_count": null,
   "metadata": {},
   "outputs": [],
   "source": [
    "import numpy as np\n",
    "from matplotlib import pyplot as plt"
   ]
  },
  {
   "cell_type": "markdown",
   "metadata": {},
   "source": [
    "Function to fill a histogram plot with error bars equal to sqrt bin contents.\n",
    "Takes numpt array, xbin array, ..."
   ]
  },
  {
   "cell_type": "code",
   "execution_count": null,
   "metadata": {},
   "outputs": [],
   "source": [
    "def histSqrtErrorBars(data, xbins, lab):\n",
    "    binvals, _ = np.histogram(data, bins=xbins)\n",
    "    errs = np.sqrt(binvals)\n",
    "    bincenters = (xbins[1:] + xbins[:-1]) / 2\n",
    "    return plt.errorbar(bincenters, binvals, errs, linewidth=1, fmt=\".\", label=lab)"
   ]
  },
  {
   "cell_type": "markdown",
   "metadata": {},
   "source": [
    "Functions to fill weighted histograms with sqrt error bars (wrong) and sum weights squared error bars"
   ]
  },
  {
   "cell_type": "code",
   "execution_count": null,
   "metadata": {},
   "outputs": [],
   "source": [
    "def histWeightsSqrtErrorBars(data, wgts, xbins, lab):\n",
    "    binvals, _ = np.histogram(data, weights=wgts, bins=xbins)\n",
    "    errs = np.sqrt(binvals)\n",
    "    bincenters = (xbins[1:] + xbins[:-1]) / 2\n",
    "    return plt.errorbar(bincenters, binvals, errs, linewidth=1, fmt=\".\", label=lab)\n",
    "\n",
    "\n",
    "def histWeightedErrorBars(data, wgts, xbins, lab, offset=0):\n",
    "    sumweights, _ = np.histogram(data, weights=wgts, bins=xbins)\n",
    "    sumweight_sqrd, _ = np.histogram(data, weights=wgts * wgts, bins=xbins)\n",
    "    errs = np.sqrt(sumweight_sqrd)\n",
    "    bincenters = (xbins[1:] + xbins[:-1]) / 2 + offset\n",
    "    return plt.errorbar(bincenters, sumweights, errs, linewidth=1, fmt=\".\", label=lab)"
   ]
  }
 ],
 "metadata": {
  "colab": {
   "toc_visible": true
  },
  "kernelspec": {
   "display_name": "Pyproject Local",
   "name": "pyproject_local_kernel"
  },
  "language_info": {
   "name": "python"
  }
 },
 "nbformat": 4,
 "nbformat_minor": 0
}
