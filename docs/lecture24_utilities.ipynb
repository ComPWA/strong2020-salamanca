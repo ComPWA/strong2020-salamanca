{
 "cells": [
  {
   "cell_type": "code",
   "execution_count": null,
   "metadata": {},
   "outputs": [],
   "source": [
    "def about():\n",
    "    print(\n",
    "        \"Functions to help with Strong2020 Summer School tasks. \\n To use these functions you should prefix s2020. to the function call\"\n",
    "    )"
   ]
  },
  {
   "cell_type": "code",
   "execution_count": null,
   "metadata": {},
   "outputs": [],
   "source": [
    "import numpy as np\n",
    "from matplotlib import pyplot as plt"
   ]
  },
  {
   "cell_type": "markdown",
   "metadata": {},
   "source": [
    "Function to fill a histogram plot with error bars equal to sqrt bin contents.\n",
    "Takes numpt array, xbin array, ..."
   ]
  },
  {
   "cell_type": "code",
   "execution_count": null,
   "metadata": {},
   "outputs": [],
   "source": [
    "def histSqrtErrorBars(data, xbins, lab):\n",
    "    binvals, edges = np.histogram(data, bins=xbins)\n",
    "    errs = np.sqrt(binvals)\n",
    "    bincenters = (xbins[1:] + xbins[:-1]) / 2\n",
    "    histo = plt.errorbar(bincenters, binvals, errs, linewidth=1, fmt=\".\", label=lab)\n",
    "    return histo"
   ]
  },
  {
   "cell_type": "markdown",
   "metadata": {},
   "source": [
    "Functions to fill weighted histograms with sqrt error bars (wrong) and sum weights squared error bars"
   ]
  },
  {
   "cell_type": "code",
   "execution_count": null,
   "metadata": {},
   "outputs": [],
   "source": [
    "def histWeightsSqrtErrorBars(data, wgts, xbins, lab):\n",
    "    binvals, edges = np.histogram(data, weights=wgts, bins=xbins)\n",
    "    errs = np.sqrt(binvals)\n",
    "    bincenters = (xbins[1:] + xbins[:-1]) / 2\n",
    "    histo = plt.errorbar(bincenters, binvals, errs, linewidth=1, fmt=\".\", label=lab)\n",
    "    return histo\n",
    "\n",
    "\n",
    "def histWeightedErrorBars(data, wgts, xbins, lab, offset=0):\n",
    "    sumweights, edges = np.histogram(data, weights=wgts, bins=xbins)\n",
    "    sumweight_sqrd, edges = np.histogram(data, weights=wgts * wgts, bins=xbins)\n",
    "    errs = np.sqrt(sumweight_sqrd)\n",
    "    bincenters = (xbins[1:] + xbins[:-1]) / 2 + offset\n",
    "    histo = plt.errorbar(bincenters, sumweights, errs, linewidth=1, fmt=\".\", label=lab)\n",
    "    return histo"
   ]
  },
  {
   "cell_type": "markdown",
   "metadata": {},
   "source": []
  }
 ],
 "metadata": {
  "kernelspec": {
   "display_name": "Python 3",
   "name": "python3"
  },
  "language_info": {
   "name": "python"
  }
 },
 "nbformat": 4,
 "nbformat_minor": 4
}
