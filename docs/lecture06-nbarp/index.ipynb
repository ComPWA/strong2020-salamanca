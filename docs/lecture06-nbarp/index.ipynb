{
 "cells": [
  {
   "cell_type": "markdown",
   "metadata": {},
   "source": [
    "# Lecture 6 – n̅ p"
   ]
  },
  {
   "cell_type": "markdown",
   "metadata": {},
   "source": [
    "**How to build and plot invariant masses of particle pairs and Dalitz plot for a reaction with three particles in the final state.**"
   ]
  },
  {
   "cell_type": "markdown",
   "metadata": {},
   "source": [
    "Prepare the notebook with the preambles for the inclusion of pandas, numpy and matplotlib.pyplot:"
   ]
  },
  {
   "cell_type": "code",
   "execution_count": null,
   "metadata": {},
   "outputs": [],
   "source": [
    "import matplotlib.pyplot as plt\n",
    "import numpy as np\n",
    "import pandas as pd"
   ]
  },
  {
   "cell_type": "code",
   "execution_count": null,
   "metadata": {
    "jupyter": {
     "source_hidden": true
    },
    "mystnb": {
     "code_prompt_show": "Download data"
    },
    "tags": [
     "hide-input"
    ]
   },
   "outputs": [],
   "source": [
    "import gdown\n",
    "\n",
    "output_path = gdown.cached_download(\n",
    "    url=\"https://drive.google.com/uc?id=17J4rrO-NHL8whkd7hjELhJbCoanoaqam\",\n",
    "    path=\"data/lecture6-nbarp-data.csv\",\n",
    "    md5=\"5ff45076c9d921aa0c9c803b8d2d8958\",\n",
    "    quiet=True,\n",
    ")\n",
    "data = pd.read_csv(output_path)"
   ]
  },
  {
   "cell_type": "markdown",
   "metadata": {},
   "source": [
    "Inspect the data file and format. The file contains the 4-momenta of the particles of the reaction $\\bar n p \\rightarrow \\pi^+_1\\pi^+_2\\pi^-_3$, the last column corresponds to the 3rd component of the antineutron momentum (up to 300 MeV/c), which travels along the $z$ axis"
   ]
  },
  {
   "cell_type": "code",
   "execution_count": null,
   "metadata": {
    "tags": [
     "full-width"
    ]
   },
   "outputs": [],
   "source": [
    "data.head()"
   ]
  },
  {
   "cell_type": "markdown",
   "metadata": {},
   "source": [
    "The columns headers present some trailing blanks, that must be dropped to be able to use correctly the DataFormat structure (if not, they deliver an error message). To do so, the *str.strip()* function must be used beforehand to reformat the column shape.\n",
    "In the following commands in the cell, columns are shown, overall with the data.columns command, and per single variable (like *data.p2x*). If the format is correct, no error should appear."
   ]
  },
  {
   "cell_type": "code",
   "execution_count": null,
   "metadata": {},
   "outputs": [],
   "source": [
    "data.columns = data.columns.str.strip()\n",
    "data.p2x"
   ]
  },
  {
   "cell_type": "markdown",
   "metadata": {},
   "source": [
    "Evaluate the invariant masses (squared and linear) for particle pairs. Every particle is defined by its four momentum $\\tilde p = (\\vec p, E = \\sqrt{p^2+m^2})$ with metric $(-, -, -, +)$.\n",
    "The **invariant mass** of a system of two particles $(a,b)$ is the module of the sum of their 4-momenta: $i.m. = \\sqrt{(\\tilde{p_a}+\\tilde{p_b})^2} = \\sqrt{(E_a+E_b)^2 - |\\vec{p_a}+\\vec{p_b}|^2}$."
   ]
  },
  {
   "cell_type": "code",
   "execution_count": null,
   "metadata": {},
   "outputs": [],
   "source": [
    "invariant_massSquared12 = (\n",
    "    (data.E1 + data.E2) ** 2\n",
    "    - (data.p1x + data.p2x) ** 2\n",
    "    - (data.p1y + data.p2y) ** 2\n",
    "    - (data.p1z + data.p2z) ** 2\n",
    ")\n",
    "invariant_mass12 = np.sqrt(invariant_massSquared12)\n",
    "invariant_massSquared13 = (\n",
    "    (data.E1 + data.E3) ** 2\n",
    "    - (data.p1x + data.p3x) ** 2\n",
    "    - (data.p1y + data.p3y) ** 2\n",
    "    - (data.p1z + data.p3z) ** 2\n",
    ")\n",
    "invariant_mass13 = np.sqrt(invariant_massSquared13)\n",
    "invariant_massSquared23 = (\n",
    "    (data.E3 + data.E2) ** 2\n",
    "    - (data.p3x + data.p2x) ** 2\n",
    "    - (data.p3y + data.p2y) ** 2\n",
    "    - (data.p3z + data.p2z) ** 2\n",
    ")\n",
    "invariant_mass23 = np.sqrt(invariant_massSquared23)"
   ]
  },
  {
   "cell_type": "markdown",
   "metadata": {},
   "source": [
    "Look at the evaluated invariant masses to make sure they are different for different pion pairs"
   ]
  },
  {
   "cell_type": "code",
   "execution_count": null,
   "metadata": {},
   "outputs": [],
   "source": [
    "invariant_mass13"
   ]
  },
  {
   "cell_type": "code",
   "execution_count": null,
   "metadata": {},
   "outputs": [],
   "source": [
    "invariant_mass23"
   ]
  },
  {
   "cell_type": "markdown",
   "metadata": {},
   "source": [
    "Let's plot the evaluated invariant masses. First, though, let's plot the antineutron momentum to see how the distribution looks like."
   ]
  },
  {
   "cell_type": "code",
   "execution_count": null,
   "metadata": {
    "jupyter": {
     "source_hidden": true
    },
    "tags": [
     "hide-input"
    ]
   },
   "outputs": [],
   "source": [
    "plt.hist(data.pnbar, bins=100, color=\"aquamarine\")\n",
    "plt.xlabel(\"Antineutron momentum [GeV/c]\")\n",
    "plt.ylabel(\"Entries/(4 MeV/c)\")\n",
    "plt.title(\"The histogram of the momentum of the incoming antineutron \\n\")\n",
    "plt.show()"
   ]
  },
  {
   "cell_type": "markdown",
   "metadata": {},
   "source": [
    "Let's plot now the invariant masses distributions for the three pion pairs:"
   ]
  },
  {
   "cell_type": "code",
   "execution_count": null,
   "metadata": {
    "jupyter": {
     "source_hidden": true
    },
    "tags": [
     "hide-input"
    ]
   },
   "outputs": [],
   "source": [
    "# plot the histogram pi1pi2 (both are pi+)\n",
    "plt.hist(invariant_mass12, bins=100, range=(0.2, 1.8))\n",
    "plt.xlabel(\"Invariant mass [GeV]\")\n",
    "plt.ylabel(\"Entries/(16 MeV)\")\n",
    "plt.title(R\"The histogram of the invariant mass of $\\pi_1^+$ and $\\pi_2^+$ \\n\")\n",
    "plt.show()"
   ]
  },
  {
   "cell_type": "code",
   "execution_count": null,
   "metadata": {
    "jupyter": {
     "source_hidden": true
    },
    "tags": [
     "hide-input"
    ]
   },
   "outputs": [],
   "source": [
    "# plot the histogram pi1pi3 (both are pi+)\n",
    "plt.hist(invariant_mass13, bins=100, color=\"red\", range=(0.2, 1.8))\n",
    "plt.xlabel(\"Invariant mass [GeV]\")\n",
    "plt.ylabel(\"Entries/(16 MeV)\")\n",
    "plt.title(\"The histogram of the invariant mass of $\\\\pi_1^+$ and $\\\\pi_3^-$\\n\")\n",
    "plt.show()"
   ]
  },
  {
   "cell_type": "code",
   "execution_count": null,
   "metadata": {
    "jupyter": {
     "source_hidden": true
    },
    "tags": [
     "hide-input"
    ]
   },
   "outputs": [],
   "source": [
    "# plot the histogram pi2pi3 (both are pi+)\n",
    "plt.hist(invariant_mass23, bins=100, color=\"magenta\", range=(0.2, 1.8))\n",
    "plt.xlabel(\"Invariant mass [GeV]\")\n",
    "plt.ylabel(\"Entries/(16 MeV)\")\n",
    "plt.title(\"The histogram of the invariant mass of $\\\\pi_2^+$ and $\\\\pi_3^-$\\n\")\n",
    "plt.show()"
   ]
  },
  {
   "cell_type": "markdown",
   "metadata": {},
   "source": [
    "The last two plots can be cumulated in the same distribution, with two entries per event: this takes into account different combination of pions with opposite charges"
   ]
  },
  {
   "cell_type": "code",
   "execution_count": null,
   "metadata": {
    "jupyter": {
     "source_hidden": true
    },
    "tags": [
     "hide-input",
     "scroll-input",
     "full-width"
    ]
   },
   "outputs": [],
   "source": [
    "im_merged = pd.concat([invariant_mass23, invariant_mass13])\n",
    "# normalize to 1\n",
    "merged_weights = np.ones_like(im_merged.values) / float(len(im_merged))\n",
    "# two equivalent ways to plot the histograms with two entries per event normalized to 1\n",
    "fig, ax = plt.subplots(1, 3, tight_layout=True, figsize=(10, 3.5))\n",
    "ax[0].hist(\n",
    "    im_merged,\n",
    "    bins=100,\n",
    "    weights=merged_weights,\n",
    "    color=\"Violet\",\n",
    "    histtype=\"stepfilled\",\n",
    "    hatch=\"/\",\n",
    "    range=(0.2, 1.8),\n",
    ")\n",
    "ax[0].set_xlabel(\"Invariant mass [GeV]\")\n",
    "ax[0].set_ylabel(\"Entries/(16 MeV)\")\n",
    "ax[0].set_title(R\"$(\\pi_{1,2}^+\\pi_3^-)$ i.m.\")\n",
    "ax[1].hist(\n",
    "    im_merged,\n",
    "    bins=100,\n",
    "    weights=merged_weights,\n",
    "    density=True,\n",
    "    color=\"DarkTurquoise\",\n",
    "    histtype=\"stepfilled\",\n",
    "    alpha=0.5,\n",
    "    stacked=True,\n",
    "    hatch=\"--\",\n",
    "    range=(0.2, 1.8),\n",
    ")\n",
    "ax[1].set_xlabel(\"Invariant mass [GeV]\")\n",
    "ax[1].set_ylabel(\"Entries/(16 MeV)\")\n",
    "ax[1].set_title(R\"$(\\pi_{1,2}^+\\pi_3^-)$ i.m., density=True\")\n",
    "ax[2].hist(\n",
    "    im_merged,\n",
    "    bins=100,\n",
    "    weights=merged_weights,\n",
    "    color=\"Violet\",\n",
    "    hatch=\"/\",\n",
    "    range=(0.2, 1.8),\n",
    ")\n",
    "ax[2].hist(\n",
    "    im_merged,\n",
    "    bins=100,\n",
    "    weights=merged_weights,\n",
    "    density=False,\n",
    "    color=\"DarkTurquoise\",\n",
    "    alpha=0.5,\n",
    "    stacked=True,\n",
    "    hatch=\"--\",\n",
    "    range=(0.2, 1.8),\n",
    ")\n",
    "ax[2].set_xlabel(\"Invariant mass [GeV]\")\n",
    "ax[2].set_ylabel(\"Entries/(16 MeV)\")\n",
    "ax[2].set_title(R\"$(\\pi_{1,2}^+\\pi_3^-)$ i.m., density=False\")\n",
    "plt.show()"
   ]
  },
  {
   "cell_type": "markdown",
   "metadata": {},
   "source": [
    "2D distributions: Dalitz plots"
   ]
  },
  {
   "cell_type": "code",
   "execution_count": null,
   "metadata": {
    "jupyter": {
     "source_hidden": true
    },
    "tags": [
     "hide-input"
    ]
   },
   "outputs": [],
   "source": [
    "fig, ax = plt.subplots(1, 2, tight_layout=True, figsize=(7, 4))\n",
    "ax[0].hist2d(invariant_massSquared13, invariant_massSquared12, bins=100, cmap=\"jet\")\n",
    "ax[0].hist2d(invariant_massSquared23, invariant_massSquared12, bins=100, cmap=\"jet\")\n",
    "ax[0].set_xlabel(R\"i.m.$^2(\\pi^+_{(1,2)}\\pi^-_{3}$) [GeV$^2$]\")\n",
    "ax[0].set_ylabel(R\"i.m.$^2(\\pi^+\\pi^+$) [GeV$^2$]\")\n",
    "ax[1].hist2d(invariant_massSquared13, invariant_massSquared23, bins=100, cmap=\"jet\")\n",
    "ax[1].hist2d(invariant_massSquared23, invariant_massSquared13, bins=100, cmap=\"jet\")\n",
    "ax[1].set_xlabel(R\"i.m.$^2(\\pi^+_1\\pi^-$) [GeV$^2$]\")\n",
    "ax[1].set_ylabel(R\"i.m.$^2(\\pi^+_2\\pi^-$) [GeV$^2$]\")\n",
    "plt.show()"
   ]
  },
  {
   "cell_type": "markdown",
   "metadata": {},
   "source": [
    "How do Dalitz plots look like with MonteCarlo generated data?\n",
    "Repeat the previous procedures with a new file, corresponding to generated data from the same reaction, and compare the shapes (statistics are different)"
   ]
  },
  {
   "cell_type": "code",
   "execution_count": null,
   "metadata": {
    "jupyter": {
     "source_hidden": true
    },
    "mystnb": {
     "code_prompt_show": "Download MC data"
    },
    "tags": [
     "hide-input"
    ]
   },
   "outputs": [],
   "source": [
    "path_mc = gdown.cached_download(\n",
    "    url=\"https://drive.google.com/uc?id=1SarwF44sWSGbpn4PmBH3GLKIJJmN2lbS\",\n",
    "    path=\"data/lecture6-nbarp-mc.csv\",\n",
    "    md5=\"1221892fdcd056261ccb178748086679\",\n",
    "    quiet=True,\n",
    ")\n",
    "mc = pd.read_csv(path_mc)\n",
    "mc.columns = mc.columns.str.strip()"
   ]
  },
  {
   "cell_type": "code",
   "execution_count": null,
   "metadata": {},
   "outputs": [],
   "source": [
    "invariant_massSquared12mc = (\n",
    "    (mc.E1 + mc.E2) ** 2\n",
    "    - (mc.p1x + mc.p2x) ** 2\n",
    "    - (mc.p1y + mc.p2y) ** 2\n",
    "    - (mc.p1z + mc.p2z) ** 2\n",
    ")\n",
    "invariant_massSquared13mc = (\n",
    "    (mc.E1 + mc.E3) ** 2\n",
    "    - (mc.p1x + mc.p3x) ** 2\n",
    "    - (mc.p1y + mc.p3y) ** 2\n",
    "    - (mc.p1z + mc.p3z) ** 2\n",
    ")\n",
    "invariant_massSquared23mc = (\n",
    "    (mc.E3 + mc.E2) ** 2\n",
    "    - (mc.p3x + mc.p2x) ** 2\n",
    "    - (mc.p3y + mc.p2y) ** 2\n",
    "    - (mc.p3z + mc.p2z) ** 2\n",
    ")"
   ]
  },
  {
   "cell_type": "code",
   "execution_count": null,
   "metadata": {
    "jupyter": {
     "source_hidden": true
    },
    "tags": [
     "hide-input"
    ]
   },
   "outputs": [],
   "source": [
    "fig, ax = plt.subplots(1, 2, tight_layout=True, figsize=(7, 4))\n",
    "ax[0].hist2d(invariant_massSquared13mc, invariant_massSquared12mc, bins=100, cmap=\"jet\")\n",
    "ax[0].hist2d(invariant_massSquared23mc, invariant_massSquared12mc, bins=100, cmap=\"jet\")\n",
    "ax[0].set_xlabel(R\"i.m.$^2(\\pi^+_{(1,2)}\\pi^-_{3}$) [GeV$^2$]\")\n",
    "ax[0].set_ylabel(R\"i.m.$^2(\\pi^+\\pi^+$) [GeV$^2$]\")\n",
    "ax[1].hist2d(invariant_massSquared13mc, invariant_massSquared23mc, bins=100, cmap=\"jet\")\n",
    "ax[1].hist2d(invariant_massSquared23mc, invariant_massSquared13mc, bins=100, cmap=\"jet\")\n",
    "ax[1].set_xlabel(R\"i.m.$^2(\\pi^+_1\\pi^-$) [GeV$^2$]\")\n",
    "ax[1].set_ylabel(R\"i.m.$^2(\\pi^+_2\\pi^-$) [GeV$^2$]\")\n",
    "plt.show()"
   ]
  },
  {
   "cell_type": "markdown",
   "metadata": {},
   "source": [
    "A Dalitz plot is defined as the phsyical region of the decay $P\\rightarrow a+b+c$ described by any variable linked to the total energies of two of the three particles $a$ and $b$ $s_a=\\sqrt{p^2_a+m^2_a}$ and $s_b=\\sqrt{p^2_b+m^2_b}$ by means of a linear transformation with constant Jacobian.\n",
    "\n",
    "Therefore, other representations are possible. One is based on the particle kinetic energies, defined as follows: if $T_a,\\; T_b,\\; T_c$ are the kinetic energies of the three particles and $Q =  T_a + T_b + T_c$ is their sum, one may use the two new coordinates $x = (T_a - T_b)/\\sqrt{3}$ and $y = T_3 - Q/3$.\n",
    "Let's try to make this plot with real and generated data."
   ]
  },
  {
   "cell_type": "code",
   "execution_count": null,
   "metadata": {},
   "outputs": [],
   "source": [
    "# remember: all momenta are in GeV/c, so masses must be expressed in GeV/c^2\n",
    "massChargedPion = 0.13957"
   ]
  },
  {
   "cell_type": "code",
   "execution_count": null,
   "metadata": {},
   "outputs": [],
   "source": [
    "T1 = np.sqrt(data.p1x**2 + data.p1y**2 + data.p1z**2) - massChargedPion\n",
    "T2 = np.sqrt(data.p2x**2 + data.p2y**2 + data.p2z**2) - massChargedPion\n",
    "T3 = np.sqrt(data.p3x**2 + data.p3y**2 + data.p3z**2) - massChargedPion\n",
    "Q = T1 + T2 + T3\n",
    "x = (T1 - T2) / np.sqrt(3)\n",
    "y = T3 - Q / 3"
   ]
  },
  {
   "cell_type": "code",
   "execution_count": null,
   "metadata": {
    "jupyter": {
     "source_hidden": true
    },
    "tags": [
     "hide-input"
    ]
   },
   "outputs": [],
   "source": [
    "plt.hist2d(x, y, bins=100, cmap=\"rainbow\")\n",
    "plt.colorbar()\n",
    "plt.xlabel(\"x\")\n",
    "plt.ylabel(\"y\")\n",
    "plt.title(R\"$\\pi^-_{3}$ vs $\\pi^+_{1}\\pi^+_2$ kin. energies DP\")\n",
    "plt.show()"
   ]
  },
  {
   "cell_type": "markdown",
   "metadata": {},
   "source": [
    "This plot of course requires a proper symmetrization over the charge combinations of the three pions."
   ]
  },
  {
   "cell_type": "code",
   "execution_count": null,
   "metadata": {
    "jupyter": {
     "source_hidden": true
    },
    "tags": [
     "full-width",
     "hide-input",
     "scroll-input"
    ]
   },
   "outputs": [],
   "source": [
    "# 1st combination (+-) vs (+)\n",
    "x1 = (T1 - T3) / np.sqrt(3)\n",
    "y1 = T2 - Q / 3\n",
    "# 2nd combination (+-) vs (+)\n",
    "x2 = (T2 - T3) / np.sqrt(3)\n",
    "y2 = T1 - Q / 3\n",
    "\n",
    "x2entries = pd.concat([x1, x2])\n",
    "y2entries = pd.concat([y1, y2])\n",
    "\n",
    "fig, ax = plt.subplots(1, 3, tight_layout=True, figsize=(12, 3.5))\n",
    "h0 = ax[0].hist2d(x1, y1, bins=100, cmap=\"rainbow\")\n",
    "fig.colorbar(h0[3], ax=ax[0])\n",
    "ax[0].set_xlabel(\"$x_1$\")\n",
    "ax[0].set_ylabel(\"$y_1$\")\n",
    "ax[0].set_title(R\"$\\pi^+_{2}$ vs $\\pi^+_{1}\\pi^-_3$ kin. energies DP\")\n",
    "h1 = ax[1].hist2d(x2, y2, bins=100, cmap=\"rainbow\")\n",
    "fig.colorbar(h1[3], ax=ax[1])\n",
    "ax[1].set_xlabel(\"$x_2$\")\n",
    "ax[1].set_ylabel(\"$y_2$\")\n",
    "ax[1].set_title(R\"$\\pi^+_{1}$ vs $\\pi^+_{2}\\pi^-_3$ kin. energies DP\")\n",
    "# both combinations plotted on the same pad\n",
    "h2 = ax[2].hist2d(x2entries, y2entries, bins=100, cmap=\"rainbow\")\n",
    "fig.colorbar(h2[3], ax=ax[2])\n",
    "ax[2].set_xlabel(\"$x$\")\n",
    "ax[2].set_ylabel(\"$y$\")\n",
    "ax[2].set_title(R\"$\\pi^+_{1,2}$ vs $\\pi^+_{2,1}\\pi^-_3$ kin. energies DP\")\n",
    "plt.show()"
   ]
  },
  {
   "cell_type": "markdown",
   "metadata": {},
   "source": [
    "Let's repeat the calculations and produced for mc phase space events"
   ]
  },
  {
   "cell_type": "code",
   "execution_count": null,
   "metadata": {
    "jupyter": {
     "source_hidden": true
    },
    "tags": [
     "full-width",
     "hide-input"
    ]
   },
   "outputs": [],
   "source": [
    "T1mc = np.sqrt(mc.p1x**2 + mc.p1y**2 + mc.p1z**2) - massChargedPion\n",
    "T2mc = np.sqrt(mc.p2x**2 + mc.p2y**2 + mc.p2z**2) - massChargedPion\n",
    "T3mc = np.sqrt(mc.p3x**2 + mc.p3y**2 + mc.p3z**2) - massChargedPion\n",
    "Qmc = T1mc + T2mc + T3mc\n",
    "xmc = (T1mc - T2mc) / np.sqrt(3)\n",
    "ymc = T3mc - Qmc / 3\n",
    "\n",
    "# 1st combination (+-) vs (+)\n",
    "x1mc = (T1mc - T3mc) / np.sqrt(3)\n",
    "y1mc = T2mc - Qmc / 3\n",
    "# 2nd combination (+-) vs (+)\n",
    "x2mc = (T2mc - T3mc) / np.sqrt(3)\n",
    "y2mc = T1mc - Qmc / 3\n",
    "x2entriesmc = pd.concat([x1mc, x2mc])\n",
    "y2entriesmc = pd.concat([y1mc, y2mc])\n",
    "\n",
    "fig, ax = plt.subplots(1, 2, tight_layout=True, figsize=(9, 4))\n",
    "h0 = ax[0].hist2d(xmc, ymc, bins=100, cmap=\"rainbow\")\n",
    "fig.colorbar(h0[3], ax=ax[0])\n",
    "ax[0].set_xlabel(\"$x_{mc}$\")  # noqa: RUF027\n",
    "ax[0].set_ylabel(\"$y_{mc}$\")  # noqa: RUF027\n",
    "ax[0].set_title(R\"$\\pi^-_3$ vs $\\pi^+_1\\pi^+_2$ kin. energies DP\")\n",
    "h1 = ax[1].hist2d(x2entriesmc, y2entriesmc, bins=100, cmap=\"rainbow\")\n",
    "fig.colorbar(h1[3], ax=ax[1])\n",
    "ax[1].set_xlabel(\"$x_{mc}$\")  # noqa: RUF027\n",
    "ax[1].set_ylabel(\"$y_{mc}$\")  # noqa: RUF027\n",
    "ax[1].set_title(R\"$\\pi^+_{1,2}$ vs $\\pi^+_{2,1}\\pi^-_3$ kin. energies DP\")\n",
    "plt.show()"
   ]
  }
 ],
 "metadata": {
  "colab": {
   "toc_visible": true
  },
  "kernelspec": {
   "display_name": "Python 3 (ipykernel)",
   "language": "python",
   "name": "pyproject_local_kernel"
  },
  "language_info": {
   "codemirror_mode": {
    "name": "ipython",
    "version": 3
   },
   "file_extension": ".py",
   "mimetype": "text/x-python",
   "name": "python",
   "nbconvert_exporter": "python",
   "pygments_lexer": "ipython3",
   "version": "3.12.7"
  }
 },
 "nbformat": 4,
 "nbformat_minor": 4
}
