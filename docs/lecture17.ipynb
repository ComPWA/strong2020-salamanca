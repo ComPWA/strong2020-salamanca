{
 "cells": [
  {
   "cell_type": "markdown",
   "metadata": {},
   "source": [
    "# Lecture 17 – Collision theory"
   ]
  },
  {
   "cell_type": "code",
   "execution_count": null,
   "metadata": {
    "tags": [
     "remove-cell"
    ]
   },
   "outputs": [],
   "source": [
    "%pip install -q ampform plotly sympy"
   ]
  },
  {
   "cell_type": "code",
   "execution_count": null,
   "metadata": {
    "jupyter": {
     "source_hidden": true
    },
    "mystnb": {
     "code_prompt_show": "Import Python libraries"
    },
    "tags": [
     "hide-cell"
    ]
   },
   "outputs": [],
   "source": [
    "from __future__ import annotations\n",
    "\n",
    "import warnings\n",
    "from typing import Callable\n",
    "\n",
    "import numpy as np\n",
    "import plotly.graph_objects as go\n",
    "import sympy as sp\n",
    "from ampform.io import aslatex\n",
    "from ampform.sympy import UnevaluatedExpression, implement_doit_method\n",
    "from ampform.sympy.math import create_expression\n",
    "from IPython.display import Math\n",
    "from plotly.colors import DEFAULT_PLOTLY_COLORS\n",
    "from plotly.subplots import make_subplots\n",
    "\n",
    "warnings.filterwarnings(\"ignore\")"
   ]
  },
  {
   "cell_type": "markdown",
   "metadata": {},
   "source": [
    "_This notebook is an attempt to recreate the Mathematica notebook [provided by Miguel Albaladejo](https://indico.ific.uv.es/event/6803/contributions/21224). Another nice tutorial about the complex plane is [this Julia notebook](https://mmikhasenko.github.io/ReactionAmplitudeExamples.jl/N-029-introduction2complexplane.html) by Mikhail Mikhasenko._"
   ]
  },
  {
   "cell_type": "markdown",
   "metadata": {
    "tags": []
   },
   "source": [
    "## Riemann sheets"
   ]
  },
  {
   "cell_type": "markdown",
   "metadata": {},
   "source": [
    "### Square root example"
   ]
  },
  {
   "cell_type": "markdown",
   "metadata": {},
   "source": [
    "There are multiple solutions for $x$ to the equation $y^2 = x$ – the fact that we usually take $y = \\sqrt{x}$ to be the solution to this equation is just a matter of convention. It would be more complete to represent the solution as a set of points in the complex plane. In this case, we have the set $S = \\left\\{\\left(z, w\\right)\\in\\mathbb{C}^2 | w^2=z\\right\\}$. This is set forms a **Riemann surface** in $\\mathbb{C}^2$ space."
   ]
  },
  {
   "cell_type": "code",
   "execution_count": null,
   "metadata": {
    "jupyter": {
     "source_hidden": true
    },
    "mystnb": {
     "code_prompt_show": "Code for plotting Riemann sheets with plotly"
    },
    "tags": [
     "hide-cell",
     "scroll-input"
    ]
   },
   "outputs": [],
   "source": [
    "def plot_riemann_surfaces(\n",
    "    funcs: list[Callable],\n",
    "    func_unicode: str,\n",
    "    boundaries: tuple[complex, float] | tuple[complex, complex] = (0, 1),\n",
    "    resolution: int | tuple[int, int] = 50,\n",
    "    colorize: bool = True,\n",
    "    mask: Callable[[np.ndarray, np.ndarray], bool] | None = None,\n",
    ") -> None:\n",
    "    X, Y = create_meshgrid(boundaries, resolution)\n",
    "    Z = X + Y * 1j\n",
    "    T = [f(Z) for f in funcs]\n",
    "    if mask is not None:\n",
    "        the_mask = np.full(Z.shape, False)\n",
    "        for t in T:\n",
    "            the_mask |= mask(Z, t)\n",
    "        if np.all(the_mask):\n",
    "            raise ValueError(\"All points were masked away\")\n",
    "        X[the_mask] = np.nan\n",
    "        Y[the_mask] = np.nan\n",
    "        Z[the_mask] = np.nan\n",
    "        for t in T:\n",
    "            t[the_mask] = np.nan\n",
    "\n",
    "    vmax = max(max(t.imag.max(), t.real.max()) for t in T)\n",
    "    style = lambda i, t: dict(\n",
    "        cmin=-vmax,\n",
    "        cmax=+vmax,\n",
    "        showscale=colorize,\n",
    "        colorscale=\"RdBu_r\"\n",
    "        if colorize\n",
    "        else [[0, \"rgb(0, 0, 0)\"], [1, DEFAULT_PLOTLY_COLORS[i - 1]]],\n",
    "        surfacecolor=t.real if colorize else np.ones(shape=t.shape),\n",
    "    )\n",
    "    S_im = [\n",
    "        go.Surface(x=X, y=Y, z=t.imag, **style(i, t), name=f\"Sheet {i}\")\n",
    "        for i, t in enumerate(T, 1)\n",
    "    ]\n",
    "    S_re = [\n",
    "        go.Surface(x=X, y=Y, z=t.real, **style(i, t), name=f\"Sheet {i}\")\n",
    "        for i, t in enumerate(T, 1)\n",
    "    ]\n",
    "    fig = make_subplots(\n",
    "        cols=2,\n",
    "        specs=[[{\"type\": \"surface\"}, {\"type\": \"surface\"}]],\n",
    "        subplot_titles=(f\"Im {func_unicode}\", f\"Re {func_unicode}\"),\n",
    "    )\n",
    "    for i in range(len(funcs)):\n",
    "        fig.add_trace(S_im[i], col=1, row=1)\n",
    "        fig.add_trace(S_re[i], col=2, row=1)\n",
    "    fig.update_layout(height=550, width=1_000)\n",
    "    fig.update_traces(colorbar=dict(title=\"Re/Im\"))\n",
    "    fig.show()\n",
    "\n",
    "\n",
    "def create_meshgrid(\n",
    "    boundaries: tuple[complex, float] | tuple[complex, complex] = (0, 1),\n",
    "    resolution: int | tuple[int, int] = 50,\n",
    ") -> tuple[np.ndarray, np.ndarray]:\n",
    "    if isinstance(resolution, tuple):\n",
    "        x_res, y_res = resolution\n",
    "    else:\n",
    "        x_res, y_res = resolution, resolution\n",
    "    box_min, box_max = boundaries\n",
    "    if isinstance(box_max, (float, int)):\n",
    "        pos, r_max = box_min, box_max\n",
    "        R, Θ = np.meshgrid(\n",
    "            np.linspace(0, r_max, num=x_res),\n",
    "            np.linspace(-np.pi, +np.pi, num=y_res),\n",
    "        )\n",
    "        X = R * np.cos(Θ) + pos\n",
    "        Y = R * np.sin(Θ) + pos\n",
    "        return X, Y\n",
    "    x1 = complex(box_min).real\n",
    "    x2 = complex(box_max).real\n",
    "    y1 = complex(box_min).imag\n",
    "    y2 = complex(box_max).imag\n",
    "    return np.meshgrid(\n",
    "        np.linspace(x1, x2, num=x_res),\n",
    "        np.linspace(y1, y2, num=y_res),\n",
    "    )\n",
    "\n",
    "\n",
    "def cut_t(\n",
    "    cutoff: float | tuple[float, float]\n",
    ") -> Callable[[np.ndarray, np.ndarray], bool]:\n",
    "    if isinstance(cutoff, tuple):\n",
    "        re_cut, im_cut = cutoff\n",
    "    else:\n",
    "        re_cut, im_cut = cutoff, cutoff\n",
    "    return lambda z, t: (np.abs(t.real) > re_cut) | (np.abs(t.imag) > im_cut)"
   ]
  },
  {
   "cell_type": "code",
   "execution_count": null,
   "metadata": {
    "tags": [
     "full-width",
     "hide-input"
    ]
   },
   "outputs": [],
   "source": [
    "plot_riemann_surfaces(\n",
    "    funcs=[lambda z: -np.sqrt(z), lambda z: +np.sqrt(z)],\n",
    "    func_unicode=\"±√z\",\n",
    ")"
   ]
  },
  {
   "cell_type": "code",
   "execution_count": null,
   "metadata": {
    "tags": [
     "scroll-input",
     "full-width"
    ]
   },
   "outputs": [],
   "source": [
    "plot_riemann_surfaces(\n",
    "    funcs=[\n",
    "        lambda z: -1 / np.sqrt(z),\n",
    "        lambda z: +1 / np.sqrt(z),\n",
    "    ],\n",
    "    func_unicode=\"1/±√z\",\n",
    "    mask=cut_t(10),\n",
    ")"
   ]
  },
  {
   "cell_type": "markdown",
   "metadata": {},
   "source": [
    "Note also that since $y = e^{x + 2n \\pi i}$ for $\\forall n \\in \\mathbb{Z}$, we have that $x = \\log(y) + 2n\\pi i$:"
   ]
  },
  {
   "cell_type": "code",
   "execution_count": null,
   "metadata": {
    "jupyter": {
     "source_hidden": true
    },
    "tags": [
     "full-width",
     "hide-input"
    ]
   },
   "outputs": [],
   "source": [
    "plot_riemann_surfaces(\n",
    "    funcs=[\n",
    "        lambda z: np.log(z) - 2j * np.pi,\n",
    "        lambda z: np.log(z) + 2j * np.pi,\n",
    "        np.log,\n",
    "    ],\n",
    "    func_unicode=\"log z\",\n",
    "    boundaries=(0, np.e**2),\n",
    "    mask=cut_t((np.e, np.nan)),\n",
    ")"
   ]
  },
  {
   "cell_type": "markdown",
   "metadata": {},
   "source": [
    "<details>\n",
    "<summary>Video explainers</summary>\n",
    "\n",
    "<iframe width=\"560\" height=\"315\" src=\"https://www.youtube-nocookie.com/embed/R9MX8QgKwtg?si=kK-_1Po4XHzRpzR9\" title=\"What are... Riemann surfaces? [VisualMath]\" frameborder=\"0\" allow=\"accelerometer; autoplay; clipboard-write; encrypted-media; gyroscope; picture-in-picture; web-share\" allowfullscreen></iframe>\n",
    "\n",
    "<iframe width=\"560\" height=\"315\" src=\"https://www.youtube.com/embed/sD0NjbwqlYw?si=XQMBxuwolPGlVbwq\" title=\"Visualizing the Riemann zeta function and analytic continuation [3Blue1Brown]\" frameborder=\"0\" allow=\"accelerometer; autoplay; clipboard-write; encrypted-media; gyroscope; picture-in-picture; web-share\" allowfullscreen></iframe>\n",
    "  \n",
    "</details>"
   ]
  },
  {
   "cell_type": "markdown",
   "metadata": {
    "tags": []
   },
   "source": [
    "## Definition of the G(s) functions"
   ]
  },
  {
   "cell_type": "code",
   "execution_count": null,
   "metadata": {
    "jupyter": {
     "source_hidden": true
    },
    "mystnb": {
     "code_prompt_show": "Define special square root for negative values"
    },
    "tags": [
     "hide-input"
    ]
   },
   "outputs": [],
   "source": [
    "@implement_doit_method\n",
    "class SignedSqrt(UnevaluatedExpression):\n",
    "    is_commutative = True\n",
    "    is_real = False\n",
    "\n",
    "    def __new__(cls, z, **hints) -> SignedSqrt:\n",
    "        return create_expression(cls, z, **hints)\n",
    "\n",
    "    def evaluate(self) -> sp.Expr:\n",
    "        z = self.args[0]\n",
    "        return sp.sqrt(abs(z)) * sp.exp(sp.I * PosArg(z) / 2)\n",
    "\n",
    "    def _latex(self, printer, *args) -> str:\n",
    "        z = printer._print(self.args[0])\n",
    "        return Rf\"\\sqrt[+]{{{z}}}\"\n",
    "\n",
    "\n",
    "@implement_doit_method\n",
    "class PosArg(UnevaluatedExpression):\n",
    "    is_commutative = True\n",
    "\n",
    "    def __new__(cls, z, **hints) -> SignedSqrt:\n",
    "        return create_expression(cls, z, **hints)\n",
    "\n",
    "    def evaluate(self) -> sp.Expr:\n",
    "        z = self.args[0]\n",
    "        arg = sp.arg(z)\n",
    "        return sp.Piecewise(\n",
    "            (arg + 2 * sp.pi, sp.im(z) < 0),\n",
    "            (arg, True),\n",
    "        )\n",
    "\n",
    "    def _latex(self, printer, *args) -> str:\n",
    "        z = printer._print(self.args[0])\n",
    "        return Rf\"\\arg^+\\left({z}\\right)\"\n",
    "\n",
    "\n",
    "z = sp.Symbol(\"z\", complex=True)\n",
    "Math(aslatex({e: e.evaluate() for e in [SignedSqrt(z), PosArg(z)]}))"
   ]
  },
  {
   "cell_type": "code",
   "execution_count": null,
   "metadata": {
    "jupyter": {
     "source_hidden": true
    },
    "mystnb": {
     "code_prompt_show": "Show Riemann surface of ⁺√z"
    },
    "tags": [
     "hide-input",
     "hide-output",
     "full-width"
    ]
   },
   "outputs": [],
   "source": [
    "plot_riemann_surfaces(\n",
    "    funcs=[sp.lambdify(z, SignedSqrt(z).doit())],\n",
    "    func_unicode=\"⁺√z\",\n",
    "    mask=lambda z, t: (np.abs(z.imag) < 1e-5) & (z.real > 0),\n",
    "    resolution=(30, 301),\n",
    ")"
   ]
  },
  {
   "cell_type": "code",
   "execution_count": null,
   "metadata": {
    "jupyter": {
     "source_hidden": true
    },
    "mystnb": {
     "code_prompt_show": "Define G and σ expression classes"
    },
    "tags": [
     "hide-input",
     "scroll-input"
    ]
   },
   "outputs": [],
   "source": [
    "@implement_doit_method\n",
    "class G(UnevaluatedExpression):\n",
    "    is_commutative = True\n",
    "    is_real = False\n",
    "\n",
    "    def __new__(cls, s, m, g0, sign=+1, **hints) -> Sigma:\n",
    "        return create_expression(cls, s, m, g0, sign, **hints)\n",
    "\n",
    "    def evaluate(self) -> sp.Expr:\n",
    "        s, m, g0, sign = self.args\n",
    "        sigma = Sigma(s, m)\n",
    "        g = (g0 - sigma * sp.log((sigma - 1) / (sigma + 1))) / (16 * sp.pi**2)\n",
    "        return sp.Piecewise(\n",
    "            (g, sign < 0),\n",
    "            (G(s, m, g0, sign=-1) + 2 * sp.I * sigma / (16 * sp.pi), True),\n",
    "        )\n",
    "\n",
    "    def _latex(self, printer, *args) -> str:\n",
    "        s = printer._print(self.args[0])\n",
    "        sign = self.args[-1]\n",
    "        number = \"I\" if sign < 0 else \"II\"\n",
    "        return f\"G_{{{number}}}({s})\"\n",
    "\n",
    "\n",
    "@implement_doit_method\n",
    "class Sigma(UnevaluatedExpression):\n",
    "    is_commutative = True\n",
    "    is_real = False\n",
    "\n",
    "    def __new__(cls, s, m, **hints) -> Sigma:\n",
    "        return create_expression(cls, s, m, **hints)\n",
    "\n",
    "    def evaluate(self) -> sp.Expr:\n",
    "        s, m = self.args\n",
    "        return SignedSqrt(1 - 4 * m**2 / s)\n",
    "\n",
    "    def _latex(self, printer, *args) -> str:\n",
    "        s = printer._print(self.args[0])\n",
    "        return Rf\"\\sigma\\left({s}\\right)\"\n",
    "\n",
    "\n",
    "s, g0 = sp.symbols(\"s g0\", complex=True)\n",
    "m = sp.Symbol(\"m\", real=True, nonnegative=True)\n",
    "sigma = Sigma(s, m)\n",
    "G1 = G(s, m, g0, sign=-1)\n",
    "G2 = G(s, m, g0, sign=+1)\n",
    "definitions = {e: e.doit(deep=False) for e in [G1, G2, sigma]}\n",
    "Math(aslatex(definitions))"
   ]
  },
  {
   "cell_type": "code",
   "execution_count": null,
   "metadata": {
    "jupyter": {
     "source_hidden": true
    },
    "tags": [
     "hide-input"
    ]
   },
   "outputs": [],
   "source": [
    "substitutions = {\n",
    "    m: 139,\n",
    "    g0: 3.0,\n",
    "}\n",
    "Math(aslatex(substitutions))"
   ]
  },
  {
   "cell_type": "code",
   "execution_count": null,
   "metadata": {
    "jupyter": {
     "source_hidden": true
    },
    "mystnb": {
     "code_prompt_show": "Convert expressions to numerical functions"
    },
    "tags": [
     "hide-cell"
    ]
   },
   "outputs": [],
   "source": [
    "G1_expr = G1.doit().xreplace(substitutions)\n",
    "G2_expr = G2.doit().xreplace(substitutions)\n",
    "assert G1_expr.free_symbols == {s}\n",
    "assert G2_expr.free_symbols == {s}\n",
    "G1_func = sp.lambdify(s, G1_expr)\n",
    "G2_func = sp.lambdify(s, G2_expr)"
   ]
  },
  {
   "cell_type": "code",
   "execution_count": null,
   "metadata": {
    "jupyter": {
     "source_hidden": true
    },
    "tags": [
     "hide-input",
     "full-width"
    ]
   },
   "outputs": [],
   "source": [
    "plot_riemann_surfaces(\n",
    "    funcs=[\n",
    "        lambda z: G1_func(z**2),\n",
    "        lambda z: G2_func(z**2),\n",
    "    ],\n",
    "    func_unicode=\"G(s)\",\n",
    "    boundaries=(240 - 40j, 320 + 40j),\n",
    "    colorize=False,\n",
    "    resolution=(50, 401),\n",
    "    mask=lambda z, t: np.abs(z.imag) == 0,\n",
    ")"
   ]
  },
  {
   "cell_type": "markdown",
   "metadata": {},
   "source": [
    "## T-matrix definition"
   ]
  },
  {
   "cell_type": "code",
   "execution_count": null,
   "metadata": {
    "jupyter": {
     "source_hidden": true
    },
    "mystnb": {
     "code_prompt_show": "Define expression classes"
    },
    "tags": [
     "hide-input",
     "scroll-input"
    ]
   },
   "outputs": [],
   "source": [
    "@implement_doit_method\n",
    "class S(UnevaluatedExpression):\n",
    "    is_commutative = True\n",
    "    is_real = False\n",
    "\n",
    "    def __new__(cls, s, m, Mρ, GV, fπ, g0, sign=+1, **hints) -> Sigma:\n",
    "        return create_expression(cls, s, m, Mρ, GV, fπ, g0, sign, **hints)\n",
    "\n",
    "    def evaluate(self) -> sp.Expr:\n",
    "        s, m, Mρ, GV, fπ, g0, sign = self.args\n",
    "        return 1 - 2 * sp.I * Sigma(s, m) / (16 * sp.pi) * T(*self.args)\n",
    "\n",
    "    def _latex(self, printer, *args) -> str:\n",
    "        s = printer._print(self.args[0])\n",
    "        sign = self.args[-1]\n",
    "        number = \"I\" if sign < 0 else \"II\"\n",
    "        return f\"S_{{{number}}}({s})\"\n",
    "\n",
    "\n",
    "@implement_doit_method\n",
    "class T(UnevaluatedExpression):\n",
    "    is_commutative = True\n",
    "    is_real = False\n",
    "\n",
    "    def __new__(cls, s, m, Mρ, GV, fπ, g0, sign=+1, **hints) -> Sigma:\n",
    "        return create_expression(cls, s, m, Mρ, GV, fπ, g0, sign, **hints)\n",
    "\n",
    "    def evaluate(self) -> sp.Expr:\n",
    "        s, m, Mρ, GV, fπ, g0, sign = self.args\n",
    "        return 1 / (1 / V1(s, m, Mρ, GV, fπ) - G(s, m, g0, sign))\n",
    "\n",
    "    def _latex(self, printer, *args) -> str:\n",
    "        s = printer._print(self.args[0])\n",
    "        sign = self.args[-1]\n",
    "        number = \"I\" if sign < 0 else \"II\"\n",
    "        return f\"T_{{{number}}}({s})\"\n",
    "\n",
    "\n",
    "@implement_doit_method\n",
    "class V1(UnevaluatedExpression):\n",
    "    is_commutative = True\n",
    "    is_real = False\n",
    "\n",
    "    def __new__(cls, s, m, Mρ, GV, fπ, **hints) -> Sigma:\n",
    "        return create_expression(cls, s, m, Mρ, GV, fπ, **hints)\n",
    "\n",
    "    def evaluate(self) -> sp.Expr:\n",
    "        s, m, Mρ, GV, fπ = self.args\n",
    "        return -(2 * p2(s, m)) / (3 * fπ**2) * (\n",
    "            1 - GV**2 / fπ**2 * 2 * s / (s - Mρ**2)\n",
    "        ) - GV**2 / fπ**4 * p2(s, m) * h(Mρ**2 / (2 * p2(s, m)))\n",
    "\n",
    "    def _latex(self, printer, *args) -> str:\n",
    "        s = printer._print(self.args[0])\n",
    "        return Rf\"V_1\\left({s}\\right)\"\n",
    "\n",
    "\n",
    "@implement_doit_method\n",
    "class h(UnevaluatedExpression):\n",
    "    is_commutative = True\n",
    "\n",
    "    def __new__(cls, a, **hints) -> Sigma:\n",
    "        return create_expression(cls, a, **hints)\n",
    "\n",
    "    def evaluate(self) -> sp.Expr:\n",
    "        a = self.args[0]\n",
    "        return -sp.Mul(\n",
    "            sp.Rational(2, 3),\n",
    "            (1 + 6 * a + 3 * a**2),\n",
    "            evaluate=False,\n",
    "        ) + a * (2 + 3 * a + a**2) * sp.log(1 + 2 / a)\n",
    "\n",
    "    def _latex(self, printer, *args) -> str:\n",
    "        a = printer._print(self.args[0])\n",
    "        return Rf\"h\\left({a}\\right)\"\n",
    "\n",
    "\n",
    "@implement_doit_method\n",
    "class p2(UnevaluatedExpression):\n",
    "    is_commutative = True\n",
    "\n",
    "    def __new__(cls, s, m, **hints) -> Sigma:\n",
    "        return create_expression(cls, s, m, **hints)\n",
    "\n",
    "    def evaluate(self) -> sp.Expr:\n",
    "        s, m = self.args\n",
    "        return s / 4 - m**2\n",
    "\n",
    "    def _latex(self, printer, *args) -> str:\n",
    "        s = printer._print(self.args[0])\n",
    "        return Rf\"p^2\\left({s}\\right)\"\n",
    "\n",
    "\n",
    "a, Mρ, GV, fπ = sp.symbols(\"a m_rho, G_V f_pi\")\n",
    "_exprs = [\n",
    "    S(s, m, Mρ, GV, fπ, g0, sign=-1),\n",
    "    T(s, m, Mρ, GV, fπ, g0, sign=-1),\n",
    "    T(s, m, Mρ, GV, fπ, g0, sign=+1),\n",
    "    V1(s, m, Mρ, GV, fπ),\n",
    "    h(a),\n",
    "    p2(s, m),\n",
    "]\n",
    "Math(aslatex({e: e.doit(deep=False) for e in _exprs}))"
   ]
  },
  {
   "cell_type": "code",
   "execution_count": null,
   "metadata": {
    "jupyter": {
     "source_hidden": true
    },
    "tags": [
     "hide-input"
    ]
   },
   "outputs": [],
   "source": [
    "gv = sp.Symbol(\"g_v\")\n",
    "substitutions = {\n",
    "    fπ: 87.3,\n",
    "    GV: sp.sqrt(gv**2 * fπ**2) / 2,\n",
    "    gv: 1,\n",
    "    m: 139,\n",
    "    Mρ: 770,\n",
    "    g0: -3,\n",
    "}\n",
    "Math(aslatex(substitutions))"
   ]
  },
  {
   "cell_type": "code",
   "execution_count": null,
   "metadata": {
    "jupyter": {
     "source_hidden": true
    },
    "tags": [
     "hide-input"
    ]
   },
   "outputs": [],
   "source": [
    "T_exprs = [\n",
    "    T(s, m, Mρ, GV, fπ, g0, sign)\n",
    "    .doit()\n",
    "    .xreplace(substitutions)\n",
    "    .xreplace(substitutions)\n",
    "    for sign in [-1, +1]\n",
    "]\n",
    "T_funcs = [sp.lambdify(s, expr) for expr in T_exprs]"
   ]
  },
  {
   "cell_type": "code",
   "execution_count": null,
   "metadata": {
    "jupyter": {
     "source_hidden": true
    },
    "tags": [
     "hide-input",
     "scroll-input"
    ]
   },
   "outputs": [],
   "source": [
    "x = np.linspace(500, 1_100, num=200)\n",
    "y = np.linspace(1e-5, 150, num=100)\n",
    "X, Yn = np.meshgrid(x, -y)\n",
    "X, Yp = np.meshgrid(x, +y)\n",
    "Zn = X + Yn * 1j\n",
    "Zp = X + Yp * 1j\n",
    "Tn = T_funcs[1](Zn**2)\n",
    "Tp = T_funcs[0](Zp**2)\n",
    "\n",
    "vmax = 100\n",
    "sty = lambda t: dict(\n",
    "    cmin=-vmax,\n",
    "    cmax=+vmax,\n",
    "    colorscale=\"RdBu_r\",\n",
    "    surfacecolor=t.imag,\n",
    ")\n",
    "Sn = go.Surface(x=X, y=Yn, z=Tn.real, **sty(Tn), name=\"Unphysical\")\n",
    "Sp = go.Surface(\n",
    "    x=X, y=Yp, z=Tp.real, **sty(Tp), name=\"Physical\", colorbar_title=\"Re T\"\n",
    ")\n",
    "y = Yp[0]\n",
    "z = x + y * 1j\n",
    "line = go.Scatter3d(\n",
    "    x=x,\n",
    "    y=y,\n",
    "    z=T_funcs[0](z**2).real,\n",
    "    marker=dict(size=0),\n",
    "    line=dict(color=\"darkgreen\", width=1),\n",
    ")\n",
    "fig = go.Figure(data=[Sn, Sp, line])\n",
    "fig.update_layout(height=550, width=600)\n",
    "fig.update_scenes(\n",
    "    xaxis_title_text=\"Re s\",\n",
    "    yaxis_title_text=\"Im s\",\n",
    "    zaxis_title_text=\"Im T\",\n",
    "    zaxis_range=[-vmax, +vmax],\n",
    ")\n",
    "fig.show()"
   ]
  },
  {
   "cell_type": "code",
   "execution_count": null,
   "metadata": {
    "jupyter": {
     "source_hidden": true
    },
    "tags": [
     "hide-input",
     "scroll-input"
    ]
   },
   "outputs": [],
   "source": [
    "sty = lambda t: dict(\n",
    "    cmin=-vmax,\n",
    "    cmax=+vmax,\n",
    "    colorscale=\"RdBu_r\",\n",
    "    surfacecolor=t.real,\n",
    ")\n",
    "Sn = go.Surface(x=X, y=Yn, z=Tn.imag, **sty(Tn), name=\"Unphysical\")\n",
    "Sp = go.Surface(\n",
    "    x=X, y=Yp, z=Tp.imag, **sty(Tp), name=\"Physical\", colorbar_title=\"Im T\"\n",
    ")\n",
    "y = Yp[0]\n",
    "z = x + y * 1j\n",
    "line = go.Scatter3d(\n",
    "    x=x,\n",
    "    y=y,\n",
    "    z=T_funcs[0](z**2).imag,\n",
    "    marker=dict(size=0),\n",
    "    line=dict(color=\"darkgreen\", width=1),\n",
    ")\n",
    "fig = go.Figure(data=[Sn, Sp, line])\n",
    "fig.update_layout(height=550, width=600)\n",
    "fig.update_scenes(\n",
    "    xaxis_title_text=\"Re s\",\n",
    "    yaxis_title_text=\"Im s\",\n",
    "    zaxis_title_text=\"Re T\",\n",
    "    zaxis_range=[-vmax, +vmax],\n",
    ")\n",
    "fig.show()"
   ]
  }
 ],
 "metadata": {
  "colab": {
   "toc_visible": true
  },
  "kernelspec": {
   "display_name": "Python 3 (ipykernel)",
   "language": "python",
   "name": "python3"
  },
  "language_info": {
   "codemirror_mode": {
    "name": "ipython",
    "version": 3
   },
   "file_extension": ".py",
   "mimetype": "text/x-python",
   "name": "python",
   "nbconvert_exporter": "python",
   "pygments_lexer": "ipython3",
   "version": "3.10.13"
  }
 },
 "nbformat": 4,
 "nbformat_minor": 4
}
