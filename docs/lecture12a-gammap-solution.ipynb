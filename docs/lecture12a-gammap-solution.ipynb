{
 "cells": [
  {
   "cell_type": "markdown",
   "metadata": {},
   "source": [
    "# Lecture 12 – γ p [solution]"
   ]
  },
  {
   "cell_type": "markdown",
   "metadata": {},
   "source": [
    "**Invariant masses of particle pairs and Dalitz plots for another reaction with three particles in the final state $\\gamma p\\rightarrow \\pi^+\\pi^-p$.**"
   ]
  },
  {
   "cell_type": "markdown",
   "metadata": {},
   "source": [
    "Prepare the notebook with the preambles for the inclusion of pandas, numpy and matplotlib.pyplot:"
   ]
  },
  {
   "cell_type": "code",
   "execution_count": null,
   "metadata": {
    "tags": [
     "remove-cell"
    ]
   },
   "outputs": [],
   "source": [
    "%pip install -q gdown matplotlib numpy pandas pylorentz scipy"
   ]
  },
  {
   "cell_type": "code",
   "execution_count": null,
   "metadata": {
    "jupyter": {
     "source_hidden": true
    },
    "mystnb": {
     "code_prompt_show": "Import Python libraries"
    },
    "tags": [
     "hide-cell"
    ]
   },
   "outputs": [],
   "source": [
    "import gdown\n",
    "import matplotlib.pyplot as plt\n",
    "import numpy as np\n",
    "import pandas as pd\n",
    "from pylorentz import Momentum4"
   ]
  },
  {
   "cell_type": "code",
   "execution_count": null,
   "metadata": {
    "mystnb": {
     "code_prompt_show": "Download data"
    },
    "tags": [
     "hide-input",
     "full-width"
    ]
   },
   "outputs": [],
   "source": [
    "output_path = gdown.cached_download(\n",
    "    url=\"https://drive.google.com/uc?id=1qiYjPbR5nx3_Sw7MXuUKhNAUpkXPoxYh\",\n",
    "    path=\"data/lecture6-gammap-data.csv\",\n",
    "    md5=\"38cf5bf915318df756a21a82ad9e4afa\",\n",
    "    quiet=True,\n",
    ")\n",
    "data = pd.read_csv(output_path)\n",
    "data.columns = data.columns.str.strip()\n",
    "data"
   ]
  },
  {
   "cell_type": "markdown",
   "metadata": {},
   "source": [
    "> The columns headers present some trailing blanks, that must be dropped to be able to use correctly the DataFormat structure (if not, they deliver an error message). To do so, the `str.strip()` function must be used beforehand to reformat the column shape."
   ]
  },
  {
   "cell_type": "markdown",
   "metadata": {},
   "source": [
    "Inspect the data file and format. The file contains the 4-momenta of the particles of the reaction $\\gamma p \\rightarrow \\pi^+\\pi^- p$, the last column corresponds to the 3rd component of the photon momentum (up to 2.5 GeV/c), which travels along the $z$ axis. Since the target was made of HD, to select the data interacting on protons only a cut on the missing momentum of the reaction was made."
   ]
  },
  {
   "cell_type": "markdown",
   "metadata": {},
   "source": [
    "## Invariant mass distributions"
   ]
  },
  {
   "cell_type": "markdown",
   "metadata": {},
   "source": [
    "### Measured data"
   ]
  },
  {
   "cell_type": "markdown",
   "metadata": {},
   "source": [
    ":::{exercise}\n",
    ":label: lecture12-ex1\n",
    "\n",
    "Evaluate the invariant masses (squared and linear) for particle pairs, in a similar way as done in the first example.\n",
    "\n",
    ":::\n",
    "\n",
    "```{solution-start} lecture12-ex1\n",
    ":class: dropdown\n",
    "```"
   ]
  },
  {
   "cell_type": "code",
   "execution_count": null,
   "metadata": {
    "cellView": "form"
   },
   "outputs": [],
   "source": [
    "# @title Solution\n",
    "inv_mass_squared_12 = (\n",
    "    (data.E1 + data.E2) ** 2\n",
    "    - (data.p1x + data.p2x) ** 2\n",
    "    - (data.p1y + data.p2y) ** 2\n",
    "    - (data.p1z + data.p2z) ** 2\n",
    ")\n",
    "inv_mass_squared_13 = (\n",
    "    (data.E1 + data.E3) ** 2\n",
    "    - (data.p1x + data.p3x) ** 2\n",
    "    - (data.p1y + data.p3y) ** 2\n",
    "    - (data.p1z + data.p3z) ** 2\n",
    ")\n",
    "inv_mass_squared_23 = (\n",
    "    (data.E3 + data.E2) ** 2\n",
    "    - (data.p3x + data.p2x) ** 2\n",
    "    - (data.p3y + data.p2y) ** 2\n",
    "    - (data.p3z + data.p2z) ** 2\n",
    ")\n",
    "invariant_mass_12 = np.sqrt(inv_mass_squared_12)\n",
    "invariant_mass_13 = np.sqrt(inv_mass_squared_13)\n",
    "invariant_mass_23 = np.sqrt(inv_mass_squared_23)"
   ]
  },
  {
   "cell_type": "markdown",
   "metadata": {},
   "source": [
    "```{solution-end}\n",
    "```\n",
    "\n",
    ":::{exercise}\n",
    ":label: lecture12-ex2\n",
    "\n",
    "Plot the evaluated invariant masses. First, though, let's plot the antineutron momentum to see how the distribution looks like.\n",
    "\n",
    ":::\n",
    "\n",
    "```{solution-start} lecture12-ex2\n",
    ":class: dropdown\n",
    "```"
   ]
  },
  {
   "cell_type": "code",
   "execution_count": null,
   "metadata": {
    "cellView": "form",
    "jupyter": {
     "source_hidden": true
    },
    "tags": [
     "hide-input"
    ]
   },
   "outputs": [],
   "source": [
    "# @title Solution\n",
    "plt.hist(data.pgamma, bins=80, color=\"turquoise\")\n",
    "plt.xlabel(\"Photon momentum [GeV/c]\")\n",
    "plt.ylabel(\"Entries/(21 MeV/c)\")\n",
    "plt.title(\"The histogram of the momentum of the incoming photon \\n\")\n",
    "plt.show()"
   ]
  },
  {
   "cell_type": "markdown",
   "metadata": {},
   "source": [
    "```{solution-end}\n",
    "```\n",
    "\n",
    ":::{exercise}\n",
    ":label: lecture12-ex3\n",
    "\n",
    "Now plot the invariant masses distributions for the three pion pairs.\n",
    "\n",
    ":::\n",
    "\n",
    "```{solution-start} lecture12-ex3\n",
    ":class: dropdown\n",
    "```"
   ]
  },
  {
   "cell_type": "code",
   "execution_count": null,
   "metadata": {
    "cellView": "form",
    "jupyter": {
     "source_hidden": true
    },
    "tags": [
     "hide-input"
    ]
   },
   "outputs": [],
   "source": [
    "# @title Solution\n",
    "# plot the histogram pi+pi-\n",
    "plt.hist(invariant_mass_12, bins=200, range=(0.2, 1.2))\n",
    "plt.xlabel(\"Invariant mass [GeV]\")\n",
    "plt.ylabel(\"Entries/(5 MeV)\")\n",
    "plt.title(\"The histogram of the invariant mass of $\\\\pi^+$ and $\\\\pi^-$ \\n\")\n",
    "plt.show()"
   ]
  },
  {
   "cell_type": "code",
   "execution_count": null,
   "metadata": {
    "cellView": "form",
    "jupyter": {
     "source_hidden": true
    },
    "tags": [
     "hide-input"
    ]
   },
   "outputs": [],
   "source": [
    "# @title Solution\n",
    "# plot the histogram pi+proton\n",
    "plt.hist(invariant_mass_13, bins=200, color=\"tomato\", range=(1.0, 2.0))\n",
    "plt.xlabel(\"Invariant mass [GeV]\")\n",
    "plt.ylabel(\"Entries/(5 MeV)\")\n",
    "plt.title(\"The histogram of the invariant mass of $\\\\pi^+$ and proton  \\n\")\n",
    "plt.show()"
   ]
  },
  {
   "cell_type": "code",
   "execution_count": null,
   "metadata": {
    "cellView": "form",
    "jupyter": {
     "source_hidden": true
    },
    "tags": [
     "hide-input"
    ]
   },
   "outputs": [],
   "source": [
    "# @title Solution\n",
    "# plot the histogram pi-proton\n",
    "plt.hist(invariant_mass_23, bins=200, color=\"darkmagenta\", range=(1.0, 2.0))\n",
    "plt.xlabel(\"Invariant mass [GeV]\")\n",
    "plt.ylabel(\"Entries/(5 MeV)\")\n",
    "plt.title(\"The histogram of the invariant mass of $\\\\pi^-$ and proton \\n\")\n",
    "plt.show()"
   ]
  },
  {
   "cell_type": "markdown",
   "metadata": {},
   "source": [
    "You can superimpose the two last plots to check the differences in the lineshapes of the two distributions."
   ]
  },
  {
   "cell_type": "code",
   "execution_count": null,
   "metadata": {
    "cellView": "form",
    "jupyter": {
     "source_hidden": true
    },
    "tags": [
     "hide-input"
    ]
   },
   "outputs": [],
   "source": [
    "# @title Solution\n",
    "plt.hist(invariant_mass_13, bins=200, color=\"tomato\", range=(1.0, 2.0))\n",
    "plt.hist(\n",
    "    invariant_mass_23, bins=200, color=\"darkmagenta\", alpha=0.4, range=(1.0, 2.0)\n",
    ")\n",
    "plt.xlabel(\"Invariant mass [GeV]\")\n",
    "plt.ylabel(\"Entries/(5 MeV)\")\n",
    "plt.show()"
   ]
  },
  {
   "cell_type": "markdown",
   "metadata": {},
   "source": [
    "```{solution-end}\n",
    "```\n",
    "\n",
    ":::{exercise}\n",
    ":label: lecture12-ex4\n",
    "\n",
    "Plot the distributions over the Dalitz plane.\n",
    "\n",
    ":::\n",
    "\n",
    "```{solution-start} lecture12-ex4\n",
    ":class: dropdown\n",
    "```"
   ]
  },
  {
   "cell_type": "code",
   "execution_count": null,
   "metadata": {
    "cellView": "form",
    "jupyter": {
     "source_hidden": true
    },
    "tags": [
     "hide-input"
    ]
   },
   "outputs": [],
   "source": [
    "# @title Solution\n",
    "fig, ax = plt.subplots(1, 2, tight_layout=True, figsize=(7, 4))\n",
    "ax[0].hist2d(\n",
    "    inv_mass_squared_13,\n",
    "    inv_mass_squared_12,\n",
    "    bins=200,\n",
    "    range=[[1.0, 3], [0.0, 0.8]],\n",
    "    cmap=\"jet\",\n",
    ")\n",
    "ax[0].set_xlabel(R\"i.m.$^2(\\pi^+p$) [GeV$^2$]\")\n",
    "ax[0].set_ylabel(R\"i.m.$^2(\\pi^+\\pi^-$) [GeV$^2$]\")\n",
    "ax[1].hist2d(\n",
    "    inv_mass_squared_13,\n",
    "    inv_mass_squared_23,\n",
    "    bins=200,\n",
    "    range=[[1.0, 3], [1.0, 3.0]],\n",
    "    cmap=\"jet\",\n",
    ")\n",
    "ax[1].set_xlabel(R\"i.m.$^2(\\pi^+p$) [GeV$^2$]\")\n",
    "ax[1].set_ylabel(R\"i.m.$^2(\\pi^-p$) [GeV$^2$]\")\n",
    "plt.show()"
   ]
  },
  {
   "cell_type": "markdown",
   "metadata": {},
   "source": [
    "```{solution-end}\n",
    "```"
   ]
  },
  {
   "cell_type": "markdown",
   "metadata": {},
   "source": [
    "### Monte Carlo data"
   ]
  },
  {
   "cell_type": "markdown",
   "metadata": {},
   "source": [
    "How do Dalitz plots look like with MonteCarlo generated data?\n",
    "Repeat the previous procedures with a new file, corresponding to generated data from the same reaction, and compare the shapes (statistics are different)"
   ]
  },
  {
   "cell_type": "code",
   "execution_count": null,
   "metadata": {
    "jupyter": {
     "source_hidden": true
    },
    "mystnb": {
     "code_prompt_show": "Download MC data"
    },
    "tags": [
     "hide-input"
    ]
   },
   "outputs": [],
   "source": [
    "path_mc = gdown.cached_download(\n",
    "    url=\"https://drive.google.com/uc?id=11J0xaQLRMxzgQLXEhXZb_u4mnxp8RVPO\",\n",
    "    path=\"data/lecture6-gammap-mc.csv\",\n",
    "    md5=\"04152c69c802b13a55a3ffb3d07012d1\",\n",
    "    quiet=True,\n",
    ")\n",
    "mc = pd.read_csv(path_mc)\n",
    "mc.columns = mc.columns.str.strip()"
   ]
  },
  {
   "cell_type": "code",
   "execution_count": null,
   "metadata": {
    "cellView": "form"
   },
   "outputs": [],
   "source": [
    "# @title Solution\n",
    "inv_mass_squared_12_mc = (\n",
    "    (mc.E1 + mc.E2) ** 2\n",
    "    - (mc.p1x + mc.p2x) ** 2\n",
    "    - (mc.p1y + mc.p2y) ** 2\n",
    "    - (mc.p1z + mc.p2z) ** 2\n",
    ")\n",
    "inv_mass_squared_13_mc = (\n",
    "    (mc.E1 + mc.E3) ** 2\n",
    "    - (mc.p1x + mc.p3x) ** 2\n",
    "    - (mc.p1y + mc.p3y) ** 2\n",
    "    - (mc.p1z + mc.p3z) ** 2\n",
    ")\n",
    "inv_mass_squared_23_mc = (\n",
    "    (mc.E3 + mc.E2) ** 2\n",
    "    - (mc.p3x + mc.p2x) ** 2\n",
    "    - (mc.p3y + mc.p2y) ** 2\n",
    "    - (mc.p3z + mc.p2z) ** 2\n",
    ")"
   ]
  },
  {
   "cell_type": "markdown",
   "metadata": {},
   "source": [
    "The phase space simulation was done extracting the photon momentum from the real data distribution."
   ]
  },
  {
   "cell_type": "code",
   "execution_count": null,
   "metadata": {
    "cellView": "form",
    "jupyter": {
     "source_hidden": true
    },
    "tags": [
     "hide-input"
    ]
   },
   "outputs": [],
   "source": [
    "# @title Solution\n",
    "plt.hist(data.pgamma, bins=80, color=\"darkturquoise\")\n",
    "plt.xlabel(\"Photon momentum [GeV/c]\")\n",
    "plt.ylabel(\"Entries/(21 MeV/c)\")\n",
    "plt.title(\"The histogram of the momentum of the incoming photon \\n\")\n",
    "plt.show()"
   ]
  },
  {
   "cell_type": "markdown",
   "metadata": {},
   "source": [
    "Let's see the invariant masses histogram shapes using phase space Monte Carlo events."
   ]
  },
  {
   "cell_type": "code",
   "execution_count": null,
   "metadata": {
    "cellView": "form",
    "jupyter": {
     "source_hidden": true
    },
    "tags": [
     "hide-input"
    ]
   },
   "outputs": [],
   "source": [
    "# @title Solution\n",
    "fig, ax = plt.subplots(1, 3, tight_layout=True, figsize=(10, 4))\n",
    "\n",
    "# plot the histogram pi+pi-\n",
    "ax[0].hist(np.sqrt(inv_mass_squared_12_mc), bins=100, range=(0.2, 1.4))\n",
    "ax[0].set_xlabel(R\"($\\pi^+\\pi^-$) Invariant mass [GeV]\")\n",
    "ax[0].set_ylabel(\"Entries/(12 MeV)\")\n",
    "ax[0].set_title(\"($\\\\pi^+\\\\pi^-$) i.m. \\n\")\n",
    "# plot the histogram pi+p\n",
    "ax[1].hist(\n",
    "    np.sqrt(inv_mass_squared_13_mc), color=\"tomato\", bins=100, range=(1.0, 2.0)\n",
    ")\n",
    "ax[1].set_xlabel(R\"($\\pi^+p$) Invariant mass [GeV]\")\n",
    "ax[1].set_ylabel(\"Entries/(10 MeV)\")\n",
    "ax[1].set_title(\"($\\\\pi^+p$) i.m. \\n\")\n",
    "# plot the histogram pi-pi-\n",
    "ax[2].hist(\n",
    "    np.sqrt(inv_mass_squared_23_mc), bins=100, color=\"darkmagenta\", range=(1.0, 2.0)\n",
    ")\n",
    "ax[2].set_xlabel(R\"($\\pi^-p$) Invariant mass [GeV]\")\n",
    "ax[2].set_ylabel(\"Entries/(10 MeV)\")\n",
    "ax[2].set_title(\"($\\\\pi^-p$) i.m. \\n\")\n",
    "plt.show()"
   ]
  },
  {
   "cell_type": "markdown",
   "metadata": {},
   "source": [
    "And now the Dalitz plots:"
   ]
  },
  {
   "cell_type": "code",
   "execution_count": null,
   "metadata": {
    "cellView": "form",
    "jupyter": {
     "source_hidden": true
    },
    "tags": [
     "hide-input"
    ]
   },
   "outputs": [],
   "source": [
    "# @title Solution\n",
    "fig, ax = plt.subplots(1, 2, tight_layout=True, figsize=(7, 4))\n",
    "ax[0].hist2d(\n",
    "    inv_mass_squared_13_mc,\n",
    "    inv_mass_squared_12_mc,\n",
    "    bins=200,\n",
    "    range=[[1.0, 3], [0.0, 0.8]],\n",
    "    cmap=\"jet\",\n",
    ")\n",
    "ax[0].set_xlabel(R\"i.m.$^2(\\pi^+p$) [GeV$^2$]\")\n",
    "ax[0].set_ylabel(R\"i.m.$^2(\\pi^+\\pi^-$) [GeV$^2$]\")\n",
    "ax[1].hist2d(\n",
    "    inv_mass_squared_13_mc,\n",
    "    inv_mass_squared_23_mc,\n",
    "    bins=200,\n",
    "    range=[[1.0, 3], [1.0, 3.0]],\n",
    "    cmap=\"jet\",\n",
    ")\n",
    "ax[1].set_xlabel(R\"i.m.$^2(\\pi^+p$) [GeV$^2$]\")\n",
    "ax[1].set_ylabel(R\"i.m.$^2(\\pi^-p$) [GeV$^2$]\")\n",
    "plt.show()"
   ]
  },
  {
   "cell_type": "markdown",
   "metadata": {},
   "source": [
    "## Missing mass distributions\n",
    "\n",
    "Now, let's take a look to the missing mass distribution (final - initial\n",
    "state). Let's start from the real data using the pylorentz package to build 4-vectors (first, work out the [`lecture12b-kinematics.ipynb`](./lecture12b-kinematics.ipynb) notebook)."
   ]
  },
  {
   "cell_type": "code",
   "execution_count": null,
   "metadata": {},
   "outputs": [],
   "source": [
    "# final state\n",
    "pip = Momentum4(data.E1, data.p1x, data.p1y, data.p1z)\n",
    "pim = Momentum4(data.E2, data.p2x, data.p2y, data.p2z)\n",
    "proton = Momentum4(data.E3, data.p3x, data.p3y, data.p3z)\n",
    "\n",
    "# initial state\n",
    "m_proton = 0.93827\n",
    "n_events = len(data)\n",
    "zeros = np.zeros(n_events)\n",
    "ones = np.ones(n_events)\n",
    "gamma = Momentum4(data.pgamma, zeros, zeros, data.pgamma)\n",
    "target = Momentum4(m_proton * ones, zeros, zeros, zeros)"
   ]
  },
  {
   "cell_type": "code",
   "execution_count": null,
   "metadata": {
    "jupyter": {
     "source_hidden": true
    },
    "tags": [
     "hide-input"
    ]
   },
   "outputs": [],
   "source": [
    "init = gamma + target\n",
    "final = pip + pim + proton\n",
    "missingMomentum = final - init\n",
    "\n",
    "plt.hist(missingMomentum.m2, bins=200, color=\"palegreen\", range=(-0.02, 0.01))\n",
    "plt.xlabel(R\"Missing mass squared [$(\\mathrm{GeV}/c^2)^2$]\")\n",
    "plt.ylabel(R\"Entries/($5x10^{-5}\\;(\\mathrm{GeV}/c^2)^2$)\")\n",
    "plt.title(\"Missing momentum \\n\")\n",
    "plt.show()"
   ]
  },
  {
   "cell_type": "markdown",
   "metadata": {},
   "source": [
    "The missing mass square is always negative: this means that the total energy of the initial state exceeds the measured energy of the final state, so there is (likely) a missing particle which carries away some energy. We know that the reaction occurred on a HD molecule as a target: this means that a recoiling neutron is present in all cases when the reaction occurred on a deuteron nucleus: $\\gamma p(n)\\rightarrow \\pi^+\\pi^- p (n)$. In this case, moreover, the hit proton is not at rest but it may have a momentum (called Fermi momentum) which, in the deuteron center-of-mass, is roughly distributed as a gaussian 50 MeV/c wide, with maximum at abouth 270 MeV/c. The missing mass momentum distribution shows the effect of the presence of a non-null Fermi momentum, and the possible contribution to the reaction kinematics of the spectator neutron.\n",
    "\n",
    "In the data selection procedure, the Fermi momentum was required not to exceed 100 MeV/c to preserve the condition that the neutron is a spectator in the reaction occurring on deuteron. Let's see the shape of the missing momentum distribution:  "
   ]
  },
  {
   "cell_type": "code",
   "execution_count": null,
   "metadata": {
    "jupyter": {
     "source_hidden": true
    },
    "tags": [
     "hide-input"
    ]
   },
   "outputs": [],
   "source": [
    "plt.hist(missingMomentum.p, bins=150, color=\"mediumspringgreen\", range=(0.0, 0.150))\n",
    "plt.xlabel(\"Missing momentum [GeV/c]\")\n",
    "plt.ylabel(\"Entries/(10 MeV/c)\")\n",
    "plt.title(\"Missing momentum \\n\")\n",
    "plt.show()"
   ]
  },
  {
   "cell_type": "markdown",
   "metadata": {},
   "source": [
    "Let's now consider the missing mass recoiling against the neutral dipion: in an exclusive reaction we expect it to peak at the proton mass. Is the PID selection of our sample acceptable?"
   ]
  },
  {
   "cell_type": "code",
   "execution_count": null,
   "metadata": {
    "jupyter": {
     "source_hidden": true
    },
    "tags": [
     "hide-input"
    ]
   },
   "outputs": [],
   "source": [
    "dipion = pip + pim\n",
    "missingMomentumDipion = init - dipion\n",
    "\n",
    "plt.hist(missingMomentumDipion.m2, bins=200, color=\"violet\", range=(0.0, 2))\n",
    "plt.xlabel(R\"Missing mass squared [$(\\mathrm{GeV}/c^2)^2$]\")\n",
    "plt.ylabel(R\"Entries/($0.01\\;(\\mathrm{GeV}/c^2)^2$)\")\n",
    "plt.title(\"Missing momentum recoiling against the dipion\\n\")\n",
    "plt.show()"
   ]
  },
  {
   "cell_type": "markdown",
   "metadata": {},
   "source": [
    "Let's visualize the scatter plot of the two missing masses squared:"
   ]
  },
  {
   "cell_type": "code",
   "execution_count": null,
   "metadata": {
    "jupyter": {
     "source_hidden": true
    },
    "tags": [
     "hide-input"
    ]
   },
   "outputs": [],
   "source": [
    "fig = plt.figure()\n",
    "plt.hist2d(\n",
    "    missingMomentumDipion.m2,\n",
    "    missingMomentum.m2,\n",
    "    bins=200,\n",
    "    range=[[0.80, 1.0], [-0.003, 0.001]],\n",
    "    cmap=\"rainbow\",\n",
    ")\n",
    "plt.xlabel(R\"Dipion M.M. squared [$(\\mathrm{GeV}/c^2)^2$]\")\n",
    "plt.ylabel(R\"Reaction M.M. squared [$(\\mathrm{GeV}/c^2)^2$)\")\n",
    "plt.show()"
   ]
  },
  {
   "cell_type": "markdown",
   "metadata": {},
   "source": [
    "## Let's do some fits\n",
    "\n",
    "Which is the maximum of the missing momentum, and where is the peak of the\n",
    "missing mass distribution?\n",
    "Let's attempt two fits with a single gaussian function."
   ]
  },
  {
   "cell_type": "code",
   "execution_count": null,
   "metadata": {
    "jupyter": {
     "source_hidden": true
    },
    "tags": [
     "scroll-input",
     "hide-input"
    ]
   },
   "outputs": [],
   "source": [
    "from scipy.optimize import curve_fit\n",
    "\n",
    "# normalize the histogram to 1\n",
    "low_edge = 0.015\n",
    "up_edge = 0.035\n",
    "hist, bin_edges = np.histogram(missingMomentum.p, 100, range=(low_edge, up_edge))\n",
    "integral_hist = sum(hist)\n",
    "hist = hist / integral_hist\n",
    "\n",
    "n = hist.size\n",
    "x_hist = np.zeros((n), dtype=float)\n",
    "for ii in range(n):\n",
    "    x_hist[ii] = (bin_edges[ii + 1] + bin_edges[ii]) / 2\n",
    "\n",
    "y_hist = hist\n",
    "\n",
    "# Calculating the Gaussian PDF values given Gaussian parameters and random variable X\n",
    "\n",
    "\n",
    "def gaus(X, C, X_mean, sigma):\n",
    "    return C * np.exp(-((X - X_mean) ** 2) / (2 * sigma**2))\n",
    "\n",
    "\n",
    "mean = sum(x_hist * y_hist) / sum(y_hist)\n",
    "sigma = sum(y_hist * (x_hist - mean) ** 2) / sum(y_hist)\n",
    "\n",
    "# Gaussian least-square fitting process\n",
    "param_optimised, param_covariance_matrix = curve_fit(\n",
    "    gaus, x_hist, y_hist, p0=[max(y_hist), mean, sigma], maxfev=5000\n",
    ")\n",
    "\n",
    "# print fit Gaussian parameters\n",
    "print(\"Fit parameters: \")\n",
    "print(\"=====================================================\")\n",
    "print(\"C = \", param_optimised[0], \"+-\", np.sqrt(param_covariance_matrix[0, 0]))\n",
    "print(\"X_mean =\", param_optimised[1], \"+-\", np.sqrt(param_covariance_matrix[1, 1]))\n",
    "print(\"sigma = \", param_optimised[2], \"+-\", np.sqrt(param_covariance_matrix[2, 2]))\n",
    "print(\"\\n\")\n",
    "\n",
    "\n",
    "# STEP 4: PLOTTING THE GAUSSIAN CURVE -----------------------------------------\n",
    "fig = plt.figure()\n",
    "x_hist_2 = np.linspace(np.min(x_hist), np.max(x_hist), 100)\n",
    "# this plots the curve only\n",
    "plt.plot(\n",
    "    x_hist_2, gaus(x_hist_2, *param_optimised), color=\"red\", label=\"Gaussian fit\"\n",
    ")\n",
    "plt.legend()\n",
    "\n",
    "# plot the experimental point of the portion of spectrum to be fitted\n",
    "plt.scatter(x_hist, y_hist, color=\"mediumspringgreen\")\n",
    "\n",
    "# Normalise the histogram values\n",
    "weights = np.ones_like(y_hist) / y_hist.size\n",
    "# plt.hist(x_hist, weights=weights)\n",
    "# plt.hist(x_hist)\n",
    "# plt.hist(hist)\n",
    "\n",
    "\n",
    "# setting the label,title and grid of the plot\n",
    "plt.xlabel(\"Data: Random variable\")\n",
    "plt.ylabel(\"Probability\")\n",
    "plt.grid(\"on\")\n",
    "plt.show()"
   ]
  },
  {
   "cell_type": "code",
   "execution_count": null,
   "metadata": {
    "jupyter": {
     "source_hidden": true
    },
    "tags": [
     "hide-input"
    ]
   },
   "outputs": [],
   "source": [
    "# normalize the histogram to 1 and then to ratio of the maximum values\n",
    "histfull, bin_edgesf = np.histogram(missingMomentum.p, 100, range=(0.0, 0.10))\n",
    "n = histfull.size\n",
    "xf_hist = np.zeros((n), dtype=float)\n",
    "ilow = 0\n",
    "iup = 0\n",
    "# find the bin numbers corresponding to fitted histrogram edges\n",
    "for ii in range(n):\n",
    "    xf_hist[ii] = (bin_edgesf[ii + 1] + bin_edgesf[ii]) / 2\n",
    "    # find the closest bin to edges\n",
    "    if bin_edgesf[ii + 1] <= low_edge:\n",
    "        ilow = ii\n",
    "    if bin_edgesf[ii + 1] <= up_edge:\n",
    "        iup = ii\n",
    "\n",
    "\n",
    "integralFull = sum(histfull)\n",
    "histfull = histfull / integralFull\n",
    "yf_hist = histfull\n",
    "histfull = histfull * np.max(y_hist) / np.max(yf_hist)\n",
    "yf_hist = histfull\n",
    "\n",
    "plt.scatter(xf_hist, yf_hist, color=\"mediumspringgreen\")\n",
    "\n",
    "x_hist_3 = np.linspace(np.min(x_hist), np.max(x_hist), 100)\n",
    "plt.plot(x_hist_3, gaus(x_hist_3, *param_optimised), color=\"red\")  # was 'r.:'\n",
    "plt.show()"
   ]
  },
  {
   "cell_type": "code",
   "execution_count": null,
   "metadata": {
    "jupyter": {
     "source_hidden": true
    },
    "tags": [
     "hide-input",
     "scroll-input"
    ]
   },
   "outputs": [],
   "source": [
    "# normalize the histogram to 1\n",
    "low_edge = -0.001\n",
    "up_edge = 0.0\n",
    "hist, bin_edges = np.histogram(missingMomentum.m2, 100, range=(low_edge, up_edge))\n",
    "integral_hist = sum(hist)\n",
    "hist = hist / integral_hist\n",
    "\n",
    "n = hist.size\n",
    "x_hist = np.zeros((n), dtype=float)\n",
    "for ii in range(n):\n",
    "    x_hist[ii] = (bin_edges[ii + 1] + bin_edges[ii]) / 2\n",
    "\n",
    "y_hist = hist\n",
    "mean = sum(x_hist * y_hist) / sum(y_hist)\n",
    "sigma = sum(y_hist * (x_hist - mean) ** 2) / sum(y_hist)\n",
    "# Gaussian least-square fitting process\n",
    "param_optimised, param_covariance_matrix = curve_fit(\n",
    "    gaus, x_hist, y_hist, p0=[max(y_hist), mean, sigma], maxfev=5000\n",
    ")\n",
    "\n",
    "# print fit Gaussian parameters\n",
    "print(\"Fit parameters: \")\n",
    "print(\"=====================================================\")\n",
    "print(\"C = \", param_optimised[0], \"+-\", np.sqrt(param_covariance_matrix[0, 0]))\n",
    "print(\"X_mean =\", param_optimised[1], \"+-\", np.sqrt(param_covariance_matrix[1, 1]))\n",
    "print(\"sigma = \", param_optimised[2], \"+-\", np.sqrt(param_covariance_matrix[2, 2]))\n",
    "print(\"\\n\")\n",
    "\n",
    "# save the values for later\n",
    "mean1Fit = param_optimised[1]\n",
    "sigma1Fit = param_optimised[2]\n",
    "\n",
    "# STEP 4: PLOTTING THE GAUSSIAN CURVE -----------------------------------------\n",
    "fig = plt.figure()\n",
    "x_hist_2 = np.linspace(np.min(x_hist), np.max(x_hist), 100)\n",
    "# this plots the curve only\n",
    "plt.plot(\n",
    "    x_hist_2, gaus(x_hist_2, *param_optimised), color=\"red\", label=\"Gaussian fit\"\n",
    ")\n",
    "plt.legend()\n",
    "\n",
    "# plot the experimental point of the portion of spectrum to be fitted\n",
    "plt.scatter(x_hist, y_hist, color=\"palegreen\")\n",
    "\n",
    "# setting the label,title and grid of the plot\n",
    "plt.xlabel(\"Data: Random variable\")\n",
    "plt.ylabel(\"Probability\")\n",
    "plt.grid(\"on\")\n",
    "plt.show()"
   ]
  },
  {
   "cell_type": "code",
   "execution_count": null,
   "metadata": {
    "jupyter": {
     "source_hidden": true
    },
    "tags": [
     "hide-input"
    ]
   },
   "outputs": [],
   "source": [
    "# normalize the histogram to 1 and then to ratio of the maximum values\n",
    "histfull, bin_edgesf = np.histogram(missingMomentum.m2, 100, range=(-0.005, 0.005))\n",
    "n = histfull.size\n",
    "xf_hist = np.zeros((n), dtype=float)\n",
    "\n",
    "# find the bin numbers\n",
    "for ii in range(n):\n",
    "    xf_hist[ii] = (bin_edgesf[ii + 1] + bin_edgesf[ii]) / 2\n",
    "\n",
    "integralFull = sum(histfull)\n",
    "histfull = histfull / integralFull\n",
    "yf_hist = histfull\n",
    "histfull = histfull * np.max(y_hist) / np.max(yf_hist)\n",
    "yf_hist = histfull\n",
    "\n",
    "plt.scatter(xf_hist, yf_hist, color=\"palegreen\")\n",
    "x_hist_3 = np.linspace(np.min(x_hist), np.max(x_hist), 100)\n",
    "plt.plot(x_hist_3, gaus(x_hist_3, *param_optimised), color=\"red\")\n",
    "plt.show()"
   ]
  },
  {
   "cell_type": "markdown",
   "metadata": {},
   "source": [
    "The fit of the missing mass peak is not really very good, one should add some sort of background on the left hand side of the peak, say a 3rd degree polynomial"
   ]
  },
  {
   "cell_type": "code",
   "execution_count": null,
   "metadata": {
    "jupyter": {
     "source_hidden": true
    },
    "tags": [
     "scroll-input",
     "hide-input"
    ]
   },
   "outputs": [],
   "source": [
    "# normalize the histogram to 1\n",
    "low_edge = -0.0007\n",
    "up_edge = 0.0001\n",
    "hist, bin_edges = np.histogram(missingMomentum.m2, 100, range=(low_edge, up_edge))\n",
    "integral_hist = sum(hist)\n",
    "hist = hist / integral_hist\n",
    "\n",
    "n = hist.size\n",
    "x_hist = np.zeros((n), dtype=float)\n",
    "for ii in range(n):\n",
    "    x_hist[ii] = (bin_edges[ii + 1] + bin_edges[ii]) / 2\n",
    "\n",
    "y_hist = hist\n",
    "mean = sum(x_hist * y_hist) / sum(y_hist)\n",
    "sigma = sum(y_hist * (x_hist - mean) ** 2) / sum(y_hist)\n",
    "# mean = mean1Fit\n",
    "# sigma = sigma1Fit\n",
    "P1 = 0.0\n",
    "P2 = 0.0\n",
    "P3 = 0.0\n",
    "P4 = 0.0\n",
    "\n",
    "# Calculating the Gaussian PDF values given Gaussian parameters and random variable X\n",
    "\n",
    "\n",
    "def gausAndBCK(X, C, X_mean, sigma, P1, P2, P3, P4):\n",
    "    return C * np.exp(-((X - X_mean) ** 2) / (2 * sigma**2)) + (\n",
    "        P1 + P2 * X + P3 * X * X + P4 * X * X * X\n",
    "    )\n",
    "\n",
    "\n",
    "def BCK(X, P1, P2, P3, P4):\n",
    "    return P1 + P2 * X + P3 * X * X + P4 * X * X * X\n",
    "\n",
    "\n",
    "# Gaussian+BCK least-square fitting process\n",
    "param_optimised, param_covariance_matrix = curve_fit(\n",
    "    gausAndBCK,\n",
    "    x_hist,\n",
    "    y_hist,\n",
    "    p0=[max(y_hist), mean, sigma, P1, P2, P3, P4],\n",
    "    maxfev=10000,\n",
    ")\n",
    "\n",
    "# print fit Gaussian parameters\n",
    "print(\"Fit parameters: \")\n",
    "print(\"=====================================================\")\n",
    "print(\"C = \", param_optimised[0], \"+-\", np.sqrt(param_covariance_matrix[0, 0]))\n",
    "print(\"X_mean =\", param_optimised[1], \"+-\", np.sqrt(param_covariance_matrix[1, 1]))\n",
    "print(\"sigma = \", param_optimised[2], \"+-\", np.sqrt(param_covariance_matrix[2, 2]))\n",
    "print(\"\\n\")\n",
    "print(\"missing mass at the peak \", np.sqrt(abs(param_optimised[1])), \" GeV/c2 \\n\")\n",
    "\n",
    "param_optimised_gauss = []\n",
    "param_optimised_bck = []\n",
    "param_optimised_gauss.append(param_optimised[0])\n",
    "param_optimised_gauss.append(param_optimised[1])\n",
    "param_optimised_gauss.append(param_optimised[2])\n",
    "param_optimised_bck.append(param_optimised[3])\n",
    "param_optimised_bck.append(param_optimised[4])\n",
    "param_optimised_bck.append(param_optimised[5])\n",
    "param_optimised_bck.append(param_optimised[6])\n",
    "\n",
    "fig, ax = plt.subplots(1, 2, tight_layout=True, figsize=(7, 4))\n",
    "x_hist_2 = np.linspace(np.min(x_hist), np.max(x_hist), 100)\n",
    "# this plots the curve only\n",
    "ax[0].plot(\n",
    "    x_hist_2,\n",
    "    gausAndBCK(x_hist_2, *param_optimised),\n",
    "    color=\"red\",\n",
    "    label=\"Gaussian fit\",\n",
    ")\n",
    "ax[0].plot(x_hist_2, gaus(x_hist_2, *param_optimised_gauss), color=\"cyan\")\n",
    "ax[0].plot(x_hist_2, BCK(x_hist_2, *param_optimised_bck), color=\"magenta\")\n",
    "\n",
    "# plot the experimental point of the portion of spectrum to be fitted\n",
    "ax[0].scatter(x_hist, y_hist, color=\"palegreen\")\n",
    "\n",
    "# setting the label,title and grid of the plot\n",
    "\n",
    "ax[0].set_xlabel(\"Data: Random variable\")\n",
    "ax[0].set_ylabel(\"Probability\")\n",
    "\n",
    "# full plot\n",
    "histfull, bin_edgesf = np.histogram(missingMomentum.m2, 100, range=(-0.005, 0.005))\n",
    "n = histfull.size\n",
    "xf_hist = np.zeros((n), dtype=float)\n",
    "\n",
    "# find the bin numbers\n",
    "for ii in range(n):\n",
    "    xf_hist[ii] = (bin_edgesf[ii + 1] + bin_edgesf[ii]) / 2\n",
    "\n",
    "integralFull = sum(histfull)\n",
    "histfull = histfull / integralFull\n",
    "yf_hist = histfull\n",
    "histfull = histfull * np.max(y_hist) / np.max(yf_hist)\n",
    "yf_hist = histfull\n",
    "\n",
    "plt.scatter(xf_hist, yf_hist, color=\"palegreen\")\n",
    "x_hist_3 = np.linspace(np.min(x_hist), np.max(x_hist), 100)\n",
    "plt.plot(x_hist_3, gausAndBCK(x_hist_3, *param_optimised), color=\"red\")\n",
    "plt.show()"
   ]
  },
  {
   "cell_type": "markdown",
   "metadata": {},
   "source": [
    "It looks like the Gaussian contribution is refused by the fit."
   ]
  },
  {
   "cell_type": "markdown",
   "metadata": {},
   "source": [
    "Let's make a similar fit for the missing mass recoiling against the dipion:"
   ]
  },
  {
   "cell_type": "code",
   "execution_count": null,
   "metadata": {
    "jupyter": {
     "source_hidden": true
    },
    "tags": [
     "hide-input",
     "scroll-input"
    ]
   },
   "outputs": [],
   "source": [
    "# normalize the histogram to 1\n",
    "low_edge = 0.8\n",
    "up_edge = 1.0\n",
    "hist, bin_edges = np.histogram(\n",
    "    missingMomentumDipion.m2, 100, range=(low_edge, up_edge)\n",
    ")\n",
    "integral_hist = np.sum(hist)\n",
    "hist = hist / integral_hist\n",
    "\n",
    "n = hist.size\n",
    "x_hist = np.zeros((n), dtype=float)\n",
    "for ii in range(n):\n",
    "    x_hist[ii] = (bin_edges[ii + 1] + bin_edges[ii]) / 2\n",
    "\n",
    "y_hist = hist\n",
    "mean = sum(x_hist * y_hist) / sum(y_hist)\n",
    "sigma = sum(y_hist * (x_hist - mean) ** 2) / sum(y_hist)\n",
    "# mean = mean1Fit\n",
    "# sigma = sigma1Fit\n",
    "P1 = 0.0\n",
    "P2 = 0.0\n",
    "P3 = 0.0\n",
    "P4 = 0.0\n",
    "\n",
    "# Calculating the Gaussian PDF values given Gaussian parameters and random variable X\n",
    "\n",
    "\n",
    "def gausAndBCK(X, C, X_mean, sigma, P1, P2, P3, P4):\n",
    "    return C * np.exp(-((X - X_mean) ** 2) / (2 * sigma**2)) + (\n",
    "        P1 + P2 * X + P3 * X * X + P4 * X * X * X\n",
    "    )\n",
    "\n",
    "\n",
    "def BCK(X, P1, P2, P3, P4):\n",
    "    return P1 + P2 * X + P3 * X * X + P4 * X * X * X\n",
    "\n",
    "\n",
    "# Gaussian+BCK least-square fitting process\n",
    "param_optimised, param_covariance_matrix = curve_fit(\n",
    "    gausAndBCK,\n",
    "    x_hist,\n",
    "    y_hist,\n",
    "    p0=[max(y_hist), mean, sigma, P1, P2, P3, P4],\n",
    "    maxfev=10000,\n",
    ")\n",
    "\n",
    "# print fit Gaussian parameters\n",
    "print(\"Fit parameters: \")\n",
    "print(\"=====================================================\")\n",
    "print(\"C = \", param_optimised[0], \"+-\", np.sqrt(param_covariance_matrix[0, 0]))\n",
    "print(\"X_mean =\", param_optimised[1], \"+-\", np.sqrt(param_covariance_matrix[1, 1]))\n",
    "print(\"sigma = \", param_optimised[2], \"+-\", np.sqrt(param_covariance_matrix[2, 2]))\n",
    "print(\"\\n\")\n",
    "print(\"missing mass at the peak \", np.sqrt(abs(param_optimised[1])), \" GeV/c2 \\n\")\n",
    "\n",
    "param_optimised_gauss = []\n",
    "param_optimised_bck = []\n",
    "param_optimised_gauss.append(param_optimised[0])\n",
    "param_optimised_gauss.append(param_optimised[1])\n",
    "param_optimised_gauss.append(param_optimised[2])\n",
    "param_optimised_bck.append(param_optimised[3])\n",
    "param_optimised_bck.append(param_optimised[4])\n",
    "param_optimised_bck.append(param_optimised[5])\n",
    "param_optimised_bck.append(param_optimised[6])\n",
    "\n",
    "fig, ax = plt.subplots(1, 2, tight_layout=True, figsize=(7, 4))\n",
    "x_hist_2 = np.linspace(np.min(x_hist), np.max(x_hist), 100)\n",
    "# this plots the curve only\n",
    "ax[0].plot(\n",
    "    x_hist_2,\n",
    "    gausAndBCK(x_hist_2, *param_optimised),\n",
    "    color=\"red\",\n",
    "    label=\"Gaussian fit\",\n",
    ")\n",
    "ax[0].plot(x_hist_2, gaus(x_hist_2, *param_optimised_gauss), color=\"cyan\")\n",
    "ax[0].plot(x_hist_2, BCK(x_hist_2, *param_optimised_bck), color=\"magenta\")\n",
    "\n",
    "# plot the experimental point of the portion of spectrum to be fitted\n",
    "ax[0].scatter(x_hist, y_hist, color=\"violet\")\n",
    "\n",
    "# setting the label,title and grid of the plot\n",
    "\n",
    "ax[0].set_xlabel(\"Missing mass recoiling against dipion\")\n",
    "ax[0].set_ylabel(\"Probability\")\n",
    "\n",
    "# full plot\n",
    "histfull, bin_edgesf = np.histogram(missingMomentumDipion.m2, 100, range=(0.5, 1.2))\n",
    "n = histfull.size\n",
    "xf_hist = np.zeros((n), dtype=float)\n",
    "\n",
    "# find the bin numbers\n",
    "for ii in range(n):\n",
    "    xf_hist[ii] = (bin_edgesf[ii + 1] + bin_edgesf[ii]) / 2\n",
    "\n",
    "integralFull = sum(histfull)\n",
    "histfull = histfull / integralFull\n",
    "yf_hist = histfull\n",
    "histfull = histfull * np.max(y_hist) / np.max(yf_hist)\n",
    "yf_hist = histfull\n",
    "\n",
    "plt.scatter(xf_hist, yf_hist, color=\"violet\")\n",
    "x_hist_3 = np.linspace(np.min(x_hist), np.max(x_hist), 100)\n",
    "plt.plot(x_hist_3, gausAndBCK(x_hist_3, *param_optimised), color=\"red\")\n",
    "plt.plot(x_hist_3, gaus(x_hist_3, *param_optimised_gauss), color=\"cyan\")\n",
    "plt.plot(x_hist_3, BCK(x_hist_3, *param_optimised_bck), color=\"magenta\")\n",
    "plt.show()"
   ]
  }
 ],
 "metadata": {
  "colab": {
   "toc_visible": true
  },
  "kernelspec": {
   "display_name": "Python 3 (ipykernel)",
   "language": "python",
   "name": "python3"
  },
  "language_info": {
   "codemirror_mode": {
    "name": "ipython",
    "version": 3
   },
   "file_extension": ".py",
   "mimetype": "text/x-python",
   "name": "python",
   "nbconvert_exporter": "python",
   "pygments_lexer": "ipython3",
   "version": "3.10.12"
  }
 },
 "nbformat": 4,
 "nbformat_minor": 4
}
