{
 "cells": [
  {
   "cell_type": "markdown",
   "id": "087f68c1-f88d-43b6-9494-26da5bc621ca",
   "metadata": {
    "editable": true,
    "slideshow": {
     "slide_type": ""
    },
    "tags": []
   },
   "source": [
    "# Lecture 11 Helicity Formalism\n",
    "The example in lecture 11\n",
    "based on [Lecture 11](https://indico.ific.uv.es/event/6803/contributions/21223) by Vincent Mathieu "
   ]
  },
  {
   "cell_type": "code",
   "execution_count": null,
   "id": "2b01c249-f183-4faf-9ccd-d6069f678467",
   "metadata": {},
   "outputs": [],
   "source": [
    "%pip install -q gdown matplotlib numpy"
   ]
  },
  {
   "cell_type": "code",
   "execution_count": null,
   "id": "3e1d9835-1f27-4dcf-b359-3937ec89236b",
   "metadata": {
    "editable": true,
    "slideshow": {
     "slide_type": ""
    },
    "tags": []
   },
   "outputs": [],
   "source": [
    "import warnings\n",
    "\n",
    "import gdown\n",
    "import numpy as np\n",
    "from IPython.display import display\n",
    "\n",
    "warnings.filterwarnings(\"ignore\")"
   ]
  },
  {
   "cell_type": "code",
   "execution_count": null,
   "id": "62d3b045-8dab-4e5a-92d7-07d2d5af4c79",
   "metadata": {
    "editable": true,
    "slideshow": {
     "slide_type": ""
    },
    "tags": []
   },
   "outputs": [],
   "source": [
    "# https://indico.ific.uv.es/event/6803/contributions/21223/attachments/11221/15563/Three-particles-3.dat\n",
    "filename = gdown.cached_download(\n",
    "    url=\"https://indico.ific.uv.es/event/6803/contributions/21223/attachments/11221/15563/Three-particles-3.dat\",\n",
    "    # path=\"data/Three-particles-3.dat\",\n",
    "    # md5=\"a49ebfd97ae6a02023291df665ab924c\",\n",
    "    quiet=True,\n",
    "    verify=False,\n",
    ")\n",
    "data = np.loadtxt(filename)\n",
    "data.shape"
   ]
  },
  {
   "cell_type": "code",
   "execution_count": null,
   "id": "166252ab-57a2-4628-88e1-32ab8f354f89",
   "metadata": {
    "editable": true,
    "slideshow": {
     "slide_type": ""
    },
    "tags": []
   },
   "outputs": [],
   "source": [
    "data"
   ]
  },
  {
   "cell_type": "code",
   "execution_count": null,
   "id": "b4daf861-8efe-48a5-971a-6925d44675cd",
   "metadata": {},
   "outputs": [],
   "source": [
    "# data[0::4]"
   ]
  },
  {
   "cell_type": "code",
   "execution_count": null,
   "id": "adfe5fbb-ab7b-41b2-8a8c-8f0bac0ce009",
   "metadata": {
    "editable": true,
    "slideshow": {
     "slide_type": ""
    },
    "tags": []
   },
   "outputs": [],
   "source": [
    "n_final_state = 3\n",
    "pa, p1, p2, p3 = (data[i::4].T for i in range(n_final_state + 1))\n",
    "p0 = p1 + p2 + p3\n",
    "pb = p0 - pa"
   ]
  },
  {
   "cell_type": "code",
   "execution_count": null,
   "id": "d10177c3-02c4-4248-8d0e-181a28453be5",
   "metadata": {},
   "outputs": [],
   "source": [
    "def mass(p: np.ndarray) -> np.ndarray:\n",
    "    return np.sqrt(mass_squared(p))\n",
    "\n",
    "\n",
    "def mass_squared(p: np.ndarray) -> np.ndarray:\n",
    "    return p[0] ** 2 - np.sum(p[1:] ** 2, axis=0)"
   ]
  },
  {
   "cell_type": "code",
   "execution_count": null,
   "id": "adc55b5b-8490-4587-b468-848b32873eee",
   "metadata": {},
   "outputs": [],
   "source": [
    "m0 = mass(p0)\n",
    "print(f\"{m0.mean():.4g} +/- {m0.std():.4g}\")"
   ]
  },
  {
   "cell_type": "code",
   "execution_count": null,
   "id": "59a10ead-6653-4344-ab55-f85f2f8fbbde",
   "metadata": {},
   "outputs": [],
   "source": [
    "from IPython.display import Math\n",
    "\n",
    "display(Math(Rf\"m_a = {mass(pa).mean():.3g}\\text{{ GeV}}\"))\n",
    "display(Math(Rf\"m_b = {mass(pb).mean():.3g}\\text{{ GeV}}\"))\n",
    "for i, p in enumerate([p0, p1, p2, p3]):\n",
    "    display(Math(Rf\"m_{i} = {mass(p).mean():.3g}\\text{{ GeV}}\"))"
   ]
  },
  {
   "cell_type": "code",
   "execution_count": null,
   "id": "b63474a3-8445-49dc-97b8-20c3935853ce",
   "metadata": {},
   "outputs": [],
   "source": [
    "from particle import Particle\n",
    "\n",
    "\n",
    "def find_candidates(\n",
    "    mass: float, delta: float = 0.001, charge: float | None = None\n",
    ") -> list[Particle]:\n",
    "    def identify(p) -> bool:\n",
    "        if p.pdgid in {21}:\n",
    "            return False\n",
    "        if charge is not None and p.charge != charge:\n",
    "            return False\n",
    "        if (mass - delta) < 1e-3 * p.mass < (mass + delta):\n",
    "            return True\n",
    "        return False\n",
    "\n",
    "    return Particle.findall(identify)\n",
    "\n",
    "\n",
    "ma = mass(pa).mean()\n",
    "mb = mass(pb).mean()\n",
    "m1 = mass(p1).mean()\n",
    "m2 = mass(p2).mean()\n",
    "m3 = mass(p3).mean()\n",
    "initial_state = (\n",
    "    find_candidates(ma.mean(), delta=1e-4)[0],\n",
    "    find_candidates(mb.mean())[0],\n",
    ")\n",
    "final_state = tuple(find_candidates(m.mean())[0] for m in [m1, m2, m3])\n",
    "display(\n",
    "    Math(R\"\\text{Incoming: }\" + \", \".join(f\"{p.latex_name}\" for p in initial_state)),\n",
    "    Math(R\"\\text{Outgoing: }\" + \", \".join(f\"{p.latex_name}\" for p in final_state)),\n",
    ")"
   ]
  },
  {
   "cell_type": "markdown",
   "id": "24fce750-e6d7-40f1-9e24-dec0d85fc7b8",
   "metadata": {},
   "source": [
    "a photon&nbsp;$\\gamma$ hitting a proton&nbsp;$p$ and producing a meson&nbsp;$\\eta$, pion&nbsp;$\\pi^0$, and proton&nbsp;$p$."
   ]
  },
  {
   "cell_type": "code",
   "execution_count": null,
   "id": "376674d5-3bd0-458b-b5d8-3cc356c42f31",
   "metadata": {},
   "outputs": [],
   "source": [
    "s12 = mass_squared(p1 + p2)\n",
    "s23 = mass_squared(p2 + p3)\n",
    "s31 = mass_squared(p3 + p1)\n",
    "\n",
    "m12 = mass(p1 + p2)\n",
    "m23 = mass(p2 + p3)\n",
    "m31 = mass(p3 + p1)"
   ]
  },
  {
   "cell_type": "code",
   "execution_count": null,
   "id": "dcef09fd-7994-4302-9e08-70b9950f9b84",
   "metadata": {},
   "outputs": [],
   "source": [
    "import matplotlib.pyplot as plt\n",
    "\n",
    "fig, ax = plt.subplots()\n",
    "fig.suptitle(\"Dalitz plot – 2D histogram\")\n",
    "ax.hist2d(s12, s23, bins=100, cmin=1)\n",
    "ax.set_xlabel(R\"$s_{12}\\;\\left[\\mathrm{GeV}^2\\right]$\")\n",
    "ax.set_ylabel(R\"$s_{23}\\;\\left[\\mathrm{GeV}^2\\right]$\")\n",
    "# fig.tight_layout()\n",
    "plt.show()"
   ]
  }
 ],
 "metadata": {
  "colab": {
   "toc_visible": true
  },
  "kernelspec": {
   "display_name": "Python 3 (ipykernel)",
   "language": "python",
   "name": "python3"
  },
  "language_info": {
   "codemirror_mode": {
    "name": "ipython",
    "version": 3
   },
   "file_extension": ".py",
   "mimetype": "text/x-python",
   "name": "python",
   "nbconvert_exporter": "python",
   "pygments_lexer": "ipython3",
   "version": "3.10.13"
  }
 },
 "nbformat": 4,
 "nbformat_minor": 5
}
