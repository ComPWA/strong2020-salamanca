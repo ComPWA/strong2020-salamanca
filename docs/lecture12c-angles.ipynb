{
 "cells": [
  {
   "cell_type": "markdown",
   "metadata": {},
   "source": [
    "# Lecture 12 – Computing angles\n",
    "\n",
    "**Plot of angles in some reference systems: center-of-mass vs Gottfried-Jackson vs Adair**"
   ]
  },
  {
   "cell_type": "code",
   "execution_count": null,
   "metadata": {
    "tags": [
     "remove-cell"
    ]
   },
   "outputs": [],
   "source": [
    "%pip install -q gdown matplotlib numpy pandas pylorentz"
   ]
  },
  {
   "cell_type": "code",
   "execution_count": null,
   "metadata": {
    "jupyter": {
     "source_hidden": true
    },
    "mystnb": {
     "code_prompt_show": "Import Python libraries"
    }
   },
   "outputs": [],
   "source": [
    "import gdown\n",
    "import matplotlib.pyplot as plt\n",
    "import numpy as np\n",
    "import pandas as pd\n",
    "from pylorentz import Momentum4"
   ]
  },
  {
   "cell_type": "markdown",
   "metadata": {},
   "source": [
    "Again we download the data file using the [`gdown`](https://github.com/wkentaro/gdown) package:"
   ]
  },
  {
   "cell_type": "code",
   "execution_count": null,
   "metadata": {
    "tags": [
     "full-width"
    ]
   },
   "outputs": [],
   "source": [
    "output_path = gdown.cached_download(\n",
    "    url=\"https://drive.google.com/uc?id=1qiYjPbR5nx3_Sw7MXuUKhNAUpkXPoxYh\",\n",
    "    path=\"data/gammapi_2pions_inclusive.dat\",\n",
    "    md5=\"38cf5bf915318df756a21a82ad9e4afa\",\n",
    "    quiet=True,\n",
    ")\n",
    "data = pd.read_csv(output_path)\n",
    "data.columns = data.columns.str.strip()\n",
    "data"
   ]
  },
  {
   "cell_type": "markdown",
   "metadata": {},
   "source": [
    "Let's prepare the relevant arrays containing the 4-momenta kinematics of the three particle (plus the two in the intial state), both in the laboratory and in the center of mass reference systems:"
   ]
  },
  {
   "cell_type": "code",
   "execution_count": null,
   "metadata": {},
   "outputs": [],
   "source": [
    "# final state\n",
    "pip = Momentum4(data.E1, data.p1x, data.p1y, data.p1z)\n",
    "pim = Momentum4(data.E2, data.p2x, data.p2y, data.p2z)\n",
    "proton = Momentum4(data.E3, data.p3x, data.p3y, data.p3z)\n",
    "\n",
    "# initial state\n",
    "n_events = len(data)\n",
    "zeros = np.zeros(n_events)\n",
    "ones = np.ones(n_events)\n",
    "m_proton = 0.93827\n",
    "gamma = Momentum4(data.pgamma, zeros, zeros, data.pgamma)\n",
    "target = Momentum4(m_proton * ones, zeros, zeros, zeros)"
   ]
  },
  {
   "cell_type": "code",
   "execution_count": null,
   "metadata": {},
   "outputs": [],
   "source": [
    "# 4-momenta in the scenter of mass system\n",
    "cm = gamma + target\n",
    "pip_cm = pip.boost_particle(-cm)\n",
    "pim_cm = pim.boost_particle(-cm)\n",
    "proton_cm = proton.boost_particle(-cm)\n",
    "\n",
    "k = gamma.boost_particle(-cm)\n",
    "target_cm = target.boost_particle(-cm)\n",
    "q = pip_cm + pim_cm\n",
    "k_cm_di_pion = gamma.boost_particle(-q)"
   ]
  },
  {
   "cell_type": "markdown",
   "metadata": {},
   "source": [
    "Let us suppose that the two pions form an intermediate state (that can be resonant or not), which we identify as \"dipion\" D.\n",
    "Let's choose the axes directions in the center-of mass system as follows, being $\\mathbf{k}$ the photon momentum and $\\mathbf{q}$ the momentum of the dipion:\n",
    "\n",
    "* $\\mathbf{Z} = \\frac{\\mathbf{k}}{|\\mathbf{k}|}$\n",
    "* $\\mathbf{Y} = \\frac{\\mathbf{k}\\times \\mathbf{q}}{|\\mathbf{k}\\times \\mathbf{q}|}$\n",
    "* $\\mathbf{X} = \\frac{(\\mathbf{k}\\times \\mathbf{q})\\times \\mathbf{k}}{(|\\mathbf{k}\\times \\mathbf{q})\\times \\mathbf{k}|}$\n",
    "\n"
   ]
  },
  {
   "cell_type": "markdown",
   "metadata": {},
   "source": [
    "## Angular distributions in helicity frame"
   ]
  },
  {
   "cell_type": "markdown",
   "metadata": {},
   "source": [
    "Angles and particle directions can be visualised in different reference frames in which resonance properties can emerge more easily.\n",
    "The decay distribution of the dipion may be discussed in the\n",
    " **helicity reference system**, defined as follows:\n",
    "\n",
    "\n",
    "*   The $z$ direction is chosen opposite to the direction of the recoiling nucleon in the D rest system (i.e., it is equal to the direction of flight of the dipion in the overall c.m. system)\n",
    "*   The $y$ direction is the normal to the production plane, defined by the cross product of the three-momenta of the dipion and the nucleon\n",
    "* The $x$ direction follows as $\\mathbf{x = y \\times z}$.\n",
    "\n",
    "The decay angles $\\phi,\\; \\theta$ are defined as the polar and azimuthal angles of the unit vector $\\mathbf n$. In the present case (of a two-particle decay), it indicates the direction of flight of one of the two decay particles; for a three-particle decay, $\\mathbf n$ is the normal to the decay plane in the decaying particle rest frame.\n",
    "The angles are defines as follows:\n",
    "\n",
    "* $\\cos\\theta = \\mathbf{n\\cdot z}$\n",
    "* $\\cos\\phi = \\frac{\\mathbf{y\\cdot(z\\times n)}}{|\\mathbf{z\\times n}|}$\n",
    "* $\\sin\\phi = -\\frac{\\mathbf{x\\cdot(z\\times n)}} {|\\mathbf{z\\times n}|}$"
   ]
  },
  {
   "cell_type": "markdown",
   "metadata": {},
   "source": [
    "Let's choose the $\\pi^+$'s direction as $\\mathbf n$ and extract the angular distributions for the reaction under study:"
   ]
  },
  {
   "cell_type": "code",
   "execution_count": null,
   "metadata": {},
   "outputs": [],
   "source": [
    "n = pip_cm[1:] / pip_cm.p\n",
    "z = q[1:] / q.p\n",
    "y = np.cross(k[1:], q[1:], axis=0)\n",
    "y /= np.linalg.norm(y, axis=0)\n",
    "x = np.cross(y, z, axis=0)\n",
    "cos_theta = np.sum(n * z, axis=0)\n",
    "z_cross_n = np.cross(z, n, axis=0)\n",
    "cos_phi = np.sum(y * z_cross_n, axis=0) / np.linalg.norm(z_cross_n, axis=0)\n",
    "sin_phi = -np.sum(x * z_cross_n, axis=0) / np.linalg.norm(z_cross_n, axis=0)\n",
    "phi_helicity = np.arctan2(sin_phi, cos_phi)"
   ]
  },
  {
   "cell_type": "markdown",
   "metadata": {},
   "source": [
    "Note on the extraction of the $\\phi$&nbsp;angle: the angle spans the $(-\\pi, +\\pi)$ range and its sign is taken correctly into account by the `arctan2` function."
   ]
  },
  {
   "cell_type": "markdown",
   "metadata": {},
   "source": [
    "Let's plot the distributions for $\\cos\\theta$ and the azimuthal angle $\\phi$ in the helicity frame."
   ]
  },
  {
   "cell_type": "code",
   "execution_count": null,
   "metadata": {
    "jupyter": {
     "source_hidden": true
    },
    "tags": [
     "hide-input"
    ]
   },
   "outputs": [],
   "source": [
    "fig, ax = plt.subplots(1, 4, tight_layout=True, figsize=(13, 4))\n",
    "ax[0].hist(cos_theta, bins=50, color=\"aqua\")\n",
    "ax[0].set_xlabel(\"cos(theta)\")\n",
    "ax[0].set_ylabel(\"Entries/0.01\")\n",
    "ax[1].hist(cos_phi, color=\"lightskyblue\", bins=50)\n",
    "ax[1].set_xlabel(R\"$\\cos\\phi$\")\n",
    "ax[1].set_ylabel(\"Entries/0.01\")\n",
    "ax[2].hist(sin_phi, bins=50, color=\"slateblue\")\n",
    "ax[2].set_xlabel(R\"$\\sin\\phi$\")\n",
    "ax[2].set_ylabel(\"Entries/0.01\")\n",
    "ax[3].hist(phi_helicity, bins=50, color=\"darkorchid\")\n",
    "ax[3].set_xlabel(R\"$\\phi_\\mathrm{hel}$ [rad]\")\n",
    "ax[3].set_ylabel(\"Entries/(0.13 rad)\")\n",
    "plt.show()"
   ]
  },
  {
   "cell_type": "markdown",
   "metadata": {},
   "source": [
    "## Angular distributions in the Gottfried-Jackson frame"
   ]
  },
  {
   "cell_type": "markdown",
   "metadata": {},
   "source": [
    "Differently from the helicity system, in the **Gottfried-Jackson** system the $z$ axis is equal to the direction of flight of the incoming photon in the D rest frame. Having replaced the $z$ axis, all other vectors definitions follow accordingly."
   ]
  },
  {
   "cell_type": "code",
   "execution_count": null,
   "metadata": {},
   "outputs": [],
   "source": [
    "n = pip_cm[1:] / pip_cm.p\n",
    "z = k_cm_di_pion[1:] / k_cm_di_pion.p\n",
    "y = np.cross(k[1:], q[1:], axis=0)\n",
    "y /= np.linalg.norm(y)\n",
    "x = np.cross(y, z, axis=0)\n",
    "cos_theta = np.sum(n * z, axis=0)\n",
    "z_cross_n = np.cross(z, n, axis=0)\n",
    "cos_phi = np.sum(y * z_cross_n, axis=0) / np.linalg.norm(z_cross_n)\n",
    "sin_phi = -np.sum(x * z_cross_n, axis=0) / np.linalg.norm(z_cross_n)\n",
    "phi_GJ = np.arctan2(sin_phi, cos_phi)"
   ]
  },
  {
   "cell_type": "code",
   "execution_count": null,
   "metadata": {
    "jupyter": {
     "source_hidden": true
    },
    "tags": [
     "hide-input"
    ]
   },
   "outputs": [],
   "source": [
    "fig, ax = plt.subplots(1, 4, tight_layout=True, figsize=(13, 4))\n",
    "ax[0].hist(cos_theta, bins=50, color=\"aqua\", alpha=0.66)\n",
    "ax[0].set_xlabel(\"cos(theta)\")\n",
    "ax[0].set_ylabel(\"Entries/0.01\")\n",
    "ax[1].hist(cos_phi, color=\"lightskyblue\", bins=50, alpha=0.66)\n",
    "ax[1].set_xlabel(R\"$\\cos\\phi$\")\n",
    "ax[1].set_ylabel(\"Entries/0.01\")\n",
    "ax[2].hist(sin_phi, bins=50, color=\"slateblue\", alpha=0.66)\n",
    "ax[2].set_xlabel(R\"$\\sin\\phi$\")\n",
    "ax[2].set_ylabel(\"Entries/0.01\")\n",
    "ax[3].hist(phi_GJ, bins=50, color=\"darkorchid\", alpha=0.66)\n",
    "ax[3].set_xlabel(R\"$\\phi_{GJ}$ [rad]\")\n",
    "ax[3].set_ylabel(\"Entries/(0.13 rad)\")\n",
    "plt.show()"
   ]
  },
  {
   "cell_type": "markdown",
   "metadata": {},
   "source": [
    "## Angular distributions in the Adair frame"
   ]
  },
  {
   "cell_type": "markdown",
   "metadata": {},
   "source": [
    "On the other hand, in the **Adair** system the $z$ is equal to the direction of flight of the incoming photon in the c.m. system of the reaction. All other definition follow, as above."
   ]
  },
  {
   "cell_type": "code",
   "execution_count": null,
   "metadata": {},
   "outputs": [],
   "source": [
    "n = pip_cm[1:] / pip_cm.p\n",
    "z = k[1:] / k.p\n",
    "y = np.cross(k[1:], q[1:], axis=0)\n",
    "y /= np.linalg.norm(y, axis=0)\n",
    "x = np.cross(y, z, axis=0)\n",
    "cos_theta = np.sum(n * z, axis=0)\n",
    "z_cross_n = np.cross(z, n, axis=0)\n",
    "cos_phi = np.sum(y * z_cross_n, axis=0) / np.linalg.norm(z_cross_n, axis=0)\n",
    "sin_phi = -np.sum(x * z_cross_n, axis=0) / np.linalg.norm(z_cross_n, axis=0)\n",
    "phi_adair = np.arctan2(sin_phi, cos_phi)"
   ]
  },
  {
   "cell_type": "code",
   "execution_count": null,
   "metadata": {
    "jupyter": {
     "source_hidden": true
    },
    "tags": [
     "hide-input"
    ]
   },
   "outputs": [],
   "source": [
    "fig, ax = plt.subplots(1, 4, tight_layout=True, figsize=(13, 4))\n",
    "ax[0].hist(cos_theta, bins=50, color=\"aqua\", alpha=0.33)\n",
    "ax[0].set_xlabel(\"cos(theta)\")\n",
    "ax[0].set_ylabel(\"Entries/0.01\")\n",
    "ax[1].hist(cos_phi, color=\"lightskyblue\", bins=50, alpha=0.33)\n",
    "ax[1].set_xlabel(R\"$\\cos\\phi$\")\n",
    "ax[1].set_ylabel(\"Entries/0.01\")\n",
    "ax[2].hist(sin_phi, bins=50, color=\"slateblue\", alpha=0.33)\n",
    "ax[2].set_xlabel(R\"$\\sin\\phi$\")\n",
    "ax[2].set_ylabel(\"Entries/0.01\")\n",
    "ax[3].hist(phi_adair, bins=50, color=\"darkorchid\", alpha=0.33)\n",
    "ax[3].set_xlabel(R\"$\\phi_{Adair}$ [rad]\")\n",
    "ax[3].set_ylabel(\"Entries/(0.13 rad)\")\n",
    "plt.show()"
   ]
  }
 ],
 "metadata": {
  "colab": {
   "toc_visible": true
  },
  "kernelspec": {
   "display_name": "Python 3 (ipykernel)",
   "language": "python",
   "name": "python3"
  },
  "language_info": {
   "codemirror_mode": {
    "name": "ipython",
    "version": 3
   },
   "file_extension": ".py",
   "mimetype": "text/x-python",
   "name": "python",
   "nbconvert_exporter": "python",
   "pygments_lexer": "ipython3",
   "version": "3.10.12"
  }
 },
 "nbformat": 4,
 "nbformat_minor": 4
}
