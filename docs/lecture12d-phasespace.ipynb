{
 "cells": [
  {
   "cell_type": "markdown",
   "metadata": {},
   "source": [
    "# Lecture 12 – Phase space simulation"
   ]
  },
  {
   "cell_type": "markdown",
   "metadata": {},
   "source": [
    "**How to perform a phase space simulation with Python?**"
   ]
  },
  {
   "cell_type": "markdown",
   "metadata": {},
   "source": [
    "Prepare the notebook by importing [`numpy`](https://numpy.org), [`matplotlib.pyplot`](https://matplotlib.org/3.5.3/api/_as_gen/matplotlib.pyplot.html), and [`pylorentz`](https://github.com/PyLorentz/PyLorentz) and download the data file (CSV format) from Google Drive."
   ]
  },
  {
   "cell_type": "code",
   "execution_count": null,
   "metadata": {
    "tags": [
     "remove-cell"
    ]
   },
   "outputs": [],
   "source": [
    "!uv pip install -q gdown matplotlib numpy phasespace pylorentz tf-keras"
   ]
  },
  {
   "cell_type": "code",
   "execution_count": null,
   "metadata": {
    "jupyter": {
     "source_hidden": true
    },
    "tags": [
     "remove-cell"
    ]
   },
   "outputs": [],
   "source": [
    "import os\n",
    "\n",
    "os.environ[\"TF_CPP_MIN_LOG_LEVEL\"] = \"3\""
   ]
  },
  {
   "cell_type": "code",
   "execution_count": null,
   "metadata": {
    "jupyter": {
     "source_hidden": true
    },
    "mystnb": {
     "code_prompt_show": "Import Python libraries"
    },
    "tags": [
     "hide-cell"
    ]
   },
   "outputs": [],
   "source": [
    "import matplotlib.pyplot as plt\n",
    "import numpy as np\n",
    "import phasespace\n",
    "import tensorflow as tf\n",
    "from pylorentz import Momentum4"
   ]
  },
  {
   "cell_type": "markdown",
   "metadata": {},
   "source": [
    "## Two-body decay"
   ]
  },
  {
   "cell_type": "markdown",
   "metadata": {},
   "source": [
    "Let's start with a simple two body decay at rest: $B^0\\rightarrow K^+\\pi^-$."
   ]
  },
  {
   "cell_type": "code",
   "execution_count": null,
   "metadata": {},
   "outputs": [],
   "source": [
    "B0_MASS = 5279.65\n",
    "PION_MASS = 139.57018\n",
    "KAON_MASS = 493.677\n",
    "n_events = 100_000\n",
    "\n",
    "decay = phasespace.nbody_decay(B0_MASS, [PION_MASS, KAON_MASS])\n",
    "weights, four_momenta = decay.generate(n_events=n_events)"
   ]
  },
  {
   "cell_type": "markdown",
   "metadata": {},
   "source": [
    "The simulation produces a dictionary (`four_momenta`) of [`tf.Tensor`](https://www.tensorflow.org/api_docs/python/tf/Tensor) objects. Each object can be addressed with `particles['p_i']`, where `i` is the number of the $i$-th generated particle."
   ]
  },
  {
   "cell_type": "code",
   "execution_count": null,
   "metadata": {},
   "outputs": [],
   "source": [
    "four_momenta"
   ]
  },
  {
   "cell_type": "markdown",
   "metadata": {},
   "source": [
    "Each [`tf.Tensor`](https://www.tensorflow.org/api_docs/python/tf/Tensor) can be converted to a NumPy array, which can then be converted to a [`pylorentz`](https://github.com/PyLorentz/PyLorentz)."
   ]
  },
  {
   "cell_type": "code",
   "execution_count": null,
   "metadata": {},
   "outputs": [],
   "source": [
    "def to_lorentz(p: tf.Tensor) -> Momentum4:\n",
    "    p = p.numpy().T\n",
    "    return Momentum4(p[3], *p[:3])"
   ]
  },
  {
   "cell_type": "code",
   "execution_count": null,
   "metadata": {},
   "outputs": [],
   "source": [
    "pion = to_lorentz(four_momenta[\"p_0\"])\n",
    "kaon = to_lorentz(four_momenta[\"p_1\"])"
   ]
  },
  {
   "cell_type": "markdown",
   "metadata": {},
   "source": [
    "These objects can be used to do kinematic computations. Let's first verify that the invariant mass of the kaon+pion system corresponds to the mass of the mother $B^0$:"
   ]
  },
  {
   "cell_type": "code",
   "execution_count": null,
   "metadata": {},
   "outputs": [],
   "source": [
    "B0 = pion + kaon\n",
    "np.testing.assert_almost_equal(B0.m.mean(), B0_MASS)"
   ]
  },
  {
   "cell_type": "markdown",
   "metadata": {},
   "source": [
    "Let's also plot the momentum components of the two daugther particles."
   ]
  },
  {
   "cell_type": "code",
   "execution_count": null,
   "metadata": {
    "jupyter": {
     "source_hidden": true
    },
    "tags": [
     "hide-input",
     "full-width",
     "scroll-input"
    ]
   },
   "outputs": [],
   "source": [
    "fig, ax = plt.subplots(1, 4, tight_layout=True, figsize=(11, 3.5))\n",
    "ax[0].hist(B0.m, bins=100, color=\"CornFlowerBlue\", range=(5279, 5280))\n",
    "ax[0].set_xlabel(R\"i.m.($\\pi$K) [MeV/$c^2$]\")\n",
    "ax[0].set_title(\"(pion-kaon) i.m. \\n\")\n",
    "\n",
    "ax[1].hist(kaon.p_x, bins=70, color=\"lightcoral\", hatch=\"//\")\n",
    "ax[1].hist(\n",
    "    pion.p_x,\n",
    "    bins=70,\n",
    "    color=\"springgreen\",\n",
    "    histtype=\"barstacked\",\n",
    "    hatch=\"\\\\\",\n",
    "    alpha=0.5,\n",
    ")\n",
    "ax[1].set_xlabel(\"$p_x$ [MeV/$c$]\")\n",
    "ax[1].set_title(\"x mom. component \\n\")\n",
    "\n",
    "ax[2].hist(kaon.p_y, bins=70, color=\"lightcoral\", hatch=\"//\")\n",
    "ax[2].hist(\n",
    "    pion.p_y,\n",
    "    bins=70,\n",
    "    color=\"springgreen\",\n",
    "    histtype=\"barstacked\",\n",
    "    hatch=\"\\\\\",\n",
    "    alpha=0.5,\n",
    ")\n",
    "ax[2].set_xlabel(\"$p_y$ [MeV/$c$]\")\n",
    "ax[2].set_title(\"y mom. component \\n\")\n",
    "\n",
    "ax[3].hist(kaon.p_z, bins=70, color=\"lightcoral\", hatch=\"//\")\n",
    "ax[3].hist(\n",
    "    pion.p_z,\n",
    "    bins=70,\n",
    "    color=\"springgreen\",\n",
    "    histtype=\"barstacked\",\n",
    "    hatch=\"\\\\\",\n",
    "    alpha=0.5,\n",
    ")\n",
    "ax[3].set_xlabel(\"$p_z$ [MeV/$c$]\")\n",
    "ax[3].set_title(\"z mom. component \\n\")\n",
    "plt.show()"
   ]
  },
  {
   "cell_type": "markdown",
   "metadata": {},
   "source": [
    "But it's monochromatic!! of course it is... it's a decay at rest. The momentum components are uniformly distributed in the available phase space."
   ]
  },
  {
   "cell_type": "markdown",
   "metadata": {},
   "source": [
    "## Three-body decay"
   ]
  },
  {
   "cell_type": "markdown",
   "metadata": {},
   "source": [
    "Let's consider now\n",
    "a three body decay like $B^0\\rightarrow K^+\\pi^-\\pi^0$ and repeat the plot of the relevant kinematic variables. We can also make Dalitz plots this time."
   ]
  },
  {
   "cell_type": "code",
   "execution_count": null,
   "metadata": {},
   "outputs": [],
   "source": [
    "n_events = 50_000\n",
    "PION0_MASS = 134.9766\n",
    "decay = phasespace.nbody_decay(B0_MASS, [PION_MASS, PION0_MASS, KAON_MASS])\n",
    "weights, four_momenta = decay.generate(n_events=n_events)"
   ]
  },
  {
   "cell_type": "code",
   "execution_count": null,
   "metadata": {},
   "outputs": [],
   "source": [
    "pim = to_lorentz(four_momenta[\"p_0\"])\n",
    "pi0 = to_lorentz(four_momenta[\"p_1\"])\n",
    "kaon = to_lorentz(four_momenta[\"p_2\"])\n",
    "s1 = (kaon + pim).m2\n",
    "s2 = (kaon + pi0).m2\n",
    "s3 = (pim + pi0).m2"
   ]
  },
  {
   "cell_type": "code",
   "execution_count": null,
   "metadata": {
    "jupyter": {
     "source_hidden": true
    },
    "tags": [
     "hide-input",
     "full-width"
    ]
   },
   "outputs": [],
   "source": [
    "fig, ax = plt.subplots(1, 3, tight_layout=True, figsize=(12, 3.5))\n",
    "f0 = ax[0].hist2d(s1, s3, bins=70, cmap=\"turbo\", cmin=1)\n",
    "fig.colorbar(f0[3], ax=ax[0])\n",
    "ax[0].set_xlabel(R\"i.m.$^2(\\pi^-K^+)$ [(MeV/$c^2)^2]$\")\n",
    "ax[0].set_ylabel(R\"i.m.$^2(\\pi^-\\pi^0)$ [(MeV/$c^2)^2]$\")\n",
    "\n",
    "f1 = ax[1].hist2d(s2, s3, bins=70, cmap=\"turbo\", cmin=1)\n",
    "fig.colorbar(f1[3], ax=ax[1])\n",
    "ax[1].set_xlabel(R\"i.m.$^2(\\pi^0K^+)$ [(MeV/$c^2)^2]$\")\n",
    "ax[1].set_ylabel(R\"i.m.$^2(\\pi^-\\pi^0)$ [(MeV/$c^2)^2]$\")\n",
    "\n",
    "f2 = ax[2].hist2d(s1, s2, bins=70, cmap=\"turbo\", cmin=1)\n",
    "fig.colorbar(f2[3], ax=ax[2])\n",
    "ax[2].set_xlabel(R\"i.m.$^2(\\pi^-K^+)$ [(MeV/$c^2)^2]$\")\n",
    "ax[2].set_ylabel(R\"i.m.$^2(\\pi^0K^+)$ [(MeV/$c^2)^2]$\")\n",
    "plt.show()"
   ]
  },
  {
   "cell_type": "markdown",
   "metadata": {},
   "source": [
    "## Decay chain"
   ]
  },
  {
   "cell_type": "markdown",
   "metadata": {},
   "source": [
    "The [`phasespace`](https://phasespace.rtfd.io) package allows to treat also multiple decays. Let's consider the $B^0\\rightarrow K^{\\ast 0}\\gamma$ decay, followed by $K^{\\ast 0}\\rightarrow \\pi^-K^+$. It can be simulated using the following procedure:"
   ]
  },
  {
   "cell_type": "code",
   "execution_count": null,
   "metadata": {},
   "outputs": [],
   "source": [
    "from phasespace import GenParticle\n",
    "\n",
    "B0_MASS = 5279.65\n",
    "K0STAR_MASS = 895.55\n",
    "PION_MASS = 139.57018\n",
    "KAON_MASS = 493.677\n",
    "GAMMA_MASS = 0.0\n",
    "\n",
    "Kp = GenParticle(\"K+\", KAON_MASS)\n",
    "pim = GenParticle(\"pi-\", PION_MASS)\n",
    "Kstar = GenParticle(\"KStar\", K0STAR_MASS).set_children(Kp, pim)\n",
    "gamma = GenParticle(\"gamma\", GAMMA_MASS)\n",
    "B0 = GenParticle(\"B0\", B0_MASS).set_children(Kstar, gamma)\n",
    "\n",
    "weights, four_momenta = B0.generate(n_events=100_000)"
   ]
  },
  {
   "cell_type": "code",
   "execution_count": null,
   "metadata": {},
   "outputs": [],
   "source": [
    "four_momenta"
   ]
  },
  {
   "cell_type": "code",
   "execution_count": null,
   "metadata": {},
   "outputs": [],
   "source": [
    "gamma = to_lorentz(four_momenta[\"gamma\"])\n",
    "pion = to_lorentz(four_momenta[\"pi-\"])\n",
    "kaon = to_lorentz(four_momenta[\"K+\"])\n",
    "Kstar = to_lorentz(four_momenta[\"KStar\"])"
   ]
  },
  {
   "cell_type": "markdown",
   "metadata": {},
   "source": [
    "Let's build the Dalitz plots matching particle pairs. The particles measured in the final state are $K^-,\\; \\pi^-$ and $\\gamma$."
   ]
  },
  {
   "cell_type": "code",
   "execution_count": null,
   "metadata": {},
   "outputs": [],
   "source": [
    "s1 = (pion + kaon).m2\n",
    "s2 = (gamma + kaon).m2\n",
    "s3 = (gamma + pion).m2"
   ]
  },
  {
   "cell_type": "code",
   "execution_count": null,
   "metadata": {
    "jupyter": {
     "source_hidden": true
    },
    "tags": [
     "hide-input",
     "full-width"
    ]
   },
   "outputs": [],
   "source": [
    "fig, ax = plt.subplots(1, 3, tight_layout=True, figsize=(12, 3.5))\n",
    "\n",
    "f0 = ax[0].hist2d(s1, s2, bins=70, cmap=\"turbo\")\n",
    "fig.colorbar(f0[3], ax=ax[0])\n",
    "ax[0].set_xlabel(R\"i.m.$^2(\\pi^-K^+)$ [(MeV/$c^2)^2]$\")\n",
    "ax[0].set_ylabel(R\"i.m.$^2(K^+\\gamma)$ [(MeV/$c^2)^2]$\")\n",
    "\n",
    "f1 = ax[1].hist2d(s2, s3, bins=70, cmap=\"turbo\")\n",
    "fig.colorbar(f1[3], ax=ax[1])\n",
    "ax[1].set_xlabel(R\"i.m.$^2(K^+\\gamma)$ [(MeV/$c^2)^2]$\")\n",
    "ax[1].set_ylabel(R\"i.m.$^2(\\pi^-\\gamma)$ [(MeV/$c^2)^2]$\")\n",
    "\n",
    "f2 = ax[2].hist2d(s1, s3, bins=70, cmap=\"turbo\")\n",
    "fig.colorbar(f2[3], ax=ax[2])\n",
    "ax[2].set_xlabel(R\"i.m.$^2(\\pi^-K^+)$ [(MeV/$c^2)^2]$\")\n",
    "ax[2].set_ylabel(R\"i.m.$^2(\\pi^-\\gamma)$ [(MeV/$c^2)^2]$\")\n",
    "plt.show()"
   ]
  },
  {
   "cell_type": "markdown",
   "metadata": {},
   "source": [
    "### Width distribution"
   ]
  },
  {
   "cell_type": "markdown",
   "metadata": {},
   "source": [
    "These distributions aren't so interesting, because the masses of each particle are one fixed value. So let's simulate a more realistic $K^\\ast$ particle; not monochromatic, but with a width of 47 MeV.[^1] The mass is extracted from a Gaussian distribution centered at the B0_MASS value and with $\\sigma = 47/2.36 \\sim 20$ MeV. See more info on how to do this with the `phasespace` package [here](https://phasespace.readthedocs.io/en/1.9.0/usage.html#resonances-with-variable-mass).\n",
    "\n",
    "[^1]: Do you remember the difference between a BW width and a Lorentzian FWHM? The widths you get out of the PDG booklet are FWHM's."
   ]
  },
  {
   "cell_type": "code",
   "execution_count": null,
   "metadata": {
    "jupyter": {
     "source_hidden": true
    }
   },
   "outputs": [],
   "source": [
    "import tensorflow as tf\n",
    "import tensorflow_probability as tfp\n",
    "\n",
    "K0STAR_WIDTH = 47 / 2.36\n",
    "\n",
    "\n",
    "def kstar_mass(min_mass, max_mass, n_events):\n",
    "    min_mass = tf.cast(min_mass, tf.float64)\n",
    "    max_mass = tf.cast(max_mass, tf.float64)\n",
    "    kstar_mass_cast = tf.cast(K0STAR_MASS, dtype=tf.float64)\n",
    "    tf.cast(K0STAR_WIDTH, tf.float64)\n",
    "    tf.broadcast_to(kstar_mass_cast, shape=(n_events,))\n",
    "    return tfp.distributions.TruncatedNormal(\n",
    "        loc=K0STAR_MASS,\n",
    "        scale=K0STAR_WIDTH,\n",
    "        low=min_mass,\n",
    "        high=max_mass,\n",
    "    ).sample()"
   ]
  },
  {
   "cell_type": "code",
   "execution_count": null,
   "metadata": {},
   "outputs": [],
   "source": [
    "K = GenParticle(\"K+\", KAON_MASS)\n",
    "pion = GenParticle(\"pi-\", PION_MASS)\n",
    "Kstar = GenParticle(\"KStar\", kstar_mass).set_children(K, pion)\n",
    "gamma = GenParticle(\"gamma\", GAMMA_MASS)\n",
    "B0 = GenParticle(\"B0\", B0_MASS).set_children(Kstar, gamma)\n",
    "weights, four_momenta = B0.generate(n_events=100_000)"
   ]
  },
  {
   "cell_type": "code",
   "execution_count": null,
   "metadata": {},
   "outputs": [],
   "source": [
    "gamma = to_lorentz(four_momenta[\"gamma\"])\n",
    "pion = to_lorentz(four_momenta[\"pi-\"])\n",
    "kaon = to_lorentz(four_momenta[\"K+\"])\n",
    "Kstar = to_lorentz(four_momenta[\"KStar\"])"
   ]
  },
  {
   "cell_type": "markdown",
   "metadata": {},
   "source": [
    "Now you have all the 4-vectors to plot the invariant mass distributions for the different steps of the decay chains."
   ]
  },
  {
   "cell_type": "code",
   "execution_count": null,
   "metadata": {},
   "outputs": [],
   "source": [
    "s1 = (pion + kaon).m2\n",
    "s2 = (gamma + kaon).m2\n",
    "s3 = (gamma + pion).m2"
   ]
  },
  {
   "cell_type": "code",
   "execution_count": null,
   "metadata": {
    "tags": [
     "hide-input",
     "full-width"
    ]
   },
   "outputs": [],
   "source": [
    "fig, ax = plt.subplots(1, 3, tight_layout=True, figsize=(12, 3.5))\n",
    "f0 = ax[0].hist2d(s1, s2, bins=70, cmap=\"rainbow\")\n",
    "fig.colorbar(f0[3], ax=ax[0])\n",
    "ax[0].set_xlabel(R\"i.m.$^2(\\pi^-K^+)$ [(MeV/$c^2)^2]$\")\n",
    "ax[0].set_ylabel(R\"i.m.$^2(K^+\\gamma)$ [(MeV/$c^2)^2]$\")\n",
    "\n",
    "f1 = ax[1].hist2d(s2, s3, bins=70, cmap=\"rainbow\")\n",
    "fig.colorbar(f1[3], ax=ax[1])\n",
    "ax[1].set_xlabel(R\"i.m.$^2(K^+\\gamma)$ [(MeV/$c^2)^2]$\")\n",
    "ax[1].set_ylabel(R\"i.m.$^2(\\pi^-\\gamma)$ [(MeV/$c^2)^2]$\")\n",
    "\n",
    "f2 = ax[2].hist2d(s1, s3, bins=70, cmap=\"rainbow\")\n",
    "fig.colorbar(f2[3], ax=ax[2])\n",
    "ax[2].set_xlabel(R\"i.m.$^2(\\pi^-K^+)$ [(MeV/$c^2)^2]$\")\n",
    "ax[2].set_ylabel(R\"i.m.$^2(\\pi^-\\gamma)$ [(MeV/$c^2)^2]$\")\n",
    "plt.show()"
   ]
  }
 ],
 "metadata": {
  "colab": {
   "toc_visible": true
  },
  "kernelspec": {
   "display_name": "Python 3 (ipykernel)",
   "language": "python",
   "name": "python3"
  },
  "language_info": {
   "codemirror_mode": {
    "name": "ipython",
    "version": 3
   },
   "file_extension": ".py",
   "mimetype": "text/x-python",
   "name": "python",
   "nbconvert_exporter": "python",
   "pygments_lexer": "ipython3",
   "version": "3.12.6"
  }
 },
 "nbformat": 4,
 "nbformat_minor": 4
}
