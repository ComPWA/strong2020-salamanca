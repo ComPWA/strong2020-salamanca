{
 "cells": [
  {
   "cell_type": "markdown",
   "metadata": {},
   "source": [
    "# Lecture 12 – Relativistic kinematics\n",
    "\n",
    "**Some exercises on relativistic kinematics using the `pylorentz` package**"
   ]
  },
  {
   "cell_type": "markdown",
   "metadata": {},
   "source": [
    "Prepare the notebook with the preambles for the inclusion of pandas, numpy and matplotlib.pyplot:"
   ]
  },
  {
   "cell_type": "code",
   "execution_count": null,
   "metadata": {
    "tags": [
     "remove-cell"
    ]
   },
   "outputs": [],
   "source": [
    "%pip install -q gdown matplotlib numpy pandas pylorentz scipy"
   ]
  },
  {
   "cell_type": "code",
   "execution_count": null,
   "metadata": {
    "jupyter": {
     "source_hidden": true
    },
    "mystnb": {
     "code_prompt_show": "Import Python libraries"
    },
    "tags": [
     "hide-cell"
    ]
   },
   "outputs": [],
   "source": [
    "import gdown\n",
    "import matplotlib.pyplot as plt\n",
    "import numpy as np\n",
    "import pandas as pd\n",
    "from pylorentz import Momentum4"
   ]
  },
  {
   "cell_type": "code",
   "execution_count": null,
   "metadata": {
    "tags": [
     "full-width"
    ]
   },
   "outputs": [],
   "source": [
    "output_path = gdown.cached_download(\n",
    "    url=\"https://drive.google.com/uc?export=download&confirm=9iBg&id=17J4rrO-NHL8whkd7hjELhJbCoanoaqam\",\n",
    "    path=\"data/antineutron_3pi.dat\",\n",
    "    md5=\"5ff45076c9d921aa0c9c803b8d2d8958\",\n",
    "    quiet=True,\n",
    ")\n",
    "data = pd.read_csv(output_path)\n",
    "data.columns = data.columns.str.strip()\n",
    "data"
   ]
  },
  {
   "cell_type": "markdown",
   "metadata": {},
   "source": [
    "> The columns headers present some trailing blanks, that must be dropped to be able to use correctly the DataFormat structure (if not, they deliver an error message). To do so, the `str.strip()` method must be used beforehand to reformat the column shape."
   ]
  },
  {
   "cell_type": "markdown",
   "metadata": {},
   "source": [
    "The file contains the 4-momenta of the particles of the reaction $\\bar n p \\rightarrow \\pi^+_1\\pi^+_2\\pi^-_3$, the last column corresponds to the 3rd component of the antineutron momentum (up to 300 MeV/c), which travels along the $z$ axis"
   ]
  },
  {
   "cell_type": "markdown",
   "metadata": {},
   "source": [
    "Load the [`pylorentz`](https://github.com/PyLorentz/PyLorentz) package (if not available, install it with `pip install pylorentz`). Let's import the arrays from the csv table into Momentum4 objects and repeat the calculation of invariant masses and other observables. We are working with *numpy arrays* whose length is equale to the number of entries of the table read from the csv file."
   ]
  },
  {
   "cell_type": "code",
   "execution_count": null,
   "metadata": {
    "tags": []
   },
   "outputs": [],
   "source": [
    "# final state\n",
    "pi1 = Momentum4(data.E1, data.p1x, data.p1y, data.p1z)\n",
    "pi2 = Momentum4(data.E2, data.p2x, data.p2y, data.p2z)\n",
    "pi3 = Momentum4(data.E3, data.p3x, data.p3y, data.p3z)\n",
    "\n",
    "# initial state\n",
    "m_neutron = 0.93956\n",
    "m_proton = 0.93827\n",
    "n_events = len(data)\n",
    "zeros = np.zeros(n_events)\n",
    "ones = np.ones(n_events)"
   ]
  },
  {
   "cell_type": "code",
   "execution_count": null,
   "metadata": {
    "tags": []
   },
   "outputs": [],
   "source": [
    "E_nbar = np.sqrt(m_neutron**2 + data.pnbar**2)\n",
    "nbar = Momentum4(E_nbar, zeros, zeros, data.pnbar)\n",
    "target = Momentum4(m_proton * ones, zeros, zeros, zeros)"
   ]
  },
  {
   "cell_type": "code",
   "execution_count": null,
   "metadata": {
    "tags": []
   },
   "outputs": [],
   "source": [
    "system12 = pi1 + pi2\n",
    "system23 = pi2 + pi3\n",
    "system13 = pi1 + pi3\n",
    "\n",
    "invariantMassSquared12 = system12.m2\n",
    "invariantMassSquared13 = system13.m2\n",
    "invariantMassSquared23 = system23.m2"
   ]
  },
  {
   "cell_type": "markdown",
   "metadata": {},
   "source": [
    "Let's plot the Dalitz Plots using the new Momentum4 objects. As in the first exercise let's plot the antineutron momentum to see how the distribution looks like."
   ]
  },
  {
   "cell_type": "code",
   "execution_count": null,
   "metadata": {
    "jupyter": {
     "source_hidden": true
    },
    "tags": []
   },
   "outputs": [],
   "source": [
    "plt.hist(nbar.p, bins=100, color=\"aquamarine\", alpha=0.7)\n",
    "plt.xlabel(\"Antineutron momentum [GeV/c]\")\n",
    "plt.ylabel(\"Entries/(4 MeV/c)\")\n",
    "plt.title(\"The histogram of the momentum of the incoming antineutron \\n\")\n",
    "plt.show()"
   ]
  },
  {
   "cell_type": "markdown",
   "metadata": {},
   "source": [
    "And now let's plot the two Dalitz plots with the square invariant masses of the pion pairs:"
   ]
  },
  {
   "cell_type": "code",
   "execution_count": null,
   "metadata": {
    "jupyter": {
     "source_hidden": true
    },
    "tags": [
     "hide-input",
     "full-width"
    ]
   },
   "outputs": [],
   "source": [
    "fig, ax = plt.subplots(1, 2, tight_layout=True, figsize=(9, 4))\n",
    "h0 = ax[0].hist2d(\n",
    "    invariantMassSquared13, invariantMassSquared12, bins=100, cmap=\"jet\"\n",
    ")\n",
    "h0 = ax[0].hist2d(\n",
    "    invariantMassSquared23, invariantMassSquared12, bins=100, cmap=\"jet\"\n",
    ")\n",
    "fig.colorbar(h0[3], ax=ax[0])\n",
    "ax[0].set_xlabel(R\"i.m.$^2(\\pi^+_{(1,2)}\\pi^-_{3}$) [GeV$^2$]\")\n",
    "ax[0].set_ylabel(R\"i.m.$^2(\\pi^+\\pi^+$) [GeV$^2$]\")\n",
    "h1 = ax[1].hist2d(\n",
    "    invariantMassSquared13, invariantMassSquared23, bins=100, cmap=\"jet\"\n",
    ")\n",
    "h1 = ax[1].hist2d(\n",
    "    invariantMassSquared23, invariantMassSquared13, bins=100, cmap=\"jet\"\n",
    ")\n",
    "fig.colorbar(h1[3], ax=ax[1])\n",
    "ax[1].set_xlabel(R\"i.m.$^2(\\pi^+_1\\pi^-$) [GeV$^2$]\")\n",
    "ax[1].set_ylabel(R\"i.m.$^2(\\pi^+_2\\pi^-$) [GeV$^2$]\")\n",
    "plt.show()"
   ]
  },
  {
   "cell_type": "markdown",
   "metadata": {},
   "source": [
    "Let's transform the 4-momenta of the particles, which are defined in the lab system, into the center-of-mass system exploiting the *boostparticle* function of pylorentz:"
   ]
  },
  {
   "cell_type": "code",
   "execution_count": null,
   "metadata": {},
   "outputs": [],
   "source": [
    "cm = nbar + target\n",
    "pi1_cm = pi1.boost_particle(-cm)\n",
    "pi2_cm = pi2.boost_particle(-cm)\n",
    "pi3_cm = pi3.boost_particle(-cm)\n",
    "nbar_cm = nbar.boost_particle(-cm)\n",
    "target_cm = target.boost_particle(-cm)"
   ]
  },
  {
   "cell_type": "markdown",
   "metadata": {},
   "source": [
    "Let's check whether the Mandelstam variables are indeed invariant in the different reference systems. Let's assume a two-body reaction $a + b\\rightarrow c + d$ where in the final state two pions form a neutral dipion which recoils against the remaining $\\pi^+_2$: $\\bar n + p \\rightarrow D(\\pi^+_1\\pi^-_3) + \\pi^+_2$\n",
    "\n",
    "\n",
    "\n",
    "> **total energy** $s = (p_a+p_b)^2 = (p_c + p_d)^2$\n",
    "\n"
   ]
  },
  {
   "cell_type": "code",
   "execution_count": null,
   "metadata": {
    "tags": []
   },
   "outputs": [],
   "source": [
    "s_lab = cm.m2\n",
    "print(s_lab)"
   ]
  },
  {
   "cell_type": "code",
   "execution_count": null,
   "metadata": {},
   "outputs": [],
   "source": [
    "initCM = nbar_cm + target_cm\n",
    "s_cm = initCM.m2\n",
    "print(s_cm)\n",
    "\n",
    "s_lab - s_cm"
   ]
  },
  {
   "cell_type": "code",
   "execution_count": null,
   "metadata": {
    "jupyter": {
     "source_hidden": true
    },
    "tags": [
     "hide-input"
    ]
   },
   "outputs": [],
   "source": [
    "plt.hist(s_lab, bins=100, color=\"MediumPurple\")\n",
    "plt.xlabel(\"s [(GeV/$c^2)^2$]\")\n",
    "plt.ylabel(\"Entries/(1.6 (MeV/$c^2)^2$)\")\n",
    "plt.title(\"Available energy for the reaction \\n\")\n",
    "plt.show()"
   ]
  },
  {
   "cell_type": "markdown",
   "metadata": {},
   "source": [
    "\n",
    "\n",
    "\n",
    "> Momentum transfer $t = (p_a - p_c)^2 = (p_b - p_d)^2$\n",
    "\n",
    "\n",
    "\n"
   ]
  },
  {
   "cell_type": "code",
   "execution_count": null,
   "metadata": {},
   "outputs": [],
   "source": [
    "dipion = system13\n",
    "t_lab_1 = (nbar - dipion).m2\n",
    "t_lab_2 = (target - pi2).m2\n",
    "dipion_cm = system13.boost_particle(-cm)\n",
    "t_cm_1 = (nbar_cm - dipion_cm).m2\n",
    "t_cm_2 = (target_cm - pi2_cm).m2"
   ]
  },
  {
   "cell_type": "code",
   "execution_count": null,
   "metadata": {
    "jupyter": {
     "source_hidden": true
    },
    "tags": [
     "full-width",
     "hide-input"
    ]
   },
   "outputs": [],
   "source": [
    "fig, ax = plt.subplots(2, 2, tight_layout=True, figsize=(9, 4))\n",
    "ax[0, 0].hist(t_lab_1, bins=100, color=\"Lime\")\n",
    "ax[0, 0].set_xlabel(R\"t = $(p_{nbar} - p_D)^2$ lab RF [$(\\mathrm{GeV}/c^2)^2$]\")\n",
    "ax[0, 1].hist(t_lab_2, bins=100, color=\"LimeGreen\")\n",
    "ax[0, 1].set_xlabel(R\"t = $(p_p - p_{\\pi^+_2})^2$ lab RF [$(\\mathrm{GeV}/c^2)^2$]\")\n",
    "ax[1, 0].hist(t_cm_1, bins=100, color=\"GreenYellow\")\n",
    "ax[1, 0].set_xlabel(R\"t = $(p_{nbar} - p_D)^2$ CM RF [$(\\mathrm{GeV}/c^2)^2$]\")\n",
    "ax[1, 1].hist(t_cm_2, bins=100, color=\"LawnGreen\")\n",
    "ax[1, 1].set_xlabel(R\"t = $(p_p - p_{\\pi^+_2})^2$ CM RF [$(\\mathrm{GeV}/c^2)^2$]\")\n",
    "plt.show()"
   ]
  },
  {
   "cell_type": "markdown",
   "metadata": {},
   "source": [
    "> $u = (p_a - p_d)^2 = (p_b - p_c)^2$\n"
   ]
  },
  {
   "cell_type": "code",
   "execution_count": null,
   "metadata": {},
   "outputs": [],
   "source": [
    "u_lab_1 = (nbar - pi2).m2\n",
    "u_lab_2 = (target - dipion).m2\n",
    "u_cm_1 = (nbar_cm - pi2_cm).m2\n",
    "u_cm_2 = (target_cm - dipion_cm).m2"
   ]
  },
  {
   "cell_type": "code",
   "execution_count": null,
   "metadata": {
    "jupyter": {
     "source_hidden": true
    },
    "tags": [
     "hide-input",
     "full-width"
    ]
   },
   "outputs": [],
   "source": [
    "fig, ax = plt.subplots(2, 2, tight_layout=True, figsize=(9, 4))\n",
    "ax[0, 0].hist(u_lab_1, bins=100, color=\"HotPink\")\n",
    "ax[0, 0].set_xlabel(\n",
    "    R\"u = $(p_{nbar} - p_{\\pi^+_2})^2$ lab RF [$(\\mathrm{GeV}/c^2)^2$]\"\n",
    ")\n",
    "ax[0, 1].hist(u_lab_2, bins=100, color=\"DeepPink\")\n",
    "ax[0, 1].set_xlabel(R\"u = $(p_p - p_D)^2$ lab RF [$(\\mathrm{GeV}/c^2)^2$]\")\n",
    "ax[1, 0].hist(u_cm_1, bins=100, color=\"Fuchsia\")\n",
    "ax[1, 0].set_xlabel(\n",
    "    R\"u = $(p_{nbar} - p_{\\pi^+_2})^2$ CM RF [$(\\mathrm{GeV}/c^2)^2$]\"\n",
    ")\n",
    "ax[1, 1].hist(u_cm_2, bins=100, color=\"DarkMagenta\")\n",
    "ax[1, 1].set_xlabel(R\"u = $(p_p - p_D)^2$ CM RF [$(\\mathrm{GeV}/c^2)^2$]\")\n",
    "plt.show()"
   ]
  },
  {
   "cell_type": "markdown",
   "metadata": {},
   "source": [
    "Test if $\\; s + t + u = m_1^2 + m_2^2 + m_3^2 + m_4^2$"
   ]
  },
  {
   "cell_type": "code",
   "execution_count": null,
   "metadata": {},
   "outputs": [],
   "source": [
    "mandelstam_sum = s_lab + t_lab_1 + u_lab_1\n",
    "m2_sum = m_neutron**2 + m_proton**2 + dipion_cm.m2 + pi2_cm.m2"
   ]
  },
  {
   "cell_type": "code",
   "execution_count": null,
   "metadata": {
    "jupyter": {
     "source_hidden": true
    },
    "tags": [
     "hide-input"
    ]
   },
   "outputs": [],
   "source": [
    "plt.hist(mandelstam_sum - m2_sum, bins=100, color=\"CornFlowerBlue\")\n",
    "plt.show()"
   ]
  },
  {
   "cell_type": "markdown",
   "metadata": {},
   "source": [
    "Another interesting quantity to be observed is the **missing mass**. It can be evaluated comparing the total energies between the initial and the final state of a reaction, or, given a final state, evaluating the missing energy recoiling against a system of particles. In any case, the missing mass quantity is defined as the modulus of the 4-momentum corresponing to the difference of the 4-momenta of the involved particles."
   ]
  },
  {
   "cell_type": "code",
   "execution_count": null,
   "metadata": {},
   "outputs": [],
   "source": [
    "# missing mass between initial and final state\n",
    "p4_initial_state = cm\n",
    "p4_final_state = pi1 + pi2 + pi3\n",
    "p4_missing = p4_initial_state - p4_final_state\n",
    "# missing mass recoiling against the neutral dipion systems (there are two)\n",
    "dipion1 = pi1 + pi3\n",
    "dipion2 = pi2 + pi3\n",
    "recoiling_missing_mass1 = p4_final_state - dipion1\n",
    "recoiling_missing_mass2 = p4_final_state - dipion2"
   ]
  },
  {
   "cell_type": "markdown",
   "metadata": {},
   "source": [
    "Let's plot the missing mass of the reaction, the scatter plot of total momentum versus total energy of the measured particles in the final state (it should be close to zero), and the missing mass recoiling against the neutral dipion (it should be close to the mass of a pion, for a correctly selected exclusive reaction)."
   ]
  },
  {
   "cell_type": "code",
   "execution_count": null,
   "metadata": {
    "jupyter": {
     "source_hidden": true
    },
    "tags": [
     "full-width",
     "hide-input"
    ]
   },
   "outputs": [],
   "source": [
    "fig, ax = plt.subplots(1, 3, tight_layout=True, figsize=(11, 3.5))\n",
    "ax[0].hist(p4_missing.m2, bins=100, color=\"crimson\")\n",
    "ax[0].set_xlabel(R\"m.m. [$(\\mathrm{GeV}/c^2)^2$]\")\n",
    "# ptot vs Etot plot\n",
    "h1 = ax[1].hist2d(p4_final_state.e, p4_final_state.p, bins=100, cmap=\"rainbow\")\n",
    "fig.colorbar(h1[3], ax=ax[1])\n",
    "ax[1].set_xlabel(R\"$\\mathrm{E}_{tot}(2\\pi^+\\pi^-)$ [GeV]\")\n",
    "ax[1].set_ylabel(R\"$\\mathrm{p}_{tot}(2\\pi^+\\pi^-)$ [GeV/c]\")\n",
    "# missing mass recoiling against the neutral dipion (2 entries/event)\n",
    "all_missing_dipion = np.concatenate(\n",
    "    [recoiling_missing_mass1.m2, recoiling_missing_mass2.m2]\n",
    ")\n",
    "missingHisto = ax[2].hist(all_missing_dipion, bins=100, color=\"darkorange\")\n",
    "ax[2].set_xlabel(R\"m.m. recoiling against $(\\pi^+\\pi^-)$ [$(\\mathrm{GeV}/c^2)^2$]\")\n",
    "ax[2].xaxis.get_label().set_fontsize(8)\n",
    "ax[2].tick_params(axis=\"both\", which=\"major\", labelsize=8)\n",
    "plt.show()"
   ]
  },
  {
   "cell_type": "markdown",
   "metadata": {},
   "source": [
    "Let's fit the last plot with a gaussian function to check if the missing particle is really a charged pion (mass: 0.140 GeV/$c^2$)."
   ]
  },
  {
   "cell_type": "code",
   "execution_count": null,
   "metadata": {
    "jupyter": {
     "source_hidden": true
    },
    "tags": []
   },
   "outputs": [],
   "source": [
    "from scipy.stats import norm\n",
    "\n",
    "# best fit of data\n",
    "mu, sigma = norm.fit(all_missing_dipion)\n",
    "\n",
    "# the histogram of the data\n",
    "n, bins, patches = plt.hist(\n",
    "    all_missing_dipion,\n",
    "    range=(0.01947835, 0.01947985),\n",
    "    density=True,\n",
    "    facecolor=\"darkorange\",\n",
    "    histtype=\"barstacked\",\n",
    ")\n",
    "\n",
    "# add a 'best fit' line\n",
    "y = norm.pdf(bins, mu, sigma)\n",
    "l = plt.plot(bins, y, \"r--\", linewidth=2)\n",
    "print(\"The missing mass in GeV/c^2 is: \", np.sqrt(mu))"
   ]
  },
  {
   "cell_type": "code",
   "execution_count": null,
   "metadata": {
    "jupyter": {
     "source_hidden": true
    },
    "tags": [
     "hide-input"
    ]
   },
   "outputs": [],
   "source": [
    "plt.xlabel(\"missing mass recoiling against the neutral dipion\")\n",
    "plt.ylabel(\"counts\")\n",
    "plt.title(Rf\"$\\mu={mu:.3f},\\ \\sigma={sigma:.3f}$\")\n",
    "plt.grid(True)\n",
    "plt.hist(\n",
    "    all_missing_dipion, 100, density=True, facecolor=\"orange\", histtype=\"barstacked\"\n",
    ")\n",
    "plt.show()"
   ]
  }
 ],
 "metadata": {
  "colab": {
   "toc_visible": true
  },
  "kernelspec": {
   "display_name": "Python 3 (ipykernel)",
   "language": "python",
   "name": "python3"
  },
  "language_info": {
   "codemirror_mode": {
    "name": "ipython",
    "version": 3
   },
   "file_extension": ".py",
   "mimetype": "text/x-python",
   "name": "python",
   "nbconvert_exporter": "python",
   "pygments_lexer": "ipython3",
   "version": "3.10.12"
  }
 },
 "nbformat": 4,
 "nbformat_minor": 4
}
