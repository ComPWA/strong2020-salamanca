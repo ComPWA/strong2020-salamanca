{
 "cells": [
  {
   "cell_type": "markdown",
   "metadata": {},
   "source": [
    "# Lecture 12 – Computing angles\n",
    "\n",
    "**Plot of angles in some reference systems: center-of-mass vs Gottfried-Jackson vs Adair**"
   ]
  },
  {
   "cell_type": "markdown",
   "metadata": {},
   "source": [
    "Prepare the notebook with the preambles for the inclusion of pandas, numpy and matplotlib.pyplot.\n",
    "Import the data file (csv format) into Google Colab through the drive.mount command, import the pylorentz package."
   ]
  },
  {
   "cell_type": "code",
   "execution_count": null,
   "metadata": {},
   "outputs": [],
   "source": [
    "import matplotlib.pyplot as plt\n",
    "import numpy as np\n",
    "import pandas as pd"
   ]
  },
  {
   "cell_type": "markdown",
   "metadata": {},
   "source": [
    "Again we copy locally the data file using the gdown python package (alternative to mounting the data folder)"
   ]
  },
  {
   "cell_type": "code",
   "execution_count": null,
   "metadata": {},
   "outputs": [],
   "source": [
    "import gdown\n",
    "\n",
    "output_path = gdown.cached_download(\n",
    "    url=\"https://drive.google.com/uc?id=1qiYjPbR5nx3_Sw7MXuUKhNAUpkXPoxYh\",\n",
    "    path=\"data/gammapi_2pions_inclusive.dat\",\n",
    "    md5=\"38cf5bf915318df756a21a82ad9e4afa\",\n",
    "    quiet=True,\n",
    ")\n",
    "data = pd.read_csv(output_path)"
   ]
  },
  {
   "cell_type": "code",
   "execution_count": null,
   "metadata": {},
   "outputs": [],
   "source": [
    "data.head()\n",
    "# data.columns = data.columns.str.strip()"
   ]
  },
  {
   "cell_type": "code",
   "execution_count": null,
   "metadata": {},
   "outputs": [],
   "source": [
    "! pip install pylorentz"
   ]
  },
  {
   "cell_type": "code",
   "execution_count": null,
   "metadata": {},
   "outputs": [],
   "source": [
    "import math\n",
    "\n",
    "from pylorentz import Momentum4"
   ]
  },
  {
   "cell_type": "markdown",
   "metadata": {},
   "source": [
    "Let's prepare the relevant arrays containing the 4-momenta kinematics of the three particle (plus the two in the intial state), both in the laboratory and in the center of mass reference systems:"
   ]
  },
  {
   "cell_type": "code",
   "execution_count": null,
   "metadata": {},
   "outputs": [],
   "source": [
    "data.columns = data.columns.str.strip()"
   ]
  },
  {
   "cell_type": "code",
   "execution_count": null,
   "metadata": {},
   "outputs": [],
   "source": [
    "# final state\n",
    "p1T = np.sqrt(data.p1x**2 + data.p1y**2)\n",
    "p1mod = np.sqrt(p1T**2 + data.p1z**2)\n",
    "eta1 = np.arcsinh(data.p1z / p1T)\n",
    "phi1 = np.arctan2(data.p1y, data.p1x)\n",
    "pionPlus = Momentum4.e_eta_phi_p(data.E1, eta1, phi1, p1mod)\n",
    "\n",
    "p2T = np.sqrt(data.p2x**2 + data.p2y**2)\n",
    "p2mod = np.sqrt(p2T**2 + data.p2z**2)\n",
    "eta2 = np.arcsinh(data.p2z / p2T)\n",
    "phi2 = np.arctan2(data.p2y, data.p2x)\n",
    "pionMinus = Momentum4.e_eta_phi_p(data.E2, eta2, phi2, p2mod)\n",
    "\n",
    "p3T = np.sqrt(data.p3x**2 + data.p3y**2)\n",
    "p3mod = np.sqrt(p3T**2 + data.p3z**2)\n",
    "eta3 = np.arcsinh(data.p3z / p3T)\n",
    "phi3 = np.arctan2(data.p3y, data.p3x)\n",
    "proton = Momentum4.e_eta_phi_p(data.E3, eta3, phi3, p3mod)\n",
    "\n",
    "# initial state\n",
    "# alen is the number of events read by the csv file\n",
    "len = len(data.pgamma)\n",
    "pgammaT = np.zeros(len)\n",
    "pgammamod = data.pgamma\n",
    "etagamma = 1.0e11 * np.ones(len)\n",
    "phigamma = np.zeros(len)\n",
    "massGamma = 0.0\n",
    "Egamma = np.sqrt(massGamma**2 + pgammamod**2)\n",
    "gamma = Momentum4.e_eta_phi_p(Egamma, etagamma, phigamma, pgammamod)\n",
    "\n",
    "# the target (proton) is at rest\n",
    "massProton = 0.93827\n",
    "ETgt = massProton * np.ones(len)\n",
    "etaTgt = np.zeros(len)\n",
    "phiTgt = np.zeros(len)\n",
    "pTgt = np.zeros(len)\n",
    "protonTarget = Momentum4.e_eta_phi_p(ETgt, etaTgt, phiTgt, pTgt)"
   ]
  },
  {
   "cell_type": "code",
   "execution_count": null,
   "metadata": {},
   "outputs": [],
   "source": [
    "# 4-momenta in the scenter of mass system\n",
    "centerOfMass = gamma + protonTarget\n",
    "\n",
    "pionPlusCM = pionPlus.boost_particle(-centerOfMass)\n",
    "pionMinusCM = pionMinus.boost_particle(-centerOfMass)\n",
    "protonCM = proton.boost_particle(-centerOfMass)\n",
    "\n",
    "k = gamma.boost_particle(-centerOfMass)\n",
    "protonTargetCM = protonTarget.boost_particle(-centerOfMass)\n",
    "q = pionPlusCM + pionMinusCM\n",
    "kcmDipion = gamma.boost_particle(-q)"
   ]
  },
  {
   "cell_type": "markdown",
   "metadata": {},
   "source": [
    "Let us suppose that the two pions form an intermediate state (that can be resonant or not), which we identify as \"dipion\" D.\n",
    "Let's choose the axes directions in the center-of mass system as follows, being $\\mathbf{k}$ the photon momentum and $\\mathbf{q}$ the momentum of the dipion:\n",
    "\n",
    "\n",
    "*   $\\mathbf{Z} = \\frac{\\mathbf{k}}{|\\mathbf{k}|}$\n",
    "*   $\\mathbf{Y} = \\frac{\\mathbf{k}\\times \\mathbf{q}}{|\\mathbf{k}\\times \\mathbf{q}|}$\n",
    "*   $\\mathbf{X} = \\frac{(\\mathbf{k}\\times \\mathbf{q})\\times \\mathbf{k}}{(|\\mathbf{k}\\times \\mathbf{q})\\times \\mathbf{k}|}$\n",
    "\n"
   ]
  },
  {
   "cell_type": "markdown",
   "metadata": {},
   "source": [
    "## Angular distributions in helicity frame\n",
    "\n",
    "Angles and particle directions can be visualised in different reference frames in which resonance properties can emerge more easily.\n",
    "The decay distribution of the dipion may be discussed in the\n",
    " **helicity reference system**, defined as follows:\n",
    "\n",
    "\n",
    "*   The $z$ direction is chosen opposite to the direction of the recoiling nucleon in the D rest system (i.e., it is equal to the direction of flight of the dipion in the overall c.m. system)\n",
    "*   The $y$ direction is the normal to the production plane, defined by the cross product of the three-momenta of the dipion and the nucleon\n",
    "* The $x$ direction follows as $\\mathbf{x = y \\times z}$.\n",
    "\n",
    "The decay angles $\\phi,\\; \\theta$ are defined as the polar and azimuthal angles of the unit vector $\\mathbf n$. In the present case (of a two-particle decay), it indicates the direction of flight of one of the two decay particles; for a three-particle decay, $\\mathbf n$ is the normal to the decay plane in the decaying particle rest frame.\n",
    "The angles are defines as follows:\n",
    "\n",
    "\n",
    "\n",
    "\n",
    "*   $\\cos\\theta = \\mathbf{n\\cdot z}$\n",
    "*   $\\cos\\phi = \\frac{\\mathbf{y\\cdot(z\\times n)}}{|\\mathbf{z\\times n}|}$\n",
    "*   $\\sin\\phi = -\\frac{\\mathbf{x\\cdot(z\\times n)}} {|\\mathbf{z\\times n}|}$\n",
    "\n",
    "\n",
    "\n",
    "\n",
    "\n",
    "\n",
    "\n",
    "\n",
    "\n"
   ]
  },
  {
   "cell_type": "markdown",
   "metadata": {},
   "source": [
    "Let's choose the $\\pi^+$'s direction as $\\mathbf n$ and extract the angular distributions for the reaction under study:"
   ]
  },
  {
   "cell_type": "code",
   "execution_count": null,
   "metadata": {},
   "outputs": [],
   "source": [
    "n = []\n",
    "z = []\n",
    "y = []\n",
    "x = []\n",
    "zcrossn = []\n",
    "cosTheta = []\n",
    "cosPhi = []\n",
    "sinPhi = []\n",
    "phiHel = []\n",
    "# len = len(data.p1x)\n",
    "# for 5000 events: 50 s\n",
    "len = 10000\n",
    "for i in range(len):\n",
    "    n = np.array([pionPlusCM.p_x[i], pionPlusCM.p_y[i], pionPlusCM.p_z[i]])\n",
    "    n /= pionPlusCM.p[i]\n",
    "    z = np.array([q.p_x[i], q.p_y[i], q.p_z[i]])\n",
    "    z /= q.p[i]\n",
    "    k3 = np.array([k.p_x[i], k.p_y[i], k.p_z[i]])\n",
    "    q3 = np.array([q.p_x[i], q.p_y[i], q.p_z[i]])\n",
    "    y = np.cross(k3, q3)\n",
    "    y /= np.linalg.norm(y)\n",
    "    x = np.cross(y, z)\n",
    "    cosTheta.append(np.dot(n, z))\n",
    "    zcrossn = np.cross(z, n)\n",
    "    cosPhi.append(np.dot(y, zcrossn) / np.linalg.norm(zcrossn))\n",
    "    sinPhi.append(-np.dot(x, zcrossn) / np.linalg.norm(zcrossn))\n",
    "    # extraction of the phi angle\n",
    "    # the angle spans the (-pi, +pi) range and its sign is taken correctly into account by the arctan2 function\n",
    "    phiHel.append(np.arctan2(sinPhi[i], cosPhi[i]))"
   ]
  },
  {
   "cell_type": "markdown",
   "metadata": {},
   "source": [
    "Let's plot the distributions for $\\cos\\theta$ and the azimuthal angle $\\phi$ in the helicity frame."
   ]
  },
  {
   "cell_type": "code",
   "execution_count": null,
   "metadata": {},
   "outputs": [],
   "source": [
    "fig, ax = plt.subplots(1, 4, tight_layout=True, figsize=(13, 4))\n",
    "\n",
    "ax[0].hist(cosTheta, bins=50, color=\"aqua\")\n",
    "ax[0].set_xlabel(\"cos(theta)\")\n",
    "ax[0].set_ylabel(\"Entries/0.01\")\n",
    "ax[1].hist(cosPhi, color=\"lightskyblue\", bins=50)\n",
    "ax[1].set_xlabel(\"$\\cos\\phi$\")\n",
    "ax[1].set_ylabel(\"Entries/0.01\")\n",
    "ax[2].hist(sinPhi, bins=50, color=\"slateblue\")\n",
    "ax[2].set_xlabel(\"$\\sin\\phi$\")\n",
    "ax[2].set_ylabel(\"Entries/0.01\")\n",
    "ax[3].hist(phiHel, bins=50, color=\"darkorchid\")\n",
    "ax[3].set_xlabel(\"$\\phi_{hel}$ [rad]\")\n",
    "ax[3].set_ylabel(\"Entries/(0.13 rad)\")"
   ]
  },
  {
   "cell_type": "markdown",
   "metadata": {},
   "source": [
    "## Angular distributions in the Gottfried-Jackson frame\n",
    "\n",
    "Differently from the helicity system, in the **Gottfried-Jackson** system the $z$ axis is equal to the direction of flight of the incoming photon in the D rest frame. Having replaced the $z$ axis, all other vectors definitions follow accordingly."
   ]
  },
  {
   "cell_type": "code",
   "execution_count": null,
   "metadata": {},
   "outputs": [],
   "source": [
    "phiGJ = []\n",
    "cosPhi = []\n",
    "sinPhi = []\n",
    "cosTheta = []\n",
    "\n",
    "for i in range(len):\n",
    "    n = np.array([pionPlusCM.p_x[i], pionPlusCM.p_y[i], pionPlusCM.p_z[i]])\n",
    "    n /= pionPlusCM.p[i]\n",
    "    z = np.array([kcmDipion.p_x[i], kcmDipion.p_y[i], kcmDipion.p_z[i]])\n",
    "    z /= kcmDipion.p[i]\n",
    "    k3 = np.array([k.p_x[i], k.p_y[i], k.p_z[i]])\n",
    "    q3 = np.array([q.p_x[i], q.p_y[i], q.p_z[i]])\n",
    "    y = np.cross(k3, q3)\n",
    "    y /= np.linalg.norm(y)\n",
    "    x = np.cross(y, z)\n",
    "    cosTheta.append(np.dot(n, z))\n",
    "    zcrossn = np.cross(z, n)\n",
    "    cosPhi.append(np.dot(y, zcrossn) / np.linalg.norm(zcrossn))\n",
    "    sinPhi.append(-np.dot(x, zcrossn) / np.linalg.norm(zcrossn))\n",
    "    phiGJ.append(np.arctan2(sinPhi[i], cosPhi[i]))"
   ]
  },
  {
   "cell_type": "code",
   "execution_count": null,
   "metadata": {},
   "outputs": [],
   "source": [
    "fig, ax = plt.subplots(1, 4, tight_layout=True, figsize=(13, 4))\n",
    "\n",
    "ax[0].hist(cosTheta, bins=50, color=\"aqua\", alpha=0.66)\n",
    "ax[0].set_xlabel(\"cos(theta)\")\n",
    "ax[0].set_ylabel(\"Entries/0.01\")\n",
    "ax[1].hist(cosPhi, color=\"lightskyblue\", bins=50, alpha=0.66)\n",
    "ax[1].set_xlabel(\"$\\cos\\phi$\")\n",
    "ax[1].set_ylabel(\"Entries/0.01\")\n",
    "ax[2].hist(sinPhi, bins=50, color=\"slateblue\", alpha=0.66)\n",
    "ax[2].set_xlabel(\"$\\sin\\phi$\")\n",
    "ax[2].set_ylabel(\"Entries/0.01\")\n",
    "ax[3].hist(phiGJ, bins=50, color=\"darkorchid\", alpha=0.66)\n",
    "ax[3].set_xlabel(\"$\\phi_{GJ}$ [rad]\")\n",
    "ax[3].set_ylabel(\"Entries/(0.13 rad)\")"
   ]
  },
  {
   "cell_type": "markdown",
   "metadata": {},
   "source": [
    "## Angular distributions in the Adair frame\n",
    "\n",
    "On the other hand, in the **Adair** system the $z$ is equal to the direction of flight of the incoming photon in the c.m. system of the reaction. All other definition follow, as above."
   ]
  },
  {
   "cell_type": "code",
   "execution_count": null,
   "metadata": {},
   "outputs": [],
   "source": [
    "phiAdair = []\n",
    "cosPhi = []\n",
    "sinPhi = []\n",
    "cosTheta = []\n",
    "\n",
    "for i in range(len):\n",
    "    n = np.array([pionPlusCM.p_x[i], pionPlusCM.p_y[i], pionPlusCM.p_z[i]])\n",
    "    n /= pionPlusCM.p[i]\n",
    "    z = np.array([k.p_x[i], k.p_y[i], k.p_z[i]])\n",
    "    z /= k.p[i]\n",
    "    k3 = np.array([k.p_x[i], k.p_y[i], k.p_z[i]])\n",
    "    q3 = np.array([q.p_x[i], q.p_y[i], q.p_z[i]])\n",
    "    y = np.cross(k3, q3)\n",
    "    y /= np.linalg.norm(y)\n",
    "    x = np.cross(y, z)\n",
    "    cosTheta.append(np.dot(n, z))\n",
    "    zcrossn = np.cross(z, n)\n",
    "    cosPhi.append(np.dot(y, zcrossn) / np.linalg.norm(zcrossn))\n",
    "    sinPhi.append(-np.dot(x, zcrossn) / np.linalg.norm(zcrossn))\n",
    "    phiAdair.append(np.arctan2(sinPhi[i], cosPhi[i]))"
   ]
  },
  {
   "cell_type": "code",
   "execution_count": null,
   "metadata": {},
   "outputs": [],
   "source": [
    "fig, ax = plt.subplots(1, 4, tight_layout=True, figsize=(13, 4))\n",
    "\n",
    "ax[0].hist(cosTheta, bins=50, color=\"aqua\", alpha=0.33)\n",
    "ax[0].set_xlabel(\"cos(theta)\")\n",
    "ax[0].set_ylabel(\"Entries/0.01\")\n",
    "ax[1].hist(cosPhi, color=\"lightskyblue\", bins=50, alpha=0.33)\n",
    "ax[1].set_xlabel(\"$\\cos\\phi$\")\n",
    "ax[1].set_ylabel(\"Entries/0.01\")\n",
    "ax[2].hist(sinPhi, bins=50, color=\"slateblue\", alpha=0.33)\n",
    "ax[2].set_xlabel(\"$\\sin\\phi$\")\n",
    "ax[2].set_ylabel(\"Entries/0.01\")\n",
    "ax[3].hist(phiAdair, bins=50, color=\"darkorchid\", alpha=0.33)\n",
    "ax[3].set_xlabel(\"$\\phi_{Adair}$ [rad]\")\n",
    "ax[3].set_ylabel(\"Entries/(0.13 rad)\")"
   ]
  }
 ],
 "metadata": {
  "colab": {
   "authorship_tag": "ABX9TyMgnMsvp0Fl2tbk1xpEBf+T",
   "mount_file_id": "1eQrRA84_NQIVcpoyU8LGnV2ALVDJh8FD"
  },
  "kernelspec": {
   "display_name": "Python 3 (ipykernel)",
   "language": "python",
   "name": "python3"
  },
  "language_info": {
   "codemirror_mode": {
    "name": "ipython",
    "version": 3
   },
   "file_extension": ".py",
   "mimetype": "text/x-python",
   "name": "python",
   "nbconvert_exporter": "python",
   "pygments_lexer": "ipython3",
   "version": "3.10.12"
  }
 },
 "nbformat": 4,
 "nbformat_minor": 4
}
