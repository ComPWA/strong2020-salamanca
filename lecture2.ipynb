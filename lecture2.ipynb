{
 "cells": [
  {
   "cell_type": "markdown",
   "id": "3e84775e",
   "metadata": {
    "editable": true,
    "slideshow": {
     "slide_type": ""
    },
    "tags": []
   },
   "source": [
    "# Lecture 2 - Kinematics"
   ]
  },
  {
   "cell_type": "markdown",
   "id": "8e18e514-f844-438a-b5ad-45787bb3aa75",
   "metadata": {
    "editable": true,
    "slideshow": {
     "slide_type": ""
    },
    "tags": []
   },
   "source": [
    "[Lecture 2](https://indico.ific.uv.es/event/6803/contributions/21220) by Vincent Mathieu contains a few data files containing four-momenta data samples. Our goal in this notebook is to identify which reaction was used to generate these data samples."
   ]
  },
  {
   "cell_type": "markdown",
   "id": "116d1eb0-77ba-421b-b452-b18e7a7c6f47",
   "metadata": {
    "editable": true,
    "slideshow": {
     "slide_type": ""
    },
    "tags": []
   },
   "source": [
    "## `Three-particles-1.dat`"
   ]
  },
  {
   "cell_type": "code",
   "execution_count": null,
   "id": "2fba5cd1-1dc7-4564-a874-a028ccf63055",
   "metadata": {
    "editable": true,
    "mystnb": {
     "code_prompt_show": "Load data"
    },
    "slideshow": {
     "slide_type": ""
    },
    "tags": [
     "hide-cell"
    ]
   },
   "outputs": [],
   "source": [
    "import numpy as np\n",
    "\n",
    "filename = \"data/Three-particles-1.dat\"\n",
    "data = np.loadtxt(filename)\n",
    "data.shape"
   ]
  },
  {
   "cell_type": "code",
   "execution_count": null,
   "id": "923f6b36-9edb-4817-8c7e-0a8b46b90427",
   "metadata": {
    "editable": true,
    "slideshow": {
     "slide_type": ""
    },
    "tags": []
   },
   "outputs": [],
   "source": [
    "n_final_state = 3\n",
    "pa, p1, p2, p3 = (data[i::4].T for i in range(n_final_state + 1))"
   ]
  },
  {
   "cell_type": "code",
   "execution_count": null,
   "id": "a0b70dc7-a087-4b43-a08c-f48840a2c6a3",
   "metadata": {
    "editable": true,
    "slideshow": {
     "slide_type": ""
    },
    "tags": []
   },
   "outputs": [],
   "source": [
    "def mass(p: np.ndarray) -> np.ndarray:\n",
    "    return np.sqrt(mass_squared(p))\n",
    "\n",
    "\n",
    "def mass_squared(p: np.ndarray) -> np.ndarray:\n",
    "    return p[0] ** 2 - np.sum(p[1:] ** 2, axis=0)\n",
    "\n",
    "\n",
    "p0 = p1 + p2 + p3\n",
    "m0 = mass(p0)\n",
    "print(f\"{m0.mean():.4g} +/- {m0.std():.4g}\")"
   ]
  },
  {
   "cell_type": "code",
   "execution_count": null,
   "id": "3dd3279f-d03b-477f-821e-ada0e5bf2cbf",
   "metadata": {
    "editable": true,
    "jupyter": {
     "source_hidden": true
    },
    "slideshow": {
     "slide_type": ""
    },
    "tags": [
     "hide-input"
    ]
   },
   "outputs": [],
   "source": [
    "from IPython.display import Math\n",
    "\n",
    "for i, p in enumerate([p0, p1, p2, p3]):\n",
    "    display(Math(Rf\"m_{i} = {mass(p).mean():.3g}\\text{{ GeV}}\"))\n",
    "\n",
    "display(Math(Rf\"m_{{a}} = {mass(pa).mean():.3g}\\text{{ GeV}}\"))"
   ]
  },
  {
   "cell_type": "code",
   "execution_count": null,
   "id": "ad21181e-2170-4845-9593-b72c25f809ec",
   "metadata": {
    "editable": true,
    "jupyter": {
     "source_hidden": true
    },
    "mystnb": {
     "code_prompt_show": "Identify final state particles"
    },
    "slideshow": {
     "slide_type": ""
    },
    "tags": [
     "hide-input"
    ]
   },
   "outputs": [],
   "source": [
    "from particle import Particle\n",
    "\n",
    "\n",
    "def find_candidates(m: float, delta: float = 0.001) -> list[Particle]:\n",
    "    return Particle.findall(lambda p: (m - delta) < 1e-3 * p.mass < (m + delta))\n",
    "\n",
    "\n",
    "m1 = mass(p1).mean()\n",
    "m2 = mass(p2).mean()\n",
    "m3 = mass(p3).mean()\n",
    "particles = tuple(find_candidates(m.mean())[0] for m in [m1, m2, m3])\n",
    "\n",
    "src = R\"\\text{Final state: }\" + \", \".join(f\"{p.latex_name}\" for p in particles)\n",
    "Math(src)"
   ]
  },
  {
   "cell_type": "markdown",
   "id": "187e3576-6643-4cec-a82b-50499719337b",
   "metadata": {
    "editable": true,
    "slideshow": {
     "slide_type": ""
    },
    "tags": []
   },
   "source": [
    "So this is probably some photon&nbsp;$\\gamma$ hitting a target that produces a meson&nbsp;$\\eta$, pion&nbsp;$\\pi^0$, and proton&nbsp;$p$."
   ]
  },
  {
   "cell_type": "markdown",
   "id": "47acd043-101f-4e22-a190-3b5406c251f6",
   "metadata": {
    "editable": true,
    "slideshow": {
     "slide_type": ""
    },
    "tags": []
   },
   "source": [
    "### Dalitz plot"
   ]
  },
  {
   "cell_type": "markdown",
   "id": "9ed45a7e-4a5b-47c1-823c-bab2ed2450c5",
   "metadata": {
    "editable": true,
    "slideshow": {
     "slide_type": ""
    },
    "tags": []
   },
   "source": [
    "By plotting the three Mandelstam variables in a Dalitz plot, we can identify resonances appear in the reaction for which this data was generated."
   ]
  },
  {
   "cell_type": "code",
   "execution_count": null,
   "id": "1261ac30-b308-422c-8f3f-6c79f1112afb",
   "metadata": {
    "editable": true,
    "slideshow": {
     "slide_type": ""
    },
    "tags": []
   },
   "outputs": [],
   "source": [
    "s12 = mass_squared(p1 + p2)\n",
    "s23 = mass_squared(p2 + p3)\n",
    "s31 = mass_squared(p3 + p1)\n",
    "\n",
    "m12 = mass(p1 + p2)\n",
    "m23 = mass(p2 + p3)\n",
    "m31 = mass(p3 + p1)"
   ]
  },
  {
   "cell_type": "code",
   "execution_count": null,
   "id": "f771e0c9-b46c-49ef-9d2a-0fb690ea53c1",
   "metadata": {
    "editable": true,
    "jupyter": {
     "source_hidden": true
    },
    "slideshow": {
     "slide_type": ""
    },
    "tags": [
     "hide-input"
    ]
   },
   "outputs": [],
   "source": [
    "import matplotlib.pyplot as plt\n",
    "\n",
    "fig, ax = plt.subplots()\n",
    "fig.suptitle(\"Dalitz plot – 2D histogram\")\n",
    "ax.hist2d(s12, s23, bins=100, cmin=1)\n",
    "ax.set_xlabel(R\"$s_{12}\\;\\left[\\mathrm{GeV}^2\\right]$\")\n",
    "ax.set_ylabel(R\"$s_{23}\\;\\left[\\mathrm{GeV}^2\\right]$\")\n",
    "fig.tight_layout()\n",
    "plt.show()"
   ]
  },
  {
   "cell_type": "code",
   "execution_count": null,
   "id": "0d116fa8-0336-4500-98c9-e8bd93498d5f",
   "metadata": {
    "editable": true,
    "jupyter": {
     "source_hidden": true
    },
    "slideshow": {
     "slide_type": ""
    },
    "tags": [
     "hide-input",
     "full-width"
    ]
   },
   "outputs": [],
   "source": [
    "fig, (ax1, ax2) = plt.subplots(figsize=(10, 4), ncols=2)\n",
    "fig.suptitle(\"Dalitz plot – scatter plot\")\n",
    "ax1.scatter(s12, s23, c=\"black\", s=1e-3)\n",
    "ax1.set_xlabel(R\"$s_{12}\\;\\left[\\mathrm{GeV}^2\\right]$\")\n",
    "ax1.set_ylabel(R\"$s_{23}\\;\\left[\\mathrm{GeV}^2\\right]$\")\n",
    "ax2.scatter(s31, s12, c=\"black\", s=1e-3)\n",
    "ax2.set_xlabel(R\"$s_{31}\\;\\left[\\mathrm{GeV}^2\\right]$\")\n",
    "ax2.set_ylabel(R\"$s_{12}\\;\\left[\\mathrm{GeV}^2\\right]$\")\n",
    "fig.tight_layout()\n",
    "plt.show()"
   ]
  },
  {
   "cell_type": "markdown",
   "id": "e073ecb3-6eac-4c80-a45b-c89eb15873cd",
   "metadata": {
    "editable": true,
    "slideshow": {
     "slide_type": ""
    },
    "tags": []
   },
   "source": [
    "### Particle identification"
   ]
  },
  {
   "cell_type": "markdown",
   "id": "2dcd360f-d219-4cfe-865b-854f4d7aee14",
   "metadata": {
    "editable": true,
    "slideshow": {
     "slide_type": ""
    },
    "tags": []
   },
   "source": [
    "In the following, we make a few cuts on Mandelstam variables to select a region where the resonances lie isolated. We then use these cuts as a filter on the computed masses for each each and then compute the mean."
   ]
  },
  {
   "cell_type": "code",
   "execution_count": null,
   "id": "07afb2ea-0c8a-450b-b6b2-8aa983868b77",
   "metadata": {
    "editable": true,
    "slideshow": {
     "slide_type": ""
    },
    "tags": []
   },
   "outputs": [],
   "source": [
    "m12_mean = m12[(s12 < 3) & (2.5 < s23) & (s23 < 10)].mean()\n",
    "m12_mean**2"
   ]
  },
  {
   "cell_type": "code",
   "execution_count": null,
   "id": "bf1ab275-8dc3-4aaf-8df8-53761d9788b3",
   "metadata": {
    "editable": true,
    "slideshow": {
     "slide_type": ""
    },
    "tags": []
   },
   "outputs": [],
   "source": [
    "m23_mean = m23[s23 < 2.5].mean()\n",
    "m23_mean**2"
   ]
  },
  {
   "cell_type": "code",
   "execution_count": null,
   "id": "33701cd2-9183-4361-b1b6-ef5febb052d5",
   "metadata": {
    "editable": true,
    "slideshow": {
     "slide_type": ""
    },
    "tags": []
   },
   "outputs": [],
   "source": [
    "m31_mean = m31[(s12 > 3) & (s31 < 4)].mean()\n",
    "m31_mean**2"
   ]
  },
  {
   "cell_type": "markdown",
   "id": "d3fd18ac-1d41-4734-8de3-7e8b936f042c",
   "metadata": {
    "editable": true,
    "slideshow": {
     "slide_type": ""
    },
    "tags": []
   },
   "source": [
    "The particle candidates for $R_{12}$, $R_{23}$, and $R_{31}$ are then:"
   ]
  },
  {
   "cell_type": "code",
   "execution_count": null,
   "id": "16920187-1271-43b1-896a-1125a88e2bd3",
   "metadata": {
    "editable": true,
    "slideshow": {
     "slide_type": ""
    },
    "tags": []
   },
   "outputs": [],
   "source": [
    "find_candidates(m12_mean, delta=0.01)"
   ]
  },
  {
   "cell_type": "code",
   "execution_count": null,
   "id": "a19b0ea3-20b2-41d3-9909-5e9b2536938b",
   "metadata": {
    "editable": true,
    "slideshow": {
     "slide_type": ""
    },
    "tags": []
   },
   "outputs": [],
   "source": [
    "find_candidates(m23_mean, delta=0.015)"
   ]
  },
  {
   "cell_type": "code",
   "execution_count": null,
   "id": "748eeedc-f573-468c-853c-2dbe4c878d21",
   "metadata": {
    "editable": true,
    "slideshow": {
     "slide_type": ""
    },
    "tags": []
   },
   "outputs": [],
   "source": [
    "find_candidates(m31_mean, delta=0.01)"
   ]
  }
 ],
 "metadata": {
  "kernelspec": {
   "display_name": "Python 3 (ipykernel)",
   "language": "python",
   "name": "python3"
  },
  "language_info": {
   "codemirror_mode": {
    "name": "ipython",
    "version": 3
   },
   "file_extension": ".py",
   "mimetype": "text/x-python",
   "name": "python",
   "nbconvert_exporter": "python",
   "pygments_lexer": "ipython3",
   "version": "3.10.12"
  }
 },
 "nbformat": 4,
 "nbformat_minor": 5
}
