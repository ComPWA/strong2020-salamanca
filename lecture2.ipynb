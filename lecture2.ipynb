{
 "cells": [
  {
   "cell_type": "markdown",
   "id": "3e84775e",
   "metadata": {},
   "source": [
    "# Lecture 2 - Kinematics"
   ]
  },
  {
   "cell_type": "code",
   "execution_count": null,
   "id": "375c4f75-09c0-4358-abdb-26fdd83034e4",
   "metadata": {},
   "outputs": [],
   "source": [
    "%pip install -q gdown"
   ]
  },
  {
   "cell_type": "code",
   "execution_count": null,
   "id": "040f4556-d582-4b50-aa80-0bc345d95f1e",
   "metadata": {
    "jupyter": {
     "source_hidden": true
    },
    "mystnb": {
     "code_prompt_show": "Import Python libraries"
    },
    "tags": [
     "hide-cell"
    ]
   },
   "outputs": [],
   "source": [
    "import warnings\n",
    "\n",
    "import gdown\n",
    "import numpy as np\n",
    "\n",
    "warnings.filterwarnings(\"ignore\")"
   ]
  },
  {
   "cell_type": "code",
   "execution_count": null,
   "id": "2ae652f2-d9e8-4145-b57d-b671670d942f",
   "metadata": {
    "tags": []
   },
   "outputs": [],
   "source": [
    "filename = gdown.cached_download(\n",
    "    url=\"https://indico.ific.uv.es/event/6803/contributions/21220/attachments/11209/15504/Three-particles-1.dat\",\n",
    "    path=\"data/Three-particles-1.dat\",\n",
    "    md5=\"a49ebfd97ae6a02023291df665ab924c\",\n",
    "    quiet=True,\n",
    "    verify=False,\n",
    ")\n",
    "data = np.loadtxt(filename)\n",
    "data.shape"
   ]
  },
  {
   "cell_type": "code",
   "execution_count": null,
   "id": "923f6b36-9edb-4817-8c7e-0a8b46b90427",
   "metadata": {},
   "outputs": [],
   "source": [
    "n_final_state = 3\n",
    "pa, p1, p2, p3 = (data[i::4].T for i in range(n_final_state + 1))"
   ]
  },
  {
   "cell_type": "code",
   "execution_count": null,
   "id": "c70d3c3e-2562-4e58-9193-c73183f335f0",
   "metadata": {
    "jupyter": {
     "source_hidden": true
    }
   },
   "outputs": [],
   "source": [
    "def mass(p: np.ndarray) -> np.ndarray:\n",
    "    return np.sqrt(mass_squared(p))\n",
    "\n",
    "\n",
    "def mass_squared(p: np.ndarray) -> np.ndarray:\n",
    "    return p[0] ** 2 - np.sum(p[1:] ** 2, axis=0)\n",
    "\n",
    "\n",
    "p0 = p1 + p2 + p3\n",
    "m0 = mass(p0)\n",
    "print(f\"{m0.mean():.4g} +/- {m0.std():.4g}\")"
   ]
  },
  {
   "cell_type": "code",
   "execution_count": null,
   "id": "3dd3279f-d03b-477f-821e-ada0e5bf2cbf",
   "metadata": {
    "jupyter": {
     "source_hidden": true
    }
   },
   "outputs": [],
   "source": [
    "from IPython.display import Math\n",
    "\n",
    "for i, p in enumerate([p0, p1, p2, p3]):\n",
    "    display(Math(Rf\"m_{i} = {mass(p).mean():.3g}\\text{{ GeV}}\"))\n",
    "\n",
    "display(Math(Rf\"m_{{a}} = {mass(pa).mean():.3g}\\text{{ GeV}}\"))"
   ]
  },
  {
   "cell_type": "code",
   "execution_count": null,
   "id": "ad21181e-2170-4845-9593-b72c25f809ec",
   "metadata": {
    "jupyter": {
     "source_hidden": true
    }
   },
   "outputs": [],
   "source": [
    "from IPython.display import Markdown\n",
    "from particle import Particle\n",
    "\n",
    "\n",
    "def find_candidates(m: float, delta: float = 0.001) -> list[Particle]:\n",
    "    return Particle.findall(lambda p: (m - delta) < 1e-3 * p.mass < (m + delta))\n",
    "\n",
    "\n",
    "m1 = mass(p1).mean()\n",
    "m2 = mass(p2).mean()\n",
    "m3 = mass(p3).mean()\n",
    "particles = tuple(find_candidates(m.mean())[0] for m in [m1, m2, m3])\n",
    "\n",
    "src = \"Final state: $\" + \", \".join(f\"{p.latex_name}\" for p in particles) + \"$\"\n",
    "Markdown(src)"
   ]
  },
  {
   "cell_type": "code",
   "execution_count": null,
   "id": "a17cb33c-4779-4e14-94cb-59a0d703d1f1",
   "metadata": {
    "jupyter": {
     "source_hidden": true
    }
   },
   "outputs": [],
   "source": [
    "import matplotlib.pyplot as plt\n",
    "\n",
    "fig, ax = plt.subplots()\n",
    "ax.hist2d(\n",
    "    mass_squared(p1 + p2),\n",
    "    mass_squared(p2 + p3),\n",
    "    bins=100,\n",
    "    cmin=1,\n",
    ")\n",
    "ax.set_xlabel(R\"$s_{12}\\;\\left[\\mathrm{GeV}^2\\right]$\")\n",
    "ax.set_ylabel(R\"$s_{23}\\;\\left[\\mathrm{GeV}^2\\right]$\")\n",
    "plt.show()"
   ]
  },
  {
   "cell_type": "code",
   "execution_count": null,
   "id": "0d116fa8-0336-4500-98c9-e8bd93498d5f",
   "metadata": {
    "jupyter": {
     "source_hidden": true
    },
    "tags": []
   },
   "outputs": [],
   "source": [
    "fig, ax = plt.subplots()\n",
    "ax.scatter(\n",
    "    mass_squared(p1 + p2),\n",
    "    mass_squared(p2 + p3),\n",
    "    c=\"black\",\n",
    "    s=1e-3,\n",
    ")\n",
    "ax.set_xlabel(R\"$s_{12}\\;\\left[\\mathrm{GeV}^2\\right]$\")\n",
    "ax.set_ylabel(R\"$s_{23}\\;\\left[\\mathrm{GeV}^2\\right]$\")\n",
    "plt.show()"
   ]
  }
 ],
 "metadata": {
  "kernelspec": {
   "display_name": "Python 3 (ipykernel)",
   "language": "python",
   "name": "python3"
  },
  "language_info": {
   "codemirror_mode": {
    "name": "ipython",
    "version": 3
   },
   "file_extension": ".py",
   "mimetype": "text/x-python",
   "name": "python",
   "nbconvert_exporter": "python",
   "pygments_lexer": "ipython3",
   "version": "3.10.12"
  }
 },
 "nbformat": 4,
 "nbformat_minor": 5
}
