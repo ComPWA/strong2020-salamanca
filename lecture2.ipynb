{
 "cells": [
  {
   "cell_type": "markdown",
   "id": "3e84775e",
   "metadata": {},
   "source": [
    "# Lecture 2 - Kinematics"
   ]
  },
  {
   "cell_type": "code",
   "execution_count": null,
   "id": "2fba5cd1-1dc7-4564-a874-a028ccf63055",
   "metadata": {},
   "outputs": [],
   "source": [
    "import numpy as np\n",
    "\n",
    "filename = \"data/Three-particles-1.dat\"\n",
    "data = np.loadtxt(filename)\n",
    "data.shape"
   ]
  },
  {
   "cell_type": "code",
   "execution_count": null,
   "id": "923f6b36-9edb-4817-8c7e-0a8b46b90427",
   "metadata": {},
   "outputs": [],
   "source": [
    "n_final_state = 3\n",
    "pa, p1, p2, p3 = (data[i::4].T for i in range(n_final_state + 1))"
   ]
  },
  {
   "cell_type": "code",
   "execution_count": null,
   "id": "c70d3c3e-2562-4e58-9193-c73183f335f0",
   "metadata": {
    "jupyter": {
     "source_hidden": true
    }
   },
   "outputs": [],
   "source": [
    "def mass(p: np.ndarray) -> np.ndarray:\n",
    "    return np.sqrt(mass_squared(p))\n",
    "\n",
    "\n",
    "def mass_squared(p: np.ndarray) -> np.ndarray:\n",
    "    return p[0] ** 2 - np.sum(p[1:] ** 2, axis=0)\n",
    "\n",
    "\n",
    "p0 = p1 + p2 + p3\n",
    "m0 = mass(p0)\n",
    "print(f\"{m0.mean():.4g} +/- {m0.std():.4g}\")"
   ]
  },
  {
   "cell_type": "code",
   "execution_count": null,
   "id": "3dd3279f-d03b-477f-821e-ada0e5bf2cbf",
   "metadata": {
    "jupyter": {
     "source_hidden": true
    }
   },
   "outputs": [],
   "source": [
    "from IPython.display import Math\n",
    "\n",
    "for i, p in enumerate([p0, p1, p2, p3]):\n",
    "    display(Math(Rf\"m_{i} = {mass(p).mean():.3g}\\text{{ GeV}}\"))\n",
    "\n",
    "display(Math(Rf\"m_{{a}} = {mass(pa).mean():.3g}\\text{{ GeV}}\"))"
   ]
  },
  {
   "cell_type": "code",
   "execution_count": null,
   "id": "ad21181e-2170-4845-9593-b72c25f809ec",
   "metadata": {
    "jupyter": {
     "source_hidden": true
    }
   },
   "outputs": [],
   "source": [
    "from IPython.display import Markdown\n",
    "from particle import Particle\n",
    "\n",
    "\n",
    "def find_candidates(m: float, delta: float = 0.001) -> list[Particle]:\n",
    "    return Particle.findall(lambda p: (m - delta) < 1e-3 * p.mass < (m + delta))\n",
    "\n",
    "\n",
    "m1 = mass(p1).mean()\n",
    "m2 = mass(p2).mean()\n",
    "m3 = mass(p3).mean()\n",
    "particles = tuple(find_candidates(m.mean())[0] for m in [m1, m2, m3])\n",
    "\n",
    "src = \"Final state: $\" + \", \".join(f\"{p.latex_name}\" for p in particles) + \"$\"\n",
    "Markdown(src)"
   ]
  },
  {
   "cell_type": "code",
   "execution_count": null,
   "id": "a17cb33c-4779-4e14-94cb-59a0d703d1f1",
   "metadata": {
    "jupyter": {
     "source_hidden": true
    }
   },
   "outputs": [],
   "source": [
    "import matplotlib.pyplot as plt\n",
    "\n",
    "fig, ax = plt.subplots()\n",
    "ax.hist2d(\n",
    "    mass_squared(p1 + p2),\n",
    "    mass_squared(p2 + p3),\n",
    "    bins=100,\n",
    "    cmin=1,\n",
    ")\n",
    "ax.set_xlabel(R\"$s_{12}\\;\\left[\\mathrm{GeV}^2\\right]$\")\n",
    "ax.set_ylabel(R\"$s_{23}\\;\\left[\\mathrm{GeV}^2\\right]$\")\n",
    "plt.show()"
   ]
  },
  {
   "cell_type": "code",
   "execution_count": null,
   "id": "0d116fa8-0336-4500-98c9-e8bd93498d5f",
   "metadata": {
    "jupyter": {
     "source_hidden": true
    }
   },
   "outputs": [],
   "source": [
    "fig, ax = plt.subplots()\n",
    "ax.scatter(\n",
    "    mass_squared(p1 + p2),\n",
    "    mass_squared(p2 + p3),\n",
    "    c=\"black\",\n",
    "    s=1e-3,\n",
    ")\n",
    "ax.set_xlabel(R\"$s_{12}\\;\\left[\\mathrm{GeV}^2\\right]$\")\n",
    "ax.set_ylabel(R\"$s_{23}\\;\\left[\\mathrm{GeV}^2\\right]$\")\n",
    "plt.show()"
   ]
  }
 ],
 "metadata": {
  "kernelspec": {
   "display_name": "Python 3 (ipykernel)",
   "language": "python",
   "name": "python3"
  },
  "language_info": {
   "codemirror_mode": {
    "name": "ipython",
    "version": 3
   },
   "file_extension": ".py",
   "mimetype": "text/x-python",
   "name": "python",
   "nbconvert_exporter": "python",
   "pygments_lexer": "ipython3",
   "version": "3.11.4"
  }
 },
 "nbformat": 4,
 "nbformat_minor": 5
}
