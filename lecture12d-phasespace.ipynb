{
 "cells": [
  {
   "cell_type": "markdown",
   "metadata": {},
   "source": [
    "# **How to perform a phase space simulation**"
   ]
  },
  {
   "cell_type": "markdown",
   "metadata": {},
   "source": [
    "Prepare the notebook with the preambles for the inclusion of pandas, numpy and matplotlib.pyplot.\n",
    "Import the data file (csv format) into Google Colab through the drive.mount command, import the pylorentz package."
   ]
  },
  {
   "cell_type": "code",
   "execution_count": null,
   "metadata": {},
   "outputs": [],
   "source": [
    "import matplotlib.pyplot as plt\n",
    "import numpy as np\n",
    "import pandas as pd"
   ]
  },
  {
   "cell_type": "markdown",
   "metadata": {},
   "source": [
    "Install the **phasespace** python package.\n",
    "This is equivalent to what has been traditionally done with the root TGenPhaseSpace class, which is based of the GENBOD function of the CERNLIB FORTRAN libraries and which requires a full working ROOT installation."
   ]
  },
  {
   "cell_type": "code",
   "execution_count": null,
   "metadata": {},
   "outputs": [],
   "source": [
    "!pip install phasespace"
   ]
  },
  {
   "cell_type": "markdown",
   "metadata": {},
   "source": [
    "Let's start with a simple two body decay at rest: $B^0\\rightarrow K^+\\pi^-$."
   ]
  },
  {
   "cell_type": "code",
   "execution_count": null,
   "metadata": {},
   "outputs": [],
   "source": [
    "import phasespace\n",
    "\n",
    "B0_MASS = 5279.65\n",
    "PION_MASS = 139.57018\n",
    "KAON_MASS = 493.677\n",
    "numberOfEvents = 10000\n",
    "\n",
    "weights, particles = phasespace.nbody_decay(B0_MASS, [PION_MASS, KAON_MASS]).generate(\n",
    "    n_events=numberOfEvents\n",
    ")"
   ]
  },
  {
   "cell_type": "markdown",
   "metadata": {},
   "source": [
    "The simulation produces a dictionary (particles) of TensorFlow objects. Each object can be addresses with particles ['p_i'], where \"i\" is the number of the i-th generated particle."
   ]
  },
  {
   "cell_type": "code",
   "execution_count": null,
   "metadata": {},
   "outputs": [],
   "source": [
    "particles"
   ]
  },
  {
   "cell_type": "code",
   "execution_count": null,
   "metadata": {},
   "outputs": [],
   "source": [
    "particles[\"p_0\"]"
   ]
  },
  {
   "cell_type": "markdown",
   "metadata": {},
   "source": [
    "Each TensorFlow object is a numpy.array: it can be saved in a tf object with a given name, and the component can be extracted as elements of np.arrays"
   ]
  },
  {
   "cell_type": "code",
   "execution_count": null,
   "metadata": {},
   "outputs": [],
   "source": [
    "piontf = particles[\"p_0\"]\n",
    "kaontf = particles[\"p_1\"]"
   ]
  },
  {
   "cell_type": "code",
   "execution_count": null,
   "metadata": {},
   "outputs": [],
   "source": [
    "print(piontf.numpy())\n",
    "print(\" \")\n",
    "# extract a single component of one of the particles objects\n",
    "print(np.array(piontf[1][1]))\n",
    "print(\" \")\n",
    "# to extract one column\n",
    "print(np.array(piontf[:, 1]))"
   ]
  },
  {
   "cell_type": "markdown",
   "metadata": {},
   "source": [
    "One can now prepare pylorentz objects to make kinematic calculations with 4-vectors:"
   ]
  },
  {
   "cell_type": "code",
   "execution_count": null,
   "metadata": {},
   "outputs": [],
   "source": [
    "!pip install pylorentz\n",
    "import math\n",
    "\n",
    "from pylorentz import Momentum4"
   ]
  },
  {
   "cell_type": "code",
   "execution_count": null,
   "metadata": {},
   "outputs": [],
   "source": [
    "kaonpx = np.array(kaontf[:, 0])\n",
    "kaonpy = np.array(kaontf[:, 1])\n",
    "kaonpz = np.array(kaontf[:, 2])\n",
    "pKT = np.sqrt(kaonpx**2 + kaonpy**2)\n",
    "pKmod = np.sqrt(pKT**2 + kaonpz**2)\n",
    "etaK = np.arcsinh(kaonpz / pKT)\n",
    "phiK = np.arctan2(kaonpy, kaonpx)\n",
    "EK = np.array(kaontf[:, 3])\n",
    "kaon = Momentum4.e_eta_phi_p(EK, etaK, phiK, pKmod)\n",
    "\n",
    "pPiT = np.sqrt((np.array(piontf[:, 0])) ** 2 + (np.array(piontf[:, 1])) ** 2)\n",
    "pPimod = np.sqrt(pPiT**2 + (np.array(piontf[:, 2])) ** 2)\n",
    "etaPi = np.arcsinh(np.array(piontf[:, 2]) / pPiT)\n",
    "phiPi = np.arctan2(np.array(piontf[:, 1]), np.array(piontf[:, 0]))\n",
    "pion = Momentum4.e_eta_phi_p(np.array(piontf[:, 3]), etaPi, phiPi, pPimod)\n",
    "\n",
    "# the mother (B0) is at rest\n",
    "EB0 = B0_MASS * np.ones(numberOfEvents)\n",
    "etaB0 = np.zeros(numberOfEvents)\n",
    "phiB0 = np.zeros(numberOfEvents)\n",
    "pB0 = np.zeros(numberOfEvents)\n",
    "B0mother = Momentum4.e_eta_phi_p(EB0, etaB0, phiB0, pB0)"
   ]
  },
  {
   "cell_type": "markdown",
   "metadata": {},
   "source": [
    "Let's verify that the invariant mass of the kaon+pion system corresponds to the mass of the mother $B^0$. Let's plot also the momentum components of the two daugther particles."
   ]
  },
  {
   "cell_type": "code",
   "execution_count": null,
   "metadata": {},
   "outputs": [],
   "source": [
    "invariantMassKP = kaon + pion\n",
    "\n",
    "fig, ax = plt.subplots(1, 4, tight_layout=True, figsize=(11, 3.5))\n",
    "ax[0].hist(invariantMassKP.m, bins=100, color=\"CornFlowerBlue\", range=(5279, 5280))\n",
    "ax[0].set_xlabel(\"i.m.($\\pi$K) [MeV/$c^2$]\")\n",
    "ax[0].set_title(\"(pion-kaon) i.m. \\n\")\n",
    "\n",
    "ax[1].hist(kaon.p_x, bins=70, color=\"lightcoral\", hatch=\"//\")\n",
    "ax[1].hist(\n",
    "    pion.p_x, bins=70, color=\"springgreen\", histtype=\"barstacked\", hatch=\"\\\\\", alpha=0.5\n",
    ")\n",
    "ax[1].set_xlabel(\"$p_x$ [MeV/$c$]\")\n",
    "ax[1].set_title(\"x mom. component \\n\")\n",
    "\n",
    "ax[2].hist(kaon.p_y, bins=70, color=\"lightcoral\", hatch=\"//\")\n",
    "ax[2].hist(\n",
    "    pion.p_y, bins=70, color=\"springgreen\", histtype=\"barstacked\", hatch=\"\\\\\", alpha=0.5\n",
    ")\n",
    "ax[2].set_xlabel(\"$p_y$ [MeV/$c$]\")\n",
    "ax[2].set_title(\"y mom. component \\n\")\n",
    "\n",
    "ax[3].hist(kaon.p_z, bins=70, color=\"lightcoral\", hatch=\"//\")\n",
    "ax[3].hist(\n",
    "    pion.p_z, bins=70, color=\"springgreen\", histtype=\"barstacked\", hatch=\"\\\\\", alpha=0.5\n",
    ")\n",
    "ax[3].set_xlabel(\"$p_z$ [MeV/$c$]\")\n",
    "ax[3].set_title(\"z mom. component \\n\")"
   ]
  },
  {
   "cell_type": "markdown",
   "metadata": {},
   "source": [
    "But it's monochromatic!! of course it is... it's a decay at rest. The momentum components are uniformly distributed in the available phase space."
   ]
  },
  {
   "cell_type": "markdown",
   "metadata": {},
   "source": [
    "\n",
    "\n",
    "---\n",
    "\n",
    "\n"
   ]
  },
  {
   "cell_type": "markdown",
   "metadata": {},
   "source": [
    "Let's consider now\n",
    "a three body decay like $B^0\\rightarrow K^+\\pi^-\\pi^0$ and repeat the plot of the relevant kinematic variables. We can also make Dalitz plots this time."
   ]
  },
  {
   "cell_type": "code",
   "execution_count": null,
   "metadata": {},
   "outputs": [],
   "source": [
    "numberOfEvents = 50000\n",
    "PION0_MASS = 134.9766\n",
    "weights, particles = phasespace.nbody_decay(\n",
    "    B0_MASS, [PION_MASS, PION0_MASS, KAON_MASS]\n",
    ").generate(n_events=numberOfEvents)"
   ]
  },
  {
   "cell_type": "code",
   "execution_count": null,
   "metadata": {},
   "outputs": [],
   "source": [
    "piontf = particles[\"p_0\"]\n",
    "pion0tf = particles[\"p_1\"]\n",
    "kaontf = particles[\"p_2\"]\n",
    "\n",
    "kaonpx = np.array(kaontf[:, 0])\n",
    "kaonpy = np.array(kaontf[:, 1])\n",
    "kaonpz = np.array(kaontf[:, 2])\n",
    "pKT = np.sqrt(kaonpx**2 + kaonpy**2)\n",
    "pKmod = np.sqrt(pKT**2 + kaonpz**2)\n",
    "etaK = np.arcsinh(kaonpz / pKT)\n",
    "phiK = np.arctan2(kaonpy, kaonpx)\n",
    "EK = np.array(kaontf[:, 3])\n",
    "kaon = Momentum4.e_eta_phi_p(EK, etaK, phiK, pKmod)\n",
    "\n",
    "pPiT = np.sqrt((np.array(piontf[:, 0])) ** 2 + (np.array(piontf[:, 1])) ** 2)\n",
    "pPimod = np.sqrt(pPiT**2 + (np.array(piontf[:, 2])) ** 2)\n",
    "etaPi = np.arcsinh(np.array(piontf[:, 2]) / pPiT)\n",
    "phiPi = np.arctan2(np.array(piontf[:, 1]), np.array(piontf[:, 0]))\n",
    "pion = Momentum4.e_eta_phi_p(np.array(piontf[:, 3]), etaPi, phiPi, pPimod)\n",
    "\n",
    "pPi0T = np.sqrt((np.array(pion0tf[:, 0])) ** 2 + (np.array(pion0tf[:, 1])) ** 2)\n",
    "pPi0mod = np.sqrt(pPi0T**2 + (np.array(pion0tf[:, 2])) ** 2)\n",
    "etaPi0 = np.arcsinh(np.array(pion0tf[:, 2]) / pPi0T)\n",
    "phiPi0 = np.arctan2(np.array(pion0tf[:, 1]), np.array(pion0tf[:, 0]))\n",
    "pion0 = Momentum4.e_eta_phi_p(np.array(pion0tf[:, 3]), etaPi0, phiPi0, pPi0mod)\n",
    "\n",
    "\n",
    "# the mother (B0) is at rest\n",
    "EB0 = B0_MASS * np.ones(numberOfEvents)\n",
    "etaB0 = np.zeros(numberOfEvents)\n",
    "phiB0 = np.zeros(numberOfEvents)\n",
    "pB0 = np.zeros(numberOfEvents)\n",
    "B0mother = Momentum4.e_eta_phi_p(EB0, etaB0, phiB0, pB0)"
   ]
  },
  {
   "cell_type": "code",
   "execution_count": null,
   "metadata": {},
   "outputs": [],
   "source": [
    "invariantMassKP = kaon + pion\n",
    "invariantMassKPi0 = kaon + pion0\n",
    "invariantMass2Pi = pion + pion0\n",
    "\n",
    "fig, ax = plt.subplots(1, 3, tight_layout=True, figsize=(12, 3.5))\n",
    "f0 = ax[0].hist2d(invariantMassKP.m2, invariantMass2Pi.m2, bins=70, cmap=\"turbo\")\n",
    "fig.colorbar(f0[3], ax=ax[0])\n",
    "ax[0].set_xlabel(\"i.m.$^2(\\pi^-K^+)$ [(MeV/$c^2)^2]$\")\n",
    "ax[0].set_ylabel(\"i.m.$^2(\\pi^-\\pi^0)$ [(MeV/$c^2)^2]$\")\n",
    "\n",
    "f1 = ax[1].hist2d(invariantMassKPi0.m2, invariantMass2Pi.m2, bins=70, cmap=\"turbo\")\n",
    "fig.colorbar(f1[3], ax=ax[1])\n",
    "ax[1].set_xlabel(\"i.m.$^2(\\pi^0K^+)$ [(MeV/$c^2)^2]$\")\n",
    "ax[1].set_ylabel(\"i.m.$^2(\\pi^-\\pi^0)$ [(MeV/$c^2)^2]$\")\n",
    "\n",
    "f2 = ax[2].hist2d(invariantMassKP.m2, invariantMassKPi0.m2, bins=70, cmap=\"turbo\")\n",
    "fig.colorbar(f2[3], ax=ax[2])\n",
    "ax[2].set_xlabel(\"i.m.$^2(\\pi^-K^+)$ [(MeV/$c^2)^2]$\")\n",
    "ax[2].set_ylabel(\"i.m.$^2(\\pi^0K^+)$ [(MeV/$c^2)^2]$\")"
   ]
  },
  {
   "cell_type": "markdown",
   "metadata": {},
   "source": [
    "\n",
    "\n",
    "---\n",
    "\n"
   ]
  },
  {
   "cell_type": "markdown",
   "metadata": {},
   "source": [
    "The package *phasespace* allows to treat also multiple decays. Let's consider the $B^0\\rightarrow K^{\\ast 0}\\gamma$ decay, followed by $K^{\\ast 0}\\rightarrow \\pi^-K^+$. It can be simulated using the following procedure:"
   ]
  },
  {
   "cell_type": "code",
   "execution_count": null,
   "metadata": {},
   "outputs": [],
   "source": [
    "from phasespace import GenParticle\n",
    "\n",
    "B0_MASS = 5279.65\n",
    "KSTARZ_MASS = 895.55\n",
    "PION_MASS = 139.57018\n",
    "KAON_MASS = 493.677\n",
    "GAMMA_MASS = 0.0\n",
    "numberOfEvents = 20000\n",
    "\n",
    "kaonPlus = GenParticle(\"K+\", KAON_MASS)\n",
    "pionMinus = GenParticle(\"pi-\", PION_MASS)\n",
    "kstarZero = GenParticle(\"KStar\", KSTARZ_MASS).set_children(kaonPlus, pionMinus)\n",
    "gamma = GenParticle(\"gamma\", GAMMA_MASS)\n",
    "bZero = GenParticle(\"B0\", B0_MASS).set_children(kstarZero, gamma)\n",
    "\n",
    "weights, particles = bZero.generate(n_events=numberOfEvents)"
   ]
  },
  {
   "cell_type": "code",
   "execution_count": null,
   "metadata": {},
   "outputs": [],
   "source": [
    "particles"
   ]
  },
  {
   "cell_type": "code",
   "execution_count": null,
   "metadata": {},
   "outputs": [],
   "source": [
    "# import tfTensors and store kinematics in pylorentz 4-momenta\n",
    "piontf = particles[\"pi-\"]\n",
    "gammatf = particles[\"gamma\"]\n",
    "kaontf = particles[\"K+\"]\n",
    "kaonStartf = particles[\"KStar\"]\n",
    "\n",
    "kaonpx = np.array(kaontf[:, 0])\n",
    "kaonpy = np.array(kaontf[:, 1])\n",
    "kaonpz = np.array(kaontf[:, 2])\n",
    "pKT = np.sqrt(kaonpx**2 + kaonpy**2)\n",
    "pKmod = np.sqrt(pKT**2 + kaonpz**2)\n",
    "etaK = np.arcsinh(kaonpz / pKT)\n",
    "phiK = np.arctan2(kaonpy, kaonpx)\n",
    "EK = np.array(kaontf[:, 3])\n",
    "kaon = Momentum4.e_eta_phi_p(EK, etaK, phiK, pKmod)\n",
    "\n",
    "pPiT = np.sqrt((np.array(piontf[:, 0])) ** 2 + (np.array(piontf[:, 1])) ** 2)\n",
    "pPimod = np.sqrt(pPiT**2 + (np.array(piontf[:, 2])) ** 2)\n",
    "etaPi = np.arcsinh(np.array(piontf[:, 2]) / pPiT)\n",
    "phiPi = np.arctan2(np.array(piontf[:, 1]), np.array(piontf[:, 0]))\n",
    "pion = Momentum4.e_eta_phi_p(np.array(piontf[:, 3]), etaPi, phiPi, pPimod)\n",
    "\n",
    "pgammaT = np.sqrt((np.array(gammatf[:, 0])) ** 2 + (np.array(gammatf[:, 1])) ** 2)\n",
    "pgammamod = np.sqrt(pgammaT**2 + (np.array(gammatf[:, 2])) ** 2)\n",
    "etagamma = np.arcsinh(np.array(gammatf[:, 2]) / pgammaT)\n",
    "phigamma = np.arctan2(np.array(gammatf[:, 1]), np.array(gammatf[:, 0]))\n",
    "gamma = Momentum4.e_eta_phi_p(np.array(gammatf[:, 3]), etagamma, phigamma, pgammamod)\n",
    "\n",
    "pkaonStarT = np.sqrt(\n",
    "    (np.array(kaonStartf[:, 0])) ** 2 + (np.array(kaonStartf[:, 1])) ** 2\n",
    ")\n",
    "pkaonStarmod = np.sqrt(pkaonStarT**2 + (np.array(kaonStartf[:, 2])) ** 2)\n",
    "etakaonStar = np.arcsinh(np.array(kaonStartf[:, 2]) / pkaonStarT)\n",
    "phikaonStar = np.arctan2(np.array(kaonStartf[:, 1]), np.array(kaonStartf[:, 0]))\n",
    "kaonStar = Momentum4.e_eta_phi_p(\n",
    "    np.array(kaonStartf[:, 3]), etakaonStar, phikaonStar, pkaonStarmod\n",
    ")\n",
    "\n",
    "# the mother (B0) is at rest\n",
    "EB0 = B0_MASS * np.ones(numberOfEvents)\n",
    "etaB0 = np.zeros(numberOfEvents)\n",
    "phiB0 = np.zeros(numberOfEvents)\n",
    "pB0 = np.zeros(numberOfEvents)\n",
    "B0mother = Momentum4.e_eta_phi_p(EB0, etaB0, phiB0, pB0)"
   ]
  },
  {
   "cell_type": "markdown",
   "metadata": {},
   "source": [
    "Let's build the Dalitz plots matching particle pairs. The particles measured in the final state are $K^-,\\; \\pi^-$ and $\\gamma$."
   ]
  },
  {
   "cell_type": "code",
   "execution_count": null,
   "metadata": {},
   "outputs": [],
   "source": [
    "invariantMassKP = kaon + pion\n",
    "invariantMassKGamma = kaon + gamma\n",
    "invariantMassPiGamma = pion + gamma\n",
    "s = (kaon + pion + gamma).m2\n",
    "diffMass = B0mother.e - np.sqrt(s)\n",
    "\n",
    "fig, ax = plt.subplots(1, 3, tight_layout=True, figsize=(12, 3.5))\n",
    "f0 = ax[0].hist2d(invariantMassKP.m2, invariantMassKGamma.m2, bins=70, cmap=\"rainbow\")\n",
    "fig.colorbar(f0[3], ax=ax[0])\n",
    "ax[0].set_xlabel(\"i.m.$^2(\\pi^-K^+)$ [(MeV/$c^2)^2]$\")\n",
    "ax[0].set_ylabel(\"i.m.$^2(K^+\\gamma)$ [(MeV/$c^2)^2]$\")\n",
    "\n",
    "f1 = ax[1].hist2d(\n",
    "    invariantMassKGamma.m2, invariantMassPiGamma.m2, bins=70, cmap=\"rainbow\"\n",
    ")\n",
    "fig.colorbar(f1[3], ax=ax[1])\n",
    "# f1 = ax[1].hist(invariantMassPiGamma.m, bins=70)\n",
    "ax[1].set_xlabel(\"i.m.$^2(K^+\\gamma)$ [(MeV/$c^2)^2]$\")\n",
    "ax[1].set_ylabel(\"i.m.$^2(\\pi^-\\gamma)$ [(MeV/$c^2)^2]$\")\n",
    "\n",
    "f2 = ax[2].hist2d(invariantMassKP.m2, invariantMassPiGamma.m2, bins=70, cmap=\"rainbow\")\n",
    "fig.colorbar(f2[3], ax=ax[2])\n",
    "ax[2].set_xlabel(\"i.m.$^2(\\pi^-K^+)$ [(MeV/$c^2)^2]$\")\n",
    "ax[2].set_ylabel(\"i.m.$^2(\\pi^-\\gamma)$ [(MeV/$c^2)^2]$\")\n",
    "\n",
    "diffMass"
   ]
  },
  {
   "cell_type": "markdown",
   "metadata": {},
   "source": [
    "Now let's simulate a more realistic $K^\\ast$ particle, not monochromatic but with a width of 47 MeV. The mass is extracted from a Gaussian distribution centered at the B0_MASS value and with $\\sigma = 47/2.36 \\sim 20$ MeV.\n",
    "Ideally, one would simulate a big number of events but for the purpose of this exercise we need to keep this number as small as possible (say < 1000). You can try with larger numbers offline, though.  "
   ]
  },
  {
   "cell_type": "code",
   "execution_count": null,
   "metadata": {},
   "outputs": [],
   "source": [
    "# extract the mass value from a gaussian distribution\n",
    "# keep the number small (much smaller than 1000!), the simulation iterated event by event takes very long\n",
    "numberOfEvents = 500\n",
    "# do you remember the difference between a BW sigma and a lorentzian FWHM?\n",
    "# the widths you get out of the PDG booklet are FWHM's\n",
    "sigmaKStar = (\n",
    "    47 / 2.36\n",
    ")  # do you remember the difference between a BW sigma and a lorentzian FWHM?\n",
    "KStarResonanceMass = np.random.normal(KSTARZ_MASS, sigmaKStar, numberOfEvents)"
   ]
  },
  {
   "cell_type": "code",
   "execution_count": null,
   "metadata": {},
   "outputs": [],
   "source": [
    "kaonPlus = GenParticle(\"K+\", KAON_MASS)\n",
    "pionMinus = GenParticle(\"pi-\", PION_MASS)\n",
    "invMassKP = []\n",
    "invMassKGamma = []\n",
    "invMassPiGamma = []\n",
    "\n",
    "for i in range(numberOfEvents):\n",
    "    #     kaonPlus = GenParticle('K+', KAON_MASS)\n",
    "    #     pionMinus = GenParticle('pi-', PION_MASS)\n",
    "    kstarZero = GenParticle(\"KStar\", KStarResonanceMass[i]).set_children(\n",
    "        kaonPlus, pionMinus\n",
    "    )\n",
    "    gamma = GenParticle(\"gamma\", GAMMA_MASS)\n",
    "    bZero = GenParticle(\"B0\", B0_MASS).set_children(kstarZero, gamma)\n",
    "    weights, particles = bZero.generate(n_events=1)\n",
    "    piontf = particles[\"pi-\"]\n",
    "    # kinematics\n",
    "    gammatf = particles[\"gamma\"]\n",
    "    kaontf = particles[\"K+\"]\n",
    "    kaonStartf = particles[\"KStar\"]\n",
    "    kaonpx = np.array(kaontf[:, 0])\n",
    "    kaonpy = np.array(kaontf[:, 1])\n",
    "    kaonpz = np.array(kaontf[:, 2])\n",
    "    pKT = np.sqrt(kaonpx**2 + kaonpy**2)\n",
    "    pKmod = np.sqrt(pKT**2 + kaonpz**2)\n",
    "    etaK = np.arcsinh(kaonpz / pKT)\n",
    "    phiK = np.arctan2(kaonpy, kaonpx)\n",
    "    EK = np.array(kaontf[:, 3])\n",
    "    kaon = Momentum4.e_eta_phi_p(EK, etaK, phiK, pKmod)\n",
    "    pPiT = np.sqrt((np.array(piontf[:, 0])) ** 2 + (np.array(piontf[:, 1])) ** 2)\n",
    "    pPimod = np.sqrt(pPiT**2 + (np.array(piontf[:, 2])) ** 2)\n",
    "    etaPi = np.arcsinh(np.array(piontf[:, 2]) / pPiT)\n",
    "    phiPi = np.arctan2(np.array(piontf[:, 1]), np.array(piontf[:, 0]))\n",
    "    pion = Momentum4.e_eta_phi_p(np.array(piontf[:, 3]), etaPi, phiPi, pPimod)\n",
    "    pgammaT = np.sqrt((np.array(gammatf[:, 0])) ** 2 + (np.array(gammatf[:, 1])) ** 2)\n",
    "    pgammamod = np.sqrt(pgammaT**2 + (np.array(gammatf[:, 2])) ** 2)\n",
    "    etagamma = np.arcsinh(np.array(gammatf[:, 2]) / pgammaT)\n",
    "    phigamma = np.arctan2(np.array(gammatf[:, 1]), np.array(gammatf[:, 0]))\n",
    "    gamma = Momentum4.e_eta_phi_p(\n",
    "        np.array(gammatf[:, 3]), etagamma, phigamma, pgammamod\n",
    "    )\n",
    "    pkaonStarT = np.sqrt(\n",
    "        (np.array(kaonStartf[:, 0])) ** 2 + (np.array(kaonStartf[:, 1])) ** 2\n",
    "    )\n",
    "    pkaonStarmod = np.sqrt(pkaonStarT**2 + (np.array(kaonStartf[:, 2])) ** 2)\n",
    "    etakaonStar = np.arcsinh(np.array(kaonStartf[:, 2]) / pkaonStarT)\n",
    "    phikaonStar = np.arctan2(np.array(kaonStartf[:, 1]), np.array(kaonStartf[:, 0]))\n",
    "    kaonStar = Momentum4.e_eta_phi_p(\n",
    "        np.array(kaonStartf[:, 3]), etakaonStar, phikaonStar, pkaonStarmod\n",
    "    )\n",
    "    # the mother (B0) is at rest\n",
    "    EB0 = B0_MASS * np.ones(numberOfEvents)\n",
    "    etaB0 = np.zeros(numberOfEvents)\n",
    "    phiB0 = np.zeros(numberOfEvents)\n",
    "    pB0 = np.zeros(numberOfEvents)\n",
    "    B0mother = Momentum4.e_eta_phi_p(EB0, etaB0, phiB0, pB0)\n",
    "    # print((kaon+pion).m2)\n",
    "    # invariant masses arrays\n",
    "    invMassKP.append((kaon + pion).m2)\n",
    "    invMassKGamma.append((kaon + gamma).m2)\n",
    "    invMassPiGamma.append((pion + gamma).m2)"
   ]
  },
  {
   "cell_type": "markdown",
   "metadata": {},
   "source": [
    "Now you have all the 4-vectors to plot the invariant mass distributions for the different steps of the decay chains."
   ]
  },
  {
   "cell_type": "code",
   "execution_count": null,
   "metadata": {},
   "outputs": [],
   "source": [
    "im1 = np.array(invMassKP)\n",
    "im2 = np.array(invMassKGamma)\n",
    "im3 = np.array(invMassPiGamma)"
   ]
  },
  {
   "cell_type": "code",
   "execution_count": null,
   "metadata": {},
   "outputs": [],
   "source": [
    "fig, ax = plt.subplots(1, 3, tight_layout=True, figsize=(12, 3.5))\n",
    "# f0 = ax[0].hist2d(np.array(invMassKP), np.array(invMassKGamma), bins=70, cmap='rainbow')\n",
    "f0 = ax[0].hist2d(im1[:, 0], im2[:, 0], bins=70, cmap=\"rainbow\")\n",
    "fig.colorbar(f0[3], ax=ax[0])\n",
    "ax[0].set_xlabel(\"i.m.$^2(\\pi^-K^+)$ [(MeV/$c^2)^2]$\")\n",
    "ax[0].set_ylabel(\"i.m.$^2(K^+\\gamma)$ [(MeV/$c^2)^2]$\")\n",
    "\n",
    "f1 = ax[1].hist2d(\n",
    "    np.array(invMassKGamma)[:, 0],\n",
    "    np.array(invMassPiGamma)[:, 0],\n",
    "    bins=70,\n",
    "    cmap=\"rainbow\",\n",
    ")\n",
    "fig.colorbar(f1[3], ax=ax[1])\n",
    "# f1 = ax[1].hist(invariantMassPiGamma.m, bins=70)\n",
    "ax[1].set_xlabel(\"i.m.$^2(K^+\\gamma)$ [(MeV/$c^2)^2]$\")\n",
    "ax[1].set_ylabel(\"i.m.$^2(\\pi^-\\gamma)$ [(MeV/$c^2)^2]$\")\n",
    "\n",
    "f2 = ax[2].hist2d(\n",
    "    np.array(invMassKP)[:, 0], np.array(invMassPiGamma)[:, 0], bins=70, cmap=\"rainbow\"\n",
    ")\n",
    "fig.colorbar(f2[3], ax=ax[2])\n",
    "ax[2].set_xlabel(\"i.m.$^2(\\pi^-K^+)$ [(MeV/$c^2)^2]$\")\n",
    "ax[2].set_ylabel(\"i.m.$^2(\\pi^-\\gamma)$ [(MeV/$c^2)^2]$\")"
   ]
  },
  {
   "cell_type": "code",
   "execution_count": null,
   "metadata": {},
   "outputs": [],
   "source": []
  }
 ],
 "metadata": {
  "colab": {
   "authorship_tag": "ABX9TyN6U0wlRCxd4IZtfSzHuG6o",
   "mount_file_id": "1eQrRA84_NQIVcpoyU8LGnV2ALVDJh8FD"
  },
  "kernelspec": {
   "display_name": "Python 3",
   "name": "python3"
  },
  "language_info": {
   "name": "python"
  }
 },
 "nbformat": 4,
 "nbformat_minor": 0
}
